{
 "cells": [
  {
   "cell_type": "markdown",
   "metadata": {},
   "source": [
    "### Import essential Python libraries "
   ]
  },
  {
   "cell_type": "code",
   "execution_count": 1,
   "metadata": {
    "scrolled": true
   },
   "outputs": [],
   "source": [
    "#Import Essential libraries \n",
    "import pandas as pd\n",
    "import numpy  as np \n",
    "import seaborn as sns\n",
    "from scipy import stats\n",
    "import matplotlib.pyplot as plt \n",
    "%matplotlib inline\n",
    "import warnings\n",
    "warnings.filterwarnings('ignore')"
   ]
  },
  {
   "cell_type": "markdown",
   "metadata": {},
   "source": [
    "### Set properties for displays "
   ]
  },
  {
   "cell_type": "code",
   "execution_count": 2,
   "metadata": {},
   "outputs": [],
   "source": [
    "#It is essential to display all the columns under one screen to get better insights.By default,Python displays top few and last few columns. \n",
    "pd.set_option('display.max_columns',100)\n",
    "\n",
    "#Setting properties for floating point numbers\n",
    "pd.options.display.float_format = '{:,.2f}'.format"
   ]
  },
  {
   "cell_type": "markdown",
   "metadata": {},
   "source": [
    "#### We will perform the following steps to identify the driver variables which could meet the business objective of Lending Club . Recommended variables can be used by Lending Club investors to predict whether to approve or reject the loan application.\n",
    "\n",
    "1. Data Understanding\n",
    "2. Data Cleaning\n",
    "3. Derived Metrics\n",
    "4. Univariate and Segmented Univariate Analysis\n",
    "5. Bivariate Analysis & Multivariate Analysis \n",
    "\n",
    "\n",
    "Atlast , We will represent the conclusion of data analysis using EDA . "
   ]
  },
  {
   "cell_type": "markdown",
   "metadata": {},
   "source": [
    "###  Data understanding"
   ]
  },
  {
   "cell_type": "code",
   "execution_count": 3,
   "metadata": {
    "scrolled": false
   },
   "outputs": [
    {
     "data": {
      "text/html": [
       "<div>\n",
       "<style scoped>\n",
       "    .dataframe tbody tr th:only-of-type {\n",
       "        vertical-align: middle;\n",
       "    }\n",
       "\n",
       "    .dataframe tbody tr th {\n",
       "        vertical-align: top;\n",
       "    }\n",
       "\n",
       "    .dataframe thead th {\n",
       "        text-align: right;\n",
       "    }\n",
       "</style>\n",
       "<table border=\"1\" class=\"dataframe\">\n",
       "  <thead>\n",
       "    <tr style=\"text-align: right;\">\n",
       "      <th></th>\n",
       "      <th>id</th>\n",
       "      <th>member_id</th>\n",
       "      <th>loan_amnt</th>\n",
       "      <th>funded_amnt</th>\n",
       "      <th>funded_amnt_inv</th>\n",
       "      <th>term</th>\n",
       "      <th>int_rate</th>\n",
       "      <th>installment</th>\n",
       "      <th>grade</th>\n",
       "      <th>sub_grade</th>\n",
       "      <th>emp_title</th>\n",
       "      <th>emp_length</th>\n",
       "      <th>home_ownership</th>\n",
       "      <th>annual_inc</th>\n",
       "      <th>verification_status</th>\n",
       "      <th>issue_d</th>\n",
       "      <th>loan_status</th>\n",
       "      <th>pymnt_plan</th>\n",
       "      <th>url</th>\n",
       "      <th>desc</th>\n",
       "      <th>purpose</th>\n",
       "      <th>title</th>\n",
       "      <th>zip_code</th>\n",
       "      <th>addr_state</th>\n",
       "      <th>dti</th>\n",
       "      <th>delinq_2yrs</th>\n",
       "      <th>earliest_cr_line</th>\n",
       "      <th>inq_last_6mths</th>\n",
       "      <th>mths_since_last_delinq</th>\n",
       "      <th>mths_since_last_record</th>\n",
       "      <th>open_acc</th>\n",
       "      <th>pub_rec</th>\n",
       "      <th>revol_bal</th>\n",
       "      <th>revol_util</th>\n",
       "      <th>total_acc</th>\n",
       "      <th>initial_list_status</th>\n",
       "      <th>out_prncp</th>\n",
       "      <th>out_prncp_inv</th>\n",
       "      <th>total_pymnt</th>\n",
       "      <th>total_pymnt_inv</th>\n",
       "      <th>total_rec_prncp</th>\n",
       "      <th>total_rec_int</th>\n",
       "      <th>total_rec_late_fee</th>\n",
       "      <th>recoveries</th>\n",
       "      <th>collection_recovery_fee</th>\n",
       "      <th>last_pymnt_d</th>\n",
       "      <th>last_pymnt_amnt</th>\n",
       "      <th>next_pymnt_d</th>\n",
       "      <th>last_credit_pull_d</th>\n",
       "      <th>collections_12_mths_ex_med</th>\n",
       "      <th>...</th>\n",
       "      <th>open_il_12m</th>\n",
       "      <th>open_il_24m</th>\n",
       "      <th>mths_since_rcnt_il</th>\n",
       "      <th>total_bal_il</th>\n",
       "      <th>il_util</th>\n",
       "      <th>open_rv_12m</th>\n",
       "      <th>open_rv_24m</th>\n",
       "      <th>max_bal_bc</th>\n",
       "      <th>all_util</th>\n",
       "      <th>total_rev_hi_lim</th>\n",
       "      <th>inq_fi</th>\n",
       "      <th>total_cu_tl</th>\n",
       "      <th>inq_last_12m</th>\n",
       "      <th>acc_open_past_24mths</th>\n",
       "      <th>avg_cur_bal</th>\n",
       "      <th>bc_open_to_buy</th>\n",
       "      <th>bc_util</th>\n",
       "      <th>chargeoff_within_12_mths</th>\n",
       "      <th>delinq_amnt</th>\n",
       "      <th>mo_sin_old_il_acct</th>\n",
       "      <th>mo_sin_old_rev_tl_op</th>\n",
       "      <th>mo_sin_rcnt_rev_tl_op</th>\n",
       "      <th>mo_sin_rcnt_tl</th>\n",
       "      <th>mort_acc</th>\n",
       "      <th>mths_since_recent_bc</th>\n",
       "      <th>mths_since_recent_bc_dlq</th>\n",
       "      <th>mths_since_recent_inq</th>\n",
       "      <th>mths_since_recent_revol_delinq</th>\n",
       "      <th>num_accts_ever_120_pd</th>\n",
       "      <th>num_actv_bc_tl</th>\n",
       "      <th>num_actv_rev_tl</th>\n",
       "      <th>num_bc_sats</th>\n",
       "      <th>num_bc_tl</th>\n",
       "      <th>num_il_tl</th>\n",
       "      <th>num_op_rev_tl</th>\n",
       "      <th>num_rev_accts</th>\n",
       "      <th>num_rev_tl_bal_gt_0</th>\n",
       "      <th>num_sats</th>\n",
       "      <th>num_tl_120dpd_2m</th>\n",
       "      <th>num_tl_30dpd</th>\n",
       "      <th>num_tl_90g_dpd_24m</th>\n",
       "      <th>num_tl_op_past_12m</th>\n",
       "      <th>pct_tl_nvr_dlq</th>\n",
       "      <th>percent_bc_gt_75</th>\n",
       "      <th>pub_rec_bankruptcies</th>\n",
       "      <th>tax_liens</th>\n",
       "      <th>tot_hi_cred_lim</th>\n",
       "      <th>total_bal_ex_mort</th>\n",
       "      <th>total_bc_limit</th>\n",
       "      <th>total_il_high_credit_limit</th>\n",
       "    </tr>\n",
       "  </thead>\n",
       "  <tbody>\n",
       "    <tr>\n",
       "      <th>0</th>\n",
       "      <td>1077501</td>\n",
       "      <td>1296599</td>\n",
       "      <td>5000</td>\n",
       "      <td>5000</td>\n",
       "      <td>4,975.00</td>\n",
       "      <td>36 months</td>\n",
       "      <td>10.65%</td>\n",
       "      <td>162.87</td>\n",
       "      <td>B</td>\n",
       "      <td>B2</td>\n",
       "      <td>NaN</td>\n",
       "      <td>10+ years</td>\n",
       "      <td>RENT</td>\n",
       "      <td>24,000.00</td>\n",
       "      <td>Verified</td>\n",
       "      <td>Dec-11</td>\n",
       "      <td>Fully Paid</td>\n",
       "      <td>n</td>\n",
       "      <td>https://lendingclub.com/browse/loanDetail.acti...</td>\n",
       "      <td>Borrower added on 12/22/11 &gt; I need to upgra...</td>\n",
       "      <td>credit_card</td>\n",
       "      <td>Computer</td>\n",
       "      <td>860xx</td>\n",
       "      <td>AZ</td>\n",
       "      <td>27.65</td>\n",
       "      <td>0</td>\n",
       "      <td>Jan-85</td>\n",
       "      <td>1</td>\n",
       "      <td>nan</td>\n",
       "      <td>nan</td>\n",
       "      <td>3</td>\n",
       "      <td>0</td>\n",
       "      <td>13648</td>\n",
       "      <td>83.70%</td>\n",
       "      <td>9</td>\n",
       "      <td>f</td>\n",
       "      <td>0.00</td>\n",
       "      <td>0.00</td>\n",
       "      <td>5,863.16</td>\n",
       "      <td>5,833.84</td>\n",
       "      <td>5,000.00</td>\n",
       "      <td>863.16</td>\n",
       "      <td>0.00</td>\n",
       "      <td>0.00</td>\n",
       "      <td>0.00</td>\n",
       "      <td>Jan-15</td>\n",
       "      <td>171.62</td>\n",
       "      <td>NaN</td>\n",
       "      <td>May-16</td>\n",
       "      <td>0.00</td>\n",
       "      <td>...</td>\n",
       "      <td>nan</td>\n",
       "      <td>nan</td>\n",
       "      <td>nan</td>\n",
       "      <td>nan</td>\n",
       "      <td>nan</td>\n",
       "      <td>nan</td>\n",
       "      <td>nan</td>\n",
       "      <td>nan</td>\n",
       "      <td>nan</td>\n",
       "      <td>nan</td>\n",
       "      <td>nan</td>\n",
       "      <td>nan</td>\n",
       "      <td>nan</td>\n",
       "      <td>nan</td>\n",
       "      <td>nan</td>\n",
       "      <td>nan</td>\n",
       "      <td>nan</td>\n",
       "      <td>0.00</td>\n",
       "      <td>0</td>\n",
       "      <td>nan</td>\n",
       "      <td>nan</td>\n",
       "      <td>nan</td>\n",
       "      <td>nan</td>\n",
       "      <td>nan</td>\n",
       "      <td>nan</td>\n",
       "      <td>nan</td>\n",
       "      <td>nan</td>\n",
       "      <td>nan</td>\n",
       "      <td>nan</td>\n",
       "      <td>nan</td>\n",
       "      <td>nan</td>\n",
       "      <td>nan</td>\n",
       "      <td>nan</td>\n",
       "      <td>nan</td>\n",
       "      <td>nan</td>\n",
       "      <td>nan</td>\n",
       "      <td>nan</td>\n",
       "      <td>nan</td>\n",
       "      <td>nan</td>\n",
       "      <td>nan</td>\n",
       "      <td>nan</td>\n",
       "      <td>nan</td>\n",
       "      <td>nan</td>\n",
       "      <td>nan</td>\n",
       "      <td>0.00</td>\n",
       "      <td>0.00</td>\n",
       "      <td>nan</td>\n",
       "      <td>nan</td>\n",
       "      <td>nan</td>\n",
       "      <td>nan</td>\n",
       "    </tr>\n",
       "    <tr>\n",
       "      <th>1</th>\n",
       "      <td>1077430</td>\n",
       "      <td>1314167</td>\n",
       "      <td>2500</td>\n",
       "      <td>2500</td>\n",
       "      <td>2,500.00</td>\n",
       "      <td>60 months</td>\n",
       "      <td>15.27%</td>\n",
       "      <td>59.83</td>\n",
       "      <td>C</td>\n",
       "      <td>C4</td>\n",
       "      <td>Ryder</td>\n",
       "      <td>&lt; 1 year</td>\n",
       "      <td>RENT</td>\n",
       "      <td>30,000.00</td>\n",
       "      <td>Source Verified</td>\n",
       "      <td>Dec-11</td>\n",
       "      <td>Charged Off</td>\n",
       "      <td>n</td>\n",
       "      <td>https://lendingclub.com/browse/loanDetail.acti...</td>\n",
       "      <td>Borrower added on 12/22/11 &gt; I plan to use t...</td>\n",
       "      <td>car</td>\n",
       "      <td>bike</td>\n",
       "      <td>309xx</td>\n",
       "      <td>GA</td>\n",
       "      <td>1.00</td>\n",
       "      <td>0</td>\n",
       "      <td>Apr-99</td>\n",
       "      <td>5</td>\n",
       "      <td>nan</td>\n",
       "      <td>nan</td>\n",
       "      <td>3</td>\n",
       "      <td>0</td>\n",
       "      <td>1687</td>\n",
       "      <td>9.40%</td>\n",
       "      <td>4</td>\n",
       "      <td>f</td>\n",
       "      <td>0.00</td>\n",
       "      <td>0.00</td>\n",
       "      <td>1,008.71</td>\n",
       "      <td>1,008.71</td>\n",
       "      <td>456.46</td>\n",
       "      <td>435.17</td>\n",
       "      <td>0.00</td>\n",
       "      <td>117.08</td>\n",
       "      <td>1.11</td>\n",
       "      <td>Apr-13</td>\n",
       "      <td>119.66</td>\n",
       "      <td>NaN</td>\n",
       "      <td>Sep-13</td>\n",
       "      <td>0.00</td>\n",
       "      <td>...</td>\n",
       "      <td>nan</td>\n",
       "      <td>nan</td>\n",
       "      <td>nan</td>\n",
       "      <td>nan</td>\n",
       "      <td>nan</td>\n",
       "      <td>nan</td>\n",
       "      <td>nan</td>\n",
       "      <td>nan</td>\n",
       "      <td>nan</td>\n",
       "      <td>nan</td>\n",
       "      <td>nan</td>\n",
       "      <td>nan</td>\n",
       "      <td>nan</td>\n",
       "      <td>nan</td>\n",
       "      <td>nan</td>\n",
       "      <td>nan</td>\n",
       "      <td>nan</td>\n",
       "      <td>0.00</td>\n",
       "      <td>0</td>\n",
       "      <td>nan</td>\n",
       "      <td>nan</td>\n",
       "      <td>nan</td>\n",
       "      <td>nan</td>\n",
       "      <td>nan</td>\n",
       "      <td>nan</td>\n",
       "      <td>nan</td>\n",
       "      <td>nan</td>\n",
       "      <td>nan</td>\n",
       "      <td>nan</td>\n",
       "      <td>nan</td>\n",
       "      <td>nan</td>\n",
       "      <td>nan</td>\n",
       "      <td>nan</td>\n",
       "      <td>nan</td>\n",
       "      <td>nan</td>\n",
       "      <td>nan</td>\n",
       "      <td>nan</td>\n",
       "      <td>nan</td>\n",
       "      <td>nan</td>\n",
       "      <td>nan</td>\n",
       "      <td>nan</td>\n",
       "      <td>nan</td>\n",
       "      <td>nan</td>\n",
       "      <td>nan</td>\n",
       "      <td>0.00</td>\n",
       "      <td>0.00</td>\n",
       "      <td>nan</td>\n",
       "      <td>nan</td>\n",
       "      <td>nan</td>\n",
       "      <td>nan</td>\n",
       "    </tr>\n",
       "    <tr>\n",
       "      <th>2</th>\n",
       "      <td>1077175</td>\n",
       "      <td>1313524</td>\n",
       "      <td>2400</td>\n",
       "      <td>2400</td>\n",
       "      <td>2,400.00</td>\n",
       "      <td>36 months</td>\n",
       "      <td>15.96%</td>\n",
       "      <td>84.33</td>\n",
       "      <td>C</td>\n",
       "      <td>C5</td>\n",
       "      <td>NaN</td>\n",
       "      <td>10+ years</td>\n",
       "      <td>RENT</td>\n",
       "      <td>12,252.00</td>\n",
       "      <td>Not Verified</td>\n",
       "      <td>Dec-11</td>\n",
       "      <td>Fully Paid</td>\n",
       "      <td>n</td>\n",
       "      <td>https://lendingclub.com/browse/loanDetail.acti...</td>\n",
       "      <td>NaN</td>\n",
       "      <td>small_business</td>\n",
       "      <td>real estate business</td>\n",
       "      <td>606xx</td>\n",
       "      <td>IL</td>\n",
       "      <td>8.72</td>\n",
       "      <td>0</td>\n",
       "      <td>Nov-01</td>\n",
       "      <td>2</td>\n",
       "      <td>nan</td>\n",
       "      <td>nan</td>\n",
       "      <td>2</td>\n",
       "      <td>0</td>\n",
       "      <td>2956</td>\n",
       "      <td>98.50%</td>\n",
       "      <td>10</td>\n",
       "      <td>f</td>\n",
       "      <td>0.00</td>\n",
       "      <td>0.00</td>\n",
       "      <td>3,005.67</td>\n",
       "      <td>3,005.67</td>\n",
       "      <td>2,400.00</td>\n",
       "      <td>605.67</td>\n",
       "      <td>0.00</td>\n",
       "      <td>0.00</td>\n",
       "      <td>0.00</td>\n",
       "      <td>Jun-14</td>\n",
       "      <td>649.91</td>\n",
       "      <td>NaN</td>\n",
       "      <td>May-16</td>\n",
       "      <td>0.00</td>\n",
       "      <td>...</td>\n",
       "      <td>nan</td>\n",
       "      <td>nan</td>\n",
       "      <td>nan</td>\n",
       "      <td>nan</td>\n",
       "      <td>nan</td>\n",
       "      <td>nan</td>\n",
       "      <td>nan</td>\n",
       "      <td>nan</td>\n",
       "      <td>nan</td>\n",
       "      <td>nan</td>\n",
       "      <td>nan</td>\n",
       "      <td>nan</td>\n",
       "      <td>nan</td>\n",
       "      <td>nan</td>\n",
       "      <td>nan</td>\n",
       "      <td>nan</td>\n",
       "      <td>nan</td>\n",
       "      <td>0.00</td>\n",
       "      <td>0</td>\n",
       "      <td>nan</td>\n",
       "      <td>nan</td>\n",
       "      <td>nan</td>\n",
       "      <td>nan</td>\n",
       "      <td>nan</td>\n",
       "      <td>nan</td>\n",
       "      <td>nan</td>\n",
       "      <td>nan</td>\n",
       "      <td>nan</td>\n",
       "      <td>nan</td>\n",
       "      <td>nan</td>\n",
       "      <td>nan</td>\n",
       "      <td>nan</td>\n",
       "      <td>nan</td>\n",
       "      <td>nan</td>\n",
       "      <td>nan</td>\n",
       "      <td>nan</td>\n",
       "      <td>nan</td>\n",
       "      <td>nan</td>\n",
       "      <td>nan</td>\n",
       "      <td>nan</td>\n",
       "      <td>nan</td>\n",
       "      <td>nan</td>\n",
       "      <td>nan</td>\n",
       "      <td>nan</td>\n",
       "      <td>0.00</td>\n",
       "      <td>0.00</td>\n",
       "      <td>nan</td>\n",
       "      <td>nan</td>\n",
       "      <td>nan</td>\n",
       "      <td>nan</td>\n",
       "    </tr>\n",
       "    <tr>\n",
       "      <th>3</th>\n",
       "      <td>1076863</td>\n",
       "      <td>1277178</td>\n",
       "      <td>10000</td>\n",
       "      <td>10000</td>\n",
       "      <td>10,000.00</td>\n",
       "      <td>36 months</td>\n",
       "      <td>13.49%</td>\n",
       "      <td>339.31</td>\n",
       "      <td>C</td>\n",
       "      <td>C1</td>\n",
       "      <td>AIR RESOURCES BOARD</td>\n",
       "      <td>10+ years</td>\n",
       "      <td>RENT</td>\n",
       "      <td>49,200.00</td>\n",
       "      <td>Source Verified</td>\n",
       "      <td>Dec-11</td>\n",
       "      <td>Fully Paid</td>\n",
       "      <td>n</td>\n",
       "      <td>https://lendingclub.com/browse/loanDetail.acti...</td>\n",
       "      <td>Borrower added on 12/21/11 &gt; to pay for prop...</td>\n",
       "      <td>other</td>\n",
       "      <td>personel</td>\n",
       "      <td>917xx</td>\n",
       "      <td>CA</td>\n",
       "      <td>20.00</td>\n",
       "      <td>0</td>\n",
       "      <td>Feb-96</td>\n",
       "      <td>1</td>\n",
       "      <td>35.00</td>\n",
       "      <td>nan</td>\n",
       "      <td>10</td>\n",
       "      <td>0</td>\n",
       "      <td>5598</td>\n",
       "      <td>21%</td>\n",
       "      <td>37</td>\n",
       "      <td>f</td>\n",
       "      <td>0.00</td>\n",
       "      <td>0.00</td>\n",
       "      <td>12,231.89</td>\n",
       "      <td>12,231.89</td>\n",
       "      <td>10,000.00</td>\n",
       "      <td>2,214.92</td>\n",
       "      <td>16.97</td>\n",
       "      <td>0.00</td>\n",
       "      <td>0.00</td>\n",
       "      <td>Jan-15</td>\n",
       "      <td>357.48</td>\n",
       "      <td>NaN</td>\n",
       "      <td>Apr-16</td>\n",
       "      <td>0.00</td>\n",
       "      <td>...</td>\n",
       "      <td>nan</td>\n",
       "      <td>nan</td>\n",
       "      <td>nan</td>\n",
       "      <td>nan</td>\n",
       "      <td>nan</td>\n",
       "      <td>nan</td>\n",
       "      <td>nan</td>\n",
       "      <td>nan</td>\n",
       "      <td>nan</td>\n",
       "      <td>nan</td>\n",
       "      <td>nan</td>\n",
       "      <td>nan</td>\n",
       "      <td>nan</td>\n",
       "      <td>nan</td>\n",
       "      <td>nan</td>\n",
       "      <td>nan</td>\n",
       "      <td>nan</td>\n",
       "      <td>0.00</td>\n",
       "      <td>0</td>\n",
       "      <td>nan</td>\n",
       "      <td>nan</td>\n",
       "      <td>nan</td>\n",
       "      <td>nan</td>\n",
       "      <td>nan</td>\n",
       "      <td>nan</td>\n",
       "      <td>nan</td>\n",
       "      <td>nan</td>\n",
       "      <td>nan</td>\n",
       "      <td>nan</td>\n",
       "      <td>nan</td>\n",
       "      <td>nan</td>\n",
       "      <td>nan</td>\n",
       "      <td>nan</td>\n",
       "      <td>nan</td>\n",
       "      <td>nan</td>\n",
       "      <td>nan</td>\n",
       "      <td>nan</td>\n",
       "      <td>nan</td>\n",
       "      <td>nan</td>\n",
       "      <td>nan</td>\n",
       "      <td>nan</td>\n",
       "      <td>nan</td>\n",
       "      <td>nan</td>\n",
       "      <td>nan</td>\n",
       "      <td>0.00</td>\n",
       "      <td>0.00</td>\n",
       "      <td>nan</td>\n",
       "      <td>nan</td>\n",
       "      <td>nan</td>\n",
       "      <td>nan</td>\n",
       "    </tr>\n",
       "    <tr>\n",
       "      <th>4</th>\n",
       "      <td>1075358</td>\n",
       "      <td>1311748</td>\n",
       "      <td>3000</td>\n",
       "      <td>3000</td>\n",
       "      <td>3,000.00</td>\n",
       "      <td>60 months</td>\n",
       "      <td>12.69%</td>\n",
       "      <td>67.79</td>\n",
       "      <td>B</td>\n",
       "      <td>B5</td>\n",
       "      <td>University Medical Group</td>\n",
       "      <td>1 year</td>\n",
       "      <td>RENT</td>\n",
       "      <td>80,000.00</td>\n",
       "      <td>Source Verified</td>\n",
       "      <td>Dec-11</td>\n",
       "      <td>Current</td>\n",
       "      <td>n</td>\n",
       "      <td>https://lendingclub.com/browse/loanDetail.acti...</td>\n",
       "      <td>Borrower added on 12/21/11 &gt; I plan on combi...</td>\n",
       "      <td>other</td>\n",
       "      <td>Personal</td>\n",
       "      <td>972xx</td>\n",
       "      <td>OR</td>\n",
       "      <td>17.94</td>\n",
       "      <td>0</td>\n",
       "      <td>Jan-96</td>\n",
       "      <td>0</td>\n",
       "      <td>38.00</td>\n",
       "      <td>nan</td>\n",
       "      <td>15</td>\n",
       "      <td>0</td>\n",
       "      <td>27783</td>\n",
       "      <td>53.90%</td>\n",
       "      <td>38</td>\n",
       "      <td>f</td>\n",
       "      <td>524.06</td>\n",
       "      <td>524.06</td>\n",
       "      <td>3,513.33</td>\n",
       "      <td>3,513.33</td>\n",
       "      <td>2,475.94</td>\n",
       "      <td>1,037.39</td>\n",
       "      <td>0.00</td>\n",
       "      <td>0.00</td>\n",
       "      <td>0.00</td>\n",
       "      <td>May-16</td>\n",
       "      <td>67.79</td>\n",
       "      <td>Jun-16</td>\n",
       "      <td>May-16</td>\n",
       "      <td>0.00</td>\n",
       "      <td>...</td>\n",
       "      <td>nan</td>\n",
       "      <td>nan</td>\n",
       "      <td>nan</td>\n",
       "      <td>nan</td>\n",
       "      <td>nan</td>\n",
       "      <td>nan</td>\n",
       "      <td>nan</td>\n",
       "      <td>nan</td>\n",
       "      <td>nan</td>\n",
       "      <td>nan</td>\n",
       "      <td>nan</td>\n",
       "      <td>nan</td>\n",
       "      <td>nan</td>\n",
       "      <td>nan</td>\n",
       "      <td>nan</td>\n",
       "      <td>nan</td>\n",
       "      <td>nan</td>\n",
       "      <td>0.00</td>\n",
       "      <td>0</td>\n",
       "      <td>nan</td>\n",
       "      <td>nan</td>\n",
       "      <td>nan</td>\n",
       "      <td>nan</td>\n",
       "      <td>nan</td>\n",
       "      <td>nan</td>\n",
       "      <td>nan</td>\n",
       "      <td>nan</td>\n",
       "      <td>nan</td>\n",
       "      <td>nan</td>\n",
       "      <td>nan</td>\n",
       "      <td>nan</td>\n",
       "      <td>nan</td>\n",
       "      <td>nan</td>\n",
       "      <td>nan</td>\n",
       "      <td>nan</td>\n",
       "      <td>nan</td>\n",
       "      <td>nan</td>\n",
       "      <td>nan</td>\n",
       "      <td>nan</td>\n",
       "      <td>nan</td>\n",
       "      <td>nan</td>\n",
       "      <td>nan</td>\n",
       "      <td>nan</td>\n",
       "      <td>nan</td>\n",
       "      <td>0.00</td>\n",
       "      <td>0.00</td>\n",
       "      <td>nan</td>\n",
       "      <td>nan</td>\n",
       "      <td>nan</td>\n",
       "      <td>nan</td>\n",
       "    </tr>\n",
       "  </tbody>\n",
       "</table>\n",
       "<p>5 rows × 111 columns</p>\n",
       "</div>"
      ],
      "text/plain": [
       "        id  member_id  loan_amnt  funded_amnt  funded_amnt_inv        term  \\\n",
       "0  1077501    1296599       5000         5000         4,975.00   36 months   \n",
       "1  1077430    1314167       2500         2500         2,500.00   60 months   \n",
       "2  1077175    1313524       2400         2400         2,400.00   36 months   \n",
       "3  1076863    1277178      10000        10000        10,000.00   36 months   \n",
       "4  1075358    1311748       3000         3000         3,000.00   60 months   \n",
       "\n",
       "  int_rate  installment grade sub_grade                 emp_title emp_length  \\\n",
       "0   10.65%       162.87     B        B2                       NaN  10+ years   \n",
       "1   15.27%        59.83     C        C4                     Ryder   < 1 year   \n",
       "2   15.96%        84.33     C        C5                       NaN  10+ years   \n",
       "3   13.49%       339.31     C        C1       AIR RESOURCES BOARD  10+ years   \n",
       "4   12.69%        67.79     B        B5  University Medical Group     1 year   \n",
       "\n",
       "  home_ownership  annual_inc verification_status issue_d  loan_status  \\\n",
       "0           RENT   24,000.00            Verified  Dec-11   Fully Paid   \n",
       "1           RENT   30,000.00     Source Verified  Dec-11  Charged Off   \n",
       "2           RENT   12,252.00        Not Verified  Dec-11   Fully Paid   \n",
       "3           RENT   49,200.00     Source Verified  Dec-11   Fully Paid   \n",
       "4           RENT   80,000.00     Source Verified  Dec-11      Current   \n",
       "\n",
       "  pymnt_plan                                                url  \\\n",
       "0          n  https://lendingclub.com/browse/loanDetail.acti...   \n",
       "1          n  https://lendingclub.com/browse/loanDetail.acti...   \n",
       "2          n  https://lendingclub.com/browse/loanDetail.acti...   \n",
       "3          n  https://lendingclub.com/browse/loanDetail.acti...   \n",
       "4          n  https://lendingclub.com/browse/loanDetail.acti...   \n",
       "\n",
       "                                                desc         purpose  \\\n",
       "0    Borrower added on 12/22/11 > I need to upgra...     credit_card   \n",
       "1    Borrower added on 12/22/11 > I plan to use t...             car   \n",
       "2                                                NaN  small_business   \n",
       "3    Borrower added on 12/21/11 > to pay for prop...           other   \n",
       "4    Borrower added on 12/21/11 > I plan on combi...           other   \n",
       "\n",
       "                  title zip_code addr_state   dti  delinq_2yrs  \\\n",
       "0              Computer    860xx         AZ 27.65            0   \n",
       "1                  bike    309xx         GA  1.00            0   \n",
       "2  real estate business    606xx         IL  8.72            0   \n",
       "3              personel    917xx         CA 20.00            0   \n",
       "4              Personal    972xx         OR 17.94            0   \n",
       "\n",
       "  earliest_cr_line  inq_last_6mths  mths_since_last_delinq  \\\n",
       "0           Jan-85               1                     nan   \n",
       "1           Apr-99               5                     nan   \n",
       "2           Nov-01               2                     nan   \n",
       "3           Feb-96               1                   35.00   \n",
       "4           Jan-96               0                   38.00   \n",
       "\n",
       "   mths_since_last_record  open_acc  pub_rec  revol_bal revol_util  total_acc  \\\n",
       "0                     nan         3        0      13648     83.70%          9   \n",
       "1                     nan         3        0       1687      9.40%          4   \n",
       "2                     nan         2        0       2956     98.50%         10   \n",
       "3                     nan        10        0       5598        21%         37   \n",
       "4                     nan        15        0      27783     53.90%         38   \n",
       "\n",
       "  initial_list_status  out_prncp  out_prncp_inv  total_pymnt  total_pymnt_inv  \\\n",
       "0                   f       0.00           0.00     5,863.16         5,833.84   \n",
       "1                   f       0.00           0.00     1,008.71         1,008.71   \n",
       "2                   f       0.00           0.00     3,005.67         3,005.67   \n",
       "3                   f       0.00           0.00    12,231.89        12,231.89   \n",
       "4                   f     524.06         524.06     3,513.33         3,513.33   \n",
       "\n",
       "   total_rec_prncp  total_rec_int  total_rec_late_fee  recoveries  \\\n",
       "0         5,000.00         863.16                0.00        0.00   \n",
       "1           456.46         435.17                0.00      117.08   \n",
       "2         2,400.00         605.67                0.00        0.00   \n",
       "3        10,000.00       2,214.92               16.97        0.00   \n",
       "4         2,475.94       1,037.39                0.00        0.00   \n",
       "\n",
       "   collection_recovery_fee last_pymnt_d  last_pymnt_amnt next_pymnt_d  \\\n",
       "0                     0.00       Jan-15           171.62          NaN   \n",
       "1                     1.11       Apr-13           119.66          NaN   \n",
       "2                     0.00       Jun-14           649.91          NaN   \n",
       "3                     0.00       Jan-15           357.48          NaN   \n",
       "4                     0.00       May-16            67.79       Jun-16   \n",
       "\n",
       "  last_credit_pull_d  collections_12_mths_ex_med  ...  open_il_12m  \\\n",
       "0             May-16                        0.00  ...          nan   \n",
       "1             Sep-13                        0.00  ...          nan   \n",
       "2             May-16                        0.00  ...          nan   \n",
       "3             Apr-16                        0.00  ...          nan   \n",
       "4             May-16                        0.00  ...          nan   \n",
       "\n",
       "   open_il_24m mths_since_rcnt_il  total_bal_il  il_util  open_rv_12m  \\\n",
       "0          nan                nan           nan      nan          nan   \n",
       "1          nan                nan           nan      nan          nan   \n",
       "2          nan                nan           nan      nan          nan   \n",
       "3          nan                nan           nan      nan          nan   \n",
       "4          nan                nan           nan      nan          nan   \n",
       "\n",
       "   open_rv_24m  max_bal_bc  all_util  total_rev_hi_lim  inq_fi  total_cu_tl  \\\n",
       "0          nan         nan       nan               nan     nan          nan   \n",
       "1          nan         nan       nan               nan     nan          nan   \n",
       "2          nan         nan       nan               nan     nan          nan   \n",
       "3          nan         nan       nan               nan     nan          nan   \n",
       "4          nan         nan       nan               nan     nan          nan   \n",
       "\n",
       "   inq_last_12m  acc_open_past_24mths  avg_cur_bal  bc_open_to_buy  bc_util  \\\n",
       "0           nan                   nan          nan             nan      nan   \n",
       "1           nan                   nan          nan             nan      nan   \n",
       "2           nan                   nan          nan             nan      nan   \n",
       "3           nan                   nan          nan             nan      nan   \n",
       "4           nan                   nan          nan             nan      nan   \n",
       "\n",
       "   chargeoff_within_12_mths  delinq_amnt  mo_sin_old_il_acct  \\\n",
       "0                      0.00            0                 nan   \n",
       "1                      0.00            0                 nan   \n",
       "2                      0.00            0                 nan   \n",
       "3                      0.00            0                 nan   \n",
       "4                      0.00            0                 nan   \n",
       "\n",
       "   mo_sin_old_rev_tl_op  mo_sin_rcnt_rev_tl_op  mo_sin_rcnt_tl  mort_acc  \\\n",
       "0                   nan                    nan             nan       nan   \n",
       "1                   nan                    nan             nan       nan   \n",
       "2                   nan                    nan             nan       nan   \n",
       "3                   nan                    nan             nan       nan   \n",
       "4                   nan                    nan             nan       nan   \n",
       "\n",
       "   mths_since_recent_bc  mths_since_recent_bc_dlq  mths_since_recent_inq  \\\n",
       "0                   nan                       nan                    nan   \n",
       "1                   nan                       nan                    nan   \n",
       "2                   nan                       nan                    nan   \n",
       "3                   nan                       nan                    nan   \n",
       "4                   nan                       nan                    nan   \n",
       "\n",
       "   mths_since_recent_revol_delinq  num_accts_ever_120_pd  num_actv_bc_tl  \\\n",
       "0                             nan                    nan             nan   \n",
       "1                             nan                    nan             nan   \n",
       "2                             nan                    nan             nan   \n",
       "3                             nan                    nan             nan   \n",
       "4                             nan                    nan             nan   \n",
       "\n",
       "   num_actv_rev_tl  num_bc_sats  num_bc_tl  num_il_tl  num_op_rev_tl  \\\n",
       "0              nan          nan        nan        nan            nan   \n",
       "1              nan          nan        nan        nan            nan   \n",
       "2              nan          nan        nan        nan            nan   \n",
       "3              nan          nan        nan        nan            nan   \n",
       "4              nan          nan        nan        nan            nan   \n",
       "\n",
       "   num_rev_accts  num_rev_tl_bal_gt_0  num_sats  num_tl_120dpd_2m  \\\n",
       "0            nan                  nan       nan               nan   \n",
       "1            nan                  nan       nan               nan   \n",
       "2            nan                  nan       nan               nan   \n",
       "3            nan                  nan       nan               nan   \n",
       "4            nan                  nan       nan               nan   \n",
       "\n",
       "   num_tl_30dpd  num_tl_90g_dpd_24m  num_tl_op_past_12m  pct_tl_nvr_dlq  \\\n",
       "0           nan                 nan                 nan             nan   \n",
       "1           nan                 nan                 nan             nan   \n",
       "2           nan                 nan                 nan             nan   \n",
       "3           nan                 nan                 nan             nan   \n",
       "4           nan                 nan                 nan             nan   \n",
       "\n",
       "   percent_bc_gt_75  pub_rec_bankruptcies  tax_liens  tot_hi_cred_lim  \\\n",
       "0               nan                  0.00       0.00              nan   \n",
       "1               nan                  0.00       0.00              nan   \n",
       "2               nan                  0.00       0.00              nan   \n",
       "3               nan                  0.00       0.00              nan   \n",
       "4               nan                  0.00       0.00              nan   \n",
       "\n",
       "   total_bal_ex_mort  total_bc_limit  total_il_high_credit_limit  \n",
       "0                nan             nan                         nan  \n",
       "1                nan             nan                         nan  \n",
       "2                nan             nan                         nan  \n",
       "3                nan             nan                         nan  \n",
       "4                nan             nan                         nan  \n",
       "\n",
       "[5 rows x 111 columns]"
      ]
     },
     "execution_count": 3,
     "metadata": {},
     "output_type": "execute_result"
    }
   ],
   "source": [
    "#Read the data to Python dataframe\n",
    "loan_df = pd.read_csv('loan.csv')\n",
    "\n",
    "#Check few records\n",
    "loan_df.head()"
   ]
  },
  {
   "cell_type": "code",
   "execution_count": 4,
   "metadata": {
    "scrolled": false
   },
   "outputs": [
    {
     "data": {
      "text/plain": [
       "(39717, 111)"
      ]
     },
     "execution_count": 4,
     "metadata": {},
     "output_type": "execute_result"
    }
   ],
   "source": [
    "#Shape of the Dataframe\n",
    "loan_df.shape"
   ]
  },
  {
   "cell_type": "code",
   "execution_count": 5,
   "metadata": {},
   "outputs": [
    {
     "name": "stdout",
     "output_type": "stream",
     "text": [
      "<class 'pandas.core.frame.DataFrame'>\n",
      "RangeIndex: 39717 entries, 0 to 39716\n",
      "Columns: 111 entries, id to total_il_high_credit_limit\n",
      "dtypes: float64(74), int64(13), object(24)\n",
      "memory usage: 33.6+ MB\n"
     ]
    }
   ],
   "source": [
    "#Datatype of various columns\n",
    "loan_df.info()"
   ]
  },
  {
   "cell_type": "markdown",
   "metadata": {},
   "source": [
    "*Shape indicates that the dataframe has 39717 rows and 111 columns*"
   ]
  },
  {
   "cell_type": "code",
   "execution_count": 6,
   "metadata": {
    "scrolled": false
   },
   "outputs": [
    {
     "data": {
      "text/html": [
       "<div>\n",
       "<style scoped>\n",
       "    .dataframe tbody tr th:only-of-type {\n",
       "        vertical-align: middle;\n",
       "    }\n",
       "\n",
       "    .dataframe tbody tr th {\n",
       "        vertical-align: top;\n",
       "    }\n",
       "\n",
       "    .dataframe thead th {\n",
       "        text-align: right;\n",
       "    }\n",
       "</style>\n",
       "<table border=\"1\" class=\"dataframe\">\n",
       "  <thead>\n",
       "    <tr style=\"text-align: right;\">\n",
       "      <th></th>\n",
       "      <th>id</th>\n",
       "      <th>member_id</th>\n",
       "      <th>loan_amnt</th>\n",
       "      <th>funded_amnt</th>\n",
       "      <th>funded_amnt_inv</th>\n",
       "      <th>installment</th>\n",
       "      <th>annual_inc</th>\n",
       "      <th>dti</th>\n",
       "      <th>delinq_2yrs</th>\n",
       "      <th>inq_last_6mths</th>\n",
       "      <th>mths_since_last_delinq</th>\n",
       "      <th>mths_since_last_record</th>\n",
       "      <th>open_acc</th>\n",
       "      <th>pub_rec</th>\n",
       "      <th>revol_bal</th>\n",
       "      <th>total_acc</th>\n",
       "      <th>out_prncp</th>\n",
       "      <th>out_prncp_inv</th>\n",
       "      <th>total_pymnt</th>\n",
       "      <th>total_pymnt_inv</th>\n",
       "      <th>total_rec_prncp</th>\n",
       "      <th>total_rec_int</th>\n",
       "      <th>total_rec_late_fee</th>\n",
       "      <th>recoveries</th>\n",
       "      <th>collection_recovery_fee</th>\n",
       "      <th>last_pymnt_amnt</th>\n",
       "      <th>collections_12_mths_ex_med</th>\n",
       "      <th>mths_since_last_major_derog</th>\n",
       "      <th>policy_code</th>\n",
       "      <th>annual_inc_joint</th>\n",
       "      <th>dti_joint</th>\n",
       "      <th>verification_status_joint</th>\n",
       "      <th>acc_now_delinq</th>\n",
       "      <th>tot_coll_amt</th>\n",
       "      <th>tot_cur_bal</th>\n",
       "      <th>open_acc_6m</th>\n",
       "      <th>open_il_6m</th>\n",
       "      <th>open_il_12m</th>\n",
       "      <th>open_il_24m</th>\n",
       "      <th>mths_since_rcnt_il</th>\n",
       "      <th>total_bal_il</th>\n",
       "      <th>il_util</th>\n",
       "      <th>open_rv_12m</th>\n",
       "      <th>open_rv_24m</th>\n",
       "      <th>max_bal_bc</th>\n",
       "      <th>all_util</th>\n",
       "      <th>total_rev_hi_lim</th>\n",
       "      <th>inq_fi</th>\n",
       "      <th>total_cu_tl</th>\n",
       "      <th>inq_last_12m</th>\n",
       "      <th>acc_open_past_24mths</th>\n",
       "      <th>avg_cur_bal</th>\n",
       "      <th>bc_open_to_buy</th>\n",
       "      <th>bc_util</th>\n",
       "      <th>chargeoff_within_12_mths</th>\n",
       "      <th>delinq_amnt</th>\n",
       "      <th>mo_sin_old_il_acct</th>\n",
       "      <th>mo_sin_old_rev_tl_op</th>\n",
       "      <th>mo_sin_rcnt_rev_tl_op</th>\n",
       "      <th>mo_sin_rcnt_tl</th>\n",
       "      <th>mort_acc</th>\n",
       "      <th>mths_since_recent_bc</th>\n",
       "      <th>mths_since_recent_bc_dlq</th>\n",
       "      <th>mths_since_recent_inq</th>\n",
       "      <th>mths_since_recent_revol_delinq</th>\n",
       "      <th>num_accts_ever_120_pd</th>\n",
       "      <th>num_actv_bc_tl</th>\n",
       "      <th>num_actv_rev_tl</th>\n",
       "      <th>num_bc_sats</th>\n",
       "      <th>num_bc_tl</th>\n",
       "      <th>num_il_tl</th>\n",
       "      <th>num_op_rev_tl</th>\n",
       "      <th>num_rev_accts</th>\n",
       "      <th>num_rev_tl_bal_gt_0</th>\n",
       "      <th>num_sats</th>\n",
       "      <th>num_tl_120dpd_2m</th>\n",
       "      <th>num_tl_30dpd</th>\n",
       "      <th>num_tl_90g_dpd_24m</th>\n",
       "      <th>num_tl_op_past_12m</th>\n",
       "      <th>pct_tl_nvr_dlq</th>\n",
       "      <th>percent_bc_gt_75</th>\n",
       "      <th>pub_rec_bankruptcies</th>\n",
       "      <th>tax_liens</th>\n",
       "      <th>tot_hi_cred_lim</th>\n",
       "      <th>total_bal_ex_mort</th>\n",
       "      <th>total_bc_limit</th>\n",
       "      <th>total_il_high_credit_limit</th>\n",
       "    </tr>\n",
       "  </thead>\n",
       "  <tbody>\n",
       "    <tr>\n",
       "      <th>count</th>\n",
       "      <td>39,717.00</td>\n",
       "      <td>39,717.00</td>\n",
       "      <td>39,717.00</td>\n",
       "      <td>39,717.00</td>\n",
       "      <td>39,717.00</td>\n",
       "      <td>39,717.00</td>\n",
       "      <td>39,717.00</td>\n",
       "      <td>39,717.00</td>\n",
       "      <td>39,717.00</td>\n",
       "      <td>39,717.00</td>\n",
       "      <td>14,035.00</td>\n",
       "      <td>2,786.00</td>\n",
       "      <td>39,717.00</td>\n",
       "      <td>39,717.00</td>\n",
       "      <td>39,717.00</td>\n",
       "      <td>39,717.00</td>\n",
       "      <td>39,717.00</td>\n",
       "      <td>39,717.00</td>\n",
       "      <td>39,717.00</td>\n",
       "      <td>39,717.00</td>\n",
       "      <td>39,717.00</td>\n",
       "      <td>39,717.00</td>\n",
       "      <td>39,717.00</td>\n",
       "      <td>39,717.00</td>\n",
       "      <td>39,717.00</td>\n",
       "      <td>39,717.00</td>\n",
       "      <td>39,661.00</td>\n",
       "      <td>0.00</td>\n",
       "      <td>39,717.00</td>\n",
       "      <td>0.00</td>\n",
       "      <td>0.00</td>\n",
       "      <td>0.00</td>\n",
       "      <td>39,717.00</td>\n",
       "      <td>0.00</td>\n",
       "      <td>0.00</td>\n",
       "      <td>0.00</td>\n",
       "      <td>0.00</td>\n",
       "      <td>0.00</td>\n",
       "      <td>0.00</td>\n",
       "      <td>0.00</td>\n",
       "      <td>0.00</td>\n",
       "      <td>0.00</td>\n",
       "      <td>0.00</td>\n",
       "      <td>0.00</td>\n",
       "      <td>0.00</td>\n",
       "      <td>0.00</td>\n",
       "      <td>0.00</td>\n",
       "      <td>0.00</td>\n",
       "      <td>0.00</td>\n",
       "      <td>0.00</td>\n",
       "      <td>0.00</td>\n",
       "      <td>0.00</td>\n",
       "      <td>0.00</td>\n",
       "      <td>0.00</td>\n",
       "      <td>39,661.00</td>\n",
       "      <td>39,717.00</td>\n",
       "      <td>0.00</td>\n",
       "      <td>0.00</td>\n",
       "      <td>0.00</td>\n",
       "      <td>0.00</td>\n",
       "      <td>0.00</td>\n",
       "      <td>0.00</td>\n",
       "      <td>0.00</td>\n",
       "      <td>0.00</td>\n",
       "      <td>0.00</td>\n",
       "      <td>0.00</td>\n",
       "      <td>0.00</td>\n",
       "      <td>0.00</td>\n",
       "      <td>0.00</td>\n",
       "      <td>0.00</td>\n",
       "      <td>0.00</td>\n",
       "      <td>0.00</td>\n",
       "      <td>0.00</td>\n",
       "      <td>0.00</td>\n",
       "      <td>0.00</td>\n",
       "      <td>0.00</td>\n",
       "      <td>0.00</td>\n",
       "      <td>0.00</td>\n",
       "      <td>0.00</td>\n",
       "      <td>0.00</td>\n",
       "      <td>0.00</td>\n",
       "      <td>39,020.00</td>\n",
       "      <td>39,678.00</td>\n",
       "      <td>0.00</td>\n",
       "      <td>0.00</td>\n",
       "      <td>0.00</td>\n",
       "      <td>0.00</td>\n",
       "    </tr>\n",
       "    <tr>\n",
       "      <th>mean</th>\n",
       "      <td>683,131.91</td>\n",
       "      <td>850,463.56</td>\n",
       "      <td>11,219.44</td>\n",
       "      <td>10,947.71</td>\n",
       "      <td>10,397.45</td>\n",
       "      <td>324.56</td>\n",
       "      <td>68,968.93</td>\n",
       "      <td>13.32</td>\n",
       "      <td>0.15</td>\n",
       "      <td>0.87</td>\n",
       "      <td>35.90</td>\n",
       "      <td>69.70</td>\n",
       "      <td>9.29</td>\n",
       "      <td>0.06</td>\n",
       "      <td>13,382.53</td>\n",
       "      <td>22.09</td>\n",
       "      <td>51.23</td>\n",
       "      <td>50.99</td>\n",
       "      <td>12,153.60</td>\n",
       "      <td>11,567.15</td>\n",
       "      <td>9,793.35</td>\n",
       "      <td>2,263.66</td>\n",
       "      <td>1.36</td>\n",
       "      <td>95.22</td>\n",
       "      <td>12.41</td>\n",
       "      <td>2,678.83</td>\n",
       "      <td>0.00</td>\n",
       "      <td>nan</td>\n",
       "      <td>1.00</td>\n",
       "      <td>nan</td>\n",
       "      <td>nan</td>\n",
       "      <td>nan</td>\n",
       "      <td>0.00</td>\n",
       "      <td>nan</td>\n",
       "      <td>nan</td>\n",
       "      <td>nan</td>\n",
       "      <td>nan</td>\n",
       "      <td>nan</td>\n",
       "      <td>nan</td>\n",
       "      <td>nan</td>\n",
       "      <td>nan</td>\n",
       "      <td>nan</td>\n",
       "      <td>nan</td>\n",
       "      <td>nan</td>\n",
       "      <td>nan</td>\n",
       "      <td>nan</td>\n",
       "      <td>nan</td>\n",
       "      <td>nan</td>\n",
       "      <td>nan</td>\n",
       "      <td>nan</td>\n",
       "      <td>nan</td>\n",
       "      <td>nan</td>\n",
       "      <td>nan</td>\n",
       "      <td>nan</td>\n",
       "      <td>0.00</td>\n",
       "      <td>0.00</td>\n",
       "      <td>nan</td>\n",
       "      <td>nan</td>\n",
       "      <td>nan</td>\n",
       "      <td>nan</td>\n",
       "      <td>nan</td>\n",
       "      <td>nan</td>\n",
       "      <td>nan</td>\n",
       "      <td>nan</td>\n",
       "      <td>nan</td>\n",
       "      <td>nan</td>\n",
       "      <td>nan</td>\n",
       "      <td>nan</td>\n",
       "      <td>nan</td>\n",
       "      <td>nan</td>\n",
       "      <td>nan</td>\n",
       "      <td>nan</td>\n",
       "      <td>nan</td>\n",
       "      <td>nan</td>\n",
       "      <td>nan</td>\n",
       "      <td>nan</td>\n",
       "      <td>nan</td>\n",
       "      <td>nan</td>\n",
       "      <td>nan</td>\n",
       "      <td>nan</td>\n",
       "      <td>nan</td>\n",
       "      <td>0.04</td>\n",
       "      <td>0.00</td>\n",
       "      <td>nan</td>\n",
       "      <td>nan</td>\n",
       "      <td>nan</td>\n",
       "      <td>nan</td>\n",
       "    </tr>\n",
       "    <tr>\n",
       "      <th>std</th>\n",
       "      <td>210,694.13</td>\n",
       "      <td>265,678.31</td>\n",
       "      <td>7,456.67</td>\n",
       "      <td>7,187.24</td>\n",
       "      <td>7,128.45</td>\n",
       "      <td>208.87</td>\n",
       "      <td>63,793.77</td>\n",
       "      <td>6.68</td>\n",
       "      <td>0.49</td>\n",
       "      <td>1.07</td>\n",
       "      <td>22.02</td>\n",
       "      <td>43.82</td>\n",
       "      <td>4.40</td>\n",
       "      <td>0.24</td>\n",
       "      <td>15,885.02</td>\n",
       "      <td>11.40</td>\n",
       "      <td>375.17</td>\n",
       "      <td>373.82</td>\n",
       "      <td>9,042.04</td>\n",
       "      <td>8,942.67</td>\n",
       "      <td>7,065.52</td>\n",
       "      <td>2,608.11</td>\n",
       "      <td>7.29</td>\n",
       "      <td>688.74</td>\n",
       "      <td>148.67</td>\n",
       "      <td>4,447.14</td>\n",
       "      <td>0.00</td>\n",
       "      <td>nan</td>\n",
       "      <td>0.00</td>\n",
       "      <td>nan</td>\n",
       "      <td>nan</td>\n",
       "      <td>nan</td>\n",
       "      <td>0.00</td>\n",
       "      <td>nan</td>\n",
       "      <td>nan</td>\n",
       "      <td>nan</td>\n",
       "      <td>nan</td>\n",
       "      <td>nan</td>\n",
       "      <td>nan</td>\n",
       "      <td>nan</td>\n",
       "      <td>nan</td>\n",
       "      <td>nan</td>\n",
       "      <td>nan</td>\n",
       "      <td>nan</td>\n",
       "      <td>nan</td>\n",
       "      <td>nan</td>\n",
       "      <td>nan</td>\n",
       "      <td>nan</td>\n",
       "      <td>nan</td>\n",
       "      <td>nan</td>\n",
       "      <td>nan</td>\n",
       "      <td>nan</td>\n",
       "      <td>nan</td>\n",
       "      <td>nan</td>\n",
       "      <td>0.00</td>\n",
       "      <td>0.00</td>\n",
       "      <td>nan</td>\n",
       "      <td>nan</td>\n",
       "      <td>nan</td>\n",
       "      <td>nan</td>\n",
       "      <td>nan</td>\n",
       "      <td>nan</td>\n",
       "      <td>nan</td>\n",
       "      <td>nan</td>\n",
       "      <td>nan</td>\n",
       "      <td>nan</td>\n",
       "      <td>nan</td>\n",
       "      <td>nan</td>\n",
       "      <td>nan</td>\n",
       "      <td>nan</td>\n",
       "      <td>nan</td>\n",
       "      <td>nan</td>\n",
       "      <td>nan</td>\n",
       "      <td>nan</td>\n",
       "      <td>nan</td>\n",
       "      <td>nan</td>\n",
       "      <td>nan</td>\n",
       "      <td>nan</td>\n",
       "      <td>nan</td>\n",
       "      <td>nan</td>\n",
       "      <td>nan</td>\n",
       "      <td>0.20</td>\n",
       "      <td>0.00</td>\n",
       "      <td>nan</td>\n",
       "      <td>nan</td>\n",
       "      <td>nan</td>\n",
       "      <td>nan</td>\n",
       "    </tr>\n",
       "    <tr>\n",
       "      <th>min</th>\n",
       "      <td>54,734.00</td>\n",
       "      <td>70,699.00</td>\n",
       "      <td>500.00</td>\n",
       "      <td>500.00</td>\n",
       "      <td>0.00</td>\n",
       "      <td>15.69</td>\n",
       "      <td>4,000.00</td>\n",
       "      <td>0.00</td>\n",
       "      <td>0.00</td>\n",
       "      <td>0.00</td>\n",
       "      <td>0.00</td>\n",
       "      <td>0.00</td>\n",
       "      <td>2.00</td>\n",
       "      <td>0.00</td>\n",
       "      <td>0.00</td>\n",
       "      <td>2.00</td>\n",
       "      <td>0.00</td>\n",
       "      <td>0.00</td>\n",
       "      <td>0.00</td>\n",
       "      <td>0.00</td>\n",
       "      <td>0.00</td>\n",
       "      <td>0.00</td>\n",
       "      <td>0.00</td>\n",
       "      <td>0.00</td>\n",
       "      <td>0.00</td>\n",
       "      <td>0.00</td>\n",
       "      <td>0.00</td>\n",
       "      <td>nan</td>\n",
       "      <td>1.00</td>\n",
       "      <td>nan</td>\n",
       "      <td>nan</td>\n",
       "      <td>nan</td>\n",
       "      <td>0.00</td>\n",
       "      <td>nan</td>\n",
       "      <td>nan</td>\n",
       "      <td>nan</td>\n",
       "      <td>nan</td>\n",
       "      <td>nan</td>\n",
       "      <td>nan</td>\n",
       "      <td>nan</td>\n",
       "      <td>nan</td>\n",
       "      <td>nan</td>\n",
       "      <td>nan</td>\n",
       "      <td>nan</td>\n",
       "      <td>nan</td>\n",
       "      <td>nan</td>\n",
       "      <td>nan</td>\n",
       "      <td>nan</td>\n",
       "      <td>nan</td>\n",
       "      <td>nan</td>\n",
       "      <td>nan</td>\n",
       "      <td>nan</td>\n",
       "      <td>nan</td>\n",
       "      <td>nan</td>\n",
       "      <td>0.00</td>\n",
       "      <td>0.00</td>\n",
       "      <td>nan</td>\n",
       "      <td>nan</td>\n",
       "      <td>nan</td>\n",
       "      <td>nan</td>\n",
       "      <td>nan</td>\n",
       "      <td>nan</td>\n",
       "      <td>nan</td>\n",
       "      <td>nan</td>\n",
       "      <td>nan</td>\n",
       "      <td>nan</td>\n",
       "      <td>nan</td>\n",
       "      <td>nan</td>\n",
       "      <td>nan</td>\n",
       "      <td>nan</td>\n",
       "      <td>nan</td>\n",
       "      <td>nan</td>\n",
       "      <td>nan</td>\n",
       "      <td>nan</td>\n",
       "      <td>nan</td>\n",
       "      <td>nan</td>\n",
       "      <td>nan</td>\n",
       "      <td>nan</td>\n",
       "      <td>nan</td>\n",
       "      <td>nan</td>\n",
       "      <td>nan</td>\n",
       "      <td>0.00</td>\n",
       "      <td>0.00</td>\n",
       "      <td>nan</td>\n",
       "      <td>nan</td>\n",
       "      <td>nan</td>\n",
       "      <td>nan</td>\n",
       "    </tr>\n",
       "    <tr>\n",
       "      <th>25%</th>\n",
       "      <td>516,221.00</td>\n",
       "      <td>666,780.00</td>\n",
       "      <td>5,500.00</td>\n",
       "      <td>5,400.00</td>\n",
       "      <td>5,000.00</td>\n",
       "      <td>167.02</td>\n",
       "      <td>40,404.00</td>\n",
       "      <td>8.17</td>\n",
       "      <td>0.00</td>\n",
       "      <td>0.00</td>\n",
       "      <td>18.00</td>\n",
       "      <td>22.00</td>\n",
       "      <td>6.00</td>\n",
       "      <td>0.00</td>\n",
       "      <td>3,703.00</td>\n",
       "      <td>13.00</td>\n",
       "      <td>0.00</td>\n",
       "      <td>0.00</td>\n",
       "      <td>5,576.93</td>\n",
       "      <td>5,112.31</td>\n",
       "      <td>4,600.00</td>\n",
       "      <td>662.18</td>\n",
       "      <td>0.00</td>\n",
       "      <td>0.00</td>\n",
       "      <td>0.00</td>\n",
       "      <td>218.68</td>\n",
       "      <td>0.00</td>\n",
       "      <td>nan</td>\n",
       "      <td>1.00</td>\n",
       "      <td>nan</td>\n",
       "      <td>nan</td>\n",
       "      <td>nan</td>\n",
       "      <td>0.00</td>\n",
       "      <td>nan</td>\n",
       "      <td>nan</td>\n",
       "      <td>nan</td>\n",
       "      <td>nan</td>\n",
       "      <td>nan</td>\n",
       "      <td>nan</td>\n",
       "      <td>nan</td>\n",
       "      <td>nan</td>\n",
       "      <td>nan</td>\n",
       "      <td>nan</td>\n",
       "      <td>nan</td>\n",
       "      <td>nan</td>\n",
       "      <td>nan</td>\n",
       "      <td>nan</td>\n",
       "      <td>nan</td>\n",
       "      <td>nan</td>\n",
       "      <td>nan</td>\n",
       "      <td>nan</td>\n",
       "      <td>nan</td>\n",
       "      <td>nan</td>\n",
       "      <td>nan</td>\n",
       "      <td>0.00</td>\n",
       "      <td>0.00</td>\n",
       "      <td>nan</td>\n",
       "      <td>nan</td>\n",
       "      <td>nan</td>\n",
       "      <td>nan</td>\n",
       "      <td>nan</td>\n",
       "      <td>nan</td>\n",
       "      <td>nan</td>\n",
       "      <td>nan</td>\n",
       "      <td>nan</td>\n",
       "      <td>nan</td>\n",
       "      <td>nan</td>\n",
       "      <td>nan</td>\n",
       "      <td>nan</td>\n",
       "      <td>nan</td>\n",
       "      <td>nan</td>\n",
       "      <td>nan</td>\n",
       "      <td>nan</td>\n",
       "      <td>nan</td>\n",
       "      <td>nan</td>\n",
       "      <td>nan</td>\n",
       "      <td>nan</td>\n",
       "      <td>nan</td>\n",
       "      <td>nan</td>\n",
       "      <td>nan</td>\n",
       "      <td>nan</td>\n",
       "      <td>0.00</td>\n",
       "      <td>0.00</td>\n",
       "      <td>nan</td>\n",
       "      <td>nan</td>\n",
       "      <td>nan</td>\n",
       "      <td>nan</td>\n",
       "    </tr>\n",
       "    <tr>\n",
       "      <th>50%</th>\n",
       "      <td>665,665.00</td>\n",
       "      <td>850,812.00</td>\n",
       "      <td>10,000.00</td>\n",
       "      <td>9,600.00</td>\n",
       "      <td>8,975.00</td>\n",
       "      <td>280.22</td>\n",
       "      <td>59,000.00</td>\n",
       "      <td>13.40</td>\n",
       "      <td>0.00</td>\n",
       "      <td>1.00</td>\n",
       "      <td>34.00</td>\n",
       "      <td>90.00</td>\n",
       "      <td>9.00</td>\n",
       "      <td>0.00</td>\n",
       "      <td>8,850.00</td>\n",
       "      <td>20.00</td>\n",
       "      <td>0.00</td>\n",
       "      <td>0.00</td>\n",
       "      <td>9,899.64</td>\n",
       "      <td>9,287.15</td>\n",
       "      <td>8,000.00</td>\n",
       "      <td>1,348.91</td>\n",
       "      <td>0.00</td>\n",
       "      <td>0.00</td>\n",
       "      <td>0.00</td>\n",
       "      <td>546.14</td>\n",
       "      <td>0.00</td>\n",
       "      <td>nan</td>\n",
       "      <td>1.00</td>\n",
       "      <td>nan</td>\n",
       "      <td>nan</td>\n",
       "      <td>nan</td>\n",
       "      <td>0.00</td>\n",
       "      <td>nan</td>\n",
       "      <td>nan</td>\n",
       "      <td>nan</td>\n",
       "      <td>nan</td>\n",
       "      <td>nan</td>\n",
       "      <td>nan</td>\n",
       "      <td>nan</td>\n",
       "      <td>nan</td>\n",
       "      <td>nan</td>\n",
       "      <td>nan</td>\n",
       "      <td>nan</td>\n",
       "      <td>nan</td>\n",
       "      <td>nan</td>\n",
       "      <td>nan</td>\n",
       "      <td>nan</td>\n",
       "      <td>nan</td>\n",
       "      <td>nan</td>\n",
       "      <td>nan</td>\n",
       "      <td>nan</td>\n",
       "      <td>nan</td>\n",
       "      <td>nan</td>\n",
       "      <td>0.00</td>\n",
       "      <td>0.00</td>\n",
       "      <td>nan</td>\n",
       "      <td>nan</td>\n",
       "      <td>nan</td>\n",
       "      <td>nan</td>\n",
       "      <td>nan</td>\n",
       "      <td>nan</td>\n",
       "      <td>nan</td>\n",
       "      <td>nan</td>\n",
       "      <td>nan</td>\n",
       "      <td>nan</td>\n",
       "      <td>nan</td>\n",
       "      <td>nan</td>\n",
       "      <td>nan</td>\n",
       "      <td>nan</td>\n",
       "      <td>nan</td>\n",
       "      <td>nan</td>\n",
       "      <td>nan</td>\n",
       "      <td>nan</td>\n",
       "      <td>nan</td>\n",
       "      <td>nan</td>\n",
       "      <td>nan</td>\n",
       "      <td>nan</td>\n",
       "      <td>nan</td>\n",
       "      <td>nan</td>\n",
       "      <td>nan</td>\n",
       "      <td>0.00</td>\n",
       "      <td>0.00</td>\n",
       "      <td>nan</td>\n",
       "      <td>nan</td>\n",
       "      <td>nan</td>\n",
       "      <td>nan</td>\n",
       "    </tr>\n",
       "    <tr>\n",
       "      <th>75%</th>\n",
       "      <td>837,755.00</td>\n",
       "      <td>1,047,339.00</td>\n",
       "      <td>15,000.00</td>\n",
       "      <td>15,000.00</td>\n",
       "      <td>14,400.00</td>\n",
       "      <td>430.78</td>\n",
       "      <td>82,300.00</td>\n",
       "      <td>18.60</td>\n",
       "      <td>0.00</td>\n",
       "      <td>1.00</td>\n",
       "      <td>52.00</td>\n",
       "      <td>104.00</td>\n",
       "      <td>12.00</td>\n",
       "      <td>0.00</td>\n",
       "      <td>17,058.00</td>\n",
       "      <td>29.00</td>\n",
       "      <td>0.00</td>\n",
       "      <td>0.00</td>\n",
       "      <td>16,534.43</td>\n",
       "      <td>15,798.81</td>\n",
       "      <td>13,653.26</td>\n",
       "      <td>2,833.40</td>\n",
       "      <td>0.00</td>\n",
       "      <td>0.00</td>\n",
       "      <td>0.00</td>\n",
       "      <td>3,293.16</td>\n",
       "      <td>0.00</td>\n",
       "      <td>nan</td>\n",
       "      <td>1.00</td>\n",
       "      <td>nan</td>\n",
       "      <td>nan</td>\n",
       "      <td>nan</td>\n",
       "      <td>0.00</td>\n",
       "      <td>nan</td>\n",
       "      <td>nan</td>\n",
       "      <td>nan</td>\n",
       "      <td>nan</td>\n",
       "      <td>nan</td>\n",
       "      <td>nan</td>\n",
       "      <td>nan</td>\n",
       "      <td>nan</td>\n",
       "      <td>nan</td>\n",
       "      <td>nan</td>\n",
       "      <td>nan</td>\n",
       "      <td>nan</td>\n",
       "      <td>nan</td>\n",
       "      <td>nan</td>\n",
       "      <td>nan</td>\n",
       "      <td>nan</td>\n",
       "      <td>nan</td>\n",
       "      <td>nan</td>\n",
       "      <td>nan</td>\n",
       "      <td>nan</td>\n",
       "      <td>nan</td>\n",
       "      <td>0.00</td>\n",
       "      <td>0.00</td>\n",
       "      <td>nan</td>\n",
       "      <td>nan</td>\n",
       "      <td>nan</td>\n",
       "      <td>nan</td>\n",
       "      <td>nan</td>\n",
       "      <td>nan</td>\n",
       "      <td>nan</td>\n",
       "      <td>nan</td>\n",
       "      <td>nan</td>\n",
       "      <td>nan</td>\n",
       "      <td>nan</td>\n",
       "      <td>nan</td>\n",
       "      <td>nan</td>\n",
       "      <td>nan</td>\n",
       "      <td>nan</td>\n",
       "      <td>nan</td>\n",
       "      <td>nan</td>\n",
       "      <td>nan</td>\n",
       "      <td>nan</td>\n",
       "      <td>nan</td>\n",
       "      <td>nan</td>\n",
       "      <td>nan</td>\n",
       "      <td>nan</td>\n",
       "      <td>nan</td>\n",
       "      <td>nan</td>\n",
       "      <td>0.00</td>\n",
       "      <td>0.00</td>\n",
       "      <td>nan</td>\n",
       "      <td>nan</td>\n",
       "      <td>nan</td>\n",
       "      <td>nan</td>\n",
       "    </tr>\n",
       "    <tr>\n",
       "      <th>max</th>\n",
       "      <td>1,077,501.00</td>\n",
       "      <td>1,314,167.00</td>\n",
       "      <td>35,000.00</td>\n",
       "      <td>35,000.00</td>\n",
       "      <td>35,000.00</td>\n",
       "      <td>1,305.19</td>\n",
       "      <td>6,000,000.00</td>\n",
       "      <td>29.99</td>\n",
       "      <td>11.00</td>\n",
       "      <td>8.00</td>\n",
       "      <td>120.00</td>\n",
       "      <td>129.00</td>\n",
       "      <td>44.00</td>\n",
       "      <td>4.00</td>\n",
       "      <td>149,588.00</td>\n",
       "      <td>90.00</td>\n",
       "      <td>6,311.47</td>\n",
       "      <td>6,307.37</td>\n",
       "      <td>58,563.68</td>\n",
       "      <td>58,563.68</td>\n",
       "      <td>35,000.02</td>\n",
       "      <td>23,563.68</td>\n",
       "      <td>180.20</td>\n",
       "      <td>29,623.35</td>\n",
       "      <td>7,002.19</td>\n",
       "      <td>36,115.20</td>\n",
       "      <td>0.00</td>\n",
       "      <td>nan</td>\n",
       "      <td>1.00</td>\n",
       "      <td>nan</td>\n",
       "      <td>nan</td>\n",
       "      <td>nan</td>\n",
       "      <td>0.00</td>\n",
       "      <td>nan</td>\n",
       "      <td>nan</td>\n",
       "      <td>nan</td>\n",
       "      <td>nan</td>\n",
       "      <td>nan</td>\n",
       "      <td>nan</td>\n",
       "      <td>nan</td>\n",
       "      <td>nan</td>\n",
       "      <td>nan</td>\n",
       "      <td>nan</td>\n",
       "      <td>nan</td>\n",
       "      <td>nan</td>\n",
       "      <td>nan</td>\n",
       "      <td>nan</td>\n",
       "      <td>nan</td>\n",
       "      <td>nan</td>\n",
       "      <td>nan</td>\n",
       "      <td>nan</td>\n",
       "      <td>nan</td>\n",
       "      <td>nan</td>\n",
       "      <td>nan</td>\n",
       "      <td>0.00</td>\n",
       "      <td>0.00</td>\n",
       "      <td>nan</td>\n",
       "      <td>nan</td>\n",
       "      <td>nan</td>\n",
       "      <td>nan</td>\n",
       "      <td>nan</td>\n",
       "      <td>nan</td>\n",
       "      <td>nan</td>\n",
       "      <td>nan</td>\n",
       "      <td>nan</td>\n",
       "      <td>nan</td>\n",
       "      <td>nan</td>\n",
       "      <td>nan</td>\n",
       "      <td>nan</td>\n",
       "      <td>nan</td>\n",
       "      <td>nan</td>\n",
       "      <td>nan</td>\n",
       "      <td>nan</td>\n",
       "      <td>nan</td>\n",
       "      <td>nan</td>\n",
       "      <td>nan</td>\n",
       "      <td>nan</td>\n",
       "      <td>nan</td>\n",
       "      <td>nan</td>\n",
       "      <td>nan</td>\n",
       "      <td>nan</td>\n",
       "      <td>2.00</td>\n",
       "      <td>0.00</td>\n",
       "      <td>nan</td>\n",
       "      <td>nan</td>\n",
       "      <td>nan</td>\n",
       "      <td>nan</td>\n",
       "    </tr>\n",
       "  </tbody>\n",
       "</table>\n",
       "</div>"
      ],
      "text/plain": [
       "                id    member_id  loan_amnt  funded_amnt  funded_amnt_inv  \\\n",
       "count    39,717.00    39,717.00  39,717.00    39,717.00        39,717.00   \n",
       "mean    683,131.91   850,463.56  11,219.44    10,947.71        10,397.45   \n",
       "std     210,694.13   265,678.31   7,456.67     7,187.24         7,128.45   \n",
       "min      54,734.00    70,699.00     500.00       500.00             0.00   \n",
       "25%     516,221.00   666,780.00   5,500.00     5,400.00         5,000.00   \n",
       "50%     665,665.00   850,812.00  10,000.00     9,600.00         8,975.00   \n",
       "75%     837,755.00 1,047,339.00  15,000.00    15,000.00        14,400.00   \n",
       "max   1,077,501.00 1,314,167.00  35,000.00    35,000.00        35,000.00   \n",
       "\n",
       "       installment   annual_inc       dti  delinq_2yrs  inq_last_6mths  \\\n",
       "count    39,717.00    39,717.00 39,717.00    39,717.00       39,717.00   \n",
       "mean        324.56    68,968.93     13.32         0.15            0.87   \n",
       "std         208.87    63,793.77      6.68         0.49            1.07   \n",
       "min          15.69     4,000.00      0.00         0.00            0.00   \n",
       "25%         167.02    40,404.00      8.17         0.00            0.00   \n",
       "50%         280.22    59,000.00     13.40         0.00            1.00   \n",
       "75%         430.78    82,300.00     18.60         0.00            1.00   \n",
       "max       1,305.19 6,000,000.00     29.99        11.00            8.00   \n",
       "\n",
       "       mths_since_last_delinq  mths_since_last_record  open_acc   pub_rec  \\\n",
       "count               14,035.00                2,786.00 39,717.00 39,717.00   \n",
       "mean                    35.90                   69.70      9.29      0.06   \n",
       "std                     22.02                   43.82      4.40      0.24   \n",
       "min                      0.00                    0.00      2.00      0.00   \n",
       "25%                     18.00                   22.00      6.00      0.00   \n",
       "50%                     34.00                   90.00      9.00      0.00   \n",
       "75%                     52.00                  104.00     12.00      0.00   \n",
       "max                    120.00                  129.00     44.00      4.00   \n",
       "\n",
       "       revol_bal  total_acc  out_prncp  out_prncp_inv  total_pymnt  \\\n",
       "count  39,717.00  39,717.00  39,717.00      39,717.00    39,717.00   \n",
       "mean   13,382.53      22.09      51.23          50.99    12,153.60   \n",
       "std    15,885.02      11.40     375.17         373.82     9,042.04   \n",
       "min         0.00       2.00       0.00           0.00         0.00   \n",
       "25%     3,703.00      13.00       0.00           0.00     5,576.93   \n",
       "50%     8,850.00      20.00       0.00           0.00     9,899.64   \n",
       "75%    17,058.00      29.00       0.00           0.00    16,534.43   \n",
       "max   149,588.00      90.00   6,311.47       6,307.37    58,563.68   \n",
       "\n",
       "       total_pymnt_inv  total_rec_prncp  total_rec_int  total_rec_late_fee  \\\n",
       "count        39,717.00        39,717.00      39,717.00           39,717.00   \n",
       "mean         11,567.15         9,793.35       2,263.66                1.36   \n",
       "std           8,942.67         7,065.52       2,608.11                7.29   \n",
       "min               0.00             0.00           0.00                0.00   \n",
       "25%           5,112.31         4,600.00         662.18                0.00   \n",
       "50%           9,287.15         8,000.00       1,348.91                0.00   \n",
       "75%          15,798.81        13,653.26       2,833.40                0.00   \n",
       "max          58,563.68        35,000.02      23,563.68              180.20   \n",
       "\n",
       "       recoveries  collection_recovery_fee  last_pymnt_amnt  \\\n",
       "count   39,717.00                39,717.00        39,717.00   \n",
       "mean        95.22                    12.41         2,678.83   \n",
       "std        688.74                   148.67         4,447.14   \n",
       "min          0.00                     0.00             0.00   \n",
       "25%          0.00                     0.00           218.68   \n",
       "50%          0.00                     0.00           546.14   \n",
       "75%          0.00                     0.00         3,293.16   \n",
       "max     29,623.35                 7,002.19        36,115.20   \n",
       "\n",
       "       collections_12_mths_ex_med  mths_since_last_major_derog  policy_code  \\\n",
       "count                   39,661.00                         0.00    39,717.00   \n",
       "mean                         0.00                          nan         1.00   \n",
       "std                          0.00                          nan         0.00   \n",
       "min                          0.00                          nan         1.00   \n",
       "25%                          0.00                          nan         1.00   \n",
       "50%                          0.00                          nan         1.00   \n",
       "75%                          0.00                          nan         1.00   \n",
       "max                          0.00                          nan         1.00   \n",
       "\n",
       "       annual_inc_joint  dti_joint  verification_status_joint  acc_now_delinq  \\\n",
       "count              0.00       0.00                       0.00       39,717.00   \n",
       "mean                nan        nan                        nan            0.00   \n",
       "std                 nan        nan                        nan            0.00   \n",
       "min                 nan        nan                        nan            0.00   \n",
       "25%                 nan        nan                        nan            0.00   \n",
       "50%                 nan        nan                        nan            0.00   \n",
       "75%                 nan        nan                        nan            0.00   \n",
       "max                 nan        nan                        nan            0.00   \n",
       "\n",
       "       tot_coll_amt  tot_cur_bal  open_acc_6m  open_il_6m  open_il_12m  \\\n",
       "count          0.00         0.00         0.00        0.00         0.00   \n",
       "mean            nan          nan          nan         nan          nan   \n",
       "std             nan          nan          nan         nan          nan   \n",
       "min             nan          nan          nan         nan          nan   \n",
       "25%             nan          nan          nan         nan          nan   \n",
       "50%             nan          nan          nan         nan          nan   \n",
       "75%             nan          nan          nan         nan          nan   \n",
       "max             nan          nan          nan         nan          nan   \n",
       "\n",
       "       open_il_24m  mths_since_rcnt_il  total_bal_il  il_util  open_rv_12m  \\\n",
       "count         0.00                0.00          0.00     0.00         0.00   \n",
       "mean           nan                 nan           nan      nan          nan   \n",
       "std            nan                 nan           nan      nan          nan   \n",
       "min            nan                 nan           nan      nan          nan   \n",
       "25%            nan                 nan           nan      nan          nan   \n",
       "50%            nan                 nan           nan      nan          nan   \n",
       "75%            nan                 nan           nan      nan          nan   \n",
       "max            nan                 nan           nan      nan          nan   \n",
       "\n",
       "       open_rv_24m  max_bal_bc  all_util  total_rev_hi_lim  inq_fi  \\\n",
       "count         0.00        0.00      0.00              0.00    0.00   \n",
       "mean           nan         nan       nan               nan     nan   \n",
       "std            nan         nan       nan               nan     nan   \n",
       "min            nan         nan       nan               nan     nan   \n",
       "25%            nan         nan       nan               nan     nan   \n",
       "50%            nan         nan       nan               nan     nan   \n",
       "75%            nan         nan       nan               nan     nan   \n",
       "max            nan         nan       nan               nan     nan   \n",
       "\n",
       "       total_cu_tl  inq_last_12m  acc_open_past_24mths  avg_cur_bal  \\\n",
       "count         0.00          0.00                  0.00         0.00   \n",
       "mean           nan           nan                   nan          nan   \n",
       "std            nan           nan                   nan          nan   \n",
       "min            nan           nan                   nan          nan   \n",
       "25%            nan           nan                   nan          nan   \n",
       "50%            nan           nan                   nan          nan   \n",
       "75%            nan           nan                   nan          nan   \n",
       "max            nan           nan                   nan          nan   \n",
       "\n",
       "       bc_open_to_buy  bc_util  chargeoff_within_12_mths  delinq_amnt  \\\n",
       "count            0.00     0.00                 39,661.00    39,717.00   \n",
       "mean              nan      nan                      0.00         0.00   \n",
       "std               nan      nan                      0.00         0.00   \n",
       "min               nan      nan                      0.00         0.00   \n",
       "25%               nan      nan                      0.00         0.00   \n",
       "50%               nan      nan                      0.00         0.00   \n",
       "75%               nan      nan                      0.00         0.00   \n",
       "max               nan      nan                      0.00         0.00   \n",
       "\n",
       "       mo_sin_old_il_acct  mo_sin_old_rev_tl_op  mo_sin_rcnt_rev_tl_op  \\\n",
       "count                0.00                  0.00                   0.00   \n",
       "mean                  nan                   nan                    nan   \n",
       "std                   nan                   nan                    nan   \n",
       "min                   nan                   nan                    nan   \n",
       "25%                   nan                   nan                    nan   \n",
       "50%                   nan                   nan                    nan   \n",
       "75%                   nan                   nan                    nan   \n",
       "max                   nan                   nan                    nan   \n",
       "\n",
       "       mo_sin_rcnt_tl  mort_acc  mths_since_recent_bc  \\\n",
       "count            0.00      0.00                  0.00   \n",
       "mean              nan       nan                   nan   \n",
       "std               nan       nan                   nan   \n",
       "min               nan       nan                   nan   \n",
       "25%               nan       nan                   nan   \n",
       "50%               nan       nan                   nan   \n",
       "75%               nan       nan                   nan   \n",
       "max               nan       nan                   nan   \n",
       "\n",
       "       mths_since_recent_bc_dlq  mths_since_recent_inq  \\\n",
       "count                      0.00                   0.00   \n",
       "mean                        nan                    nan   \n",
       "std                         nan                    nan   \n",
       "min                         nan                    nan   \n",
       "25%                         nan                    nan   \n",
       "50%                         nan                    nan   \n",
       "75%                         nan                    nan   \n",
       "max                         nan                    nan   \n",
       "\n",
       "       mths_since_recent_revol_delinq  num_accts_ever_120_pd  num_actv_bc_tl  \\\n",
       "count                            0.00                   0.00            0.00   \n",
       "mean                              nan                    nan             nan   \n",
       "std                               nan                    nan             nan   \n",
       "min                               nan                    nan             nan   \n",
       "25%                               nan                    nan             nan   \n",
       "50%                               nan                    nan             nan   \n",
       "75%                               nan                    nan             nan   \n",
       "max                               nan                    nan             nan   \n",
       "\n",
       "       num_actv_rev_tl  num_bc_sats  num_bc_tl  num_il_tl  num_op_rev_tl  \\\n",
       "count             0.00         0.00       0.00       0.00           0.00   \n",
       "mean               nan          nan        nan        nan            nan   \n",
       "std                nan          nan        nan        nan            nan   \n",
       "min                nan          nan        nan        nan            nan   \n",
       "25%                nan          nan        nan        nan            nan   \n",
       "50%                nan          nan        nan        nan            nan   \n",
       "75%                nan          nan        nan        nan            nan   \n",
       "max                nan          nan        nan        nan            nan   \n",
       "\n",
       "       num_rev_accts  num_rev_tl_bal_gt_0  num_sats  num_tl_120dpd_2m  \\\n",
       "count           0.00                 0.00      0.00              0.00   \n",
       "mean             nan                  nan       nan               nan   \n",
       "std              nan                  nan       nan               nan   \n",
       "min              nan                  nan       nan               nan   \n",
       "25%              nan                  nan       nan               nan   \n",
       "50%              nan                  nan       nan               nan   \n",
       "75%              nan                  nan       nan               nan   \n",
       "max              nan                  nan       nan               nan   \n",
       "\n",
       "       num_tl_30dpd  num_tl_90g_dpd_24m  num_tl_op_past_12m  pct_tl_nvr_dlq  \\\n",
       "count          0.00                0.00                0.00            0.00   \n",
       "mean            nan                 nan                 nan             nan   \n",
       "std             nan                 nan                 nan             nan   \n",
       "min             nan                 nan                 nan             nan   \n",
       "25%             nan                 nan                 nan             nan   \n",
       "50%             nan                 nan                 nan             nan   \n",
       "75%             nan                 nan                 nan             nan   \n",
       "max             nan                 nan                 nan             nan   \n",
       "\n",
       "       percent_bc_gt_75  pub_rec_bankruptcies  tax_liens  tot_hi_cred_lim  \\\n",
       "count              0.00             39,020.00  39,678.00             0.00   \n",
       "mean                nan                  0.04       0.00              nan   \n",
       "std                 nan                  0.20       0.00              nan   \n",
       "min                 nan                  0.00       0.00              nan   \n",
       "25%                 nan                  0.00       0.00              nan   \n",
       "50%                 nan                  0.00       0.00              nan   \n",
       "75%                 nan                  0.00       0.00              nan   \n",
       "max                 nan                  2.00       0.00              nan   \n",
       "\n",
       "       total_bal_ex_mort  total_bc_limit  total_il_high_credit_limit  \n",
       "count               0.00            0.00                        0.00  \n",
       "mean                 nan             nan                         nan  \n",
       "std                  nan             nan                         nan  \n",
       "min                  nan             nan                         nan  \n",
       "25%                  nan             nan                         nan  \n",
       "50%                  nan             nan                         nan  \n",
       "75%                  nan             nan                         nan  \n",
       "max                  nan             nan                         nan  "
      ]
     },
     "execution_count": 6,
     "metadata": {},
     "output_type": "execute_result"
    }
   ],
   "source": [
    "#Metrics of the dataframe\n",
    "loan_df.describe()"
   ]
  },
  {
   "cell_type": "markdown",
   "metadata": {},
   "source": [
    "##### Seems there are many columns having missing data (count is zero from the metrics above ) , Let's begin with cleaning data \n",
    "- Remove columns with all missing values\n",
    "- Remove columns not needed for analysis as per business understanding\n",
    "- Rename column names if needed.\n",
    "- Checking and removing duplicate rows(Deduplicate data).\n",
    "- Remove outliers if present and impacting the metrics.\n",
    "- Standardise text(Standardise case,removing extra charaters,standardise format),if required. \n",
    "- Correction of data type of certain columns for computation ,if needed.\n",
    "- identify target columns"
   ]
  },
  {
   "cell_type": "markdown",
   "metadata": {},
   "source": [
    "### Data cleaning "
   ]
  },
  {
   "cell_type": "code",
   "execution_count": 7,
   "metadata": {},
   "outputs": [
    {
     "data": {
      "text/plain": [
       "id                                 0.00\n",
       "member_id                          0.00\n",
       "loan_amnt                          0.00\n",
       "funded_amnt                        0.00\n",
       "funded_amnt_inv                    0.00\n",
       "term                               0.00\n",
       "int_rate                           0.00\n",
       "installment                        0.00\n",
       "grade                              0.00\n",
       "sub_grade                          0.00\n",
       "emp_title                          6.00\n",
       "emp_length                         3.00\n",
       "home_ownership                     0.00\n",
       "annual_inc                         0.00\n",
       "verification_status                0.00\n",
       "issue_d                            0.00\n",
       "loan_status                        0.00\n",
       "pymnt_plan                         0.00\n",
       "url                                0.00\n",
       "desc                              33.00\n",
       "purpose                            0.00\n",
       "title                              0.00\n",
       "zip_code                           0.00\n",
       "addr_state                         0.00\n",
       "dti                                0.00\n",
       "delinq_2yrs                        0.00\n",
       "earliest_cr_line                   0.00\n",
       "inq_last_6mths                     0.00\n",
       "mths_since_last_delinq            65.00\n",
       "mths_since_last_record            93.00\n",
       "                                  ...  \n",
       "mo_sin_old_rev_tl_op             100.00\n",
       "mo_sin_rcnt_rev_tl_op            100.00\n",
       "mo_sin_rcnt_tl                   100.00\n",
       "mort_acc                         100.00\n",
       "mths_since_recent_bc             100.00\n",
       "mths_since_recent_bc_dlq         100.00\n",
       "mths_since_recent_inq            100.00\n",
       "mths_since_recent_revol_delinq   100.00\n",
       "num_accts_ever_120_pd            100.00\n",
       "num_actv_bc_tl                   100.00\n",
       "num_actv_rev_tl                  100.00\n",
       "num_bc_sats                      100.00\n",
       "num_bc_tl                        100.00\n",
       "num_il_tl                        100.00\n",
       "num_op_rev_tl                    100.00\n",
       "num_rev_accts                    100.00\n",
       "num_rev_tl_bal_gt_0              100.00\n",
       "num_sats                         100.00\n",
       "num_tl_120dpd_2m                 100.00\n",
       "num_tl_30dpd                     100.00\n",
       "num_tl_90g_dpd_24m               100.00\n",
       "num_tl_op_past_12m               100.00\n",
       "pct_tl_nvr_dlq                   100.00\n",
       "percent_bc_gt_75                 100.00\n",
       "pub_rec_bankruptcies               2.00\n",
       "tax_liens                          0.00\n",
       "tot_hi_cred_lim                  100.00\n",
       "total_bal_ex_mort                100.00\n",
       "total_bc_limit                   100.00\n",
       "total_il_high_credit_limit       100.00\n",
       "Length: 111, dtype: float64"
      ]
     },
     "execution_count": 7,
     "metadata": {},
     "output_type": "execute_result"
    }
   ],
   "source": [
    "#Check percentage of missing values in each column \n",
    "\n",
    "na_c = round(loan_df.isnull().sum()/len(loan_df.index),2)*100\n",
    "\n",
    "na_c"
   ]
  },
  {
   "cell_type": "markdown",
   "metadata": {},
   "source": [
    "*Seems many columns having 100% missing values and some columns having missing values percentage such as 33%,65% etc."
   ]
  },
  {
   "cell_type": "code",
   "execution_count": 8,
   "metadata": {},
   "outputs": [
    {
     "data": {
      "text/plain": [
       "mths_since_last_delinq            65.00\n",
       "mths_since_last_record            93.00\n",
       "next_pymnt_d                      97.00\n",
       "mths_since_last_major_derog      100.00\n",
       "annual_inc_joint                 100.00\n",
       "dti_joint                        100.00\n",
       "verification_status_joint        100.00\n",
       "tot_coll_amt                     100.00\n",
       "tot_cur_bal                      100.00\n",
       "open_acc_6m                      100.00\n",
       "open_il_6m                       100.00\n",
       "open_il_12m                      100.00\n",
       "open_il_24m                      100.00\n",
       "mths_since_rcnt_il               100.00\n",
       "total_bal_il                     100.00\n",
       "il_util                          100.00\n",
       "open_rv_12m                      100.00\n",
       "open_rv_24m                      100.00\n",
       "max_bal_bc                       100.00\n",
       "all_util                         100.00\n",
       "total_rev_hi_lim                 100.00\n",
       "inq_fi                           100.00\n",
       "total_cu_tl                      100.00\n",
       "inq_last_12m                     100.00\n",
       "acc_open_past_24mths             100.00\n",
       "avg_cur_bal                      100.00\n",
       "bc_open_to_buy                   100.00\n",
       "bc_util                          100.00\n",
       "mo_sin_old_il_acct               100.00\n",
       "mo_sin_old_rev_tl_op             100.00\n",
       "mo_sin_rcnt_rev_tl_op            100.00\n",
       "mo_sin_rcnt_tl                   100.00\n",
       "mort_acc                         100.00\n",
       "mths_since_recent_bc             100.00\n",
       "mths_since_recent_bc_dlq         100.00\n",
       "mths_since_recent_inq            100.00\n",
       "mths_since_recent_revol_delinq   100.00\n",
       "num_accts_ever_120_pd            100.00\n",
       "num_actv_bc_tl                   100.00\n",
       "num_actv_rev_tl                  100.00\n",
       "num_bc_sats                      100.00\n",
       "num_bc_tl                        100.00\n",
       "num_il_tl                        100.00\n",
       "num_op_rev_tl                    100.00\n",
       "num_rev_accts                    100.00\n",
       "num_rev_tl_bal_gt_0              100.00\n",
       "num_sats                         100.00\n",
       "num_tl_120dpd_2m                 100.00\n",
       "num_tl_30dpd                     100.00\n",
       "num_tl_90g_dpd_24m               100.00\n",
       "num_tl_op_past_12m               100.00\n",
       "pct_tl_nvr_dlq                   100.00\n",
       "percent_bc_gt_75                 100.00\n",
       "tot_hi_cred_lim                  100.00\n",
       "total_bal_ex_mort                100.00\n",
       "total_bc_limit                   100.00\n",
       "total_il_high_credit_limit       100.00\n",
       "dtype: float64"
      ]
     },
     "execution_count": 8,
     "metadata": {},
     "output_type": "execute_result"
    }
   ],
   "source": [
    "#Identify columns having more than 50% missing values\n",
    "na_c = na_c[na_c.values > 50]\n",
    "na_c"
   ]
  },
  {
   "cell_type": "code",
   "execution_count": 9,
   "metadata": {
    "scrolled": true
   },
   "outputs": [
    {
     "data": {
      "text/plain": [
       "(39717, 57)"
      ]
     },
     "execution_count": 9,
     "metadata": {},
     "output_type": "execute_result"
    }
   ],
   "source": [
    "#Dropping columns with all missing values(100%)\n",
    "loan_df.dropna(axis = 1,how = 'all',inplace = True)\n",
    "loan_df.shape"
   ]
  },
  {
   "cell_type": "code",
   "execution_count": 10,
   "metadata": {
    "scrolled": true
   },
   "outputs": [
    {
     "data": {
      "text/plain": [
       "['mths_since_last_delinq', 'mths_since_last_record', 'next_pymnt_d']"
      ]
     },
     "execution_count": 10,
     "metadata": {},
     "output_type": "execute_result"
    }
   ],
   "source": [
    "#Dropping columns having null percentage other than 100 , \n",
    "na_c = na_c[na_c.values != 100]\n",
    "\n",
    "na_c = list(na_c[na_c.values != 100].index)\n",
    "na_c"
   ]
  },
  {
   "cell_type": "code",
   "execution_count": 11,
   "metadata": {},
   "outputs": [],
   "source": [
    "#Columns mths_since_last_record,mths_since_last_delinq,next_pymnt_d  have huge missing values and also doesnt seems to add value in analysis,\n",
    "\n",
    "#Dropping mths_since_last_record,mths_since_last_delinq,next_pymnt_d\n",
    "\n",
    "loan_df.drop(labels = na_c,axis = 1,inplace=True)"
   ]
  },
  {
   "cell_type": "code",
   "execution_count": 12,
   "metadata": {
    "scrolled": true
   },
   "outputs": [
    {
     "data": {
      "text/plain": [
       "(39717, 54)"
      ]
     },
     "execution_count": 12,
     "metadata": {},
     "output_type": "execute_result"
    }
   ],
   "source": [
    "#Checking shape again\n",
    "loan_df.shape"
   ]
  },
  {
   "cell_type": "code",
   "execution_count": 13,
   "metadata": {
    "scrolled": true
   },
   "outputs": [
    {
     "data": {
      "text/plain": [
       "Series([], dtype: float64)"
      ]
     },
     "execution_count": 13,
     "metadata": {},
     "output_type": "execute_result"
    }
   ],
   "source": [
    "#Percentage of missing values in each row ,we can remove rows where percentage of missing values is greater than 40%.\n",
    "na_rows = round(loan_df.transpose().isnull().sum()/len(loan_df.index),2)*100\n",
    "na_rows = na_rows[na_rows.values > 40]\n",
    "\n",
    "na_rows"
   ]
  },
  {
   "cell_type": "markdown",
   "metadata": {},
   "source": [
    "*There are no rows having missing values greater than 40%*"
   ]
  },
  {
   "cell_type": "markdown",
   "metadata": {},
   "source": [
    "##### Now, we are left with 54 columns for further analysis , let's check number of duplicate rows. If any ,we will remove them keeping only the first occurance."
   ]
  },
  {
   "cell_type": "code",
   "execution_count": 14,
   "metadata": {
    "scrolled": false
   },
   "outputs": [
    {
     "data": {
      "text/plain": [
       "0"
      ]
     },
     "execution_count": 14,
     "metadata": {},
     "output_type": "execute_result"
    }
   ],
   "source": [
    "#Check and remove duplicates\n",
    "\n",
    "loan_df.duplicated(keep='first').sum()\n"
   ]
  },
  {
   "cell_type": "markdown",
   "metadata": {},
   "source": [
    "*#Seems we have no duplicate rows in loan dataframe*"
   ]
  },
  {
   "cell_type": "markdown",
   "metadata": {},
   "source": [
    "#### Filter variables based on business undrstanding."
   ]
  },
  {
   "cell_type": "code",
   "execution_count": 15,
   "metadata": {
    "scrolled": true
   },
   "outputs": [
    {
     "data": {
      "text/plain": [
       "Index(['id', 'member_id', 'loan_amnt', 'funded_amnt', 'funded_amnt_inv',\n",
       "       'term', 'int_rate', 'installment', 'grade', 'sub_grade', 'emp_title',\n",
       "       'emp_length', 'home_ownership', 'annual_inc', 'verification_status',\n",
       "       'issue_d', 'loan_status', 'pymnt_plan', 'url', 'desc', 'purpose',\n",
       "       'title', 'zip_code', 'addr_state', 'dti', 'delinq_2yrs',\n",
       "       'earliest_cr_line', 'inq_last_6mths', 'open_acc', 'pub_rec',\n",
       "       'revol_bal', 'revol_util', 'total_acc', 'initial_list_status',\n",
       "       'out_prncp', 'out_prncp_inv', 'total_pymnt', 'total_pymnt_inv',\n",
       "       'total_rec_prncp', 'total_rec_int', 'total_rec_late_fee', 'recoveries',\n",
       "       'collection_recovery_fee', 'last_pymnt_d', 'last_pymnt_amnt',\n",
       "       'last_credit_pull_d', 'collections_12_mths_ex_med', 'policy_code',\n",
       "       'application_type', 'acc_now_delinq', 'chargeoff_within_12_mths',\n",
       "       'delinq_amnt', 'pub_rec_bankruptcies', 'tax_liens'],\n",
       "      dtype='object')"
      ]
     },
     "execution_count": 15,
     "metadata": {},
     "output_type": "execute_result"
    }
   ],
   "source": [
    "#list of columns\n",
    "loan_df.columns"
   ]
  },
  {
   "cell_type": "markdown",
   "metadata": {},
   "source": [
    "##### *Removing variables based on business understanding, there are broadly three types of variables -:\n",
    "1. Those which are related to the applicant(demographic variables such as occupation,employment details etc.)\n",
    "2. Loan characteristics(amount, interest rate,purpose of loan etc.)\n",
    "3. Customer behaviour variables(these variables are generated after loan is approved such as next payment date,revolving balance etc.)\n",
    "\n",
    "-For our analysis we don't need Customer behaviour variables as these variables are not available at the time of loan application and thus cannot be used as predictors for credit approval."
   ]
  },
  {
   "cell_type": "code",
   "execution_count": 16,
   "metadata": {},
   "outputs": [],
   "source": [
    "#Remove variables representing customer behaviour + other variables if required \n",
    "\n",
    "# 1. Take backup of the dataframe\n",
    "loan_df2 = loan_df.copy()"
   ]
  },
  {
   "cell_type": "code",
   "execution_count": 17,
   "metadata": {},
   "outputs": [],
   "source": [
    "# 2. Removing 'id','member_id','url','zip_code','desc','title' along with customer behaviour variables .\n",
    "col_to_remove = ['id','member_id','url','zip_code','delinq_2yrs',\n",
    "       'earliest_cr_line', 'inq_last_6mths', 'open_acc', 'pub_rec',\n",
    "       'revol_bal', 'revol_util', 'total_acc', 'initial_list_status',\n",
    "       'out_prncp', 'out_prncp_inv', 'total_pymnt', 'total_pymnt_inv',\n",
    "       'total_rec_prncp', 'total_rec_int', 'total_rec_late_fee', 'recoveries',\n",
    "       'collection_recovery_fee', 'last_pymnt_d', 'last_pymnt_amnt',\n",
    "       'last_credit_pull_d', 'collections_12_mths_ex_med', 'policy_code',\n",
    "        'acc_now_delinq', 'chargeoff_within_12_mths',\n",
    "       'delinq_amnt', 'pub_rec_bankruptcies', 'tax_liens','desc','title']\n",
    "loan_df2.drop(labels = col_to_remove,axis = 1,inplace=True)"
   ]
  },
  {
   "cell_type": "code",
   "execution_count": 18,
   "metadata": {
    "scrolled": false
   },
   "outputs": [
    {
     "data": {
      "text/html": [
       "<div>\n",
       "<style scoped>\n",
       "    .dataframe tbody tr th:only-of-type {\n",
       "        vertical-align: middle;\n",
       "    }\n",
       "\n",
       "    .dataframe tbody tr th {\n",
       "        vertical-align: top;\n",
       "    }\n",
       "\n",
       "    .dataframe thead th {\n",
       "        text-align: right;\n",
       "    }\n",
       "</style>\n",
       "<table border=\"1\" class=\"dataframe\">\n",
       "  <thead>\n",
       "    <tr style=\"text-align: right;\">\n",
       "      <th></th>\n",
       "      <th>loan_amnt</th>\n",
       "      <th>funded_amnt</th>\n",
       "      <th>funded_amnt_inv</th>\n",
       "      <th>term</th>\n",
       "      <th>int_rate</th>\n",
       "      <th>installment</th>\n",
       "      <th>grade</th>\n",
       "      <th>sub_grade</th>\n",
       "      <th>emp_title</th>\n",
       "      <th>emp_length</th>\n",
       "      <th>home_ownership</th>\n",
       "      <th>annual_inc</th>\n",
       "      <th>verification_status</th>\n",
       "      <th>issue_d</th>\n",
       "      <th>loan_status</th>\n",
       "      <th>pymnt_plan</th>\n",
       "      <th>purpose</th>\n",
       "      <th>addr_state</th>\n",
       "      <th>dti</th>\n",
       "      <th>application_type</th>\n",
       "    </tr>\n",
       "  </thead>\n",
       "  <tbody>\n",
       "    <tr>\n",
       "      <th>0</th>\n",
       "      <td>5000</td>\n",
       "      <td>5000</td>\n",
       "      <td>4,975.00</td>\n",
       "      <td>36 months</td>\n",
       "      <td>10.65%</td>\n",
       "      <td>162.87</td>\n",
       "      <td>B</td>\n",
       "      <td>B2</td>\n",
       "      <td>NaN</td>\n",
       "      <td>10+ years</td>\n",
       "      <td>RENT</td>\n",
       "      <td>24,000.00</td>\n",
       "      <td>Verified</td>\n",
       "      <td>Dec-11</td>\n",
       "      <td>Fully Paid</td>\n",
       "      <td>n</td>\n",
       "      <td>credit_card</td>\n",
       "      <td>AZ</td>\n",
       "      <td>27.65</td>\n",
       "      <td>INDIVIDUAL</td>\n",
       "    </tr>\n",
       "    <tr>\n",
       "      <th>1</th>\n",
       "      <td>2500</td>\n",
       "      <td>2500</td>\n",
       "      <td>2,500.00</td>\n",
       "      <td>60 months</td>\n",
       "      <td>15.27%</td>\n",
       "      <td>59.83</td>\n",
       "      <td>C</td>\n",
       "      <td>C4</td>\n",
       "      <td>Ryder</td>\n",
       "      <td>&lt; 1 year</td>\n",
       "      <td>RENT</td>\n",
       "      <td>30,000.00</td>\n",
       "      <td>Source Verified</td>\n",
       "      <td>Dec-11</td>\n",
       "      <td>Charged Off</td>\n",
       "      <td>n</td>\n",
       "      <td>car</td>\n",
       "      <td>GA</td>\n",
       "      <td>1.00</td>\n",
       "      <td>INDIVIDUAL</td>\n",
       "    </tr>\n",
       "    <tr>\n",
       "      <th>2</th>\n",
       "      <td>2400</td>\n",
       "      <td>2400</td>\n",
       "      <td>2,400.00</td>\n",
       "      <td>36 months</td>\n",
       "      <td>15.96%</td>\n",
       "      <td>84.33</td>\n",
       "      <td>C</td>\n",
       "      <td>C5</td>\n",
       "      <td>NaN</td>\n",
       "      <td>10+ years</td>\n",
       "      <td>RENT</td>\n",
       "      <td>12,252.00</td>\n",
       "      <td>Not Verified</td>\n",
       "      <td>Dec-11</td>\n",
       "      <td>Fully Paid</td>\n",
       "      <td>n</td>\n",
       "      <td>small_business</td>\n",
       "      <td>IL</td>\n",
       "      <td>8.72</td>\n",
       "      <td>INDIVIDUAL</td>\n",
       "    </tr>\n",
       "    <tr>\n",
       "      <th>3</th>\n",
       "      <td>10000</td>\n",
       "      <td>10000</td>\n",
       "      <td>10,000.00</td>\n",
       "      <td>36 months</td>\n",
       "      <td>13.49%</td>\n",
       "      <td>339.31</td>\n",
       "      <td>C</td>\n",
       "      <td>C1</td>\n",
       "      <td>AIR RESOURCES BOARD</td>\n",
       "      <td>10+ years</td>\n",
       "      <td>RENT</td>\n",
       "      <td>49,200.00</td>\n",
       "      <td>Source Verified</td>\n",
       "      <td>Dec-11</td>\n",
       "      <td>Fully Paid</td>\n",
       "      <td>n</td>\n",
       "      <td>other</td>\n",
       "      <td>CA</td>\n",
       "      <td>20.00</td>\n",
       "      <td>INDIVIDUAL</td>\n",
       "    </tr>\n",
       "    <tr>\n",
       "      <th>4</th>\n",
       "      <td>3000</td>\n",
       "      <td>3000</td>\n",
       "      <td>3,000.00</td>\n",
       "      <td>60 months</td>\n",
       "      <td>12.69%</td>\n",
       "      <td>67.79</td>\n",
       "      <td>B</td>\n",
       "      <td>B5</td>\n",
       "      <td>University Medical Group</td>\n",
       "      <td>1 year</td>\n",
       "      <td>RENT</td>\n",
       "      <td>80,000.00</td>\n",
       "      <td>Source Verified</td>\n",
       "      <td>Dec-11</td>\n",
       "      <td>Current</td>\n",
       "      <td>n</td>\n",
       "      <td>other</td>\n",
       "      <td>OR</td>\n",
       "      <td>17.94</td>\n",
       "      <td>INDIVIDUAL</td>\n",
       "    </tr>\n",
       "  </tbody>\n",
       "</table>\n",
       "</div>"
      ],
      "text/plain": [
       "   loan_amnt  funded_amnt  funded_amnt_inv        term int_rate  installment  \\\n",
       "0       5000         5000         4,975.00   36 months   10.65%       162.87   \n",
       "1       2500         2500         2,500.00   60 months   15.27%        59.83   \n",
       "2       2400         2400         2,400.00   36 months   15.96%        84.33   \n",
       "3      10000        10000        10,000.00   36 months   13.49%       339.31   \n",
       "4       3000         3000         3,000.00   60 months   12.69%        67.79   \n",
       "\n",
       "  grade sub_grade                 emp_title emp_length home_ownership  \\\n",
       "0     B        B2                       NaN  10+ years           RENT   \n",
       "1     C        C4                     Ryder   < 1 year           RENT   \n",
       "2     C        C5                       NaN  10+ years           RENT   \n",
       "3     C        C1       AIR RESOURCES BOARD  10+ years           RENT   \n",
       "4     B        B5  University Medical Group     1 year           RENT   \n",
       "\n",
       "   annual_inc verification_status issue_d  loan_status pymnt_plan  \\\n",
       "0   24,000.00            Verified  Dec-11   Fully Paid          n   \n",
       "1   30,000.00     Source Verified  Dec-11  Charged Off          n   \n",
       "2   12,252.00        Not Verified  Dec-11   Fully Paid          n   \n",
       "3   49,200.00     Source Verified  Dec-11   Fully Paid          n   \n",
       "4   80,000.00     Source Verified  Dec-11      Current          n   \n",
       "\n",
       "          purpose addr_state   dti application_type  \n",
       "0     credit_card         AZ 27.65       INDIVIDUAL  \n",
       "1             car         GA  1.00       INDIVIDUAL  \n",
       "2  small_business         IL  8.72       INDIVIDUAL  \n",
       "3           other         CA 20.00       INDIVIDUAL  \n",
       "4           other         OR 17.94       INDIVIDUAL  "
      ]
     },
     "execution_count": 18,
     "metadata": {},
     "output_type": "execute_result"
    }
   ],
   "source": [
    "loan_df2.head()"
   ]
  },
  {
   "cell_type": "markdown",
   "metadata": {},
   "source": [
    "#### Columns are having datatype 'object' ,let's convert to numeric for computations "
   ]
  },
  {
   "cell_type": "code",
   "execution_count": 19,
   "metadata": {
    "scrolled": true
   },
   "outputs": [
    {
     "name": "stdout",
     "output_type": "stream",
     "text": [
      "<class 'pandas.core.frame.DataFrame'>\n",
      "RangeIndex: 39717 entries, 0 to 39716\n",
      "Data columns (total 20 columns):\n",
      "loan_amnt              39717 non-null int64\n",
      "funded_amnt            39717 non-null int64\n",
      "funded_amnt_inv        39717 non-null float64\n",
      "term                   39717 non-null object\n",
      "int_rate               39717 non-null object\n",
      "installment            39717 non-null float64\n",
      "grade                  39717 non-null object\n",
      "sub_grade              39717 non-null object\n",
      "emp_title              37258 non-null object\n",
      "emp_length             38642 non-null object\n",
      "home_ownership         39717 non-null object\n",
      "annual_inc             39717 non-null float64\n",
      "verification_status    39717 non-null object\n",
      "issue_d                39717 non-null object\n",
      "loan_status            39717 non-null object\n",
      "pymnt_plan             39717 non-null object\n",
      "purpose                39717 non-null object\n",
      "addr_state             39717 non-null object\n",
      "dti                    39717 non-null float64\n",
      "application_type       39717 non-null object\n",
      "dtypes: float64(4), int64(2), object(14)\n",
      "memory usage: 6.1+ MB\n"
     ]
    }
   ],
   "source": [
    "loan_df2.info()"
   ]
  },
  {
   "cell_type": "code",
   "execution_count": 20,
   "metadata": {},
   "outputs": [],
   "source": [
    "#Removing percentage sign from interest rate column i.e int_rate\n",
    "loan_df2['int_rate'] = loan_df2['int_rate'].apply(lambda x : x.rstrip('%'))"
   ]
  },
  {
   "cell_type": "code",
   "execution_count": 21,
   "metadata": {
    "scrolled": true
   },
   "outputs": [
    {
     "data": {
      "text/plain": [
       "dtype('float64')"
      ]
     },
     "execution_count": 21,
     "metadata": {},
     "output_type": "execute_result"
    }
   ],
   "source": [
    "#conveting interest rate column to numeric\n",
    "loan_df2['int_rate'] = loan_df2['int_rate'].apply(pd.to_numeric)\n",
    "loan_df2['int_rate'].dtype"
   ]
  },
  {
   "cell_type": "markdown",
   "metadata": {},
   "source": [
    "### Derived Metrics - We will derive new columns from existing which will contribute in our analysis. "
   ]
  },
  {
   "cell_type": "code",
   "execution_count": 22,
   "metadata": {},
   "outputs": [],
   "source": [
    "#Monthly income of the borrower \n",
    "loan_df2['monthly_inc'] = loan_df2['annual_inc'] / 12"
   ]
  },
  {
   "cell_type": "code",
   "execution_count": 23,
   "metadata": {},
   "outputs": [],
   "source": [
    "#Loan amount to Annual income ratio\n",
    "loan_df2['loan_ann'] = round(loan_df2['loan_amnt']/loan_df2['annual_inc'],2)"
   ]
  },
  {
   "cell_type": "code",
   "execution_count": 24,
   "metadata": {
    "scrolled": true
   },
   "outputs": [
    {
     "data": {
      "text/html": [
       "<div>\n",
       "<style scoped>\n",
       "    .dataframe tbody tr th:only-of-type {\n",
       "        vertical-align: middle;\n",
       "    }\n",
       "\n",
       "    .dataframe tbody tr th {\n",
       "        vertical-align: top;\n",
       "    }\n",
       "\n",
       "    .dataframe thead th {\n",
       "        text-align: right;\n",
       "    }\n",
       "</style>\n",
       "<table border=\"1\" class=\"dataframe\">\n",
       "  <thead>\n",
       "    <tr style=\"text-align: right;\">\n",
       "      <th></th>\n",
       "      <th>issue_year</th>\n",
       "      <th>issue_month</th>\n",
       "      <th>monthly_inc</th>\n",
       "    </tr>\n",
       "  </thead>\n",
       "  <tbody>\n",
       "    <tr>\n",
       "      <th>0</th>\n",
       "      <td>11</td>\n",
       "      <td>Dec</td>\n",
       "      <td>2,000.00</td>\n",
       "    </tr>\n",
       "    <tr>\n",
       "      <th>1</th>\n",
       "      <td>11</td>\n",
       "      <td>Dec</td>\n",
       "      <td>2,500.00</td>\n",
       "    </tr>\n",
       "    <tr>\n",
       "      <th>2</th>\n",
       "      <td>11</td>\n",
       "      <td>Dec</td>\n",
       "      <td>1,021.00</td>\n",
       "    </tr>\n",
       "    <tr>\n",
       "      <th>3</th>\n",
       "      <td>11</td>\n",
       "      <td>Dec</td>\n",
       "      <td>4,100.00</td>\n",
       "    </tr>\n",
       "    <tr>\n",
       "      <th>4</th>\n",
       "      <td>11</td>\n",
       "      <td>Dec</td>\n",
       "      <td>6,666.67</td>\n",
       "    </tr>\n",
       "  </tbody>\n",
       "</table>\n",
       "</div>"
      ],
      "text/plain": [
       "  issue_year issue_month  monthly_inc\n",
       "0         11         Dec     2,000.00\n",
       "1         11         Dec     2,500.00\n",
       "2         11         Dec     1,021.00\n",
       "3         11         Dec     4,100.00\n",
       "4         11         Dec     6,666.67"
      ]
     },
     "execution_count": 24,
     "metadata": {},
     "output_type": "execute_result"
    }
   ],
   "source": [
    "#Issue date\n",
    "loan_df2['issue_month'],loan_df2['issue_year'] = loan_df2['issue_d'].str.split('-',1).str\n",
    "\n",
    "#Checking issue_year \n",
    "loan_df2[['issue_year','issue_month','monthly_inc']].head()"
   ]
  },
  {
   "cell_type": "code",
   "execution_count": 25,
   "metadata": {
    "scrolled": false
   },
   "outputs": [
    {
     "data": {
      "text/plain": [
       "0    2011\n",
       "1    2011\n",
       "2    2011\n",
       "3    2011\n",
       "4    2011\n",
       "Name: issue_year, dtype: object"
      ]
     },
     "execution_count": 25,
     "metadata": {},
     "output_type": "execute_result"
    }
   ],
   "source": [
    "#Issue year is not giving the correct representation ,as data is from year 2007 to 2011 ,we can append '20' in the begining of each column value .\n",
    "loan_df2['issue_year']= '20' + loan_df2['issue_year'].astype(str)\n",
    "\n",
    "loan_df2['issue_year'].head()"
   ]
  },
  {
   "cell_type": "code",
   "execution_count": 26,
   "metadata": {},
   "outputs": [],
   "source": [
    "#Create bins for Annual income\n",
    "bins = [0, 20000, 40000, 60000, 80000,100000]\n",
    "slot = ['0-20000', '20000-40000', '40000-60000', '60000-80000', '80000 and above']\n",
    "loan_df2['annual_inc_rnge'] = pd.cut(loan_df2['annual_inc'], bins, labels=slot)\n"
   ]
  },
  {
   "cell_type": "code",
   "execution_count": 27,
   "metadata": {},
   "outputs": [],
   "source": [
    "#Create bins for loan amount\n",
    "bins = [0, 5000, 10000, 15000, 20000, 25000,40000]\n",
    "slot = ['0-5000', '5000-10000', '10000-15000', '15000-20000', '20000-25000','25000 and above']\n",
    "loan_df2['loan_amnt_range'] = pd.cut(loan_df2['loan_amnt'], bins, labels=slot)"
   ]
  },
  {
   "cell_type": "code",
   "execution_count": 28,
   "metadata": {},
   "outputs": [],
   "source": [
    "#Create bins for interest rate\n",
    "bins = [0, 7.5, 10, 12.5, 15,20]\n",
    "slot = ['0-7.5', '7.5-10', '10-12.5', '12.5-15', '15 and above']\n",
    "loan_df2['int_rate_range'] = pd.cut(loan_df2['int_rate'], bins, labels=slot)\n"
   ]
  },
  {
   "cell_type": "markdown",
   "metadata": {},
   "source": [
    "## Data Analysis \n",
    "\n",
    "#### There are two types of variables - Continous variables and categorical variables.  We will perform analysis on these variables to get the insights.\n",
    "\n",
    "Data Analysis - Univariate Analysis.\n",
    "Data Analysis - Bivariate Analysis"
   ]
  },
  {
   "cell_type": "markdown",
   "metadata": {},
   "source": [
    "*Target variable -- > loan_status*\n",
    "*There are three types of loan status 'Fully Paid', 'Charged Off', 'Current'.* \n",
    "*The ones marked as 'Current' are ongoing loans(neither paid nor defaulted). Hence,remove rows where Loan status is marked as current.*"
   ]
  },
  {
   "cell_type": "code",
   "execution_count": 29,
   "metadata": {
    "scrolled": true
   },
   "outputs": [
    {
     "data": {
      "text/html": [
       "<div>\n",
       "<style scoped>\n",
       "    .dataframe tbody tr th:only-of-type {\n",
       "        vertical-align: middle;\n",
       "    }\n",
       "\n",
       "    .dataframe tbody tr th {\n",
       "        vertical-align: top;\n",
       "    }\n",
       "\n",
       "    .dataframe thead th {\n",
       "        text-align: right;\n",
       "    }\n",
       "</style>\n",
       "<table border=\"1\" class=\"dataframe\">\n",
       "  <thead>\n",
       "    <tr style=\"text-align: right;\">\n",
       "      <th></th>\n",
       "      <th>loan_amnt</th>\n",
       "      <th>funded_amnt</th>\n",
       "      <th>funded_amnt_inv</th>\n",
       "      <th>term</th>\n",
       "      <th>int_rate</th>\n",
       "      <th>installment</th>\n",
       "      <th>grade</th>\n",
       "      <th>sub_grade</th>\n",
       "      <th>emp_title</th>\n",
       "      <th>emp_length</th>\n",
       "      <th>home_ownership</th>\n",
       "      <th>annual_inc</th>\n",
       "      <th>verification_status</th>\n",
       "      <th>issue_d</th>\n",
       "      <th>loan_status</th>\n",
       "      <th>pymnt_plan</th>\n",
       "      <th>purpose</th>\n",
       "      <th>addr_state</th>\n",
       "      <th>dti</th>\n",
       "      <th>application_type</th>\n",
       "      <th>monthly_inc</th>\n",
       "      <th>loan_ann</th>\n",
       "      <th>issue_month</th>\n",
       "      <th>issue_year</th>\n",
       "      <th>annual_inc_rnge</th>\n",
       "      <th>loan_amnt_range</th>\n",
       "      <th>int_rate_range</th>\n",
       "    </tr>\n",
       "  </thead>\n",
       "  <tbody>\n",
       "    <tr>\n",
       "      <th>0</th>\n",
       "      <td>5000</td>\n",
       "      <td>5000</td>\n",
       "      <td>4,975.00</td>\n",
       "      <td>36 months</td>\n",
       "      <td>10.65</td>\n",
       "      <td>162.87</td>\n",
       "      <td>B</td>\n",
       "      <td>B2</td>\n",
       "      <td>NaN</td>\n",
       "      <td>10+ years</td>\n",
       "      <td>RENT</td>\n",
       "      <td>24,000.00</td>\n",
       "      <td>Verified</td>\n",
       "      <td>Dec-11</td>\n",
       "      <td>Fully Paid</td>\n",
       "      <td>n</td>\n",
       "      <td>credit_card</td>\n",
       "      <td>AZ</td>\n",
       "      <td>27.65</td>\n",
       "      <td>INDIVIDUAL</td>\n",
       "      <td>2,000.00</td>\n",
       "      <td>0.21</td>\n",
       "      <td>Dec</td>\n",
       "      <td>2011</td>\n",
       "      <td>20000-40000</td>\n",
       "      <td>0-5000</td>\n",
       "      <td>10-12.5</td>\n",
       "    </tr>\n",
       "    <tr>\n",
       "      <th>1</th>\n",
       "      <td>2500</td>\n",
       "      <td>2500</td>\n",
       "      <td>2,500.00</td>\n",
       "      <td>60 months</td>\n",
       "      <td>15.27</td>\n",
       "      <td>59.83</td>\n",
       "      <td>C</td>\n",
       "      <td>C4</td>\n",
       "      <td>Ryder</td>\n",
       "      <td>&lt; 1 year</td>\n",
       "      <td>RENT</td>\n",
       "      <td>30,000.00</td>\n",
       "      <td>Source Verified</td>\n",
       "      <td>Dec-11</td>\n",
       "      <td>Charged Off</td>\n",
       "      <td>n</td>\n",
       "      <td>car</td>\n",
       "      <td>GA</td>\n",
       "      <td>1.00</td>\n",
       "      <td>INDIVIDUAL</td>\n",
       "      <td>2,500.00</td>\n",
       "      <td>0.08</td>\n",
       "      <td>Dec</td>\n",
       "      <td>2011</td>\n",
       "      <td>20000-40000</td>\n",
       "      <td>0-5000</td>\n",
       "      <td>15 and above</td>\n",
       "    </tr>\n",
       "    <tr>\n",
       "      <th>2</th>\n",
       "      <td>2400</td>\n",
       "      <td>2400</td>\n",
       "      <td>2,400.00</td>\n",
       "      <td>36 months</td>\n",
       "      <td>15.96</td>\n",
       "      <td>84.33</td>\n",
       "      <td>C</td>\n",
       "      <td>C5</td>\n",
       "      <td>NaN</td>\n",
       "      <td>10+ years</td>\n",
       "      <td>RENT</td>\n",
       "      <td>12,252.00</td>\n",
       "      <td>Not Verified</td>\n",
       "      <td>Dec-11</td>\n",
       "      <td>Fully Paid</td>\n",
       "      <td>n</td>\n",
       "      <td>small_business</td>\n",
       "      <td>IL</td>\n",
       "      <td>8.72</td>\n",
       "      <td>INDIVIDUAL</td>\n",
       "      <td>1,021.00</td>\n",
       "      <td>0.20</td>\n",
       "      <td>Dec</td>\n",
       "      <td>2011</td>\n",
       "      <td>0-20000</td>\n",
       "      <td>0-5000</td>\n",
       "      <td>15 and above</td>\n",
       "    </tr>\n",
       "    <tr>\n",
       "      <th>3</th>\n",
       "      <td>10000</td>\n",
       "      <td>10000</td>\n",
       "      <td>10,000.00</td>\n",
       "      <td>36 months</td>\n",
       "      <td>13.49</td>\n",
       "      <td>339.31</td>\n",
       "      <td>C</td>\n",
       "      <td>C1</td>\n",
       "      <td>AIR RESOURCES BOARD</td>\n",
       "      <td>10+ years</td>\n",
       "      <td>RENT</td>\n",
       "      <td>49,200.00</td>\n",
       "      <td>Source Verified</td>\n",
       "      <td>Dec-11</td>\n",
       "      <td>Fully Paid</td>\n",
       "      <td>n</td>\n",
       "      <td>other</td>\n",
       "      <td>CA</td>\n",
       "      <td>20.00</td>\n",
       "      <td>INDIVIDUAL</td>\n",
       "      <td>4,100.00</td>\n",
       "      <td>0.20</td>\n",
       "      <td>Dec</td>\n",
       "      <td>2011</td>\n",
       "      <td>40000-60000</td>\n",
       "      <td>5000-10000</td>\n",
       "      <td>12.5-15</td>\n",
       "    </tr>\n",
       "    <tr>\n",
       "      <th>5</th>\n",
       "      <td>5000</td>\n",
       "      <td>5000</td>\n",
       "      <td>5,000.00</td>\n",
       "      <td>36 months</td>\n",
       "      <td>7.90</td>\n",
       "      <td>156.46</td>\n",
       "      <td>A</td>\n",
       "      <td>A4</td>\n",
       "      <td>Veolia Transportaton</td>\n",
       "      <td>3 years</td>\n",
       "      <td>RENT</td>\n",
       "      <td>36,000.00</td>\n",
       "      <td>Source Verified</td>\n",
       "      <td>Dec-11</td>\n",
       "      <td>Fully Paid</td>\n",
       "      <td>n</td>\n",
       "      <td>wedding</td>\n",
       "      <td>AZ</td>\n",
       "      <td>11.20</td>\n",
       "      <td>INDIVIDUAL</td>\n",
       "      <td>3,000.00</td>\n",
       "      <td>0.14</td>\n",
       "      <td>Dec</td>\n",
       "      <td>2011</td>\n",
       "      <td>20000-40000</td>\n",
       "      <td>0-5000</td>\n",
       "      <td>7.5-10</td>\n",
       "    </tr>\n",
       "  </tbody>\n",
       "</table>\n",
       "</div>"
      ],
      "text/plain": [
       "   loan_amnt  funded_amnt  funded_amnt_inv        term  int_rate  installment  \\\n",
       "0       5000         5000         4,975.00   36 months     10.65       162.87   \n",
       "1       2500         2500         2,500.00   60 months     15.27        59.83   \n",
       "2       2400         2400         2,400.00   36 months     15.96        84.33   \n",
       "3      10000        10000        10,000.00   36 months     13.49       339.31   \n",
       "5       5000         5000         5,000.00   36 months      7.90       156.46   \n",
       "\n",
       "  grade sub_grade             emp_title emp_length home_ownership  annual_inc  \\\n",
       "0     B        B2                   NaN  10+ years           RENT   24,000.00   \n",
       "1     C        C4                 Ryder   < 1 year           RENT   30,000.00   \n",
       "2     C        C5                   NaN  10+ years           RENT   12,252.00   \n",
       "3     C        C1   AIR RESOURCES BOARD  10+ years           RENT   49,200.00   \n",
       "5     A        A4  Veolia Transportaton    3 years           RENT   36,000.00   \n",
       "\n",
       "  verification_status issue_d  loan_status pymnt_plan         purpose  \\\n",
       "0            Verified  Dec-11   Fully Paid          n     credit_card   \n",
       "1     Source Verified  Dec-11  Charged Off          n             car   \n",
       "2        Not Verified  Dec-11   Fully Paid          n  small_business   \n",
       "3     Source Verified  Dec-11   Fully Paid          n           other   \n",
       "5     Source Verified  Dec-11   Fully Paid          n         wedding   \n",
       "\n",
       "  addr_state   dti application_type  monthly_inc  loan_ann issue_month  \\\n",
       "0         AZ 27.65       INDIVIDUAL     2,000.00      0.21         Dec   \n",
       "1         GA  1.00       INDIVIDUAL     2,500.00      0.08         Dec   \n",
       "2         IL  8.72       INDIVIDUAL     1,021.00      0.20         Dec   \n",
       "3         CA 20.00       INDIVIDUAL     4,100.00      0.20         Dec   \n",
       "5         AZ 11.20       INDIVIDUAL     3,000.00      0.14         Dec   \n",
       "\n",
       "  issue_year annual_inc_rnge loan_amnt_range int_rate_range  \n",
       "0       2011     20000-40000          0-5000        10-12.5  \n",
       "1       2011     20000-40000          0-5000   15 and above  \n",
       "2       2011         0-20000          0-5000   15 and above  \n",
       "3       2011     40000-60000      5000-10000        12.5-15  \n",
       "5       2011     20000-40000          0-5000         7.5-10  "
      ]
     },
     "execution_count": 29,
     "metadata": {},
     "output_type": "execute_result"
    }
   ],
   "source": [
    "loan_df2 = loan_df2[~(loan_df2['loan_status'] == 'Current')]\n",
    "\n",
    "loan_df2.head()"
   ]
  },
  {
   "cell_type": "code",
   "execution_count": 30,
   "metadata": {},
   "outputs": [
    {
     "data": {
      "text/plain": [
       "Index(['loan_amnt', 'funded_amnt', 'funded_amnt_inv', 'term', 'int_rate',\n",
       "       'installment', 'grade', 'sub_grade', 'emp_title', 'emp_length',\n",
       "       'home_ownership', 'annual_inc', 'verification_status', 'issue_d',\n",
       "       'loan_status', 'pymnt_plan', 'purpose', 'addr_state', 'dti',\n",
       "       'application_type', 'monthly_inc', 'loan_ann', 'issue_month',\n",
       "       'issue_year', 'annual_inc_rnge', 'loan_amnt_range', 'int_rate_range'],\n",
       "      dtype='object')"
      ]
     },
     "execution_count": 30,
     "metadata": {},
     "output_type": "execute_result"
    }
   ],
   "source": [
    "loan_df2.columns"
   ]
  },
  {
   "cell_type": "markdown",
   "metadata": {},
   "source": [
    "## Univariate/Segmented-Univariate Analysis"
   ]
  },
  {
   "cell_type": "markdown",
   "metadata": {},
   "source": [
    "#### 1. Annual Income"
   ]
  },
  {
   "cell_type": "code",
   "execution_count": 31,
   "metadata": {
    "scrolled": false
   },
   "outputs": [
    {
     "data": {
      "text/plain": [
       "<matplotlib.axes._subplots.AxesSubplot at 0x2651b36e6a0>"
      ]
     },
     "execution_count": 31,
     "metadata": {},
     "output_type": "execute_result"
    },
    {
     "data": {
      "image/png": "[encoded data removed]",
      "text/plain": [
       "<Figure size 720x288 with 2 Axes>"
      ]
     },
     "metadata": {
      "needs_background": "light"
     },
     "output_type": "display_data"
    }
   ],
   "source": [
    "#Distplot and boxplot to understand the distribution and interquartile range\n",
    "fig,ax=plt.subplots(nrows=1,ncols=2,figsize=(10,4))\n",
    "sns.boxplot(data =loan_df2, x='annual_inc',ax=ax[0],orient = 'v')\n",
    "sns.distplot(loan_df2['annual_inc'],ax=ax[1])"
   ]
  },
  {
   "cell_type": "code",
   "execution_count": 32,
   "metadata": {
    "scrolled": false
   },
   "outputs": [
    {
     "data": {
      "text/plain": [
       "count      38,577.00\n",
       "mean       68,777.97\n",
       "std        64,218.68\n",
       "min         4,000.00\n",
       "25%        40,000.00\n",
       "50%        58,868.00\n",
       "75%        82,000.00\n",
       "max     6,000,000.00\n",
       "Name: annual_inc, dtype: float64"
      ]
     },
     "execution_count": 32,
     "metadata": {},
     "output_type": "execute_result"
    }
   ],
   "source": [
    "#Metrics for annual_inc\n",
    "loan_df2['annual_inc'].describe()"
   ]
  },
  {
   "cell_type": "markdown",
   "metadata": {},
   "source": [
    "*Minimum annual income is 4000 whereas maximum annual income is about 100 times of mean ,which indicates presence of an outlier ,let's remove outlier to get the correct mean*"
   ]
  },
  {
   "cell_type": "code",
   "execution_count": 33,
   "metadata": {
    "scrolled": false
   },
   "outputs": [
    {
     "data": {
      "text/plain": [
       "count    38,306.00\n",
       "mean     65,862.00\n",
       "std      36,495.82\n",
       "min       4,000.00\n",
       "25%      40,000.00\n",
       "50%      58,000.00\n",
       "75%      81,000.00\n",
       "max     267,000.00\n",
       "Name: annual_inc, dtype: float64"
      ]
     },
     "execution_count": 33,
     "metadata": {},
     "output_type": "execute_result"
    }
   ],
   "source": [
    "#Removing outlier\n",
    "outlr = loan_df2[\"annual_inc\"].quantile(0.993)\n",
    "loan_df2 = loan_df2[loan_df2[\"annual_inc\"] < outlr]\n",
    "loan_df2[\"annual_inc\"].describe()"
   ]
  },
  {
   "cell_type": "code",
   "execution_count": 34,
   "metadata": {},
   "outputs": [
    {
     "data": {
      "text/plain": [
       "<matplotlib.axes._subplots.AxesSubplot at 0x2651b28d668>"
      ]
     },
     "execution_count": 34,
     "metadata": {},
     "output_type": "execute_result"
    },
    {
     "data": {
      "image/png": "[encoded data removed]",
      "text/plain": [
       "<Figure size 720x288 with 2 Axes>"
      ]
     },
     "metadata": {
      "needs_background": "light"
     },
     "output_type": "display_data"
    }
   ],
   "source": [
    "#Creating plot again after removing outliers\n",
    "fig,ax=plt.subplots(nrows=1,ncols=2,figsize=(10,4))\n",
    "sns.boxplot(data =loan_df2, x='annual_inc',ax=ax[0],orient = 'v')\n",
    "sns.distplot(loan_df2['annual_inc'],ax=ax[1])"
   ]
  },
  {
   "cell_type": "markdown",
   "metadata": {},
   "source": [
    "#### Most of the annual income is distributed between 40000 and 80000"
   ]
  },
  {
   "cell_type": "markdown",
   "metadata": {},
   "source": [
    "#### 2. Loan amount "
   ]
  },
  {
   "cell_type": "code",
   "execution_count": 35,
   "metadata": {
    "scrolled": true
   },
   "outputs": [
    {
     "data": {
      "text/plain": [
       "<matplotlib.axes._subplots.AxesSubplot at 0x2651a6c26d8>"
      ]
     },
     "execution_count": 35,
     "metadata": {},
     "output_type": "execute_result"
    },
    {
     "data": {
      "image/png": "[encoded data removed]",
      "text/plain": [
       "<Figure size 720x288 with 2 Axes>"
      ]
     },
     "metadata": {
      "needs_background": "light"
     },
     "output_type": "display_data"
    }
   ],
   "source": [
    "#Plots for Loan amount\n",
    "fig,ax=plt.subplots(nrows=1,ncols=2,figsize=(10,4))\n",
    "sns.boxplot(data =loan_df2, x='loan_amnt',ax=ax[0],orient='v')\n",
    "sns.distplot(loan_df2['loan_amnt'],ax=ax[1])"
   ]
  },
  {
   "cell_type": "markdown",
   "metadata": {},
   "source": [
    "#### Most of the loans are distributed between 5500 and 15000"
   ]
  },
  {
   "cell_type": "markdown",
   "metadata": {},
   "source": [
    "#### 3.Interest Rate"
   ]
  },
  {
   "cell_type": "code",
   "execution_count": 36,
   "metadata": {
    "scrolled": true
   },
   "outputs": [
    {
     "data": {
      "text/plain": [
       "<matplotlib.axes._subplots.AxesSubplot at 0x2651b311b38>"
      ]
     },
     "execution_count": 36,
     "metadata": {},
     "output_type": "execute_result"
    },
    {
     "data": {
      "image/png": "[encoded data removed]",
      "text/plain": [
       "<Figure size 720x288 with 2 Axes>"
      ]
     },
     "metadata": {
      "needs_background": "light"
     },
     "output_type": "display_data"
    }
   ],
   "source": [
    "#Plots for interest rate \n",
    "fig,ax=plt.subplots(nrows=1,ncols=2,figsize=(10,4))\n",
    "sns.boxplot(data =loan_df2, x='int_rate',ax=ax[0],orient='v')\n",
    "sns.distplot(loan_df2['int_rate'],ax=ax[1])"
   ]
  },
  {
   "cell_type": "markdown",
   "metadata": {},
   "source": [
    "#### Most of interest rates are between 9 to 14%"
   ]
  },
  {
   "cell_type": "markdown",
   "metadata": {},
   "source": [
    "#### 4. Loan status"
   ]
  },
  {
   "cell_type": "code",
   "execution_count": 37,
   "metadata": {
    "scrolled": true
   },
   "outputs": [
    {
     "data": {
      "image/png": "[encoded data removed]",
      "text/plain": [
       "<Figure size 432x288 with 1 Axes>"
      ]
     },
     "metadata": {
      "needs_background": "light"
     },
     "output_type": "display_data"
    }
   ],
   "source": [
    "#Plots for loan status\n",
    "fig,ax = plt.subplots(nrows=1,ncols=1)\n",
    "sns.countplot(x='loan_status',data=loan_df2)\n",
    "\n",
    "for p in ax.patches:\n",
    "    ax.annotate(round((p.get_height()/len(loan_df2))*100,2), (p.get_x()+0.19, p.get_height()+20))\n",
    "                      \n",
    "plt.show()"
   ]
  },
  {
   "cell_type": "markdown",
   "metadata": {},
   "source": [
    "*More than 30k applicants have fully paid the loan , Charged off(Default) applicant count is around 5000 , which is about 14.6 percent.*"
   ]
  },
  {
   "cell_type": "markdown",
   "metadata": {},
   "source": [
    "#### 5. Purpose of loan"
   ]
  },
  {
   "cell_type": "code",
   "execution_count": 38,
   "metadata": {
    "scrolled": true
   },
   "outputs": [
    {
     "data": {
      "image/png": "[encoded data removed]",
      "text/plain": [
       "<Figure size 1584x648 with 1 Axes>"
      ]
     },
     "metadata": {
      "needs_background": "light"
     },
     "output_type": "display_data"
    }
   ],
   "source": [
    "#plot for purpose of loan\n",
    "fig,ax = plt.subplots(figsize=(22,9))\n",
    "sns.countplot(x='purpose',data=loan_df2)\n",
    "for p in ax.patches:\n",
    "    ax.annotate(round((p.get_height()/len(loan_df2))*100,2), (p.get_x()+0.19, p.get_height()+20))\n",
    "                      \n",
    "plt.show()"
   ]
  },
  {
   "cell_type": "markdown",
   "metadata": {},
   "source": [
    "Most of the loans have been taken for debt consolidation"
   ]
  },
  {
   "cell_type": "code",
   "execution_count": 39,
   "metadata": {
    "scrolled": true
   },
   "outputs": [
    {
     "data": {
      "image/png": "[encoded data removed]",
      "text/plain": [
       "<Figure size 1584x576 with 1 Axes>"
      ]
     },
     "metadata": {
      "needs_background": "light"
     },
     "output_type": "display_data"
    }
   ],
   "source": [
    "#with hue as loan status \n",
    "fig,ax = plt.subplots(figsize=(22,8))\n",
    "sns.countplot(x='purpose',data=loan_df2,hue='loan_status')\n",
    "for p in ax.patches:\n",
    "    ax.annotate(round((p.get_height()/len(loan_df2))*100,2), (p.get_x()+0.19, p.get_height()+20))\n",
    "                      \n",
    "plt.show()"
   ]
  },
  {
   "cell_type": "markdown",
   "metadata": {},
   "source": [
    "*Around 46.8% the loans are taken for  debt consolidation* "
   ]
  },
  {
   "cell_type": "markdown",
   "metadata": {},
   "source": [
    "#### 6. Loan term"
   ]
  },
  {
   "cell_type": "code",
   "execution_count": 40,
   "metadata": {},
   "outputs": [
    {
     "data": {
      "image/png": "[encoded data removed]",
      "text/plain": [
       "<Figure size 432x288 with 1 Axes>"
      ]
     },
     "metadata": {},
     "output_type": "display_data"
    }
   ],
   "source": [
    "#plot for loan term \n",
    "sns.set(style=\"darkgrid\")\n",
    "fig,ax = plt.subplots()\n",
    "ax1 = sns.countplot(x='term',data=loan_df2,order=loan_df2['term'].value_counts().index,hue='loan_status')\n",
    "\n",
    "for p in ax1.patches:\n",
    "         ax1.annotate(round((p.get_height()/len(loan_df2))*100,2), (p.get_x()+0.16, p.get_height()+20))\n",
    "                      \n",
    "plt.show()"
   ]
  },
  {
   "cell_type": "markdown",
   "metadata": {},
   "source": [
    "*More than 75% of the borrowers opted for 36months loan term.* "
   ]
  },
  {
   "cell_type": "markdown",
   "metadata": {},
   "source": [
    "#### 7.Home ownership"
   ]
  },
  {
   "cell_type": "code",
   "execution_count": 41,
   "metadata": {},
   "outputs": [
    {
     "data": {
      "text/plain": [
       "array(['RENT', 'OWN', 'MORTGAGE', 'OTHER', 'NONE'], dtype=object)"
      ]
     },
     "execution_count": 41,
     "metadata": {},
     "output_type": "execute_result"
    }
   ],
   "source": [
    "loan_df2.home_ownership.unique()"
   ]
  },
  {
   "cell_type": "code",
   "execution_count": 42,
   "metadata": {},
   "outputs": [
    {
     "data": {
      "text/plain": [
       "array(['RENT', 'OWN', 'MORTGAGE'], dtype=object)"
      ]
     },
     "execution_count": 42,
     "metadata": {},
     "output_type": "execute_result"
    }
   ],
   "source": [
    "# Removing rows where value is other or none\n",
    "colsRemove = ['OTHER', 'NONE']\n",
    "loan_df2.drop(loan_df2[loan_df2['home_ownership'].isin(colsRemove)].index,inplace=True)\n",
    "loan_df2.home_ownership.unique()"
   ]
  },
  {
   "cell_type": "code",
   "execution_count": 43,
   "metadata": {
    "scrolled": false
   },
   "outputs": [
    {
     "data": {
      "image/png": "[encoded data removed]",
      "text/plain": [
       "<Figure size 576x432 with 1 Axes>"
      ]
     },
     "metadata": {},
     "output_type": "display_data"
    }
   ],
   "source": [
    "#plot for home_ownership\n",
    "fig,ax = plt.subplots(figsize=(8,6))\n",
    "sns.countplot(x='home_ownership',data=loan_df2,order=loan_df2['home_ownership'].value_counts().index,hue='loan_status')\n",
    "for p in ax.patches:\n",
    "         ax.annotate(round((p.get_height()/len(loan_df2))*100,2), (p.get_x()+0.12, p.get_height()+10))\n",
    "                      \n",
    "plt.show()\n"
   ]
  },
  {
   "cell_type": "markdown",
   "metadata": {},
   "source": [
    "*More than 48% of applicants are staying on rent, less percentage of applicants i.e.around 7.6% have their own home*"
   ]
  },
  {
   "cell_type": "markdown",
   "metadata": {},
   "source": [
    "#### 8.Grade"
   ]
  },
  {
   "cell_type": "code",
   "execution_count": 44,
   "metadata": {},
   "outputs": [
    {
     "data": {
      "image/png": "[encoded data removed]",
      "text/plain": [
       "<Figure size 1584x1080 with 2 Axes>"
      ]
     },
     "metadata": {},
     "output_type": "display_data"
    }
   ],
   "source": [
    "#plots for grade \n",
    "fig,ax = plt.subplots(1,2,figsize=(22,15))\n",
    "sns.countplot(x='grade',data=loan_df2,order=loan_df2['grade'].value_counts().index,ax=ax[0])\n",
    "sns.countplot(x='grade',data=loan_df2,order=loan_df2['grade'].value_counts().index,ax=ax[1],hue='loan_status')\n",
    "for p in ax[0].patches:\n",
    "         ax[0].annotate(round((p.get_height()/len(loan_df2))*100,2), (p.get_x()+0.19, p.get_height()+10))\n",
    "for p in ax[1].patches:\n",
    "         ax[1].annotate(round((p.get_height()/len(loan_df2))*100,2), (p.get_x()+0.14, p.get_height()+10))\n",
    "plt.show()\n"
   ]
  },
  {
   "cell_type": "markdown",
   "metadata": {},
   "source": [
    "*30% of loans belongs to grade B ,about 26% belongs to grade A*"
   ]
  },
  {
   "cell_type": "markdown",
   "metadata": {},
   "source": [
    "#### 9.Issue year"
   ]
  },
  {
   "cell_type": "code",
   "execution_count": 45,
   "metadata": {
    "scrolled": false
   },
   "outputs": [
    {
     "data": {
      "image/png": "[encoded data removed]",
      "text/plain": [
       "<Figure size 1440x720 with 2 Axes>"
      ]
     },
     "metadata": {},
     "output_type": "display_data"
    }
   ],
   "source": [
    "#plots for issue year\n",
    "fig,ax = plt.subplots(1,2,figsize=(20,10))\n",
    "sns.countplot(x='issue_year',data=loan_df2,order=loan_df2['issue_year'].value_counts().index,ax=ax[0])\n",
    "for p in ax[0].patches:\n",
    "         ax[0].annotate(round((p.get_height()/len(loan_df2))*100,2), (p.get_x()+0.19, p.get_height()+12))\n",
    "        \n",
    "sns.countplot(x='issue_year',data=loan_df2,order=loan_df2['issue_year'].value_counts().index,hue='loan_status',ax=ax[1])\n",
    "for p in ax[1].patches:\n",
    "         ax[1].annotate(round((p.get_height()/len(loan_df2))*100,2), (p.get_x()+0.19, p.get_height()+12))"
   ]
  },
  {
   "cell_type": "markdown",
   "metadata": {},
   "source": [
    "*53% of total loans was applied in year 2011,out of which 8.5% of loans were charged off in 2011*"
   ]
  },
  {
   "cell_type": "markdown",
   "metadata": {},
   "source": [
    "## Bivariate/Multivariate Analysis"
   ]
  },
  {
   "cell_type": "code",
   "execution_count": 46,
   "metadata": {
    "scrolled": true
   },
   "outputs": [
    {
     "data": {
      "text/plain": [
       "Index(['loan_amnt', 'funded_amnt', 'funded_amnt_inv', 'term', 'int_rate',\n",
       "       'installment', 'grade', 'sub_grade', 'emp_title', 'emp_length',\n",
       "       'home_ownership', 'annual_inc', 'verification_status', 'issue_d',\n",
       "       'loan_status', 'pymnt_plan', 'purpose', 'addr_state', 'dti',\n",
       "       'application_type', 'monthly_inc', 'loan_ann', 'issue_month',\n",
       "       'issue_year', 'annual_inc_rnge', 'loan_amnt_range', 'int_rate_range'],\n",
       "      dtype='object')"
      ]
     },
     "execution_count": 46,
     "metadata": {},
     "output_type": "execute_result"
    }
   ],
   "source": [
    "#Columns considering for further analysis\n",
    "loan_df2.columns"
   ]
  },
  {
   "cell_type": "markdown",
   "metadata": {},
   "source": [
    "#### Correlation Matrix : All Continuos(Numeric) Variables"
   ]
  },
  {
   "cell_type": "code",
   "execution_count": 47,
   "metadata": {},
   "outputs": [
    {
     "data": {
      "text/html": [
       "<div>\n",
       "<style scoped>\n",
       "    .dataframe tbody tr th:only-of-type {\n",
       "        vertical-align: middle;\n",
       "    }\n",
       "\n",
       "    .dataframe tbody tr th {\n",
       "        vertical-align: top;\n",
       "    }\n",
       "\n",
       "    .dataframe thead th {\n",
       "        text-align: right;\n",
       "    }\n",
       "</style>\n",
       "<table border=\"1\" class=\"dataframe\">\n",
       "  <thead>\n",
       "    <tr style=\"text-align: right;\">\n",
       "      <th></th>\n",
       "      <th>loan_amnt</th>\n",
       "      <th>funded_amnt</th>\n",
       "      <th>funded_amnt_inv</th>\n",
       "      <th>int_rate</th>\n",
       "      <th>installment</th>\n",
       "      <th>annual_inc</th>\n",
       "      <th>dti</th>\n",
       "      <th>monthly_inc</th>\n",
       "      <th>loan_ann</th>\n",
       "    </tr>\n",
       "  </thead>\n",
       "  <tbody>\n",
       "    <tr>\n",
       "      <th>loan_amnt</th>\n",
       "      <td>1.00</td>\n",
       "      <td>0.98</td>\n",
       "      <td>0.94</td>\n",
       "      <td>0.30</td>\n",
       "      <td>0.93</td>\n",
       "      <td>0.42</td>\n",
       "      <td>0.07</td>\n",
       "      <td>0.42</td>\n",
       "      <td>0.62</td>\n",
       "    </tr>\n",
       "    <tr>\n",
       "      <th>funded_amnt</th>\n",
       "      <td>0.98</td>\n",
       "      <td>1.00</td>\n",
       "      <td>0.96</td>\n",
       "      <td>0.30</td>\n",
       "      <td>0.96</td>\n",
       "      <td>0.41</td>\n",
       "      <td>0.07</td>\n",
       "      <td>0.41</td>\n",
       "      <td>0.61</td>\n",
       "    </tr>\n",
       "    <tr>\n",
       "      <th>funded_amnt_inv</th>\n",
       "      <td>0.94</td>\n",
       "      <td>0.96</td>\n",
       "      <td>1.00</td>\n",
       "      <td>0.30</td>\n",
       "      <td>0.91</td>\n",
       "      <td>0.39</td>\n",
       "      <td>0.08</td>\n",
       "      <td>0.39</td>\n",
       "      <td>0.58</td>\n",
       "    </tr>\n",
       "    <tr>\n",
       "      <th>int_rate</th>\n",
       "      <td>0.30</td>\n",
       "      <td>0.30</td>\n",
       "      <td>0.30</td>\n",
       "      <td>1.00</td>\n",
       "      <td>0.28</td>\n",
       "      <td>0.07</td>\n",
       "      <td>0.11</td>\n",
       "      <td>0.07</td>\n",
       "      <td>0.21</td>\n",
       "    </tr>\n",
       "    <tr>\n",
       "      <th>installment</th>\n",
       "      <td>0.93</td>\n",
       "      <td>0.96</td>\n",
       "      <td>0.91</td>\n",
       "      <td>0.28</td>\n",
       "      <td>1.00</td>\n",
       "      <td>0.41</td>\n",
       "      <td>0.06</td>\n",
       "      <td>0.41</td>\n",
       "      <td>0.56</td>\n",
       "    </tr>\n",
       "    <tr>\n",
       "      <th>annual_inc</th>\n",
       "      <td>0.42</td>\n",
       "      <td>0.41</td>\n",
       "      <td>0.39</td>\n",
       "      <td>0.07</td>\n",
       "      <td>0.41</td>\n",
       "      <td>1.00</td>\n",
       "      <td>-0.11</td>\n",
       "      <td>1.00</td>\n",
       "      <td>-0.31</td>\n",
       "    </tr>\n",
       "    <tr>\n",
       "      <th>dti</th>\n",
       "      <td>0.07</td>\n",
       "      <td>0.07</td>\n",
       "      <td>0.08</td>\n",
       "      <td>0.11</td>\n",
       "      <td>0.06</td>\n",
       "      <td>-0.11</td>\n",
       "      <td>1.00</td>\n",
       "      <td>-0.11</td>\n",
       "      <td>0.14</td>\n",
       "    </tr>\n",
       "    <tr>\n",
       "      <th>monthly_inc</th>\n",
       "      <td>0.42</td>\n",
       "      <td>0.41</td>\n",
       "      <td>0.39</td>\n",
       "      <td>0.07</td>\n",
       "      <td>0.41</td>\n",
       "      <td>1.00</td>\n",
       "      <td>-0.11</td>\n",
       "      <td>1.00</td>\n",
       "      <td>-0.31</td>\n",
       "    </tr>\n",
       "    <tr>\n",
       "      <th>loan_ann</th>\n",
       "      <td>0.62</td>\n",
       "      <td>0.61</td>\n",
       "      <td>0.58</td>\n",
       "      <td>0.21</td>\n",
       "      <td>0.56</td>\n",
       "      <td>-0.31</td>\n",
       "      <td>0.14</td>\n",
       "      <td>-0.31</td>\n",
       "      <td>1.00</td>\n",
       "    </tr>\n",
       "  </tbody>\n",
       "</table>\n",
       "</div>"
      ],
      "text/plain": [
       "                 loan_amnt  funded_amnt  funded_amnt_inv  int_rate  \\\n",
       "loan_amnt             1.00         0.98             0.94      0.30   \n",
       "funded_amnt           0.98         1.00             0.96      0.30   \n",
       "funded_amnt_inv       0.94         0.96             1.00      0.30   \n",
       "int_rate              0.30         0.30             0.30      1.00   \n",
       "installment           0.93         0.96             0.91      0.28   \n",
       "annual_inc            0.42         0.41             0.39      0.07   \n",
       "dti                   0.07         0.07             0.08      0.11   \n",
       "monthly_inc           0.42         0.41             0.39      0.07   \n",
       "loan_ann              0.62         0.61             0.58      0.21   \n",
       "\n",
       "                 installment  annual_inc   dti  monthly_inc  loan_ann  \n",
       "loan_amnt               0.93        0.42  0.07         0.42      0.62  \n",
       "funded_amnt             0.96        0.41  0.07         0.41      0.61  \n",
       "funded_amnt_inv         0.91        0.39  0.08         0.39      0.58  \n",
       "int_rate                0.28        0.07  0.11         0.07      0.21  \n",
       "installment             1.00        0.41  0.06         0.41      0.56  \n",
       "annual_inc              0.41        1.00 -0.11         1.00     -0.31  \n",
       "dti                     0.06       -0.11  1.00        -0.11      0.14  \n",
       "monthly_inc             0.41        1.00 -0.11         1.00     -0.31  \n",
       "loan_ann                0.56       -0.31  0.14        -0.31      1.00  "
      ]
     },
     "execution_count": 47,
     "metadata": {},
     "output_type": "execute_result"
    }
   ],
   "source": [
    "#Pandas corr() method to determine correlation matrix - indicating correlation b/w variables with value b/w -1 to 1\n",
    "loan_corr = loan_df2.corr()\n",
    "loan_corr"
   ]
  },
  {
   "cell_type": "code",
   "execution_count": 48,
   "metadata": {},
   "outputs": [
    {
     "data": {
      "image/png": "[encoded data removed]",
      "text/plain": [
       "<Figure size 1008x648 with 2 Axes>"
      ]
     },
     "metadata": {},
     "output_type": "display_data"
    }
   ],
   "source": [
    "#Plotting heat map\n",
    "f, ax = plt.subplots(figsize=(14, 9))\n",
    "sns.heatmap(loan_corr, \n",
    "            xticklabels=loan_corr.columns.values,\n",
    "            yticklabels=loan_corr.columns.values,annot= True)\n",
    "plt.show()"
   ]
  },
  {
   "cell_type": "markdown",
   "metadata": {},
   "source": [
    "*loan_amnt,funded_amnt and funded_amnt_inv are highly correlated*"
   ]
  },
  {
   "cell_type": "markdown",
   "metadata": {},
   "source": [
    "#### Annual income vs Loan Amount for each loan status "
   ]
  },
  {
   "cell_type": "code",
   "execution_count": 49,
   "metadata": {
    "scrolled": false
   },
   "outputs": [
    {
     "data": {
      "image/png": "[encoded data removed]",
      "text/plain": [
       "<Figure size 1800x864 with 1 Axes>"
      ]
     },
     "metadata": {},
     "output_type": "display_data"
    }
   ],
   "source": [
    "plt.figure(figsize=(25,12))\n",
    "sns.boxplot(data =loan_df2, x='annual_inc_rnge', y='loan_amnt',hue ='loan_status') \n",
    "plt.title('Annual income vs Loan Amount')\n",
    "plt.show()"
   ]
  },
  {
   "cell_type": "markdown",
   "metadata": {},
   "source": [
    "*Increase in annual income leads to slight increase in  loan amount*"
   ]
  },
  {
   "cell_type": "markdown",
   "metadata": {},
   "source": [
    "#### Purpose of Loan vs Loan Amount for each Loan Status. "
   ]
  },
  {
   "cell_type": "code",
   "execution_count": 50,
   "metadata": {
    "scrolled": true
   },
   "outputs": [
    {
     "data": {
      "image/png": "[encoded data removed]",
      "text/plain": [
       "<Figure size 1800x864 with 1 Axes>"
      ]
     },
     "metadata": {},
     "output_type": "display_data"
    }
   ],
   "source": [
    "plt.figure(figsize=(25,12))\n",
    "sns.boxplot(data =loan_df2, x='purpose', y='loan_amnt', hue ='loan_status')\n",
    "plt.title('Purpose of Loan vs Loan Amount')\n",
    "plt.show()"
   ]
  },
  {
   "cell_type": "markdown",
   "metadata": {},
   "source": [
    "Small Business has drawn the highest amount of loan"
   ]
  },
  {
   "cell_type": "markdown",
   "metadata": {},
   "source": [
    "#### Verification Status vs Probability of Charged Off"
   ]
  },
  {
   "cell_type": "code",
   "execution_count": 51,
   "metadata": {
    "scrolled": true
   },
   "outputs": [
    {
     "data": {
      "text/html": [
       "<div>\n",
       "<style scoped>\n",
       "    .dataframe tbody tr th:only-of-type {\n",
       "        vertical-align: middle;\n",
       "    }\n",
       "\n",
       "    .dataframe tbody tr th {\n",
       "        vertical-align: top;\n",
       "    }\n",
       "\n",
       "    .dataframe thead th {\n",
       "        text-align: right;\n",
       "    }\n",
       "</style>\n",
       "<table border=\"1\" class=\"dataframe\">\n",
       "  <thead>\n",
       "    <tr style=\"text-align: right;\">\n",
       "      <th>loan_status</th>\n",
       "      <th>Charged Off</th>\n",
       "      <th>Fully Paid</th>\n",
       "      <th>Total</th>\n",
       "      <th>Probability_of_Charged_Off</th>\n",
       "    </tr>\n",
       "    <tr>\n",
       "      <th>verification_status</th>\n",
       "      <th></th>\n",
       "      <th></th>\n",
       "      <th></th>\n",
       "      <th></th>\n",
       "    </tr>\n",
       "  </thead>\n",
       "  <tbody>\n",
       "    <tr>\n",
       "      <th>Not Verified</th>\n",
       "      <td>2124</td>\n",
       "      <td>14445</td>\n",
       "      <td>16569</td>\n",
       "      <td>0.13</td>\n",
       "    </tr>\n",
       "    <tr>\n",
       "      <th>Source Verified</th>\n",
       "      <td>1425</td>\n",
       "      <td>8157</td>\n",
       "      <td>9582</td>\n",
       "      <td>0.15</td>\n",
       "    </tr>\n",
       "    <tr>\n",
       "      <th>Verified</th>\n",
       "      <td>2031</td>\n",
       "      <td>10024</td>\n",
       "      <td>12055</td>\n",
       "      <td>0.17</td>\n",
       "    </tr>\n",
       "  </tbody>\n",
       "</table>\n",
       "</div>"
      ],
      "text/plain": [
       "loan_status          Charged Off  Fully Paid  Total  \\\n",
       "verification_status                                   \n",
       "Not Verified                2124       14445  16569   \n",
       "Source Verified             1425        8157   9582   \n",
       "Verified                    2031       10024  12055   \n",
       "\n",
       "loan_status          Probability_of_Charged_Off  \n",
       "verification_status                              \n",
       "Not Verified                               0.13  \n",
       "Source Verified                            0.15  \n",
       "Verified                                   0.17  "
      ]
     },
     "execution_count": 51,
     "metadata": {},
     "output_type": "execute_result"
    }
   ],
   "source": [
    "default_ver = loan_df2.groupby(['verification_status','loan_status'])['loan_status'].count().unstack().fillna(0)\n",
    "default_ver['Total'] = default_ver['Charged Off'] + default_ver['Fully Paid'] \n",
    "default_ver['Probability_of_Charged_Off'] = default_ver['Charged Off'] / default_ver['Total'] \n",
    "\n",
    "default_ver"
   ]
  },
  {
   "cell_type": "code",
   "execution_count": 52,
   "metadata": {},
   "outputs": [
    {
     "data": {
      "text/plain": [
       "Text(0, 0.5, 'Probability of Charged Off')"
      ]
     },
     "execution_count": 52,
     "metadata": {},
     "output_type": "execute_result"
    },
    {
     "data": {
      "image/png": "[encoded data removed]",
      "text/plain": [
       "<Figure size 1080x504 with 1 Axes>"
      ]
     },
     "metadata": {},
     "output_type": "display_data"
    }
   ],
   "source": [
    "#Verification Status vs Probability of charged off\n",
    "fig, ax = plt.subplots(figsize=(15,7))\n",
    "sns.barplot(x=default_ver.index,y='Probability_of_Charged_Off',data=default_ver)\n",
    "ax.set_title('Verification Status vs Probability of charged off',fontsize=20,weight=\"bold\")\n",
    "ax.set_xlabel('Verification Status',fontsize=14)\n",
    "ax.set_ylabel('Probability of Charged Off',color = 'b',fontsize=14)\n"
   ]
  },
  {
   "cell_type": "markdown",
   "metadata": {},
   "source": [
    "*From the above graph , it can infer that the verification has not much impact on predicting the loan which will be charged off as even the verified applicants has the highest probability of charged off ,whereas applicants which are not verified has lowest probability of charged off.*"
   ]
  },
  {
   "cell_type": "markdown",
   "metadata": {},
   "source": [
    "#### Employment Length vs Probability of Charged Off"
   ]
  },
  {
   "cell_type": "code",
   "execution_count": 53,
   "metadata": {
    "scrolled": true
   },
   "outputs": [],
   "source": [
    "default_emp = loan_df2.groupby(['emp_length','loan_status'])['loan_status'].count().unstack().fillna(0)"
   ]
  },
  {
   "cell_type": "code",
   "execution_count": 54,
   "metadata": {},
   "outputs": [],
   "source": [
    "default_emp['Total'] = default_emp['Charged Off'] + default_emp['Fully Paid'] \n",
    "default_emp['Probability of Charged Off'] = default_emp['Charged Off'] / default_emp['Total'] "
   ]
  },
  {
   "cell_type": "code",
   "execution_count": 55,
   "metadata": {
    "scrolled": true
   },
   "outputs": [
    {
     "data": {
      "text/plain": [
       "Text(0, 0.5, 'Probability of Charged Off')"
      ]
     },
     "execution_count": 55,
     "metadata": {},
     "output_type": "execute_result"
    },
    {
     "data": {
      "image/png": "[encoded data removed]",
      "text/plain": [
       "<Figure size 1080x504 with 1 Axes>"
      ]
     },
     "metadata": {},
     "output_type": "display_data"
    }
   ],
   "source": [
    "#Employment Length vs Probability of Charged Off\n",
    "fig, ax = plt.subplots(figsize=(15,7))\n",
    "sns.barplot(x=default_emp.index,y='Probability of Charged Off',data=default_emp)\n",
    "ax.set_title('Employment length vs Probability of charged off',fontsize=20,weight=\"bold\")\n",
    "ax.set_xlabel('Employment length',fontsize=14)\n",
    "ax.set_ylabel('Probability of Charged Off',color = 'b',fontsize=14)"
   ]
  },
  {
   "cell_type": "markdown",
   "metadata": {},
   "source": [
    "*Probability of charged off is somewhat same for all the employment length , seems employment length doesn't have much impact on the loan being charged off*"
   ]
  },
  {
   "cell_type": "markdown",
   "metadata": {},
   "source": [
    "#### Annual income Vs Probability of Charged off"
   ]
  },
  {
   "cell_type": "code",
   "execution_count": 56,
   "metadata": {
    "scrolled": true
   },
   "outputs": [],
   "source": [
    "default_ann = loan_df2.groupby(['annual_inc_rnge','loan_status'])['loan_status'].count().unstack().fillna(0)"
   ]
  },
  {
   "cell_type": "code",
   "execution_count": 57,
   "metadata": {},
   "outputs": [],
   "source": [
    "default_ann['Total'] = default_ann['Charged Off'] + default_ann['Fully Paid'] \n",
    "default_ann['Probability_of_Charged_Off'] = default_ann['Charged Off'] / default_ann['Total'] "
   ]
  },
  {
   "cell_type": "code",
   "execution_count": 58,
   "metadata": {},
   "outputs": [
    {
     "data": {
      "text/html": [
       "<div>\n",
       "<style scoped>\n",
       "    .dataframe tbody tr th:only-of-type {\n",
       "        vertical-align: middle;\n",
       "    }\n",
       "\n",
       "    .dataframe tbody tr th {\n",
       "        vertical-align: top;\n",
       "    }\n",
       "\n",
       "    .dataframe thead th {\n",
       "        text-align: right;\n",
       "    }\n",
       "</style>\n",
       "<table border=\"1\" class=\"dataframe\">\n",
       "  <thead>\n",
       "    <tr style=\"text-align: right;\">\n",
       "      <th>loan_status</th>\n",
       "      <th>Charged Off</th>\n",
       "      <th>Fully Paid</th>\n",
       "      <th>Total</th>\n",
       "      <th>Probability_of_Charged_Off</th>\n",
       "    </tr>\n",
       "    <tr>\n",
       "      <th>annual_inc_rnge</th>\n",
       "      <th></th>\n",
       "      <th></th>\n",
       "      <th></th>\n",
       "      <th></th>\n",
       "    </tr>\n",
       "  </thead>\n",
       "  <tbody>\n",
       "    <tr>\n",
       "      <th>0-20000</th>\n",
       "      <td>237</td>\n",
       "      <td>940</td>\n",
       "      <td>1177</td>\n",
       "      <td>0.20</td>\n",
       "    </tr>\n",
       "    <tr>\n",
       "      <th>20000-40000</th>\n",
       "      <td>1508</td>\n",
       "      <td>6985</td>\n",
       "      <td>8493</td>\n",
       "      <td>0.18</td>\n",
       "    </tr>\n",
       "    <tr>\n",
       "      <th>40000-60000</th>\n",
       "      <td>1725</td>\n",
       "      <td>9512</td>\n",
       "      <td>11237</td>\n",
       "      <td>0.15</td>\n",
       "    </tr>\n",
       "    <tr>\n",
       "      <th>60000-80000</th>\n",
       "      <td>1019</td>\n",
       "      <td>6583</td>\n",
       "      <td>7602</td>\n",
       "      <td>0.13</td>\n",
       "    </tr>\n",
       "    <tr>\n",
       "      <th>80000 and above</th>\n",
       "      <td>529</td>\n",
       "      <td>3969</td>\n",
       "      <td>4498</td>\n",
       "      <td>0.12</td>\n",
       "    </tr>\n",
       "  </tbody>\n",
       "</table>\n",
       "</div>"
      ],
      "text/plain": [
       "loan_status      Charged Off  Fully Paid  Total  Probability_of_Charged_Off\n",
       "annual_inc_rnge                                                            \n",
       "0-20000                  237         940   1177                        0.20\n",
       "20000-40000             1508        6985   8493                        0.18\n",
       "40000-60000             1725        9512  11237                        0.15\n",
       "60000-80000             1019        6583   7602                        0.13\n",
       "80000 and above          529        3969   4498                        0.12"
      ]
     },
     "execution_count": 58,
     "metadata": {},
     "output_type": "execute_result"
    }
   ],
   "source": [
    "default_ann"
   ]
  },
  {
   "cell_type": "code",
   "execution_count": 59,
   "metadata": {},
   "outputs": [
    {
     "data": {
      "text/plain": [
       "Text(0, 0.5, 'Probability of Charged Off')"
      ]
     },
     "execution_count": 59,
     "metadata": {},
     "output_type": "execute_result"
    },
    {
     "data": {
      "image/png": "[encoded data removed]",
      "text/plain": [
       "<Figure size 1080x504 with 1 Axes>"
      ]
     },
     "metadata": {},
     "output_type": "display_data"
    }
   ],
   "source": [
    "#Annual income vs Probability of charged off\n",
    "fig, ax = plt.subplots(figsize=(15,7))\n",
    "sns.barplot(x=default_ann.index,y='Probability_of_Charged_Off',data=default_ann)\n",
    "ax.set_title('Annual income vs Probability of charged off',fontsize=20,weight=\"bold\")\n",
    "ax.set_xlabel('Annual income',fontsize=14)\n",
    "ax.set_ylabel('Probability of Charged Off',color = 'b',fontsize=14)"
   ]
  },
  {
   "cell_type": "markdown",
   "metadata": {},
   "source": [
    "*Applicants with less annual income are more likely to default their loans , As the annual income is increasing ,Probability of Charged off is decreasing*"
   ]
  },
  {
   "cell_type": "markdown",
   "metadata": {},
   "source": [
    "### Purpose vs Probability of charged off"
   ]
  },
  {
   "cell_type": "code",
   "execution_count": 60,
   "metadata": {},
   "outputs": [],
   "source": [
    "default_purp = loan_df2.groupby(['purpose','loan_status'])['loan_status'].count().unstack().fillna(0)"
   ]
  },
  {
   "cell_type": "code",
   "execution_count": 61,
   "metadata": {},
   "outputs": [
    {
     "data": {
      "text/html": [
       "<div>\n",
       "<style scoped>\n",
       "    .dataframe tbody tr th:only-of-type {\n",
       "        vertical-align: middle;\n",
       "    }\n",
       "\n",
       "    .dataframe tbody tr th {\n",
       "        vertical-align: top;\n",
       "    }\n",
       "\n",
       "    .dataframe thead th {\n",
       "        text-align: right;\n",
       "    }\n",
       "</style>\n",
       "<table border=\"1\" class=\"dataframe\">\n",
       "  <thead>\n",
       "    <tr style=\"text-align: right;\">\n",
       "      <th>loan_status</th>\n",
       "      <th>Charged Off</th>\n",
       "      <th>Fully Paid</th>\n",
       "      <th>Total</th>\n",
       "      <th>Probability_of_Charged_Off</th>\n",
       "    </tr>\n",
       "    <tr>\n",
       "      <th>purpose</th>\n",
       "      <th></th>\n",
       "      <th></th>\n",
       "      <th></th>\n",
       "      <th></th>\n",
       "    </tr>\n",
       "  </thead>\n",
       "  <tbody>\n",
       "    <tr>\n",
       "      <th>car</th>\n",
       "      <td>159</td>\n",
       "      <td>1336</td>\n",
       "      <td>1495</td>\n",
       "      <td>0.11</td>\n",
       "    </tr>\n",
       "    <tr>\n",
       "      <th>credit_card</th>\n",
       "      <td>538</td>\n",
       "      <td>4448</td>\n",
       "      <td>4986</td>\n",
       "      <td>0.11</td>\n",
       "    </tr>\n",
       "    <tr>\n",
       "      <th>debt_consolidation</th>\n",
       "      <td>2751</td>\n",
       "      <td>15164</td>\n",
       "      <td>17915</td>\n",
       "      <td>0.15</td>\n",
       "    </tr>\n",
       "    <tr>\n",
       "      <th>educational</th>\n",
       "      <td>56</td>\n",
       "      <td>265</td>\n",
       "      <td>321</td>\n",
       "      <td>0.17</td>\n",
       "    </tr>\n",
       "    <tr>\n",
       "      <th>home_improvement</th>\n",
       "      <td>339</td>\n",
       "      <td>2471</td>\n",
       "      <td>2810</td>\n",
       "      <td>0.12</td>\n",
       "    </tr>\n",
       "    <tr>\n",
       "      <th>house</th>\n",
       "      <td>58</td>\n",
       "      <td>301</td>\n",
       "      <td>359</td>\n",
       "      <td>0.16</td>\n",
       "    </tr>\n",
       "    <tr>\n",
       "      <th>major_purchase</th>\n",
       "      <td>220</td>\n",
       "      <td>1909</td>\n",
       "      <td>2129</td>\n",
       "      <td>0.10</td>\n",
       "    </tr>\n",
       "    <tr>\n",
       "      <th>medical</th>\n",
       "      <td>106</td>\n",
       "      <td>566</td>\n",
       "      <td>672</td>\n",
       "      <td>0.16</td>\n",
       "    </tr>\n",
       "    <tr>\n",
       "      <th>moving</th>\n",
       "      <td>90</td>\n",
       "      <td>480</td>\n",
       "      <td>570</td>\n",
       "      <td>0.16</td>\n",
       "    </tr>\n",
       "    <tr>\n",
       "      <th>other</th>\n",
       "      <td>628</td>\n",
       "      <td>3201</td>\n",
       "      <td>3829</td>\n",
       "      <td>0.16</td>\n",
       "    </tr>\n",
       "    <tr>\n",
       "      <th>renewable_energy</th>\n",
       "      <td>19</td>\n",
       "      <td>81</td>\n",
       "      <td>100</td>\n",
       "      <td>0.19</td>\n",
       "    </tr>\n",
       "    <tr>\n",
       "      <th>small_business</th>\n",
       "      <td>469</td>\n",
       "      <td>1259</td>\n",
       "      <td>1728</td>\n",
       "      <td>0.27</td>\n",
       "    </tr>\n",
       "    <tr>\n",
       "      <th>vacation</th>\n",
       "      <td>53</td>\n",
       "      <td>322</td>\n",
       "      <td>375</td>\n",
       "      <td>0.14</td>\n",
       "    </tr>\n",
       "    <tr>\n",
       "      <th>wedding</th>\n",
       "      <td>94</td>\n",
       "      <td>823</td>\n",
       "      <td>917</td>\n",
       "      <td>0.10</td>\n",
       "    </tr>\n",
       "  </tbody>\n",
       "</table>\n",
       "</div>"
      ],
      "text/plain": [
       "loan_status         Charged Off  Fully Paid  Total  Probability_of_Charged_Off\n",
       "purpose                                                                       \n",
       "car                         159        1336   1495                        0.11\n",
       "credit_card                 538        4448   4986                        0.11\n",
       "debt_consolidation         2751       15164  17915                        0.15\n",
       "educational                  56         265    321                        0.17\n",
       "home_improvement            339        2471   2810                        0.12\n",
       "house                        58         301    359                        0.16\n",
       "major_purchase              220        1909   2129                        0.10\n",
       "medical                     106         566    672                        0.16\n",
       "moving                       90         480    570                        0.16\n",
       "other                       628        3201   3829                        0.16\n",
       "renewable_energy             19          81    100                        0.19\n",
       "small_business              469        1259   1728                        0.27\n",
       "vacation                     53         322    375                        0.14\n",
       "wedding                      94         823    917                        0.10"
      ]
     },
     "execution_count": 61,
     "metadata": {},
     "output_type": "execute_result"
    }
   ],
   "source": [
    "default_purp['Total'] = default_purp['Charged Off'] + default_purp['Fully Paid'] \n",
    "default_purp['Probability_of_Charged_Off'] = default_purp['Charged Off'] / default_purp['Total'] \n",
    "default_purp"
   ]
  },
  {
   "cell_type": "code",
   "execution_count": 62,
   "metadata": {
    "scrolled": false
   },
   "outputs": [
    {
     "data": {
      "text/plain": [
       "Text(0, 0.5, 'Probability of Charged Off')"
      ]
     },
     "execution_count": 62,
     "metadata": {},
     "output_type": "execute_result"
    },
    {
     "data": {
      "image/png": "[encoded data removed]",
      "text/plain": [
       "<Figure size 1584x792 with 1 Axes>"
      ]
     },
     "metadata": {},
     "output_type": "display_data"
    }
   ],
   "source": [
    "#Plot for purpose vs Probability of charged off\n",
    "fig, ax = plt.subplots(figsize=(22,11))\n",
    "sns.barplot(x=default_purp.index,y='Probability_of_Charged_Off',data=default_purp)\n",
    "ax.set_title('purpose vs Probability of charged off',fontsize=20,weight=\"bold\")\n",
    "ax.set_xlabel('purpose',fontsize=14)\n",
    "ax.set_ylabel('Probability of Charged Off',color = 'b',fontsize=14)"
   ]
  },
  {
   "cell_type": "markdown",
   "metadata": {},
   "source": [
    "*loan taken for small business are more likely to be charged off , the probability of charged off is highest for purpose 'Small business'*"
   ]
  },
  {
   "cell_type": "markdown",
   "metadata": {},
   "source": [
    "### Grade vs Probability_of_Charged_Off"
   ]
  },
  {
   "cell_type": "code",
   "execution_count": 63,
   "metadata": {},
   "outputs": [],
   "source": [
    "default_grade = loan_df2.groupby(['grade','loan_status'])['loan_status'].count().unstack().fillna(0)\n",
    "default_grade['Total'] = default_grade['Charged Off'] + default_grade['Fully Paid'] \n",
    "default_grade['Probability_of_Charged_Off'] = default_grade['Charged Off'] / default_grade['Total'] "
   ]
  },
  {
   "cell_type": "code",
   "execution_count": 64,
   "metadata": {},
   "outputs": [
    {
     "data": {
      "text/html": [
       "<div>\n",
       "<style scoped>\n",
       "    .dataframe tbody tr th:only-of-type {\n",
       "        vertical-align: middle;\n",
       "    }\n",
       "\n",
       "    .dataframe tbody tr th {\n",
       "        vertical-align: top;\n",
       "    }\n",
       "\n",
       "    .dataframe thead th {\n",
       "        text-align: right;\n",
       "    }\n",
       "</style>\n",
       "<table border=\"1\" class=\"dataframe\">\n",
       "  <thead>\n",
       "    <tr style=\"text-align: right;\">\n",
       "      <th>loan_status</th>\n",
       "      <th>Charged Off</th>\n",
       "      <th>Fully Paid</th>\n",
       "      <th>Total</th>\n",
       "      <th>Probability_of_Charged_Off</th>\n",
       "    </tr>\n",
       "    <tr>\n",
       "      <th>grade</th>\n",
       "      <th></th>\n",
       "      <th></th>\n",
       "      <th></th>\n",
       "      <th></th>\n",
       "    </tr>\n",
       "  </thead>\n",
       "  <tbody>\n",
       "    <tr>\n",
       "      <th>A</th>\n",
       "      <td>600</td>\n",
       "      <td>9379</td>\n",
       "      <td>9979</td>\n",
       "      <td>0.06</td>\n",
       "    </tr>\n",
       "    <tr>\n",
       "      <th>B</th>\n",
       "      <td>1411</td>\n",
       "      <td>10159</td>\n",
       "      <td>11570</td>\n",
       "      <td>0.12</td>\n",
       "    </tr>\n",
       "    <tr>\n",
       "      <th>C</th>\n",
       "      <td>1340</td>\n",
       "      <td>6418</td>\n",
       "      <td>7758</td>\n",
       "      <td>0.17</td>\n",
       "    </tr>\n",
       "    <tr>\n",
       "      <th>D</th>\n",
       "      <td>1111</td>\n",
       "      <td>3923</td>\n",
       "      <td>5034</td>\n",
       "      <td>0.22</td>\n",
       "    </tr>\n",
       "    <tr>\n",
       "      <th>E</th>\n",
       "      <td>705</td>\n",
       "      <td>1910</td>\n",
       "      <td>2615</td>\n",
       "      <td>0.27</td>\n",
       "    </tr>\n",
       "    <tr>\n",
       "      <th>F</th>\n",
       "      <td>314</td>\n",
       "      <td>646</td>\n",
       "      <td>960</td>\n",
       "      <td>0.33</td>\n",
       "    </tr>\n",
       "    <tr>\n",
       "      <th>G</th>\n",
       "      <td>99</td>\n",
       "      <td>191</td>\n",
       "      <td>290</td>\n",
       "      <td>0.34</td>\n",
       "    </tr>\n",
       "  </tbody>\n",
       "</table>\n",
       "</div>"
      ],
      "text/plain": [
       "loan_status  Charged Off  Fully Paid  Total  Probability_of_Charged_Off\n",
       "grade                                                                  \n",
       "A                    600        9379   9979                        0.06\n",
       "B                   1411       10159  11570                        0.12\n",
       "C                   1340        6418   7758                        0.17\n",
       "D                   1111        3923   5034                        0.22\n",
       "E                    705        1910   2615                        0.27\n",
       "F                    314         646    960                        0.33\n",
       "G                     99         191    290                        0.34"
      ]
     },
     "execution_count": 64,
     "metadata": {},
     "output_type": "execute_result"
    }
   ],
   "source": [
    "default_grade"
   ]
  },
  {
   "cell_type": "code",
   "execution_count": 65,
   "metadata": {
    "scrolled": false
   },
   "outputs": [
    {
     "data": {
      "text/plain": [
       "Text(0, 0.5, 'Probability_of_Charged_Off')"
      ]
     },
     "execution_count": 65,
     "metadata": {},
     "output_type": "execute_result"
    },
    {
     "data": {
      "image/png": "[encoded data removed]",
      "text/plain": [
       "<Figure size 1440x720 with 1 Axes>"
      ]
     },
     "metadata": {},
     "output_type": "display_data"
    }
   ],
   "source": [
    "#Plot of grade vs Probability of charged off\n",
    "fig, ax = plt.subplots(figsize=(20,10))\n",
    "sns.barplot(x=default_grade.index,y='Probability_of_Charged_Off',data=default_grade)\n",
    "ax.set_title('Grade vs Probability_of_Charged_Off',fontsize=20,weight=\"bold\")\n",
    "ax.set_xlabel('grade',fontsize=14)\n",
    "ax.set_ylabel('Probability_of_Charged_Off',color = 'b',fontsize=14)"
   ]
  },
  {
   "cell_type": "markdown",
   "metadata": {},
   "source": [
    "*As the grades are degrading ( Moving from A to G ) ,Probability of Charged off is increasing , Applicants with poor grade are more likely to default their loans*"
   ]
  },
  {
   "cell_type": "markdown",
   "metadata": {},
   "source": [
    "### Subgrade vs Probability_of_Charged_Off"
   ]
  },
  {
   "cell_type": "code",
   "execution_count": 66,
   "metadata": {},
   "outputs": [],
   "source": [
    "default_sgrade = loan_df2.groupby(['sub_grade','loan_status'])['loan_status'].count().unstack().fillna(0)\n",
    "default_sgrade['Total'] = default_sgrade['Charged Off'] + default_sgrade['Fully Paid'] \n",
    "default_sgrade['Probability_of_Charged_Off'] = default_sgrade['Charged Off'] / default_sgrade['Total'] "
   ]
  },
  {
   "cell_type": "code",
   "execution_count": 67,
   "metadata": {
    "scrolled": false
   },
   "outputs": [
    {
     "data": {
      "text/plain": [
       "Text(0, 0.5, 'Probability_of_Charged_Off')"
      ]
     },
     "execution_count": 67,
     "metadata": {},
     "output_type": "execute_result"
    },
    {
     "data": {
      "image/png": "[encoded data removed]",
      "text/plain": [
       "<Figure size 1440x720 with 1 Axes>"
      ]
     },
     "metadata": {},
     "output_type": "display_data"
    }
   ],
   "source": [
    "#Plot of subgrade vs Probability of charged off\n",
    "\n",
    "fig, ax = plt.subplots(figsize=(20,10))\n",
    "sns.barplot(x=default_sgrade.index,y='Probability_of_Charged_Off',data=default_sgrade)\n",
    "ax.set_title('Subgrade vs Probability_of_Charged_Off',fontsize=20,weight=\"bold\")\n",
    "ax.set_xlabel('sub_grade',fontsize=14)\n",
    "ax.set_ylabel('Probability_of_Charged_Off',color = 'b',fontsize=14)"
   ]
  },
  {
   "cell_type": "markdown",
   "metadata": {},
   "source": [
    "*when subgrade moves from A1 towards G5 ,Probability of charged off is increasing* "
   ]
  },
  {
   "cell_type": "markdown",
   "metadata": {},
   "source": [
    "### State vs Probability_of_Charged_Off"
   ]
  },
  {
   "cell_type": "code",
   "execution_count": 68,
   "metadata": {},
   "outputs": [],
   "source": [
    "#Grouping data on 'addr_state','loan_status'\n",
    "default_state = loan_df2.groupby(['addr_state','loan_status'])['loan_status'].count().unstack().fillna(0)\n",
    "default_state['Total'] = default_state['Charged Off'] + default_state['Fully Paid'] \n",
    "default_state['Probability_of_Charged_Off'] = default_state['Charged Off'] / default_state['Total'] "
   ]
  },
  {
   "cell_type": "code",
   "execution_count": 69,
   "metadata": {},
   "outputs": [
    {
     "data": {
      "text/html": [
       "<div>\n",
       "<style scoped>\n",
       "    .dataframe tbody tr th:only-of-type {\n",
       "        vertical-align: middle;\n",
       "    }\n",
       "\n",
       "    .dataframe tbody tr th {\n",
       "        vertical-align: top;\n",
       "    }\n",
       "\n",
       "    .dataframe thead th {\n",
       "        text-align: right;\n",
       "    }\n",
       "</style>\n",
       "<table border=\"1\" class=\"dataframe\">\n",
       "  <thead>\n",
       "    <tr style=\"text-align: right;\">\n",
       "      <th>loan_status</th>\n",
       "      <th>Charged Off</th>\n",
       "      <th>Fully Paid</th>\n",
       "      <th>Total</th>\n",
       "      <th>Probability_of_Charged_Off</th>\n",
       "    </tr>\n",
       "    <tr>\n",
       "      <th>addr_state</th>\n",
       "      <th></th>\n",
       "      <th></th>\n",
       "      <th></th>\n",
       "      <th></th>\n",
       "    </tr>\n",
       "  </thead>\n",
       "  <tbody>\n",
       "    <tr>\n",
       "      <th>AK</th>\n",
       "      <td>14.00</td>\n",
       "      <td>63.00</td>\n",
       "      <td>77.00</td>\n",
       "      <td>0.18</td>\n",
       "    </tr>\n",
       "    <tr>\n",
       "      <th>AL</th>\n",
       "      <td>54.00</td>\n",
       "      <td>378.00</td>\n",
       "      <td>432.00</td>\n",
       "      <td>0.12</td>\n",
       "    </tr>\n",
       "    <tr>\n",
       "      <th>AR</th>\n",
       "      <td>26.00</td>\n",
       "      <td>208.00</td>\n",
       "      <td>234.00</td>\n",
       "      <td>0.11</td>\n",
       "    </tr>\n",
       "    <tr>\n",
       "      <th>AZ</th>\n",
       "      <td>120.00</td>\n",
       "      <td>718.00</td>\n",
       "      <td>838.00</td>\n",
       "      <td>0.14</td>\n",
       "    </tr>\n",
       "    <tr>\n",
       "      <th>CA</th>\n",
       "      <td>1,115.00</td>\n",
       "      <td>5,770.00</td>\n",
       "      <td>6,885.00</td>\n",
       "      <td>0.16</td>\n",
       "    </tr>\n",
       "    <tr>\n",
       "      <th>CO</th>\n",
       "      <td>95.00</td>\n",
       "      <td>658.00</td>\n",
       "      <td>753.00</td>\n",
       "      <td>0.13</td>\n",
       "    </tr>\n",
       "    <tr>\n",
       "      <th>CT</th>\n",
       "      <td>94.00</td>\n",
       "      <td>620.00</td>\n",
       "      <td>714.00</td>\n",
       "      <td>0.13</td>\n",
       "    </tr>\n",
       "    <tr>\n",
       "      <th>DC</th>\n",
       "      <td>15.00</td>\n",
       "      <td>192.00</td>\n",
       "      <td>207.00</td>\n",
       "      <td>0.07</td>\n",
       "    </tr>\n",
       "    <tr>\n",
       "      <th>DE</th>\n",
       "      <td>12.00</td>\n",
       "      <td>101.00</td>\n",
       "      <td>113.00</td>\n",
       "      <td>0.11</td>\n",
       "    </tr>\n",
       "    <tr>\n",
       "      <th>FL</th>\n",
       "      <td>498.00</td>\n",
       "      <td>2,257.00</td>\n",
       "      <td>2,755.00</td>\n",
       "      <td>0.18</td>\n",
       "    </tr>\n",
       "    <tr>\n",
       "      <th>GA</th>\n",
       "      <td>214.00</td>\n",
       "      <td>1,131.00</td>\n",
       "      <td>1,345.00</td>\n",
       "      <td>0.16</td>\n",
       "    </tr>\n",
       "    <tr>\n",
       "      <th>HI</th>\n",
       "      <td>28.00</td>\n",
       "      <td>138.00</td>\n",
       "      <td>166.00</td>\n",
       "      <td>0.17</td>\n",
       "    </tr>\n",
       "    <tr>\n",
       "      <th>IA</th>\n",
       "      <td>0.00</td>\n",
       "      <td>5.00</td>\n",
       "      <td>5.00</td>\n",
       "      <td>0.00</td>\n",
       "    </tr>\n",
       "    <tr>\n",
       "      <th>ID</th>\n",
       "      <td>1.00</td>\n",
       "      <td>5.00</td>\n",
       "      <td>6.00</td>\n",
       "      <td>0.17</td>\n",
       "    </tr>\n",
       "    <tr>\n",
       "      <th>IL</th>\n",
       "      <td>197.00</td>\n",
       "      <td>1,262.00</td>\n",
       "      <td>1,459.00</td>\n",
       "      <td>0.14</td>\n",
       "    </tr>\n",
       "    <tr>\n",
       "      <th>IN</th>\n",
       "      <td>0.00</td>\n",
       "      <td>9.00</td>\n",
       "      <td>9.00</td>\n",
       "      <td>0.00</td>\n",
       "    </tr>\n",
       "    <tr>\n",
       "      <th>KS</th>\n",
       "      <td>31.00</td>\n",
       "      <td>222.00</td>\n",
       "      <td>253.00</td>\n",
       "      <td>0.12</td>\n",
       "    </tr>\n",
       "    <tr>\n",
       "      <th>KY</th>\n",
       "      <td>45.00</td>\n",
       "      <td>266.00</td>\n",
       "      <td>311.00</td>\n",
       "      <td>0.14</td>\n",
       "    </tr>\n",
       "    <tr>\n",
       "      <th>LA</th>\n",
       "      <td>53.00</td>\n",
       "      <td>367.00</td>\n",
       "      <td>420.00</td>\n",
       "      <td>0.13</td>\n",
       "    </tr>\n",
       "    <tr>\n",
       "      <th>MA</th>\n",
       "      <td>156.00</td>\n",
       "      <td>1,122.00</td>\n",
       "      <td>1,278.00</td>\n",
       "      <td>0.12</td>\n",
       "    </tr>\n",
       "    <tr>\n",
       "      <th>MD</th>\n",
       "      <td>161.00</td>\n",
       "      <td>848.00</td>\n",
       "      <td>1,009.00</td>\n",
       "      <td>0.16</td>\n",
       "    </tr>\n",
       "    <tr>\n",
       "      <th>ME</th>\n",
       "      <td>0.00</td>\n",
       "      <td>3.00</td>\n",
       "      <td>3.00</td>\n",
       "      <td>0.00</td>\n",
       "    </tr>\n",
       "    <tr>\n",
       "      <th>MI</th>\n",
       "      <td>102.00</td>\n",
       "      <td>595.00</td>\n",
       "      <td>697.00</td>\n",
       "      <td>0.15</td>\n",
       "    </tr>\n",
       "    <tr>\n",
       "      <th>MN</th>\n",
       "      <td>81.00</td>\n",
       "      <td>522.00</td>\n",
       "      <td>603.00</td>\n",
       "      <td>0.13</td>\n",
       "    </tr>\n",
       "    <tr>\n",
       "      <th>MO</th>\n",
       "      <td>113.00</td>\n",
       "      <td>552.00</td>\n",
       "      <td>665.00</td>\n",
       "      <td>0.17</td>\n",
       "    </tr>\n",
       "    <tr>\n",
       "      <th>MS</th>\n",
       "      <td>2.00</td>\n",
       "      <td>16.00</td>\n",
       "      <td>18.00</td>\n",
       "      <td>0.11</td>\n",
       "    </tr>\n",
       "    <tr>\n",
       "      <th>MT</th>\n",
       "      <td>11.00</td>\n",
       "      <td>71.00</td>\n",
       "      <td>82.00</td>\n",
       "      <td>0.13</td>\n",
       "    </tr>\n",
       "    <tr>\n",
       "      <th>NC</th>\n",
       "      <td>114.00</td>\n",
       "      <td>630.00</td>\n",
       "      <td>744.00</td>\n",
       "      <td>0.15</td>\n",
       "    </tr>\n",
       "    <tr>\n",
       "      <th>NE</th>\n",
       "      <td>3.00</td>\n",
       "      <td>2.00</td>\n",
       "      <td>5.00</td>\n",
       "      <td>0.60</td>\n",
       "    </tr>\n",
       "    <tr>\n",
       "      <th>NH</th>\n",
       "      <td>25.00</td>\n",
       "      <td>139.00</td>\n",
       "      <td>164.00</td>\n",
       "      <td>0.15</td>\n",
       "    </tr>\n",
       "    <tr>\n",
       "      <th>NJ</th>\n",
       "      <td>277.00</td>\n",
       "      <td>1,493.00</td>\n",
       "      <td>1,770.00</td>\n",
       "      <td>0.16</td>\n",
       "    </tr>\n",
       "    <tr>\n",
       "      <th>NM</th>\n",
       "      <td>30.00</td>\n",
       "      <td>151.00</td>\n",
       "      <td>181.00</td>\n",
       "      <td>0.17</td>\n",
       "    </tr>\n",
       "    <tr>\n",
       "      <th>NV</th>\n",
       "      <td>107.00</td>\n",
       "      <td>368.00</td>\n",
       "      <td>475.00</td>\n",
       "      <td>0.23</td>\n",
       "    </tr>\n",
       "    <tr>\n",
       "      <th>NY</th>\n",
       "      <td>489.00</td>\n",
       "      <td>3,167.00</td>\n",
       "      <td>3,656.00</td>\n",
       "      <td>0.13</td>\n",
       "    </tr>\n",
       "    <tr>\n",
       "      <th>OH</th>\n",
       "      <td>153.00</td>\n",
       "      <td>1,019.00</td>\n",
       "      <td>1,172.00</td>\n",
       "      <td>0.13</td>\n",
       "    </tr>\n",
       "    <tr>\n",
       "      <th>OK</th>\n",
       "      <td>40.00</td>\n",
       "      <td>246.00</td>\n",
       "      <td>286.00</td>\n",
       "      <td>0.14</td>\n",
       "    </tr>\n",
       "    <tr>\n",
       "      <th>OR</th>\n",
       "      <td>71.00</td>\n",
       "      <td>363.00</td>\n",
       "      <td>434.00</td>\n",
       "      <td>0.16</td>\n",
       "    </tr>\n",
       "    <tr>\n",
       "      <th>PA</th>\n",
       "      <td>178.00</td>\n",
       "      <td>1,284.00</td>\n",
       "      <td>1,462.00</td>\n",
       "      <td>0.12</td>\n",
       "    </tr>\n",
       "    <tr>\n",
       "      <th>RI</th>\n",
       "      <td>25.00</td>\n",
       "      <td>166.00</td>\n",
       "      <td>191.00</td>\n",
       "      <td>0.13</td>\n",
       "    </tr>\n",
       "    <tr>\n",
       "      <th>SC</th>\n",
       "      <td>66.00</td>\n",
       "      <td>390.00</td>\n",
       "      <td>456.00</td>\n",
       "      <td>0.14</td>\n",
       "    </tr>\n",
       "    <tr>\n",
       "      <th>SD</th>\n",
       "      <td>12.00</td>\n",
       "      <td>50.00</td>\n",
       "      <td>62.00</td>\n",
       "      <td>0.19</td>\n",
       "    </tr>\n",
       "    <tr>\n",
       "      <th>TN</th>\n",
       "      <td>2.00</td>\n",
       "      <td>15.00</td>\n",
       "      <td>17.00</td>\n",
       "      <td>0.12</td>\n",
       "    </tr>\n",
       "    <tr>\n",
       "      <th>TX</th>\n",
       "      <td>313.00</td>\n",
       "      <td>2,320.00</td>\n",
       "      <td>2,633.00</td>\n",
       "      <td>0.12</td>\n",
       "    </tr>\n",
       "    <tr>\n",
       "      <th>UT</th>\n",
       "      <td>40.00</td>\n",
       "      <td>211.00</td>\n",
       "      <td>251.00</td>\n",
       "      <td>0.16</td>\n",
       "    </tr>\n",
       "    <tr>\n",
       "      <th>VA</th>\n",
       "      <td>176.00</td>\n",
       "      <td>1,178.00</td>\n",
       "      <td>1,354.00</td>\n",
       "      <td>0.13</td>\n",
       "    </tr>\n",
       "    <tr>\n",
       "      <th>VT</th>\n",
       "      <td>6.00</td>\n",
       "      <td>45.00</td>\n",
       "      <td>51.00</td>\n",
       "      <td>0.12</td>\n",
       "    </tr>\n",
       "    <tr>\n",
       "      <th>WA</th>\n",
       "      <td>127.00</td>\n",
       "      <td>688.00</td>\n",
       "      <td>815.00</td>\n",
       "      <td>0.16</td>\n",
       "    </tr>\n",
       "    <tr>\n",
       "      <th>WI</th>\n",
       "      <td>63.00</td>\n",
       "      <td>375.00</td>\n",
       "      <td>438.00</td>\n",
       "      <td>0.14</td>\n",
       "    </tr>\n",
       "    <tr>\n",
       "      <th>WV</th>\n",
       "      <td>21.00</td>\n",
       "      <td>151.00</td>\n",
       "      <td>172.00</td>\n",
       "      <td>0.12</td>\n",
       "    </tr>\n",
       "    <tr>\n",
       "      <th>WY</th>\n",
       "      <td>4.00</td>\n",
       "      <td>76.00</td>\n",
       "      <td>80.00</td>\n",
       "      <td>0.05</td>\n",
       "    </tr>\n",
       "  </tbody>\n",
       "</table>\n",
       "</div>"
      ],
      "text/plain": [
       "loan_status  Charged Off  Fully Paid    Total  Probability_of_Charged_Off\n",
       "addr_state                                                               \n",
       "AK                 14.00       63.00    77.00                        0.18\n",
       "AL                 54.00      378.00   432.00                        0.12\n",
       "AR                 26.00      208.00   234.00                        0.11\n",
       "AZ                120.00      718.00   838.00                        0.14\n",
       "CA              1,115.00    5,770.00 6,885.00                        0.16\n",
       "CO                 95.00      658.00   753.00                        0.13\n",
       "CT                 94.00      620.00   714.00                        0.13\n",
       "DC                 15.00      192.00   207.00                        0.07\n",
       "DE                 12.00      101.00   113.00                        0.11\n",
       "FL                498.00    2,257.00 2,755.00                        0.18\n",
       "GA                214.00    1,131.00 1,345.00                        0.16\n",
       "HI                 28.00      138.00   166.00                        0.17\n",
       "IA                  0.00        5.00     5.00                        0.00\n",
       "ID                  1.00        5.00     6.00                        0.17\n",
       "IL                197.00    1,262.00 1,459.00                        0.14\n",
       "IN                  0.00        9.00     9.00                        0.00\n",
       "KS                 31.00      222.00   253.00                        0.12\n",
       "KY                 45.00      266.00   311.00                        0.14\n",
       "LA                 53.00      367.00   420.00                        0.13\n",
       "MA                156.00    1,122.00 1,278.00                        0.12\n",
       "MD                161.00      848.00 1,009.00                        0.16\n",
       "ME                  0.00        3.00     3.00                        0.00\n",
       "MI                102.00      595.00   697.00                        0.15\n",
       "MN                 81.00      522.00   603.00                        0.13\n",
       "MO                113.00      552.00   665.00                        0.17\n",
       "MS                  2.00       16.00    18.00                        0.11\n",
       "MT                 11.00       71.00    82.00                        0.13\n",
       "NC                114.00      630.00   744.00                        0.15\n",
       "NE                  3.00        2.00     5.00                        0.60\n",
       "NH                 25.00      139.00   164.00                        0.15\n",
       "NJ                277.00    1,493.00 1,770.00                        0.16\n",
       "NM                 30.00      151.00   181.00                        0.17\n",
       "NV                107.00      368.00   475.00                        0.23\n",
       "NY                489.00    3,167.00 3,656.00                        0.13\n",
       "OH                153.00    1,019.00 1,172.00                        0.13\n",
       "OK                 40.00      246.00   286.00                        0.14\n",
       "OR                 71.00      363.00   434.00                        0.16\n",
       "PA                178.00    1,284.00 1,462.00                        0.12\n",
       "RI                 25.00      166.00   191.00                        0.13\n",
       "SC                 66.00      390.00   456.00                        0.14\n",
       "SD                 12.00       50.00    62.00                        0.19\n",
       "TN                  2.00       15.00    17.00                        0.12\n",
       "TX                313.00    2,320.00 2,633.00                        0.12\n",
       "UT                 40.00      211.00   251.00                        0.16\n",
       "VA                176.00    1,178.00 1,354.00                        0.13\n",
       "VT                  6.00       45.00    51.00                        0.12\n",
       "WA                127.00      688.00   815.00                        0.16\n",
       "WI                 63.00      375.00   438.00                        0.14\n",
       "WV                 21.00      151.00   172.00                        0.12\n",
       "WY                  4.00       76.00    80.00                        0.05"
      ]
     },
     "execution_count": 69,
     "metadata": {},
     "output_type": "execute_result"
    }
   ],
   "source": [
    "default_state"
   ]
  },
  {
   "cell_type": "code",
   "execution_count": 70,
   "metadata": {
    "scrolled": false
   },
   "outputs": [
    {
     "data": {
      "text/plain": [
       "Text(0, 0.5, 'Probability_of_Charged_Off')"
      ]
     },
     "execution_count": 70,
     "metadata": {},
     "output_type": "execute_result"
    },
    {
     "data": {
      "image/png": "[encoded data removed]",
      "text/plain": [
       "<Figure size 1440x720 with 1 Axes>"
      ]
     },
     "metadata": {},
     "output_type": "display_data"
    }
   ],
   "source": [
    "#Plot of addr_state vs Probability of charged off\n",
    "\n",
    "fig, ax = plt.subplots(figsize=(20,10))\n",
    "sns.barplot(x=default_state.index,y='Probability_of_Charged_Off',data=default_state)\n",
    "ax.set_title('State vs Probability of charged off',fontsize=20,weight=\"bold\")\n",
    "ax.set_xlabel('State',fontsize=14)\n",
    "ax.set_ylabel('Probability_of_Charged_Off',color = 'b',fontsize=14)"
   ]
  },
  {
   "cell_type": "markdown",
   "metadata": {},
   "source": [
    "*Multiple states having approximately similar trend of probability of chargedoff , Highest probability is in 'NE' where probability is 0.60*"
   ]
  },
  {
   "cell_type": "markdown",
   "metadata": {},
   "source": [
    "### home_ownership vs probability of charged off`"
   ]
  },
  {
   "cell_type": "code",
   "execution_count": 71,
   "metadata": {},
   "outputs": [],
   "source": [
    "#Grouping data on home_ownership','loan_status'\n",
    "default_own = loan_df2.groupby(['home_ownership','loan_status'])['loan_status'].count().unstack().fillna(0)\n",
    "default_own['Total'] = default_own['Charged Off'] + default_own['Fully Paid'] \n",
    "default_own['Probability_of_Charged_Off'] = default_own['Charged Off'] / default_own['Total'] "
   ]
  },
  {
   "cell_type": "code",
   "execution_count": 72,
   "metadata": {},
   "outputs": [
    {
     "data": {
      "text/html": [
       "<div>\n",
       "<style scoped>\n",
       "    .dataframe tbody tr th:only-of-type {\n",
       "        vertical-align: middle;\n",
       "    }\n",
       "\n",
       "    .dataframe tbody tr th {\n",
       "        vertical-align: top;\n",
       "    }\n",
       "\n",
       "    .dataframe thead th {\n",
       "        text-align: right;\n",
       "    }\n",
       "</style>\n",
       "<table border=\"1\" class=\"dataframe\">\n",
       "  <thead>\n",
       "    <tr style=\"text-align: right;\">\n",
       "      <th>loan_status</th>\n",
       "      <th>Charged Off</th>\n",
       "      <th>Fully Paid</th>\n",
       "      <th>Total</th>\n",
       "      <th>Probability_of_Charged_Off</th>\n",
       "    </tr>\n",
       "    <tr>\n",
       "      <th>home_ownership</th>\n",
       "      <th></th>\n",
       "      <th></th>\n",
       "      <th></th>\n",
       "      <th></th>\n",
       "    </tr>\n",
       "  </thead>\n",
       "  <tbody>\n",
       "    <tr>\n",
       "      <th>MORTGAGE</th>\n",
       "      <td>2311</td>\n",
       "      <td>14524</td>\n",
       "      <td>16835</td>\n",
       "      <td>0.14</td>\n",
       "    </tr>\n",
       "    <tr>\n",
       "      <th>OWN</th>\n",
       "      <td>440</td>\n",
       "      <td>2514</td>\n",
       "      <td>2954</td>\n",
       "      <td>0.15</td>\n",
       "    </tr>\n",
       "    <tr>\n",
       "      <th>RENT</th>\n",
       "      <td>2829</td>\n",
       "      <td>15588</td>\n",
       "      <td>18417</td>\n",
       "      <td>0.15</td>\n",
       "    </tr>\n",
       "  </tbody>\n",
       "</table>\n",
       "</div>"
      ],
      "text/plain": [
       "loan_status     Charged Off  Fully Paid  Total  Probability_of_Charged_Off\n",
       "home_ownership                                                            \n",
       "MORTGAGE               2311       14524  16835                        0.14\n",
       "OWN                     440        2514   2954                        0.15\n",
       "RENT                   2829       15588  18417                        0.15"
      ]
     },
     "execution_count": 72,
     "metadata": {},
     "output_type": "execute_result"
    }
   ],
   "source": [
    "default_own"
   ]
  },
  {
   "cell_type": "code",
   "execution_count": 73,
   "metadata": {
    "scrolled": false
   },
   "outputs": [
    {
     "data": {
      "text/plain": [
       "Text(0, 0.5, 'Probability of Charged Off')"
      ]
     },
     "execution_count": 73,
     "metadata": {},
     "output_type": "execute_result"
    },
    {
     "data": {
      "image/png": "[encoded data removed]",
      "text/plain": [
       "<Figure size 1080x504 with 1 Axes>"
      ]
     },
     "metadata": {},
     "output_type": "display_data"
    }
   ],
   "source": [
    "#Home_ownership vs Probability of charged off\n",
    "fig, ax = plt.subplots(figsize=(15,7))\n",
    "sns.barplot(x=default_own.index,y='Probability_of_Charged_Off',data=default_own)\n",
    "ax.set_title('home_ownership vs Probability of charged off',fontsize=20,weight=\"bold\")\n",
    "ax.set_xlabel('home_ownership',fontsize=14)\n",
    "ax.set_ylabel('Probability of Charged Off',color = 'b',fontsize=14)"
   ]
  },
  {
   "cell_type": "markdown",
   "metadata": {},
   "source": [
    "*Probability of charged off across home_ownership doesn't seems to be highly differentiated,hence it cannot be considered as a driving variable for prediction of default*"
   ]
  },
  {
   "cell_type": "markdown",
   "metadata": {},
   "source": [
    "### Interest Rate vs probability of charged off"
   ]
  },
  {
   "cell_type": "code",
   "execution_count": 74,
   "metadata": {},
   "outputs": [],
   "source": [
    "#Grouping data on 'int_rate_range','loan_status'\n",
    "default_int = loan_df2.groupby(['int_rate_range','loan_status'])['loan_status'].count().unstack().fillna(0)\n",
    "default_int['Total'] = default_int['Charged Off'] + default_int['Fully Paid'] \n",
    "default_int['Probability_of_Charged_Off'] = default_int['Charged Off'] / default_int['Total'] "
   ]
  },
  {
   "cell_type": "code",
   "execution_count": 75,
   "metadata": {
    "scrolled": true
   },
   "outputs": [
    {
     "data": {
      "text/html": [
       "<div>\n",
       "<style scoped>\n",
       "    .dataframe tbody tr th:only-of-type {\n",
       "        vertical-align: middle;\n",
       "    }\n",
       "\n",
       "    .dataframe tbody tr th {\n",
       "        vertical-align: top;\n",
       "    }\n",
       "\n",
       "    .dataframe thead th {\n",
       "        text-align: right;\n",
       "    }\n",
       "</style>\n",
       "<table border=\"1\" class=\"dataframe\">\n",
       "  <thead>\n",
       "    <tr style=\"text-align: right;\">\n",
       "      <th>loan_status</th>\n",
       "      <th>Charged Off</th>\n",
       "      <th>Fully Paid</th>\n",
       "      <th>Total</th>\n",
       "      <th>Probability_of_Charged_Off</th>\n",
       "    </tr>\n",
       "    <tr>\n",
       "      <th>int_rate_range</th>\n",
       "      <th></th>\n",
       "      <th></th>\n",
       "      <th></th>\n",
       "      <th></th>\n",
       "    </tr>\n",
       "  </thead>\n",
       "  <tbody>\n",
       "    <tr>\n",
       "      <th>0-7.5</th>\n",
       "      <td>256</td>\n",
       "      <td>5096</td>\n",
       "      <td>5352</td>\n",
       "      <td>0.05</td>\n",
       "    </tr>\n",
       "    <tr>\n",
       "      <th>7.5-10</th>\n",
       "      <td>569</td>\n",
       "      <td>6311</td>\n",
       "      <td>6880</td>\n",
       "      <td>0.08</td>\n",
       "    </tr>\n",
       "    <tr>\n",
       "      <th>10-12.5</th>\n",
       "      <td>1219</td>\n",
       "      <td>8070</td>\n",
       "      <td>9289</td>\n",
       "      <td>0.13</td>\n",
       "    </tr>\n",
       "    <tr>\n",
       "      <th>12.5-15</th>\n",
       "      <td>1469</td>\n",
       "      <td>7330</td>\n",
       "      <td>8799</td>\n",
       "      <td>0.17</td>\n",
       "    </tr>\n",
       "    <tr>\n",
       "      <th>15 and above</th>\n",
       "      <td>1776</td>\n",
       "      <td>5361</td>\n",
       "      <td>7137</td>\n",
       "      <td>0.25</td>\n",
       "    </tr>\n",
       "  </tbody>\n",
       "</table>\n",
       "</div>"
      ],
      "text/plain": [
       "loan_status     Charged Off  Fully Paid  Total  Probability_of_Charged_Off\n",
       "int_rate_range                                                            \n",
       "0-7.5                   256        5096   5352                        0.05\n",
       "7.5-10                  569        6311   6880                        0.08\n",
       "10-12.5                1219        8070   9289                        0.13\n",
       "12.5-15                1469        7330   8799                        0.17\n",
       "15 and above           1776        5361   7137                        0.25"
      ]
     },
     "execution_count": 75,
     "metadata": {},
     "output_type": "execute_result"
    }
   ],
   "source": [
    "default_int"
   ]
  },
  {
   "cell_type": "code",
   "execution_count": 76,
   "metadata": {
    "scrolled": false
   },
   "outputs": [
    {
     "data": {
      "text/plain": [
       "Text(0, 0.5, 'Probability_of_Charged_Off')"
      ]
     },
     "execution_count": 76,
     "metadata": {},
     "output_type": "execute_result"
    },
    {
     "data": {
      "image/png": "[encoded data removed]",
      "text/plain": [
       "<Figure size 1080x504 with 1 Axes>"
      ]
     },
     "metadata": {},
     "output_type": "display_data"
    }
   ],
   "source": [
    "#int_rate vs Probability of charged off\n",
    "fig, ax = plt.subplots(figsize=(15,7))\n",
    "sns.barplot(x=default_int.index,y='Probability_of_Charged_Off',data=default_int)\n",
    "ax.set_title('Interest Rate vs Probability of charged off',fontsize=20,weight=\"bold\")\n",
    "ax.set_xlabel('int_rate',fontsize=14)\n",
    "ax.set_ylabel('Probability_of_Charged_Off',color = 'b',fontsize=14)"
   ]
  },
  {
   "cell_type": "markdown",
   "metadata": {},
   "source": [
    "*Higher the interest rate,more probabililty that the applicant could default their loan* "
   ]
  },
  {
   "cell_type": "markdown",
   "metadata": {},
   "source": [
    "### Conclusion\n",
    "\n",
    "\n",
    "#### Lending club should focus on these variables for prediction of loans more likely to default-:\n",
    "##### 1.Purpose of Loan,\n",
    "##### 2.Annual Income,\n",
    "##### 3.Grade,\n",
    "##### 4.Subgrade,\n",
    "##### 5.Interest Rate\n",
    "##### 6.addr_state,"
   ]
  },
  {
   "cell_type": "code",
   "execution_count": null,
   "metadata": {},
   "outputs": [],
   "source": []
  }
 ],
 "metadata": {
  "kernelspec": {
   "display_name": "Python 3",
   "language": "python",
   "name": "python3"
  },
  "language_info": {
   "codemirror_mode": {
    "name": "ipython",
    "version": 3
   },
   "file_extension": ".py",
   "mimetype": "text/x-python",
   "name": "python",
   "nbconvert_exporter": "python",
   "pygments_lexer": "ipython3",
   "version": "3.7.3"
  }
 },
 "nbformat": 4,
 "nbformat_minor": 2
}
