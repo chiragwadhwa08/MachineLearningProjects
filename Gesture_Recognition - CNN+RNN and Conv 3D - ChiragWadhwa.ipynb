{
 "cells": [
  {
   "cell_type": "markdown",
   "metadata": {},
   "source": [
    "# Gesture Recognition\n",
    "In this group project, you are going to build a 3D Conv model that will be able to predict the 5 gestures correctly. Please import the following libraries to get started."
   ]
  },
  {
   "cell_type": "code",
   "execution_count": 1,
   "metadata": {},
   "outputs": [],
   "source": [
    "import numpy as np\n",
    "import os\n",
    "from scipy.misc import imread, imresize\n",
    "import datetime\n",
    "from PIL import Image "
   ]
  },
  {
   "cell_type": "markdown",
   "metadata": {},
   "source": [
    "We set the random seed so that the results don't vary drastically."
   ]
  },
  {
   "cell_type": "code",
   "execution_count": 2,
   "metadata": {},
   "outputs": [
    {
     "name": "stderr",
     "output_type": "stream",
     "text": [
      "Using TensorFlow backend.\n"
     ]
    }
   ],
   "source": [
    "np.random.seed(30)\n",
    "import random as rn\n",
    "rn.seed(30)\n",
    "from keras import backend as K\n",
    "import tensorflow as tf\n",
    "tf.set_random_seed(30)"
   ]
  },
  {
   "cell_type": "markdown",
   "metadata": {},
   "source": [
    "In this block, you read the folder names for training and validation. You also set the `batch_size` here. Note that you set the batch size in such a way that you are able to use the GPU in full capacity. You keep increasing the batch size until the machine throws an error."
   ]
  },
  {
   "cell_type": "code",
   "execution_count": 3,
   "metadata": {},
   "outputs": [],
   "source": [
    "train_doc = np.random.permutation(open('./Project_data/train.csv').readlines())\n",
    "val_doc = np.random.permutation(open('./Project_data/val.csv').readlines())\n",
    "batch_size = 15 #experiment with the batch size"
   ]
  },
  {
   "cell_type": "code",
   "execution_count": 4,
   "metadata": {},
   "outputs": [
    {
     "name": "stdout",
     "output_type": "stream",
     "text": [
      "(663,)\n",
      "(100,)\n"
     ]
    }
   ],
   "source": [
    "print(train_doc.shape)\n",
    "print(val_doc.shape)"
   ]
  },
  {
   "cell_type": "markdown",
   "metadata": {},
   "source": [
    "## Generator\n",
    "This is one of the most important part of the code. The overall structure of the generator has been given. In the generator, you are going to preprocess the images as you have images of 2 different dimensions as well as create a batch of video frames. You have to experiment with `img_idx`, `y`,`z` and normalization such that you get high accuracy."
   ]
  },
  {
   "cell_type": "code",
   "execution_count": 5,
   "metadata": {},
   "outputs": [],
   "source": [
    "#Image size to consider\n",
    "final_img_size=(120,120)\n",
    "img_idx = [0,2,4,6,8,10,12,14,16,18,20,22,24,26,28]\n",
    "total_img = len(img_idx)\n",
    "def generator(source_path, folder_list, batch_size):\n",
    "    print( 'Source path = ', source_path, '; batch size =', batch_size)\n",
    "    while True:\n",
    "        t = np.random.permutation(folder_list)\n",
    "        num_batches = len(t)//batch_size # calculate the number of batches\n",
    "        for batch in range(num_batches): # we iterate over the number of batches\n",
    "            batch_data = np.zeros((batch_size,len(img_idx),final_img_size[0],final_img_size[1],3)) # x is the number of images you use for each video, (y,z) is the final size of the input images and 3 is the number of channels RGB\n",
    "            batch_labels = np.zeros((batch_size,5)) # batch_labels is the one hot representation of the output\n",
    "            for folder in range(batch_size): # iterate over the batch_size\n",
    "                imgs = os.listdir(source_path+'/'+ t[folder + (batch*batch_size)].split(';')[0]) # read all the images in the folder\n",
    "                for idx,item in enumerate(img_idx): #  Iterate iver the frames/images of a folder to read them in\n",
    "                    image = imread(source_path+'/'+ t[folder + (batch*batch_size)].strip().split(';')[0]+'/'+imgs[item]).astype(np.float32)\n",
    "                    if (image.shape[1]==160):\n",
    "                        image = image[:,20:140,:]\n",
    "                    else:\n",
    "                        image = imresize(arr=image, size=final_img_size)\n",
    "                    #crop the images and resize them. Note that the images are of 2 different shape \n",
    "                    #and the conv3D will throw error if the inputs in a batch have different shapes\n",
    "                    \n",
    "                    batch_data[folder,idx,:,:,0] = (image[:,:,0]-np.percentile(image[:,:,0],5))/(np.percentile(image[:,:,0],95)-np.percentile(image[:,:,0],5))\n",
    "                    batch_data[folder,idx,:,:,1] = (image[:,:,1]-np.percentile(image[:,:,1],5))/(np.percentile(image[:,:,1],95)-np.percentile(image[:,:,1],5))\n",
    "                    batch_data[folder,idx,:,:,2] = (image[:,:,2]-np.percentile(image[:,:,2],5))/(np.percentile(image[:,:,2],95)-np.percentile(image[:,:,2],5))\n",
    "                    \n",
    "                batch_labels[folder, int(t[folder + (batch*batch_size)].strip().split(';')[2])] = 1\n",
    "            yield batch_data, batch_labels #you yield the batch_data and the batch_labels, remember what does yield do\n",
    "\n",
    "        \n",
    "        # write the code for the remaining data points which are left after full batches\n",
    "        if(len(t)%batch_size!=0):\n",
    "            batch_data = np.zeros((len(t)%batch_size,len(img_idx),final_img_size[0],final_img_size[1],3)) # x is the number of images you use for each video, (y,z) is the final size of the input images and 3 is the number of channels RGB\n",
    "            batch_labels = np.zeros((len(t)%batch_size,5)) # batch_labels is the one hot representation of the output\n",
    "            for folder in range(len(t)%batch_size): # iterate over the batch_size\n",
    "                imgs = os.listdir(source_path+'/'+ t[folder + (batch_size* num_batches)].split(';')[0]) # read all the images in the folder\n",
    "                for idx,item in enumerate(img_idx): #  Iterate iver the frames/images of a folder to read them in\n",
    "                    image = imread(source_path+'/'+ t[folder + (batch_size*num_batches)].strip().split(';')[0]+'/'+imgs[item]).astype(np.float32)\n",
    "                    \n",
    "                    image = imresize(arr=image, size=final_img_size)\n",
    "                    #crop the images and resize them. Note that the images are of 2 different shape \n",
    "                    #and the conv3D will throw error if the inputs in a batch have different shapes\n",
    "                    \n",
    "                    batch_data[folder,idx,:,:,0] = (image[:,:,0]-np.percentile(image[:,:,0],5))/(np.percentile(image[:,:,0],95)-np.percentile(image[:,:,0],5))\n",
    "                    batch_data[folder,idx,:,:,1] = (image[:,:,1]-np.percentile(image[:,:,1],5))/(np.percentile(image[:,:,1],95)-np.percentile(image[:,:,1],5))\n",
    "                    batch_data[folder,idx,:,:,2] = (image[:,:,2]-np.percentile(image[:,:,2],5))/(np.percentile(image[:,:,2],95)-np.percentile(image[:,:,2],5))\n",
    "                    \n",
    "                batch_labels[folder, int(t[folder + (num_batches*batch_size)].strip().split(';')[2])] = 1\n",
    "            yield batch_data, batch_labels #you yield the batch_data and the batch_labels, remember what does yield do"
   ]
  },
  {
   "cell_type": "code",
   "execution_count": 6,
   "metadata": {},
   "outputs": [
    {
     "name": "stdout",
     "output_type": "stream",
     "text": [
      "# training sequences = 663\n",
      "# validation sequences = 100\n"
     ]
    }
   ],
   "source": [
    "curr_dt_time = datetime.datetime.now()\n",
    "train_path = './Project_data/train'\n",
    "val_path = './Project_data/val'\n",
    "num_train_sequences = len(train_doc)\n",
    "print('# training sequences =', num_train_sequences)\n",
    "num_val_sequences = len(val_doc)\n",
    "print('# validation sequences =', num_val_sequences)"
   ]
  },
  {
   "cell_type": "code",
   "execution_count": 7,
   "metadata": {},
   "outputs": [],
   "source": [
    "train_generator = generator(train_path, train_doc, batch_size)\n",
    "val_generator = generator(val_path, val_doc, batch_size)"
   ]
  },
  {
   "cell_type": "markdown",
   "metadata": {},
   "source": [
    "## Model - Conv3D\n",
    "Here you make the model using different functionalities that Keras provides. Remember to use `Conv3D` and `MaxPooling3D` and not `Conv2D` and `Maxpooling2D` for a 3D convolution model. You would want to use `TimeDistributed` while building a Conv2D + RNN model. Also remember that the last layer is the softmax. Design the network in such a way that the model is able to give good accuracy on the least number of parameters so that it can fit in the memory of the webcam."
   ]
  },
  {
   "cell_type": "code",
   "execution_count": 8,
   "metadata": {},
   "outputs": [
    {
     "name": "stdout",
     "output_type": "stream",
     "text": [
      "# epochs = 20\n"
     ]
    }
   ],
   "source": [
    "num_epochs = 20 # choose the number of epochs\n",
    "print ('# epochs =', num_epochs)"
   ]
  },
  {
   "cell_type": "code",
   "execution_count": 9,
   "metadata": {},
   "outputs": [
    {
     "name": "stdout",
     "output_type": "stream",
     "text": [
      "_________________________________________________________________\n",
      "Layer (type)                 Output Shape              Param #   \n",
      "=================================================================\n",
      "conv3d_1 (Conv3D)            (None, 15, 120, 120, 16)  1312      \n",
      "_________________________________________________________________\n",
      "batch_normalization_1 (Batch (None, 15, 120, 120, 16)  64        \n",
      "_________________________________________________________________\n",
      "max_pooling3d_1 (MaxPooling3 (None, 14, 60, 60, 16)    0         \n",
      "_________________________________________________________________\n",
      "conv3d_2 (Conv3D)            (None, 14, 60, 60, 32)    13856     \n",
      "_________________________________________________________________\n",
      "batch_normalization_2 (Batch (None, 14, 60, 60, 32)    128       \n",
      "_________________________________________________________________\n",
      "max_pooling3d_2 (MaxPooling3 (None, 7, 30, 30, 32)     0         \n",
      "_________________________________________________________________\n",
      "conv3d_3 (Conv3D)            (None, 7, 30, 30, 64)     55360     \n",
      "_________________________________________________________________\n",
      "batch_normalization_3 (Batch (None, 7, 30, 30, 64)     256       \n",
      "_________________________________________________________________\n",
      "max_pooling3d_3 (MaxPooling3 (None, 3, 15, 15, 64)     0         \n",
      "_________________________________________________________________\n",
      "flatten_1 (Flatten)          (None, 43200)             0         \n",
      "_________________________________________________________________\n",
      "dense_1 (Dense)              (None, 128)               5529728   \n",
      "_________________________________________________________________\n",
      "dropout_1 (Dropout)          (None, 128)               0         \n",
      "_________________________________________________________________\n",
      "dense_2 (Dense)              (None, 5)                 645       \n",
      "=================================================================\n",
      "Total params: 5,601,349\n",
      "Trainable params: 5,601,125\n",
      "Non-trainable params: 224\n",
      "_________________________________________________________________\n"
     ]
    }
   ],
   "source": [
    "from keras.models import Sequential, Model\n",
    "from keras.layers import Dense, GRU, Flatten, TimeDistributed, Flatten, BatchNormalization, Activation,SpatialDropout3D,Dropout\n",
    "from keras.layers.convolutional import Conv3D, MaxPooling3D\n",
    "from keras.callbacks import ModelCheckpoint, ReduceLROnPlateau\n",
    "from keras import optimizers\n",
    "#write your model here\n",
    "##########################\n",
    "num_classes = 5\n",
    "learning_rate = 0.001\n",
    "validation_split = 0.2\n",
    "verbosity = 1\n",
    "##########################\n",
    "\n",
    "Conv3D_Model = Sequential()\n",
    "Conv3D_Model.add(Conv3D(16,(3,3,3), padding='same',activation='relu',input_shape=(total_img, 120, 120, 3)))\n",
    "Conv3D_Model.add(BatchNormalization())\n",
    "Conv3D_Model.add(MaxPooling3D(pool_size=(2,2,2),strides=(1, 2, 2)))\n",
    "\n",
    "\n",
    "Conv3D_Model.add(Conv3D(32,(3,3,3),padding='same',activation='relu'))\n",
    "Conv3D_Model.add(BatchNormalization())\n",
    "Conv3D_Model.add(MaxPooling3D(pool_size=(2, 2, 2), strides=(2, 2, 2)))\n",
    "\n",
    "Conv3D_Model.add(Conv3D(64, (3,3,3),padding='same',activation='relu'))\n",
    "Conv3D_Model.add(BatchNormalization())\n",
    "Conv3D_Model.add(MaxPooling3D(pool_size=(2, 2, 2), strides=(2, 2, 2)))\n",
    "\n",
    "Conv3D_Model.add(Flatten())\n",
    "Conv3D_Model.add(Dense(128,activation='relu'))\n",
    "Conv3D_Model.add(Dropout(0.4))\n",
    "Conv3D_Model.add(Dense(5, activation='softmax'))\n",
    "\n",
    "\n",
    "Conv3D_Model.summary()\n",
    "#optimizers,losses,leraning rates, epochs.,kernel initializers"
   ]
  },
  {
   "cell_type": "code",
   "execution_count": 10,
   "metadata": {},
   "outputs": [],
   "source": [
    "optimiser = optimizers.SGD(lr=0.001, decay=1e-6, momentum=0.7, nesterov=True)\n",
    "Conv3D_Model.compile(optimizer=optimiser, loss='categorical_crossentropy', metrics=['categorical_accuracy'])"
   ]
  },
  {
   "cell_type": "code",
   "execution_count": 11,
   "metadata": {},
   "outputs": [],
   "source": [
    "model_name = 'Conv3D_Model' + '_' + str(curr_dt_time).replace(' ','').replace(':','_') + '/'\n",
    "    \n",
    "if not os.path.exists(model_name):\n",
    "    os.mkdir(model_name)\n",
    "        \n",
    "\n",
    "filepath = model_name + 'model-{epoch:05d}-{loss:.5f}-{categorical_accuracy:.5f}-{val_loss:.5f}-{val_categorical_accuracy:.5f}.h5'\n",
    "\n",
    "checkpoint = ModelCheckpoint(filepath, monitor='val_loss', verbose=1, save_best_only=True, save_weights_only=False, mode='auto', period=1)\n",
    "\n",
    "LR =  ReduceLROnPlateau(monitor='val_loss',\n",
    "                                   factor=0.3,\n",
    "                                   cooldown=0,\n",
    "                                   patience=2,\n",
    "                                   mode='min',\n",
    "                                   verbose=1,\n",
    "                                   min_lr=0.00001)     # write the REducelronplateau code here\n",
    "callbacks_list = [checkpoint, LR]"
   ]
  },
  {
   "cell_type": "code",
   "execution_count": 12,
   "metadata": {},
   "outputs": [],
   "source": [
    "if (num_train_sequences%batch_size) == 0:\n",
    "    steps_per_epoch = int(num_train_sequences/batch_size)\n",
    "else:\n",
    "    steps_per_epoch = (num_train_sequences//batch_size) + 1\n",
    "\n",
    "if (num_val_sequences%batch_size) == 0:\n",
    "    validation_steps = int(num_val_sequences/batch_size)\n",
    "else:\n",
    "    validation_steps = (num_val_sequences//batch_size) + 1"
   ]
  },
  {
   "cell_type": "code",
   "execution_count": 13,
   "metadata": {},
   "outputs": [
    {
     "name": "stdout",
     "output_type": "stream",
     "text": [
      "Source path =  ./Project_data/val ; batch size = 15\n",
      "Source path =  ./Project_data/train ; batch size = 15\n",
      "Epoch 1/20\n"
     ]
    },
    {
     "name": "stderr",
     "output_type": "stream",
     "text": [
      "/mnt/disks/user/anaconda3/lib/python3.6/site-packages/ipykernel_launcher.py:16: DeprecationWarning: `imread` is deprecated!\n",
      "`imread` is deprecated in SciPy 1.0.0, and will be removed in 1.2.0.\n",
      "Use ``imageio.imread`` instead.\n",
      "  app.launch_new_instance()\n",
      "/mnt/disks/user/anaconda3/lib/python3.6/site-packages/ipykernel_launcher.py:20: DeprecationWarning: `imresize` is deprecated!\n",
      "`imresize` is deprecated in SciPy 1.0.0, and will be removed in 1.2.0.\n",
      "Use ``skimage.transform.resize`` instead.\n"
     ]
    },
    {
     "name": "stdout",
     "output_type": "stream",
     "text": [
      " 6/45 [===>..........................] - ETA: 1:25 - loss: 6.3729 - categorical_accuracy: 0.1222"
     ]
    },
    {
     "name": "stderr",
     "output_type": "stream",
     "text": [
      "/mnt/disks/user/anaconda3/lib/python3.6/site-packages/ipykernel_launcher.py:39: DeprecationWarning: `imread` is deprecated!\n",
      "`imread` is deprecated in SciPy 1.0.0, and will be removed in 1.2.0.\n",
      "Use ``imageio.imread`` instead.\n",
      "/mnt/disks/user/anaconda3/lib/python3.6/site-packages/ipykernel_launcher.py:41: DeprecationWarning: `imresize` is deprecated!\n",
      "`imresize` is deprecated in SciPy 1.0.0, and will be removed in 1.2.0.\n",
      "Use ``skimage.transform.resize`` instead.\n"
     ]
    },
    {
     "name": "stdout",
     "output_type": "stream",
     "text": [
      "45/45 [==============================] - 64s 1s/step - loss: 2.1870 - categorical_accuracy: 0.2949 - val_loss: 1.2580 - val_categorical_accuracy: 0.4100\n",
      "\n",
      "Epoch 00001: val_loss improved from inf to 1.25797, saving model to Conv3D_Model_2020-05-0312_29_03.496105/model-00001-2.19359-0.30015-1.25797-0.41000.h5\n",
      "Epoch 2/20\n",
      "45/45 [==============================] - 56s 1s/step - loss: 1.2022 - categorical_accuracy: 0.4859 - val_loss: 1.1612 - val_categorical_accuracy: 0.5300\n",
      "\n",
      "Epoch 00002: val_loss improved from 1.25797 to 1.16123, saving model to Conv3D_Model_2020-05-0312_29_03.496105/model-00002-1.20585-0.48265-1.16123-0.53000.h5\n",
      "Epoch 3/20\n",
      "45/45 [==============================] - 57s 1s/step - loss: 0.8933 - categorical_accuracy: 0.6460 - val_loss: 0.8728 - val_categorical_accuracy: 0.6300\n",
      "\n",
      "Epoch 00003: val_loss improved from 1.16123 to 0.87283, saving model to Conv3D_Model_2020-05-0312_29_03.496105/model-00003-0.88461-0.65158-0.87283-0.63000.h5\n",
      "Epoch 4/20\n",
      "45/45 [==============================] - 58s 1s/step - loss: 0.7149 - categorical_accuracy: 0.7288 - val_loss: 0.9225 - val_categorical_accuracy: 0.5900\n",
      "\n",
      "Epoch 00004: val_loss did not improve from 0.87283\n",
      "Epoch 5/20\n",
      "45/45 [==============================] - 57s 1s/step - loss: 0.6030 - categorical_accuracy: 0.7646 - val_loss: 1.0145 - val_categorical_accuracy: 0.6400\n",
      "\n",
      "Epoch 00005: val_loss did not improve from 0.87283\n",
      "\n",
      "Epoch 00005: ReduceLROnPlateau reducing learning rate to 0.0003000000142492354.\n",
      "Epoch 6/20\n",
      "45/45 [==============================] - 57s 1s/step - loss: 0.4763 - categorical_accuracy: 0.8149 - val_loss: 0.6844 - val_categorical_accuracy: 0.7200\n",
      "\n",
      "Epoch 00006: val_loss improved from 0.87283 to 0.68440, saving model to Conv3D_Model_2020-05-0312_29_03.496105/model-00006-0.47083-0.81750-0.68440-0.72000.h5\n",
      "Epoch 7/20\n",
      "45/45 [==============================] - 57s 1s/step - loss: 0.3585 - categorical_accuracy: 0.8727 - val_loss: 0.6763 - val_categorical_accuracy: 0.7300\n",
      "\n",
      "Epoch 00007: val_loss improved from 0.68440 to 0.67630, saving model to Conv3D_Model_2020-05-0312_29_03.496105/model-00007-0.35617-0.87632-0.67630-0.73000.h5\n",
      "Epoch 8/20\n",
      "45/45 [==============================] - 57s 1s/step - loss: 0.2983 - categorical_accuracy: 0.9068 - val_loss: 0.6215 - val_categorical_accuracy: 0.7500\n",
      "\n",
      "Epoch 00008: val_loss improved from 0.67630 to 0.62149, saving model to Conv3D_Model_2020-05-0312_29_03.496105/model-00008-0.28098-0.91101-0.62149-0.75000.h5\n",
      "Epoch 9/20\n",
      "45/45 [==============================] - 57s 1s/step - loss: 0.2750 - categorical_accuracy: 0.9038 - val_loss: 0.6555 - val_categorical_accuracy: 0.7100\n",
      "\n",
      "Epoch 00009: val_loss did not improve from 0.62149\n",
      "Epoch 10/20\n",
      "45/45 [==============================] - 57s 1s/step - loss: 0.2535 - categorical_accuracy: 0.9305 - val_loss: 0.6133 - val_categorical_accuracy: 0.7600\n",
      "\n",
      "Epoch 00010: val_loss improved from 0.62149 to 0.61327, saving model to Conv3D_Model_2020-05-0312_29_03.496105/model-00010-0.24622-0.93514-0.61327-0.76000.h5\n",
      "Epoch 11/20\n",
      "45/45 [==============================] - 57s 1s/step - loss: 0.2359 - categorical_accuracy: 0.9215 - val_loss: 0.6509 - val_categorical_accuracy: 0.7500\n",
      "\n",
      "Epoch 00011: val_loss did not improve from 0.61327\n",
      "Epoch 12/20\n",
      "45/45 [==============================] - 58s 1s/step - loss: 0.1999 - categorical_accuracy: 0.9334 - val_loss: 0.6103 - val_categorical_accuracy: 0.7500\n",
      "\n",
      "Epoch 00012: val_loss improved from 0.61327 to 0.61033, saving model to Conv3D_Model_2020-05-0312_29_03.496105/model-00012-0.19734-0.93816-0.61033-0.75000.h5\n",
      "Epoch 13/20\n",
      "45/45 [==============================] - 58s 1s/step - loss: 0.2018 - categorical_accuracy: 0.9275 - val_loss: 0.5741 - val_categorical_accuracy: 0.7900\n",
      "\n",
      "Epoch 00013: val_loss improved from 0.61033 to 0.57412, saving model to Conv3D_Model_2020-05-0312_29_03.496105/model-00013-0.19709-0.93213-0.57412-0.79000.h5\n",
      "Epoch 14/20\n",
      "45/45 [==============================] - 58s 1s/step - loss: 0.1599 - categorical_accuracy: 0.9541 - val_loss: 0.6582 - val_categorical_accuracy: 0.7700\n",
      "\n",
      "Epoch 00014: val_loss did not improve from 0.57412\n",
      "Epoch 15/20\n",
      "45/45 [==============================] - 58s 1s/step - loss: 0.1521 - categorical_accuracy: 0.9632 - val_loss: 0.6495 - val_categorical_accuracy: 0.7500\n",
      "\n",
      "Epoch 00015: val_loss did not improve from 0.57412\n",
      "\n",
      "Epoch 00015: ReduceLROnPlateau reducing learning rate to 9.000000427477062e-05.\n",
      "Epoch 16/20\n",
      "45/45 [==============================] - 57s 1s/step - loss: 0.1798 - categorical_accuracy: 0.9468 - val_loss: 0.5929 - val_categorical_accuracy: 0.7900\n",
      "\n",
      "Epoch 00016: val_loss did not improve from 0.57412\n",
      "Epoch 17/20\n",
      "45/45 [==============================] - 57s 1s/step - loss: 0.1711 - categorical_accuracy: 0.9511 - val_loss: 0.6259 - val_categorical_accuracy: 0.7500\n",
      "\n",
      "Epoch 00017: val_loss did not improve from 0.57412\n",
      "\n",
      "Epoch 00017: ReduceLROnPlateau reducing learning rate to 2.700000040931627e-05.\n",
      "Epoch 18/20\n",
      "45/45 [==============================] - 57s 1s/step - loss: 0.1336 - categorical_accuracy: 0.9704 - val_loss: 0.6581 - val_categorical_accuracy: 0.7700\n",
      "\n",
      "Epoch 00018: val_loss did not improve from 0.57412\n",
      "Epoch 19/20\n",
      "45/45 [==============================] - 58s 1s/step - loss: 0.1421 - categorical_accuracy: 0.9616 - val_loss: 0.6834 - val_categorical_accuracy: 0.7600\n",
      "\n",
      "Epoch 00019: val_loss did not improve from 0.57412\n",
      "\n",
      "Epoch 00019: ReduceLROnPlateau reducing learning rate to 1e-05.\n",
      "Epoch 20/20\n",
      "45/45 [==============================] - 57s 1s/step - loss: 0.1602 - categorical_accuracy: 0.9557 - val_loss: 0.6201 - val_categorical_accuracy: 0.7500\n",
      "\n",
      "Epoch 00020: val_loss did not improve from 0.57412\n"
     ]
    },
    {
     "data": {
      "text/plain": [
       "<keras.callbacks.History at 0x7f266effe780>"
      ]
     },
     "execution_count": 13,
     "metadata": {},
     "output_type": "execute_result"
    }
   ],
   "source": [
    "Conv3D_Model.fit_generator(train_generator, steps_per_epoch=steps_per_epoch, epochs=num_epochs, verbose=1, \n",
    "                    validation_data=val_generator, \n",
    "                    validation_steps=validation_steps, class_weight=None, workers=1, initial_epoch=0,callbacks=callbacks_list)"
   ]
  },
  {
   "cell_type": "markdown",
   "metadata": {},
   "source": [
    "## Model - Conv2D + RNN\n",
    "Here you make the model using different functionalities that Keras provides. Remember to use `Conv3D` and `MaxPooling3D` and not `Conv2D` and `Maxpooling2D` for a 3D convolution model. You would want to use `TimeDistributed` while building a Conv2D + RNN model. Also remember that the last layer is the softmax. Design the network in such a way that the model is able to give good accuracy on the least number of parameters so that it can fit in the memory of the webcam."
   ]
  },
  {
   "cell_type": "code",
   "execution_count": 14,
   "metadata": {},
   "outputs": [
    {
     "name": "stdout",
     "output_type": "stream",
     "text": [
      "# epochs = 50\n"
     ]
    }
   ],
   "source": [
    "num_epochs = 50 # choose the number of epochs\n",
    "print ('# epochs =', num_epochs)"
   ]
  },
  {
   "cell_type": "code",
   "execution_count": 15,
   "metadata": {},
   "outputs": [],
   "source": [
    "from keras.models import Sequential, Model\n",
    "from keras.layers import Dense, GRU, Flatten, TimeDistributed, Flatten,Activation,Dropout\n",
    "from keras.callbacks import ModelCheckpoint, ReduceLROnPlateau\n",
    "from keras import optimizers\n",
    "from keras.applications.vgg16 import VGG16\n",
    "\n",
    "#write your model here\n",
    "base_model = VGG16(include_top=False, weights='imagenet', input_shape=(120,120,3))\n",
    "base_model_output = base_model.outputs\n",
    "flattened_output = Flatten()(base_model_output)\n",
    "conv_features = Dense(128,activation='relu')(flattened_output)\n",
    "\n",
    "conv_model = Model(inputs=base_model.inputs,outputs=conv_features)\n",
    "\n",
    "for layer in base_model.layers:\n",
    "    layer.trainable = False\n",
    "\n",
    "rnn_model = Sequential()\n",
    "rnn_model.add(TimeDistributed(conv_model,input_shape=(15,120,120,3)))\n",
    "rnn_model.add(GRU(64, return_sequences=True))\n",
    "rnn_model.add(GRU(32, return_sequences=True))\n",
    "rnn_model.add(Dropout(0.5))\n",
    "rnn_model.add(GRU(32))\n",
    "rnn_model.add(Dropout(0.5))\n",
    "rnn_model.add(Dense(16, activation='relu'))\n",
    "rnn_model.add(Dense(5, activation='softmax'))"
   ]
  },
  {
   "cell_type": "code",
   "execution_count": 16,
   "metadata": {},
   "outputs": [
    {
     "name": "stdout",
     "output_type": "stream",
     "text": [
      "_________________________________________________________________\n",
      "Layer (type)                 Output Shape              Param #   \n",
      "=================================================================\n",
      "time_distributed_1 (TimeDist (None, 15, 128)           15304640  \n",
      "_________________________________________________________________\n",
      "gru_1 (GRU)                  (None, 15, 64)            37056     \n",
      "_________________________________________________________________\n",
      "gru_2 (GRU)                  (None, 15, 32)            9312      \n",
      "_________________________________________________________________\n",
      "dropout_2 (Dropout)          (None, 15, 32)            0         \n",
      "_________________________________________________________________\n",
      "gru_3 (GRU)                  (None, 32)                6240      \n",
      "_________________________________________________________________\n",
      "dropout_3 (Dropout)          (None, 32)                0         \n",
      "_________________________________________________________________\n",
      "dense_4 (Dense)              (None, 16)                528       \n",
      "_________________________________________________________________\n",
      "dense_5 (Dense)              (None, 5)                 85        \n",
      "=================================================================\n",
      "Total params: 15,357,861\n",
      "Trainable params: 643,173\n",
      "Non-trainable params: 14,714,688\n",
      "_________________________________________________________________\n",
      "None\n"
     ]
    }
   ],
   "source": [
    "sgd = optimizers.SGD(lr=0.01, momentum=0.7, decay=1e-6, nesterov=True)\n",
    "rnn_model.compile(optimizer=sgd, loss='categorical_crossentropy', metrics=['categorical_accuracy'])\n",
    "print (rnn_model.summary())"
   ]
  },
  {
   "cell_type": "code",
   "execution_count": 17,
   "metadata": {},
   "outputs": [],
   "source": [
    "model_name = 'model_conv_rnn' + '_' + str(curr_dt_time).replace(' ','').replace(':','_') + '/'\n",
    "    \n",
    "if not os.path.exists(model_name):\n",
    "    os.mkdir(model_name)\n",
    "        \n",
    "filepath = model_name + 'model-{epoch:05d}-{loss:.5f}-{categorical_accuracy:.5f}-{val_loss:.5f}-{val_categorical_accuracy:.5f}.h5'\n",
    "\n",
    "checkpoint = ModelCheckpoint(filepath, monitor='val_loss', verbose=1, save_best_only=True, save_weights_only=False, mode='auto', period=1)\n",
    "\n",
    "LR = ReduceLROnPlateau(monitor='val_loss', factor=0.6, patience=2, verbose=1, mode='min',cooldown=0, min_lr=0.00001)\n",
    "callbacks_list = [checkpoint,LR]"
   ]
  },
  {
   "cell_type": "code",
   "execution_count": 18,
   "metadata": {},
   "outputs": [],
   "source": [
    "if (num_train_sequences%batch_size) == 0:\n",
    "    steps_per_epoch = int(num_train_sequences/batch_size)\n",
    "else:\n",
    "    steps_per_epoch = (num_train_sequences//batch_size) + 1\n",
    "\n",
    "if (num_val_sequences%batch_size) == 0:\n",
    "    validation_steps = int(num_val_sequences/batch_size)\n",
    "else:\n",
    "    validation_steps = (num_val_sequences//batch_size) + 1"
   ]
  },
  {
   "cell_type": "code",
   "execution_count": 19,
   "metadata": {},
   "outputs": [
    {
     "name": "stdout",
     "output_type": "stream",
     "text": [
      "Epoch 1/50\n"
     ]
    },
    {
     "name": "stderr",
     "output_type": "stream",
     "text": [
      "/mnt/disks/user/anaconda3/lib/python3.6/site-packages/ipykernel_launcher.py:16: DeprecationWarning: `imread` is deprecated!\n",
      "`imread` is deprecated in SciPy 1.0.0, and will be removed in 1.2.0.\n",
      "Use ``imageio.imread`` instead.\n",
      "  app.launch_new_instance()\n",
      "/mnt/disks/user/anaconda3/lib/python3.6/site-packages/ipykernel_launcher.py:20: DeprecationWarning: `imresize` is deprecated!\n",
      "`imresize` is deprecated in SciPy 1.0.0, and will be removed in 1.2.0.\n",
      "Use ``skimage.transform.resize`` instead.\n",
      "/mnt/disks/user/anaconda3/lib/python3.6/site-packages/ipykernel_launcher.py:39: DeprecationWarning: `imread` is deprecated!\n",
      "`imread` is deprecated in SciPy 1.0.0, and will be removed in 1.2.0.\n",
      "Use ``imageio.imread`` instead.\n",
      "/mnt/disks/user/anaconda3/lib/python3.6/site-packages/ipykernel_launcher.py:41: DeprecationWarning: `imresize` is deprecated!\n",
      "`imresize` is deprecated in SciPy 1.0.0, and will be removed in 1.2.0.\n",
      "Use ``skimage.transform.resize`` instead.\n"
     ]
    },
    {
     "name": "stdout",
     "output_type": "stream",
     "text": [
      "45/45 [==============================] - 72s 2s/step - loss: 1.6135 - categorical_accuracy: 0.2412 - val_loss: 1.6004 - val_categorical_accuracy: 0.2100\n",
      "\n",
      "Epoch 00001: val_loss improved from inf to 1.60042, saving model to model_conv_rnn_2020-05-0312_29_03.496105/model-00001-1.61865-0.22775-1.60042-0.21000.h5\n",
      "Epoch 2/50\n",
      "45/45 [==============================] - 55s 1s/step - loss: 1.6387 - categorical_accuracy: 0.2044 - val_loss: 1.6014 - val_categorical_accuracy: 0.2400\n",
      "\n",
      "Epoch 00002: val_loss did not improve from 1.60042\n",
      "Epoch 3/50\n",
      "45/45 [==============================] - 59s 1s/step - loss: 1.6240 - categorical_accuracy: 0.1882 - val_loss: 1.5963 - val_categorical_accuracy: 0.2300\n",
      "\n",
      "Epoch 00003: val_loss improved from 1.60042 to 1.59634, saving model to model_conv_rnn_2020-05-0312_29_03.496105/model-00003-1.62109-0.19155-1.59634-0.23000.h5\n",
      "Epoch 4/50\n",
      "45/45 [==============================] - 60s 1s/step - loss: 1.5915 - categorical_accuracy: 0.2503 - val_loss: 1.6253 - val_categorical_accuracy: 0.2300\n",
      "\n",
      "Epoch 00004: val_loss did not improve from 1.59634\n",
      "Epoch 5/50\n",
      "45/45 [==============================] - 60s 1s/step - loss: 1.5602 - categorical_accuracy: 0.2561 - val_loss: 1.4787 - val_categorical_accuracy: 0.4100\n",
      "\n",
      "Epoch 00005: val_loss improved from 1.59634 to 1.47872, saving model to model_conv_rnn_2020-05-0312_29_03.496105/model-00005-1.56021-0.24887-1.47872-0.41000.h5\n",
      "Epoch 6/50\n",
      "45/45 [==============================] - 60s 1s/step - loss: 1.4957 - categorical_accuracy: 0.2978 - val_loss: 1.5039 - val_categorical_accuracy: 0.3200\n",
      "\n",
      "Epoch 00006: val_loss did not improve from 1.47872\n",
      "Epoch 7/50\n",
      "45/45 [==============================] - 59s 1s/step - loss: 1.4462 - categorical_accuracy: 0.3376 - val_loss: 1.4016 - val_categorical_accuracy: 0.3700\n",
      "\n",
      "Epoch 00007: val_loss improved from 1.47872 to 1.40156, saving model to model_conv_rnn_2020-05-0312_29_03.496105/model-00007-1.45291-0.33183-1.40156-0.37000.h5\n",
      "Epoch 8/50\n",
      "45/45 [==============================] - 60s 1s/step - loss: 1.4030 - categorical_accuracy: 0.3512 - val_loss: 1.2931 - val_categorical_accuracy: 0.4300\n",
      "\n",
      "Epoch 00008: val_loss improved from 1.40156 to 1.29311, saving model to model_conv_rnn_2020-05-0312_29_03.496105/model-00008-1.39858-0.35747-1.29311-0.43000.h5\n",
      "Epoch 9/50\n",
      "45/45 [==============================] - 60s 1s/step - loss: 1.3786 - categorical_accuracy: 0.3643 - val_loss: 1.2889 - val_categorical_accuracy: 0.5100\n",
      "\n",
      "Epoch 00009: val_loss improved from 1.29311 to 1.28886, saving model to model_conv_rnn_2020-05-0312_29_03.496105/model-00009-1.38262-0.35897-1.28886-0.51000.h5\n",
      "Epoch 10/50\n",
      "45/45 [==============================] - 60s 1s/step - loss: 1.3214 - categorical_accuracy: 0.3867 - val_loss: 1.2063 - val_categorical_accuracy: 0.4800\n",
      "\n",
      "Epoch 00010: val_loss improved from 1.28886 to 1.20629, saving model to model_conv_rnn_2020-05-0312_29_03.496105/model-00010-1.32395-0.38763-1.20629-0.48000.h5\n",
      "Epoch 11/50\n",
      "45/45 [==============================] - 60s 1s/step - loss: 1.2767 - categorical_accuracy: 0.4206 - val_loss: 1.9209 - val_categorical_accuracy: 0.1900\n",
      "\n",
      "Epoch 00011: val_loss did not improve from 1.20629\n",
      "Epoch 12/50\n",
      "45/45 [==============================] - 60s 1s/step - loss: 1.2909 - categorical_accuracy: 0.4254 - val_loss: 1.5168 - val_categorical_accuracy: 0.3900\n",
      "\n",
      "Epoch 00012: val_loss did not improve from 1.20629\n",
      "\n",
      "Epoch 00012: ReduceLROnPlateau reducing learning rate to 0.005999999865889549.\n",
      "Epoch 13/50\n",
      "45/45 [==============================] - 60s 1s/step - loss: 1.1253 - categorical_accuracy: 0.4725 - val_loss: 1.0911 - val_categorical_accuracy: 0.5800\n",
      "\n",
      "Epoch 00013: val_loss improved from 1.20629 to 1.09105, saving model to model_conv_rnn_2020-05-0312_29_03.496105/model-00013-1.13084-0.46908-1.09105-0.58000.h5\n",
      "Epoch 14/50\n",
      "45/45 [==============================] - 59s 1s/step - loss: 1.0895 - categorical_accuracy: 0.5437 - val_loss: 1.1717 - val_categorical_accuracy: 0.4900\n",
      "\n",
      "Epoch 00014: val_loss did not improve from 1.09105\n",
      "Epoch 15/50\n",
      "45/45 [==============================] - 59s 1s/step - loss: 1.0194 - categorical_accuracy: 0.5687 - val_loss: 0.9810 - val_categorical_accuracy: 0.5400\n",
      "\n",
      "Epoch 00015: val_loss improved from 1.09105 to 0.98101, saving model to model_conv_rnn_2020-05-0312_29_03.496105/model-00015-1.02742-0.56109-0.98101-0.54000.h5\n",
      "Epoch 16/50\n",
      "45/45 [==============================] - 59s 1s/step - loss: 1.0506 - categorical_accuracy: 0.5555 - val_loss: 0.9597 - val_categorical_accuracy: 0.6000\n",
      "\n",
      "Epoch 00016: val_loss improved from 0.98101 to 0.95973, saving model to model_conv_rnn_2020-05-0312_29_03.496105/model-00016-1.05374-0.55354-0.95973-0.60000.h5\n",
      "Epoch 17/50\n",
      "45/45 [==============================] - 58s 1s/step - loss: 0.9398 - categorical_accuracy: 0.6015 - val_loss: 1.2050 - val_categorical_accuracy: 0.3700\n",
      "\n",
      "Epoch 00017: val_loss did not improve from 0.95973\n",
      "Epoch 18/50\n",
      "45/45 [==============================] - 59s 1s/step - loss: 0.8785 - categorical_accuracy: 0.6415 - val_loss: 0.7725 - val_categorical_accuracy: 0.6700\n",
      "\n",
      "Epoch 00018: val_loss improved from 0.95973 to 0.77250, saving model to model_conv_rnn_2020-05-0312_29_03.496105/model-00018-0.87060-0.64103-0.77250-0.67000.h5\n",
      "Epoch 19/50\n",
      "45/45 [==============================] - 60s 1s/step - loss: 0.7466 - categorical_accuracy: 0.7095 - val_loss: 0.9040 - val_categorical_accuracy: 0.6500\n",
      "\n",
      "Epoch 00019: val_loss did not improve from 0.77250\n",
      "Epoch 20/50\n",
      "45/45 [==============================] - 60s 1s/step - loss: 0.7479 - categorical_accuracy: 0.7022 - val_loss: 0.7325 - val_categorical_accuracy: 0.6600\n",
      "\n",
      "Epoch 00020: val_loss improved from 0.77250 to 0.73250, saving model to model_conv_rnn_2020-05-0312_29_03.496105/model-00020-0.75238-0.70287-0.73250-0.66000.h5\n",
      "Epoch 21/50\n",
      "45/45 [==============================] - 59s 1s/step - loss: 0.7155 - categorical_accuracy: 0.7126 - val_loss: 0.9468 - val_categorical_accuracy: 0.5900\n",
      "\n",
      "Epoch 00021: val_loss did not improve from 0.73250\n",
      "Epoch 22/50\n",
      "45/45 [==============================] - 59s 1s/step - loss: 0.6814 - categorical_accuracy: 0.7348 - val_loss: 0.6498 - val_categorical_accuracy: 0.7300\n",
      "\n",
      "Epoch 00022: val_loss improved from 0.73250 to 0.64976, saving model to model_conv_rnn_2020-05-0312_29_03.496105/model-00022-0.68178-0.73605-0.64976-0.73000.h5\n",
      "Epoch 23/50\n",
      "45/45 [==============================] - 60s 1s/step - loss: 0.6527 - categorical_accuracy: 0.7599 - val_loss: 1.9797 - val_categorical_accuracy: 0.5100\n",
      "\n",
      "Epoch 00023: val_loss did not improve from 0.64976\n",
      "Epoch 24/50\n",
      "45/45 [==============================] - 59s 1s/step - loss: 0.6682 - categorical_accuracy: 0.7437 - val_loss: 1.1843 - val_categorical_accuracy: 0.6100\n",
      "\n",
      "Epoch 00024: val_loss did not improve from 0.64976\n",
      "\n",
      "Epoch 00024: ReduceLROnPlateau reducing learning rate to 0.003600000031292438.\n",
      "Epoch 25/50\n",
      "45/45 [==============================] - 59s 1s/step - loss: 0.4828 - categorical_accuracy: 0.8266 - val_loss: 0.9098 - val_categorical_accuracy: 0.6600\n",
      "\n",
      "Epoch 00025: val_loss did not improve from 0.64976\n",
      "Epoch 26/50\n",
      "45/45 [==============================] - 59s 1s/step - loss: 0.4670 - categorical_accuracy: 0.8385 - val_loss: 0.7317 - val_categorical_accuracy: 0.7600\n",
      "\n",
      "Epoch 00026: val_loss did not improve from 0.64976\n",
      "\n",
      "Epoch 00026: ReduceLROnPlateau reducing learning rate to 0.0021599999628961085.\n",
      "Epoch 27/50\n",
      "45/45 [==============================] - 59s 1s/step - loss: 0.3583 - categorical_accuracy: 0.8814 - val_loss: 0.7332 - val_categorical_accuracy: 0.7100\n",
      "\n",
      "Epoch 00027: val_loss did not improve from 0.64976\n",
      "Epoch 28/50\n",
      "45/45 [==============================] - 60s 1s/step - loss: 0.3537 - categorical_accuracy: 0.8859 - val_loss: 0.6139 - val_categorical_accuracy: 0.7300\n",
      "\n",
      "Epoch 00028: val_loss improved from 0.64976 to 0.61386, saving model to model_conv_rnn_2020-05-0312_29_03.496105/model-00028-0.35722-0.88386-0.61386-0.73000.h5\n",
      "Epoch 29/50\n",
      "45/45 [==============================] - 60s 1s/step - loss: 0.3899 - categorical_accuracy: 0.8905 - val_loss: 2.1647 - val_categorical_accuracy: 0.4400\n",
      "\n",
      "Epoch 00029: val_loss did not improve from 0.61386\n",
      "Epoch 30/50\n",
      "45/45 [==============================] - 59s 1s/step - loss: 0.3500 - categorical_accuracy: 0.8786 - val_loss: 0.6901 - val_categorical_accuracy: 0.7000\n"
     ]
    },
    {
     "name": "stdout",
     "output_type": "stream",
     "text": [
      "\n",
      "Epoch 00030: val_loss did not improve from 0.61386\n",
      "\n",
      "Epoch 00030: ReduceLROnPlateau reducing learning rate to 0.0012959999497979878.\n",
      "Epoch 31/50\n",
      "45/45 [==============================] - 60s 1s/step - loss: 0.3225 - categorical_accuracy: 0.8964 - val_loss: 1.0628 - val_categorical_accuracy: 0.6000\n",
      "\n",
      "Epoch 00031: val_loss did not improve from 0.61386\n",
      "Epoch 32/50\n",
      "45/45 [==============================] - 59s 1s/step - loss: 0.2843 - categorical_accuracy: 0.9127 - val_loss: 0.6539 - val_categorical_accuracy: 0.7400\n",
      "\n",
      "Epoch 00032: val_loss did not improve from 0.61386\n",
      "\n",
      "Epoch 00032: ReduceLROnPlateau reducing learning rate to 0.0007775999838486314.\n",
      "Epoch 33/50\n",
      "45/45 [==============================] - 61s 1s/step - loss: 0.2739 - categorical_accuracy: 0.9186 - val_loss: 0.7637 - val_categorical_accuracy: 0.7000\n",
      "\n",
      "Epoch 00033: val_loss did not improve from 0.61386\n",
      "Epoch 34/50\n",
      "45/45 [==============================] - 58s 1s/step - loss: 0.2574 - categorical_accuracy: 0.9333 - val_loss: 0.6121 - val_categorical_accuracy: 0.7400\n",
      "\n",
      "Epoch 00034: val_loss improved from 0.61386 to 0.61214, saving model to model_conv_rnn_2020-05-0312_29_03.496105/model-00034-0.25821-0.93213-0.61214-0.74000.h5\n",
      "Epoch 35/50\n",
      "45/45 [==============================] - 59s 1s/step - loss: 0.2623 - categorical_accuracy: 0.9259 - val_loss: 0.6167 - val_categorical_accuracy: 0.7500\n",
      "\n",
      "Epoch 00035: val_loss did not improve from 0.61214\n",
      "Epoch 36/50\n",
      "45/45 [==============================] - 60s 1s/step - loss: 0.2783 - categorical_accuracy: 0.9008 - val_loss: 0.7883 - val_categorical_accuracy: 0.6700\n",
      "\n",
      "Epoch 00036: val_loss did not improve from 0.61214\n",
      "\n",
      "Epoch 00036: ReduceLROnPlateau reducing learning rate to 0.0004665599903091788.\n",
      "Epoch 37/50\n",
      "45/45 [==============================] - 59s 1s/step - loss: 0.2645 - categorical_accuracy: 0.9142 - val_loss: 0.6771 - val_categorical_accuracy: 0.7500\n",
      "\n",
      "Epoch 00037: val_loss did not improve from 0.61214\n",
      "Epoch 38/50\n",
      "45/45 [==============================] - 60s 1s/step - loss: 0.2421 - categorical_accuracy: 0.9245 - val_loss: 0.5357 - val_categorical_accuracy: 0.7600\n",
      "\n",
      "Epoch 00038: val_loss improved from 0.61214 to 0.53568, saving model to model_conv_rnn_2020-05-0312_29_03.496105/model-00038-0.23742-0.92911-0.53568-0.76000.h5\n",
      "Epoch 39/50\n",
      "45/45 [==============================] - 60s 1s/step - loss: 0.2343 - categorical_accuracy: 0.9318 - val_loss: 0.6918 - val_categorical_accuracy: 0.7100\n",
      "\n",
      "Epoch 00039: val_loss did not improve from 0.53568\n",
      "Epoch 40/50\n",
      "45/45 [==============================] - 60s 1s/step - loss: 0.2248 - categorical_accuracy: 0.9392 - val_loss: 0.5484 - val_categorical_accuracy: 0.7700\n",
      "\n",
      "Epoch 00040: val_loss did not improve from 0.53568\n",
      "\n",
      "Epoch 00040: ReduceLROnPlateau reducing learning rate to 0.00027993599069304765.\n",
      "Epoch 41/50\n",
      "45/45 [==============================] - 60s 1s/step - loss: 0.2310 - categorical_accuracy: 0.9392 - val_loss: 0.6989 - val_categorical_accuracy: 0.7300\n",
      "\n",
      "Epoch 00041: val_loss did not improve from 0.53568\n",
      "Epoch 42/50\n",
      "45/45 [==============================] - 60s 1s/step - loss: 0.2373 - categorical_accuracy: 0.9378 - val_loss: 0.6115 - val_categorical_accuracy: 0.7300\n",
      "\n",
      "Epoch 00042: val_loss did not improve from 0.53568\n",
      "\n",
      "Epoch 00042: ReduceLROnPlateau reducing learning rate to 0.00016796158743090928.\n",
      "Epoch 43/50\n",
      "45/45 [==============================] - 60s 1s/step - loss: 0.2067 - categorical_accuracy: 0.9555 - val_loss: 0.5281 - val_categorical_accuracy: 0.7900\n",
      "\n",
      "Epoch 00043: val_loss improved from 0.53568 to 0.52811, saving model to model_conv_rnn_2020-05-0312_29_03.496105/model-00043-0.20917-0.95475-0.52811-0.79000.h5\n",
      "Epoch 44/50\n",
      "45/45 [==============================] - 59s 1s/step - loss: 0.2148 - categorical_accuracy: 0.9422 - val_loss: 0.5598 - val_categorical_accuracy: 0.7300\n",
      "\n",
      "Epoch 00044: val_loss did not improve from 0.52811\n",
      "Epoch 45/50\n",
      "45/45 [==============================] - 57s 1s/step - loss: 0.2274 - categorical_accuracy: 0.9379 - val_loss: 0.6461 - val_categorical_accuracy: 0.7400\n",
      "\n",
      "Epoch 00045: val_loss did not improve from 0.52811\n",
      "\n",
      "Epoch 00045: ReduceLROnPlateau reducing learning rate to 0.00010077694896608591.\n",
      "Epoch 46/50\n",
      "45/45 [==============================] - 58s 1s/step - loss: 0.2251 - categorical_accuracy: 0.9364 - val_loss: 0.6682 - val_categorical_accuracy: 0.7200\n",
      "\n",
      "Epoch 00046: val_loss did not improve from 0.52811\n",
      "Epoch 47/50\n",
      "45/45 [==============================] - 59s 1s/step - loss: 0.2049 - categorical_accuracy: 0.9437 - val_loss: 0.6883 - val_categorical_accuracy: 0.7000\n",
      "\n",
      "Epoch 00047: val_loss did not improve from 0.52811\n",
      "\n",
      "Epoch 00047: ReduceLROnPlateau reducing learning rate to 6.046616763342172e-05.\n",
      "Epoch 48/50\n",
      "45/45 [==============================] - 59s 1s/step - loss: 0.2220 - categorical_accuracy: 0.9334 - val_loss: 0.6002 - val_categorical_accuracy: 0.7200\n",
      "\n",
      "Epoch 00048: val_loss did not improve from 0.52811\n",
      "Epoch 49/50\n",
      "45/45 [==============================] - 58s 1s/step - loss: 0.2041 - categorical_accuracy: 0.9466 - val_loss: 0.6946 - val_categorical_accuracy: 0.7200\n",
      "\n",
      "Epoch 00049: val_loss did not improve from 0.52811\n",
      "\n",
      "Epoch 00049: ReduceLROnPlateau reducing learning rate to 3.6279701453167947e-05.\n",
      "Epoch 50/50\n",
      "45/45 [==============================] - 58s 1s/step - loss: 0.2158 - categorical_accuracy: 0.9466 - val_loss: 0.5366 - val_categorical_accuracy: 0.7500\n",
      "\n",
      "Epoch 00050: val_loss did not improve from 0.52811\n"
     ]
    },
    {
     "data": {
      "text/plain": [
       "<keras.callbacks.History at 0x7f266e97eac8>"
      ]
     },
     "execution_count": 19,
     "metadata": {},
     "output_type": "execute_result"
    }
   ],
   "source": [
    "rnn_model.fit_generator(train_generator, steps_per_epoch=steps_per_epoch, epochs=num_epochs, verbose=1, \n",
    "                    callbacks=callbacks_list, validation_data=val_generator, \n",
    "                    validation_steps=validation_steps, class_weight=None, workers=1, initial_epoch=0)"
   ]
  }
 ],
 "metadata": {
  "kernelspec": {
   "display_name": "Python 3",
   "language": "python",
   "name": "python3"
  },
  "language_info": {
   "codemirror_mode": {
    "name": "ipython",
    "version": 3
   },
   "file_extension": ".py",
   "mimetype": "text/x-python",
   "name": "python",
   "nbconvert_exporter": "python",
   "pygments_lexer": "ipython3",
   "version": "3.6.8"
  }
 },
 "nbformat": 4,
 "nbformat_minor": 2
}
