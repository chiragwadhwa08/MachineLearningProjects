{
 "cells": [
  {
   "cell_type": "markdown",
   "metadata": {},
   "source": [
    "#### Checkpoint1"
   ]
  },
  {
   "cell_type": "code",
   "execution_count": 1,
   "metadata": {},
   "outputs": [],
   "source": [
    "#import libraries\n",
    "import pandas as pd\n",
    "import numpy  as np\n",
    "import seaborn as sns\n",
    "import matplotlib.pyplot as plt\n",
    "%matplotlib inline\n",
    "\n",
    "#Load data into companies and rounds2 dataframes\n",
    "companies = pd.read_csv('companies.txt',delimiter = '\\t',encoding='iso-8859-1')\n",
    "rounds2 = pd.read_csv('rounds2.csv',encoding='iso-8859-1')\n"
   ]
  },
  {
   "cell_type": "code",
   "execution_count": 2,
   "metadata": {},
   "outputs": [
    {
     "data": {
      "text/html": [
       "<div>\n",
       "<style scoped>\n",
       "    .dataframe tbody tr th:only-of-type {\n",
       "        vertical-align: middle;\n",
       "    }\n",
       "\n",
       "    .dataframe tbody tr th {\n",
       "        vertical-align: top;\n",
       "    }\n",
       "\n",
       "    .dataframe thead th {\n",
       "        text-align: right;\n",
       "    }\n",
       "</style>\n",
       "<table border=\"1\" class=\"dataframe\">\n",
       "  <thead>\n",
       "    <tr style=\"text-align: right;\">\n",
       "      <th></th>\n",
       "      <th>permalink</th>\n",
       "      <th>name</th>\n",
       "      <th>homepage_url</th>\n",
       "      <th>category_list</th>\n",
       "      <th>status</th>\n",
       "      <th>country_code</th>\n",
       "      <th>state_code</th>\n",
       "      <th>region</th>\n",
       "      <th>city</th>\n",
       "      <th>founded_at</th>\n",
       "    </tr>\n",
       "  </thead>\n",
       "  <tbody>\n",
       "    <tr>\n",
       "      <th>0</th>\n",
       "      <td>/Organization/-Fame</td>\n",
       "      <td>#fame</td>\n",
       "      <td>http://livfame.com</td>\n",
       "      <td>Media</td>\n",
       "      <td>operating</td>\n",
       "      <td>IND</td>\n",
       "      <td>16</td>\n",
       "      <td>Mumbai</td>\n",
       "      <td>Mumbai</td>\n",
       "      <td>NaN</td>\n",
       "    </tr>\n",
       "    <tr>\n",
       "      <th>1</th>\n",
       "      <td>/Organization/-Qounter</td>\n",
       "      <td>:Qounter</td>\n",
       "      <td>http://www.qounter.com</td>\n",
       "      <td>Application Platforms|Real Time|Social Network...</td>\n",
       "      <td>operating</td>\n",
       "      <td>USA</td>\n",
       "      <td>DE</td>\n",
       "      <td>DE - Other</td>\n",
       "      <td>Delaware City</td>\n",
       "      <td>04-09-2014</td>\n",
       "    </tr>\n",
       "    <tr>\n",
       "      <th>2</th>\n",
       "      <td>/Organization/-The-One-Of-Them-Inc-</td>\n",
       "      <td>(THE) ONE of THEM,Inc.</td>\n",
       "      <td>http://oneofthem.jp</td>\n",
       "      <td>Apps|Games|Mobile</td>\n",
       "      <td>operating</td>\n",
       "      <td>NaN</td>\n",
       "      <td>NaN</td>\n",
       "      <td>NaN</td>\n",
       "      <td>NaN</td>\n",
       "      <td>NaN</td>\n",
       "    </tr>\n",
       "    <tr>\n",
       "      <th>3</th>\n",
       "      <td>/Organization/0-6-Com</td>\n",
       "      <td>0-6.com</td>\n",
       "      <td>http://www.0-6.com</td>\n",
       "      <td>Curated Web</td>\n",
       "      <td>operating</td>\n",
       "      <td>CHN</td>\n",
       "      <td>22</td>\n",
       "      <td>Beijing</td>\n",
       "      <td>Beijing</td>\n",
       "      <td>01-01-2007</td>\n",
       "    </tr>\n",
       "    <tr>\n",
       "      <th>4</th>\n",
       "      <td>/Organization/004-Technologies</td>\n",
       "      <td>004 Technologies</td>\n",
       "      <td>http://004gmbh.de/en/004-interact</td>\n",
       "      <td>Software</td>\n",
       "      <td>operating</td>\n",
       "      <td>USA</td>\n",
       "      <td>IL</td>\n",
       "      <td>Springfield, Illinois</td>\n",
       "      <td>Champaign</td>\n",
       "      <td>01-01-2010</td>\n",
       "    </tr>\n",
       "  </tbody>\n",
       "</table>\n",
       "</div>"
      ],
      "text/plain": [
       "                             permalink                    name  \\\n",
       "0                  /Organization/-Fame                   #fame   \n",
       "1               /Organization/-Qounter                :Qounter   \n",
       "2  /Organization/-The-One-Of-Them-Inc-  (THE) ONE of THEM,Inc.   \n",
       "3                /Organization/0-6-Com                 0-6.com   \n",
       "4       /Organization/004-Technologies        004 Technologies   \n",
       "\n",
       "                        homepage_url  \\\n",
       "0                 http://livfame.com   \n",
       "1             http://www.qounter.com   \n",
       "2                http://oneofthem.jp   \n",
       "3                 http://www.0-6.com   \n",
       "4  http://004gmbh.de/en/004-interact   \n",
       "\n",
       "                                       category_list     status country_code  \\\n",
       "0                                              Media  operating          IND   \n",
       "1  Application Platforms|Real Time|Social Network...  operating          USA   \n",
       "2                                  Apps|Games|Mobile  operating          NaN   \n",
       "3                                        Curated Web  operating          CHN   \n",
       "4                                           Software  operating          USA   \n",
       "\n",
       "  state_code                 region           city  founded_at  \n",
       "0         16                 Mumbai         Mumbai         NaN  \n",
       "1         DE             DE - Other  Delaware City  04-09-2014  \n",
       "2        NaN                    NaN            NaN         NaN  \n",
       "3         22                Beijing        Beijing  01-01-2007  \n",
       "4         IL  Springfield, Illinois      Champaign  01-01-2010  "
      ]
     },
     "execution_count": 2,
     "metadata": {},
     "output_type": "execute_result"
    }
   ],
   "source": [
    "#Looking into companies data \n",
    "companies.head()"
   ]
  },
  {
   "cell_type": "code",
   "execution_count": 3,
   "metadata": {},
   "outputs": [
    {
     "data": {
      "text/html": [
       "<div>\n",
       "<style scoped>\n",
       "    .dataframe tbody tr th:only-of-type {\n",
       "        vertical-align: middle;\n",
       "    }\n",
       "\n",
       "    .dataframe tbody tr th {\n",
       "        vertical-align: top;\n",
       "    }\n",
       "\n",
       "    .dataframe thead th {\n",
       "        text-align: right;\n",
       "    }\n",
       "</style>\n",
       "<table border=\"1\" class=\"dataframe\">\n",
       "  <thead>\n",
       "    <tr style=\"text-align: right;\">\n",
       "      <th></th>\n",
       "      <th>company_permalink</th>\n",
       "      <th>funding_round_permalink</th>\n",
       "      <th>funding_round_type</th>\n",
       "      <th>funding_round_code</th>\n",
       "      <th>funded_at</th>\n",
       "      <th>raised_amount_usd</th>\n",
       "    </tr>\n",
       "  </thead>\n",
       "  <tbody>\n",
       "    <tr>\n",
       "      <th>0</th>\n",
       "      <td>/organization/-fame</td>\n",
       "      <td>/funding-round/9a01d05418af9f794eebff7ace91f638</td>\n",
       "      <td>venture</td>\n",
       "      <td>B</td>\n",
       "      <td>05-01-2015</td>\n",
       "      <td>10000000.0</td>\n",
       "    </tr>\n",
       "    <tr>\n",
       "      <th>1</th>\n",
       "      <td>/ORGANIZATION/-QOUNTER</td>\n",
       "      <td>/funding-round/22dacff496eb7acb2b901dec1dfe5633</td>\n",
       "      <td>venture</td>\n",
       "      <td>A</td>\n",
       "      <td>14-10-2014</td>\n",
       "      <td>NaN</td>\n",
       "    </tr>\n",
       "    <tr>\n",
       "      <th>2</th>\n",
       "      <td>/organization/-qounter</td>\n",
       "      <td>/funding-round/b44fbb94153f6cdef13083530bb48030</td>\n",
       "      <td>seed</td>\n",
       "      <td>NaN</td>\n",
       "      <td>01-03-2014</td>\n",
       "      <td>700000.0</td>\n",
       "    </tr>\n",
       "    <tr>\n",
       "      <th>3</th>\n",
       "      <td>/ORGANIZATION/-THE-ONE-OF-THEM-INC-</td>\n",
       "      <td>/funding-round/650b8f704416801069bb178a1418776b</td>\n",
       "      <td>venture</td>\n",
       "      <td>B</td>\n",
       "      <td>30-01-2014</td>\n",
       "      <td>3406878.0</td>\n",
       "    </tr>\n",
       "    <tr>\n",
       "      <th>4</th>\n",
       "      <td>/organization/0-6-com</td>\n",
       "      <td>/funding-round/5727accaeaa57461bd22a9bdd945382d</td>\n",
       "      <td>venture</td>\n",
       "      <td>A</td>\n",
       "      <td>19-03-2008</td>\n",
       "      <td>2000000.0</td>\n",
       "    </tr>\n",
       "  </tbody>\n",
       "</table>\n",
       "</div>"
      ],
      "text/plain": [
       "                     company_permalink  \\\n",
       "0                  /organization/-fame   \n",
       "1               /ORGANIZATION/-QOUNTER   \n",
       "2               /organization/-qounter   \n",
       "3  /ORGANIZATION/-THE-ONE-OF-THEM-INC-   \n",
       "4                /organization/0-6-com   \n",
       "\n",
       "                           funding_round_permalink funding_round_type  \\\n",
       "0  /funding-round/9a01d05418af9f794eebff7ace91f638            venture   \n",
       "1  /funding-round/22dacff496eb7acb2b901dec1dfe5633            venture   \n",
       "2  /funding-round/b44fbb94153f6cdef13083530bb48030               seed   \n",
       "3  /funding-round/650b8f704416801069bb178a1418776b            venture   \n",
       "4  /funding-round/5727accaeaa57461bd22a9bdd945382d            venture   \n",
       "\n",
       "  funding_round_code   funded_at  raised_amount_usd  \n",
       "0                  B  05-01-2015         10000000.0  \n",
       "1                  A  14-10-2014                NaN  \n",
       "2                NaN  01-03-2014           700000.0  \n",
       "3                  B  30-01-2014          3406878.0  \n",
       "4                  A  19-03-2008          2000000.0  "
      ]
     },
     "execution_count": 3,
     "metadata": {},
     "output_type": "execute_result"
    }
   ],
   "source": [
    "#Looking into rounds2 data\n",
    "rounds2.head()"
   ]
  },
  {
   "cell_type": "code",
   "execution_count": 4,
   "metadata": {
    "scrolled": false
   },
   "outputs": [
    {
     "name": "stdout",
     "output_type": "stream",
     "text": [
      "<class 'pandas.core.frame.DataFrame'>\n",
      "RangeIndex: 66368 entries, 0 to 66367\n",
      "Data columns (total 10 columns):\n",
      "permalink        66368 non-null object\n",
      "name             66367 non-null object\n",
      "homepage_url     61310 non-null object\n",
      "category_list    63220 non-null object\n",
      "status           66368 non-null object\n",
      "country_code     59410 non-null object\n",
      "state_code       57821 non-null object\n",
      "region           58338 non-null object\n",
      "city             58340 non-null object\n",
      "founded_at       51147 non-null object\n",
      "dtypes: object(10)\n",
      "memory usage: 5.1+ MB\n",
      "<class 'pandas.core.frame.DataFrame'>\n",
      "RangeIndex: 114949 entries, 0 to 114948\n",
      "Data columns (total 6 columns):\n",
      "company_permalink          114949 non-null object\n",
      "funding_round_permalink    114949 non-null object\n",
      "funding_round_type         114949 non-null object\n",
      "funding_round_code         31140 non-null object\n",
      "funded_at                  114949 non-null object\n",
      "raised_amount_usd          94959 non-null float64\n",
      "dtypes: float64(1), object(5)\n",
      "memory usage: 5.3+ MB\n"
     ]
    }
   ],
   "source": [
    "#Understanding the data columns/variables\n",
    "companies.info()\n",
    "rounds2.info()"
   ]
  },
  {
   "cell_type": "markdown",
   "metadata": {},
   "source": [
    "****Handling encoding error,Companies and rounds data having special characters ,which needs to be handled."
   ]
  },
  {
   "cell_type": "code",
   "execution_count": 5,
   "metadata": {},
   "outputs": [
    {
     "data": {
      "text/plain": [
       "0                    /Organization/-Fame\n",
       "1                 /Organization/-Qounter\n",
       "2    /Organization/-The-One-Of-Them-Inc-\n",
       "3                  /Organization/0-6-Com\n",
       "4         /Organization/004-Technologies\n",
       "Name: permalink, dtype: object"
      ]
     },
     "execution_count": 5,
     "metadata": {},
     "output_type": "execute_result"
    }
   ],
   "source": [
    "#remove encoding from companies 'permalink' df\n",
    "companies['permalink'] = companies.permalink.str.encode(\"utf-8\").str.decode('ascii','ignore')\n",
    "companies['permalink'].head()"
   ]
  },
  {
   "cell_type": "code",
   "execution_count": 6,
   "metadata": {},
   "outputs": [
    {
     "data": {
      "text/plain": [
       "0                    /organization/-fame\n",
       "1                 /ORGANIZATION/-QOUNTER\n",
       "2                 /organization/-qounter\n",
       "3    /ORGANIZATION/-THE-ONE-OF-THEM-INC-\n",
       "4                  /organization/0-6-com\n",
       "Name: company_permalink, dtype: object"
      ]
     },
     "execution_count": 6,
     "metadata": {},
     "output_type": "execute_result"
    }
   ],
   "source": [
    "#remove encoding from rounds2 'company_permalink' df\n",
    "rounds2['company_permalink'] = rounds2.company_permalink.str.encode(\"utf-8\").str.decode('ascii','ignore')\n",
    "rounds2['company_permalink'].head()"
   ]
  },
  {
   "cell_type": "code",
   "execution_count": 7,
   "metadata": {},
   "outputs": [
    {
     "data": {
      "text/plain": [
       "0                     #fame\n",
       "1                  :Qounter\n",
       "2    (THE) ONE of THEM,Inc.\n",
       "3                   0-6.com\n",
       "4          004 Technologies\n",
       "Name: name, dtype: object"
      ]
     },
     "execution_count": 7,
     "metadata": {},
     "output_type": "execute_result"
    }
   ],
   "source": [
    "#remove encoding from companies 'name' df\n",
    "companies['name'] = companies.name.str.encode(\"utf-8\").str.decode('ascii','ignore')\n",
    "companies['name'].head()"
   ]
  },
  {
   "cell_type": "markdown",
   "metadata": {},
   "source": [
    "**Now after removing encoding errors, we can check Unique companies in rounds2 and companies df."
   ]
  },
  {
   "cell_type": "code",
   "execution_count": 8,
   "metadata": {},
   "outputs": [
    {
     "name": "stdout",
     "output_type": "stream",
     "text": [
      "Count of unique companies in rounds2 is :  66368\n"
     ]
    }
   ],
   "source": [
    "#Unique companies are present in rounds2\n",
    "\n",
    "#converting company_permalink to lowercase ,as case-sensitivity can impact the outcome\n",
    "rounds2['company_permalink'] = rounds2['company_permalink'].str.lower()\n",
    "\n",
    "#checking unique values           \n",
    "print(\"Count of unique companies in rounds2 is : \",len(rounds2['company_permalink'].unique()))  "
   ]
  },
  {
   "cell_type": "code",
   "execution_count": 9,
   "metadata": {},
   "outputs": [
    {
     "name": "stdout",
     "output_type": "stream",
     "text": [
      "Count of unique companies in companies file is :  66368\n"
     ]
    }
   ],
   "source": [
    "#Unique companies are present in the companies \n",
    "\n",
    "#converting permalink to lowercase ,,as case-sensitivity can impact the outcome\n",
    "companies['permalink'] = companies['permalink'].str.lower()\n",
    "\n",
    "#checking unique values       \n",
    "print(\"Count of unique companies in companies file is : \",len(companies['permalink'].unique()))  "
   ]
  },
  {
   "cell_type": "code",
   "execution_count": 10,
   "metadata": {},
   "outputs": [
    {
     "data": {
      "text/html": [
       "<div>\n",
       "<style scoped>\n",
       "    .dataframe tbody tr th:only-of-type {\n",
       "        vertical-align: middle;\n",
       "    }\n",
       "\n",
       "    .dataframe tbody tr th {\n",
       "        vertical-align: top;\n",
       "    }\n",
       "\n",
       "    .dataframe thead th {\n",
       "        text-align: right;\n",
       "    }\n",
       "</style>\n",
       "<table border=\"1\" class=\"dataframe\">\n",
       "  <thead>\n",
       "    <tr style=\"text-align: right;\">\n",
       "      <th></th>\n",
       "      <th>permalink</th>\n",
       "      <th>name</th>\n",
       "      <th>homepage_url</th>\n",
       "      <th>category_list</th>\n",
       "      <th>status</th>\n",
       "      <th>country_code</th>\n",
       "      <th>state_code</th>\n",
       "      <th>region</th>\n",
       "      <th>city</th>\n",
       "      <th>founded_at</th>\n",
       "    </tr>\n",
       "  </thead>\n",
       "  <tbody>\n",
       "  </tbody>\n",
       "</table>\n",
       "</div>"
      ],
      "text/plain": [
       "Empty DataFrame\n",
       "Columns: [permalink, name, homepage_url, category_list, status, country_code, state_code, region, city, founded_at]\n",
       "Index: []"
      ]
     },
     "execution_count": 10,
     "metadata": {},
     "output_type": "execute_result"
    }
   ],
   "source": [
    "#Are there any companies in the rounds2 file which are not  present in companies.\n",
    "\n",
    "companies.loc[~companies['permalink'].isin(rounds2['company_permalink'])]\n",
    "\n",
    "#Answer - No"
   ]
  },
  {
   "cell_type": "code",
   "execution_count": 11,
   "metadata": {},
   "outputs": [
    {
     "name": "stdout",
     "output_type": "stream",
     "text": [
      "<class 'pandas.core.frame.DataFrame'>\n",
      "Int64Index: 114949 entries, 0 to 114948\n",
      "Data columns (total 16 columns):\n",
      "company_permalink          114949 non-null object\n",
      "funding_round_permalink    114949 non-null object\n",
      "funding_round_type         114949 non-null object\n",
      "funding_round_code         31140 non-null object\n",
      "funded_at                  114949 non-null object\n",
      "raised_amount_usd          94959 non-null float64\n",
      "permalink                  114949 non-null object\n",
      "name                       114948 non-null object\n",
      "homepage_url               108815 non-null object\n",
      "category_list              111539 non-null object\n",
      "status                     114949 non-null object\n",
      "country_code               106271 non-null object\n",
      "state_code                 104003 non-null object\n",
      "region                     104782 non-null object\n",
      "city                       104785 non-null object\n",
      "founded_at                 94428 non-null object\n",
      "dtypes: float64(1), object(15)\n",
      "memory usage: 14.9+ MB\n"
     ]
    }
   ],
   "source": [
    "#5 Merge the two data frames so that all variables (columns) in the companies frame are added to the rounds2 data frame. Name the merged frame master_frame. How many observations are present in master_frame?\n",
    "\n",
    "#creating master_frame\n",
    "master_frame = pd.merge(rounds2,companies,left_on='company_permalink',right_on='permalink',how='inner')\n",
    "\n",
    "\n",
    "#checking rows and variables(columns) using info()\n",
    "master_frame.info()"
   ]
  },
  {
   "cell_type": "markdown",
   "metadata": {},
   "source": [
    "#### Data cleaning on master frame"
   ]
  },
  {
   "cell_type": "code",
   "execution_count": 12,
   "metadata": {},
   "outputs": [],
   "source": [
    "#Taking copy of master_frame for further analysis\n",
    "master_frame2 = master_frame.copy()"
   ]
  },
  {
   "cell_type": "markdown",
   "metadata": {},
   "source": [
    "***Columns homepage_url,state_code,region,city,founded_at,funded_at doesn't seems to add value to the business objective,hence dropping these columns from companies dataframe.\n",
    "Moreover permalink is a redundant column."
   ]
  },
  {
   "cell_type": "code",
   "execution_count": 13,
   "metadata": {
    "scrolled": true
   },
   "outputs": [],
   "source": [
    "master_frame.drop(['homepage_url','state_code','region','city','founded_at','funded_at','permalink'],axis=1,inplace=True)"
   ]
  },
  {
   "cell_type": "code",
   "execution_count": 14,
   "metadata": {},
   "outputs": [
    {
     "data": {
      "text/plain": [
       "Index(['company_permalink', 'funding_round_permalink', 'funding_round_type',\n",
       "       'funding_round_code', 'raised_amount_usd', 'name', 'category_list',\n",
       "       'status', 'country_code'],\n",
       "      dtype='object')"
      ]
     },
     "execution_count": 14,
     "metadata": {},
     "output_type": "execute_result"
    }
   ],
   "source": [
    "master_frame.columns"
   ]
  },
  {
   "cell_type": "markdown",
   "metadata": {},
   "source": [
    "***Checking data for missing values  and the distribution\n"
   ]
  },
  {
   "cell_type": "code",
   "execution_count": 15,
   "metadata": {
    "scrolled": false
   },
   "outputs": [
    {
     "data": {
      "text/plain": [
       "company_permalink              0\n",
       "funding_round_permalink        0\n",
       "funding_round_type             0\n",
       "funding_round_code         83809\n",
       "raised_amount_usd          19990\n",
       "name                           1\n",
       "category_list               3410\n",
       "status                         0\n",
       "country_code                8678\n",
       "dtype: int64"
      ]
     },
     "execution_count": 15,
     "metadata": {},
     "output_type": "execute_result"
    }
   ],
   "source": [
    "#Missing values in companies DF\n",
    "master_frame.isnull().sum()"
   ]
  },
  {
   "cell_type": "code",
   "execution_count": 16,
   "metadata": {
    "scrolled": false
   },
   "outputs": [
    {
     "data": {
      "text/plain": [
       "company_permalink           0.00\n",
       "funding_round_permalink     0.00\n",
       "funding_round_type          0.00\n",
       "funding_round_code         72.91\n",
       "raised_amount_usd          17.39\n",
       "name                        0.00\n",
       "category_list               2.97\n",
       "status                      0.00\n",
       "country_code                7.55\n",
       "dtype: float64"
      ]
     },
     "execution_count": 16,
     "metadata": {},
     "output_type": "execute_result"
    }
   ],
   "source": [
    "#calculating percentage of missing values wrt total rows\n",
    "round(100*(master_frame.isnull().sum()/len(master_frame.index)),2)"
   ]
  },
  {
   "cell_type": "markdown",
   "metadata": {},
   "source": [
    "******Percentage of missing values(NAN) in funding_round_code is 72.91%,imputing will not help as the percentage is on high end, hence dropping column."
   ]
  },
  {
   "cell_type": "code",
   "execution_count": 17,
   "metadata": {
    "scrolled": true
   },
   "outputs": [
    {
     "data": {
      "text/plain": [
       "Index(['company_permalink', 'funding_round_permalink', 'funding_round_type',\n",
       "       'raised_amount_usd', 'name', 'category_list', 'status', 'country_code'],\n",
       "      dtype='object')"
      ]
     },
     "execution_count": 17,
     "metadata": {},
     "output_type": "execute_result"
    }
   ],
   "source": [
    "master_frame = master_frame.drop('funding_round_code',axis=1)\n",
    "master_frame.columns"
   ]
  },
  {
   "cell_type": "code",
   "execution_count": 18,
   "metadata": {
    "scrolled": true
   },
   "outputs": [
    {
     "data": {
      "text/html": [
       "<div>\n",
       "<style scoped>\n",
       "    .dataframe tbody tr th:only-of-type {\n",
       "        vertical-align: middle;\n",
       "    }\n",
       "\n",
       "    .dataframe tbody tr th {\n",
       "        vertical-align: top;\n",
       "    }\n",
       "\n",
       "    .dataframe thead th {\n",
       "        text-align: right;\n",
       "    }\n",
       "</style>\n",
       "<table border=\"1\" class=\"dataframe\">\n",
       "  <thead>\n",
       "    <tr style=\"text-align: right;\">\n",
       "      <th></th>\n",
       "      <th>raised_amount_usd</th>\n",
       "    </tr>\n",
       "  </thead>\n",
       "  <tbody>\n",
       "    <tr>\n",
       "      <th>count</th>\n",
       "      <td>9.495900e+04</td>\n",
       "    </tr>\n",
       "    <tr>\n",
       "      <th>mean</th>\n",
       "      <td>1.042687e+07</td>\n",
       "    </tr>\n",
       "    <tr>\n",
       "      <th>std</th>\n",
       "      <td>1.148212e+08</td>\n",
       "    </tr>\n",
       "    <tr>\n",
       "      <th>min</th>\n",
       "      <td>0.000000e+00</td>\n",
       "    </tr>\n",
       "    <tr>\n",
       "      <th>25%</th>\n",
       "      <td>3.225000e+05</td>\n",
       "    </tr>\n",
       "    <tr>\n",
       "      <th>50%</th>\n",
       "      <td>1.680511e+06</td>\n",
       "    </tr>\n",
       "    <tr>\n",
       "      <th>75%</th>\n",
       "      <td>7.000000e+06</td>\n",
       "    </tr>\n",
       "    <tr>\n",
       "      <th>max</th>\n",
       "      <td>2.127194e+10</td>\n",
       "    </tr>\n",
       "  </tbody>\n",
       "</table>\n",
       "</div>"
      ],
      "text/plain": [
       "       raised_amount_usd\n",
       "count       9.495900e+04\n",
       "mean        1.042687e+07\n",
       "std         1.148212e+08\n",
       "min         0.000000e+00\n",
       "25%         3.225000e+05\n",
       "50%         1.680511e+06\n",
       "75%         7.000000e+06\n",
       "max         2.127194e+10"
      ]
     },
     "execution_count": 18,
     "metadata": {},
     "output_type": "execute_result"
    }
   ],
   "source": [
    "#Checking distribution of data\n",
    "master_frame.describe()"
   ]
  },
  {
   "cell_type": "markdown",
   "metadata": {},
   "source": [
    "***raised_amount_usd has about 17.4% of missing values, this will impact the analysis during calculation of average(mean value) funding raised.Moreover,Standard deviation is high hence values cannot be imputed with mean/median.\n",
    "\n",
    "**Hence , Dropping rows for which raised_amount_usd is null.*"
   ]
  },
  {
   "cell_type": "code",
   "execution_count": 19,
   "metadata": {},
   "outputs": [],
   "source": [
    "#Dropping rows where raised_amount_usd is null\n",
    "master_frame.dropna(subset=['raised_amount_usd'],inplace=True,axis=0)"
   ]
  },
  {
   "cell_type": "code",
   "execution_count": 20,
   "metadata": {
    "scrolled": false
   },
   "outputs": [
    {
     "data": {
      "text/plain": [
       "Biotechnology       8.19\n",
       "Software            6.15\n",
       "Health Care         2.18\n",
       "Clean Technology    2.02\n",
       "Mobile              1.94\n",
       "Name: category_list, dtype: float64"
      ]
     },
     "execution_count": 20,
     "metadata": {},
     "output_type": "execute_result"
    }
   ],
   "source": [
    "#category_list has 2.9% missing values,checking distribution across category_list to find if we can impute values\n",
    "round(100*(master_frame['category_list'].value_counts()/len(master_frame.index)),2).sort_values(ascending=False).head()"
   ]
  },
  {
   "cell_type": "markdown",
   "metadata": {},
   "source": [
    "**Biotechnology has highest percentage ,hence we can impute it with missing values"
   ]
  },
  {
   "cell_type": "code",
   "execution_count": 21,
   "metadata": {},
   "outputs": [],
   "source": [
    "master_frame['category_list'] = master_frame['category_list'].fillna('Biotechnology')"
   ]
  },
  {
   "cell_type": "code",
   "execution_count": 22,
   "metadata": {
    "scrolled": true
   },
   "outputs": [
    {
     "name": "stdout",
     "output_type": "stream",
     "text": [
      "<class 'pandas.core.frame.DataFrame'>\n",
      "Int64Index: 94959 entries, 0 to 114948\n",
      "Data columns (total 8 columns):\n",
      "company_permalink          94959 non-null object\n",
      "funding_round_permalink    94959 non-null object\n",
      "funding_round_type         94959 non-null object\n",
      "raised_amount_usd          94959 non-null float64\n",
      "name                       94958 non-null object\n",
      "category_list              94959 non-null object\n",
      "status                     94959 non-null object\n",
      "country_code               89108 non-null object\n",
      "dtypes: float64(1), object(7)\n",
      "memory usage: 6.5+ MB\n"
     ]
    }
   ],
   "source": [
    "#Checking master data\n",
    "master_frame.info()"
   ]
  },
  {
   "cell_type": "code",
   "execution_count": 23,
   "metadata": {},
   "outputs": [],
   "source": [
    "#Writing clean masterframe to file \n",
    "master_frame.to_csv(\"master_frame.csv\",sep=',',index=False)"
   ]
  },
  {
   "cell_type": "markdown",
   "metadata": {},
   "source": [
    "### Checkpoint2"
   ]
  },
  {
   "cell_type": "code",
   "execution_count": 24,
   "metadata": {
    "scrolled": false
   },
   "outputs": [
    {
     "name": "stdout",
     "output_type": "stream",
     "text": [
      "<class 'pandas.core.frame.DataFrame'>\n",
      "RangeIndex: 18848 entries, 0 to 18847\n",
      "Data columns (total 8 columns):\n",
      "company_permalink          18848 non-null object\n",
      "funding_round_permalink    18848 non-null object\n",
      "funding_round_type         18848 non-null object\n",
      "raised_amount_usd          18848 non-null float64\n",
      "name                       18848 non-null object\n",
      "category_list              18848 non-null object\n",
      "status                     18848 non-null object\n",
      "country_code               18037 non-null object\n",
      "dtypes: float64(1), object(7)\n",
      "memory usage: 1.2+ MB\n",
      "Average funding amount of venture type : 8888550.51\n",
      "Average funding amount of angel type : 7212354.76\n",
      "Average funding amount of seed type : 6610420.41\n",
      "Average funding amount of  private equity type : 9283495.68\n"
     ]
    }
   ],
   "source": [
    "#Filtering master data on constraint 5 million to 15 million USD .It will provide list of companies data for which investment \n",
    "#is between 5-15 million USD across all funding_type\n",
    "\n",
    "filtered_df = master_frame[(master_frame['raised_amount_usd']>=5000000) & (master_frame['raised_amount_usd']<=15000000)]\n",
    "\n",
    "#checking information on rows/columns\n",
    "filtered_df.reset_index(drop=True,inplace=True)\n",
    "filtered_df.info()\n",
    "\n",
    "#Grouping on 'fundng_round_type'\n",
    "master_ftype = filtered_df.groupby('funding_round_type')\n",
    "\n",
    "#1 Average funding amount of venture type\n",
    "print(\"Average funding amount of venture type :\",round(master_ftype.get_group('venture')['raised_amount_usd'].mean(),2))\n",
    "\n",
    "#2 Average funding amount of angel type\n",
    "print(\"Average funding amount of angel type :\",round(master_ftype.get_group('angel')['raised_amount_usd'].mean(),2))\n",
    "\n",
    "#3 Average funding amount of seed type\n",
    "print(\"Average funding amount of seed type :\",round(master_ftype.get_group('seed')['raised_amount_usd'].mean(),2))\n",
    "\n",
    "#4 Average funding amount of private equity type\n",
    "print(\"Average funding amount of  private equity type :\",round(master_ftype.get_group('private_equity')['raised_amount_usd'].mean(),2))\n"
   ]
  },
  {
   "cell_type": "markdown",
   "metadata": {},
   "source": [
    "**Average funding amount of private equity seems to be the highest, let's compare the count of investments in venture and private equity to find the suitable funding type . "
   ]
  },
  {
   "cell_type": "code",
   "execution_count": 25,
   "metadata": {},
   "outputs": [
    {
     "name": "stdout",
     "output_type": "stream",
     "text": [
      "Total investments in Venture :  16598\n",
      "Total investments in Private Equity : 429\n"
     ]
    }
   ],
   "source": [
    "print(\"Total investments in Venture : \" ,master_ftype.get_group('venture')['raised_amount_usd'].count())\n",
    "print(\"Total investments in Private Equity :\",master_ftype.get_group('private_equity')['raised_amount_usd'].count())"
   ]
  },
  {
   "cell_type": "markdown",
   "metadata": {},
   "source": [
    "***Even though Private equity funding has average investment of 9283495.68,Venture is more suitable as per the business constraint of investing between 5 million to 15 million per round of investment.because, Number of investments are higher in venture which indicates other investors are investing more in venture . \n",
    "As per business objective, Spark funds wants to invest where most investors are investing . Hence,Venture aligns with the business objective ."
   ]
  },
  {
   "cell_type": "code",
   "execution_count": 26,
   "metadata": {
    "scrolled": true
   },
   "outputs": [],
   "source": [
    "#filter the data so it only contains the chosen investment type i.e Venture\n",
    "master_venture = master_ftype.get_group('venture')\n",
    "master_venture = master_venture.sort_values(by='company_permalink')"
   ]
  },
  {
   "cell_type": "markdown",
   "metadata": {},
   "source": [
    "### Checkpoint 3"
   ]
  },
  {
   "cell_type": "code",
   "execution_count": 27,
   "metadata": {
    "scrolled": true
   },
   "outputs": [
    {
     "data": {
      "text/html": [
       "<div>\n",
       "<style scoped>\n",
       "    .dataframe tbody tr th:only-of-type {\n",
       "        vertical-align: middle;\n",
       "    }\n",
       "\n",
       "    .dataframe tbody tr th {\n",
       "        vertical-align: top;\n",
       "    }\n",
       "\n",
       "    .dataframe thead th {\n",
       "        text-align: right;\n",
       "    }\n",
       "</style>\n",
       "<table border=\"1\" class=\"dataframe\">\n",
       "  <thead>\n",
       "    <tr style=\"text-align: right;\">\n",
       "      <th></th>\n",
       "      <th>raised_amount_usd</th>\n",
       "    </tr>\n",
       "    <tr>\n",
       "      <th>country_code</th>\n",
       "      <th></th>\n",
       "    </tr>\n",
       "  </thead>\n",
       "  <tbody>\n",
       "    <tr>\n",
       "      <th>USA</th>\n",
       "      <td>1.085313e+11</td>\n",
       "    </tr>\n",
       "    <tr>\n",
       "      <th>GBR</th>\n",
       "      <td>5.436844e+09</td>\n",
       "    </tr>\n",
       "    <tr>\n",
       "      <th>CHN</th>\n",
       "      <td>5.016561e+09</td>\n",
       "    </tr>\n",
       "    <tr>\n",
       "      <th>CAN</th>\n",
       "      <td>3.647010e+09</td>\n",
       "    </tr>\n",
       "    <tr>\n",
       "      <th>IND</th>\n",
       "      <td>2.976544e+09</td>\n",
       "    </tr>\n",
       "    <tr>\n",
       "      <th>ISR</th>\n",
       "      <td>2.840306e+09</td>\n",
       "    </tr>\n",
       "    <tr>\n",
       "      <th>FRA</th>\n",
       "      <td>2.112425e+09</td>\n",
       "    </tr>\n",
       "    <tr>\n",
       "      <th>DEU</th>\n",
       "      <td>1.765026e+09</td>\n",
       "    </tr>\n",
       "    <tr>\n",
       "      <th>SWE</th>\n",
       "      <td>6.550407e+08</td>\n",
       "    </tr>\n",
       "  </tbody>\n",
       "</table>\n",
       "</div>"
      ],
      "text/plain": [
       "              raised_amount_usd\n",
       "country_code                   \n",
       "USA                1.085313e+11\n",
       "GBR                5.436844e+09\n",
       "CHN                5.016561e+09\n",
       "CAN                3.647010e+09\n",
       "IND                2.976544e+09\n",
       "ISR                2.840306e+09\n",
       "FRA                2.112425e+09\n",
       "DEU                1.765026e+09\n",
       "SWE                6.550407e+08"
      ]
     },
     "execution_count": 27,
     "metadata": {},
     "output_type": "execute_result"
    }
   ],
   "source": [
    "#Splitting master_venture dataframe on the basis of Country_code for further investigation.\n",
    "\n",
    "master_ctry= master_venture.groupby('country_code')\n",
    "\n",
    "#For the chosen investment type, creating df top9 with the top nine countries (based on the total investment amount each country has received)\n",
    "top9 = master_ctry['raised_amount_usd'].sum().sort_values(ascending=False).head(9)\n",
    "top9 = top9.to_frame()  #top9 dataframe created\n",
    "top9"
   ]
  },
  {
   "cell_type": "markdown",
   "metadata": {},
   "source": [
    "**Next task is to identify the top 3 english speaking countries. "
   ]
  },
  {
   "cell_type": "code",
   "execution_count": 28,
   "metadata": {
    "scrolled": true
   },
   "outputs": [
    {
     "name": "stdout",
     "output_type": "stream",
     "text": [
      "{'AUSTRALIA': 'AUS', 'NEW ZEALAND': 'NZL', 'UNITED KINGDOM': 'GBR', 'UNITED STATES': 'USA', 'ANTIGUA AND BARBUDA': 'ATG', 'BAHAMAS': 'BHS', 'BARBADOS': 'BRB', 'BELIZE': 'BLZ', 'BOTSWANA': 'BWA', 'BURUNDI': 'BDI', 'CAMEROON': 'CMR', 'CANADA': 'CAN', 'COOK ISLANDS': 'COK', 'DOMINICA': 'DMA', 'ESWATINI': 'SWZ', 'FIJI': 'FJI', 'GHANA': 'GHA', 'GRENADA': 'GRD', 'GUYANA': 'GUY', 'INDIA': 'IND', 'IRELAND': 'IRL', 'JAMAICA': 'JAM', 'KENYA': 'KEN', 'KIRIBATI': 'KIR', 'LESOTHO': 'LSO', 'LIBERIA': 'LBR', 'MALAWI': 'MWI', 'MALTA': 'MLT', 'MARSHALL ISLANDS': 'MHL', 'MAURITIUS': 'MUS', 'NAMIBIA': 'NAM', 'NAURU': 'NRU', 'NIGERIA': 'NGA', 'NIUE': 'NIU', 'PAKISTAN': 'PAK', 'PALAU': 'PLW', 'PAPUA NEW GUINEA': 'PNG', 'PHILIPPINES': 'PHL', 'RWANDA': 'RWA', 'SAINT KITTS AND NEVIS': 'KNA', 'SAINT LUCIA': 'LCA', 'SAINT VINCENT AND THE GRENADINES': 'VCT', 'SAMOA': 'WSM', 'SEYCHELLES': 'SYC', 'SIERRA LEONE': 'SLE', 'SINGAPORE': 'SGP', 'SOLOMON ISLANDS': 'SLB', 'SOUTH AFRICA': 'ZAF', 'SOUTH SUDAN': 'SSD', 'SUDAN': 'SDN', 'TONGA': 'TON', 'TRINIDAD AND TOBAGO': 'TTO', 'TUVALU': 'TUV', 'UGANDA': 'UGA', 'VANUATU': 'VUT', 'ZAMBIA': 'ZMB', 'ZIMBABWE': 'ZWE', 'BAHRAIN': 'BHR', 'BANGLADESH': 'BGD', 'CYPRUS': 'CYP', 'EGYPT': 'EGY', 'ERITREA': 'ERI', 'ETHIOPIA': 'ETH', 'IRAQ': 'IRQ', 'ISRAEL': 'ISR', 'JORDAN': 'JOR', 'KUWAIT': 'KWT', 'MALAYSIA': 'MYS', 'MALDIVES': 'MDV', 'MYANMAR': 'MMR', 'OMAN': 'OMN', 'QATAR': 'QAT', 'SOMALIA': 'SOM', 'SRI LANKA': 'LKA', 'UNITED ARAB EMIRATES': 'ARE'}\n"
     ]
    }
   ],
   "source": [
    "#Scraping Wiki URL to retrieve list of English speaking countries\n",
    "\n",
    "#import request,BeautifulSoup for webscraping\n",
    "from urllib.request import urlopen\n",
    "from bs4 import BeautifulSoup\n",
    "\n",
    "url = \"https://en.wikipedia.org/wiki/List_of_territorial_entities_where_English_is_an_official_language\"\n",
    "htmlpage = urlopen(url)\n",
    "\n",
    "#create beautiful soup object\n",
    "soup = BeautifulSoup(htmlpage,'lxml')\n",
    "\n",
    "#< a > for hyperlinks, < table > for tables, < tr > for table rows, < th > for table headers, and < td > for table cells. \n",
    "\n",
    "\n",
    "row=[]                 #empty array\n",
    "\n",
    "#find table elements in HTML page to retrieve list of all the tables\n",
    "table = soup.find_all('table')\n",
    "\n",
    "#Iterate each 'table' elements to retrieve anchor tag 'a' containing country names with English as official language\n",
    "#As per assumption , Scraping through first 3 tables on Wiki weblink.\n",
    "\n",
    "count = 0              #initialising counter\n",
    "for tb in table:\n",
    "    if count == 3:                    \n",
    "        break\n",
    "    else:\n",
    "        count = count + 1\n",
    "        table_rows = tb.find_all('tr')\n",
    "        for tr in table_rows:\n",
    "                td = tr.find_all('td')\n",
    "                for a in td:\n",
    "                    anchor = a.find_all('a')\n",
    "                    for i in anchor:\n",
    "                        row.append(i.text)\n",
    "    \n",
    "#Creating dataframe of list of english speaking countries     \n",
    "english_speaking = pd.DataFrame(row,columns=['country'])\n",
    "\n",
    "\n",
    "#Cleaning scraped data retrieved for English Speaking Countries from Wikipedia\n",
    "english_speaking['country'].str.rstrip('\\n [] [ ] 0 1 2 3 4 5 6 7 8 9')\n",
    "english_speaking = english_speaking.drop_duplicates()\n",
    "english_speaking = english_speaking.reset_index(drop=True)\n",
    "english_speaking = english_speaking.drop([2])\n",
    "\n",
    "#Coverting DF to list of values\n",
    "english_speaking = list(english_speaking['country'])\n",
    "\n",
    "#Applying map function to convert countries name to upper-case\n",
    "english_speaking= list(map(lambda i:i.upper(),english_speaking))\n",
    "\n",
    "\n",
    "#Mapping of country names with country code. Using pycountry module as it contains ISO standard mapping .\n",
    "import pycountry\n",
    "\n",
    "#alpha_3 returns 3 digit country code wrt to country name\n",
    "\n",
    "country_map = {country.name.upper(): country.alpha_3 for country in pycountry.countries}\n",
    "\n",
    "#Following logic takes each language from list of English speaking countries with reference to Wikipedia URL and gets country_code from country_map\n",
    "codes_mapping = {}\n",
    "for i in english_speaking:\n",
    "    for key,value in country_map.items():\n",
    "        if i == key:\n",
    "            codes_mapping.update({key:value})\n",
    "        else:\n",
    "            continue\n",
    "\n",
    "#Now we have english speaking country mapped with its country code,now country_code column of Master_venture can be used to identify \n",
    "# the country codes having 'english' as official language\n",
    "print(codes_mapping)\n",
    "\n",
    "\n"
   ]
  },
  {
   "cell_type": "code",
   "execution_count": 29,
   "metadata": {},
   "outputs": [
    {
     "data": {
      "text/html": [
       "<div>\n",
       "<style scoped>\n",
       "    .dataframe tbody tr th:only-of-type {\n",
       "        vertical-align: middle;\n",
       "    }\n",
       "\n",
       "    .dataframe tbody tr th {\n",
       "        vertical-align: top;\n",
       "    }\n",
       "\n",
       "    .dataframe thead th {\n",
       "        text-align: right;\n",
       "    }\n",
       "</style>\n",
       "<table border=\"1\" class=\"dataframe\">\n",
       "  <thead>\n",
       "    <tr style=\"text-align: right;\">\n",
       "      <th></th>\n",
       "      <th>company_permalink</th>\n",
       "      <th>funding_round_permalink</th>\n",
       "      <th>funding_round_type</th>\n",
       "      <th>raised_amount_usd</th>\n",
       "      <th>name</th>\n",
       "      <th>category_list</th>\n",
       "      <th>status</th>\n",
       "      <th>country_code</th>\n",
       "      <th>English_Speaking</th>\n",
       "    </tr>\n",
       "  </thead>\n",
       "  <tbody>\n",
       "    <tr>\n",
       "      <th>0</th>\n",
       "      <td>/organization/-fame</td>\n",
       "      <td>/funding-round/9a01d05418af9f794eebff7ace91f638</td>\n",
       "      <td>venture</td>\n",
       "      <td>10000000.0</td>\n",
       "      <td>#fame</td>\n",
       "      <td>Media</td>\n",
       "      <td>operating</td>\n",
       "      <td>IND</td>\n",
       "      <td>Yes</td>\n",
       "    </tr>\n",
       "    <tr>\n",
       "      <th>1</th>\n",
       "      <td>/organization/0xdata</td>\n",
       "      <td>/funding-round/e1cfcbe1bdf4c70277c5f29a3482f24e</td>\n",
       "      <td>venture</td>\n",
       "      <td>8900000.0</td>\n",
       "      <td>H2O.ai</td>\n",
       "      <td>Analytics</td>\n",
       "      <td>operating</td>\n",
       "      <td>USA</td>\n",
       "      <td>Yes</td>\n",
       "    </tr>\n",
       "    <tr>\n",
       "      <th>3</th>\n",
       "      <td>/organization/1-mainstream</td>\n",
       "      <td>/funding-round/b952cbaf401f310927430c97b68162ea</td>\n",
       "      <td>venture</td>\n",
       "      <td>5000000.0</td>\n",
       "      <td>1 Mainstream</td>\n",
       "      <td>Apps|Cable|Distribution|Software</td>\n",
       "      <td>acquired</td>\n",
       "      <td>USA</td>\n",
       "      <td>Yes</td>\n",
       "    </tr>\n",
       "    <tr>\n",
       "      <th>4</th>\n",
       "      <td>/organization/1001-menus</td>\n",
       "      <td>/funding-round/645b4cd895450b8e0268027cd7813047</td>\n",
       "      <td>venture</td>\n",
       "      <td>6602694.0</td>\n",
       "      <td>ZenChef</td>\n",
       "      <td>Local Businesses|Restaurants</td>\n",
       "      <td>operating</td>\n",
       "      <td>FRA</td>\n",
       "      <td>No</td>\n",
       "    </tr>\n",
       "    <tr>\n",
       "      <th>5</th>\n",
       "      <td>/organization/1001pharmacies-com</td>\n",
       "      <td>/funding-round/a21fc4d20200f43e3a25fd9cfc7c1482</td>\n",
       "      <td>venture</td>\n",
       "      <td>8900000.0</td>\n",
       "      <td>1001pharmacies.com</td>\n",
       "      <td>Cosmetics|Marketplaces</td>\n",
       "      <td>operating</td>\n",
       "      <td>FRA</td>\n",
       "      <td>No</td>\n",
       "    </tr>\n",
       "  </tbody>\n",
       "</table>\n",
       "</div>"
      ],
      "text/plain": [
       "                  company_permalink  \\\n",
       "0               /organization/-fame   \n",
       "1              /organization/0xdata   \n",
       "3        /organization/1-mainstream   \n",
       "4          /organization/1001-menus   \n",
       "5  /organization/1001pharmacies-com   \n",
       "\n",
       "                           funding_round_permalink funding_round_type  \\\n",
       "0  /funding-round/9a01d05418af9f794eebff7ace91f638            venture   \n",
       "1  /funding-round/e1cfcbe1bdf4c70277c5f29a3482f24e            venture   \n",
       "3  /funding-round/b952cbaf401f310927430c97b68162ea            venture   \n",
       "4  /funding-round/645b4cd895450b8e0268027cd7813047            venture   \n",
       "5  /funding-round/a21fc4d20200f43e3a25fd9cfc7c1482            venture   \n",
       "\n",
       "   raised_amount_usd                name                     category_list  \\\n",
       "0         10000000.0               #fame                             Media   \n",
       "1          8900000.0              H2O.ai                         Analytics   \n",
       "3          5000000.0        1 Mainstream  Apps|Cable|Distribution|Software   \n",
       "4          6602694.0             ZenChef      Local Businesses|Restaurants   \n",
       "5          8900000.0  1001pharmacies.com            Cosmetics|Marketplaces   \n",
       "\n",
       "      status country_code English_Speaking  \n",
       "0  operating          IND              Yes  \n",
       "1  operating          USA              Yes  \n",
       "3   acquired          USA              Yes  \n",
       "4  operating          FRA               No  \n",
       "5  operating          FRA               No  "
      ]
     },
     "execution_count": 29,
     "metadata": {},
     "output_type": "execute_result"
    }
   ],
   "source": [
    "#Adding English_Speaking column to master_venture dataframe temporarily which indicates 'Yes' for English speaking countries else 'No'\n",
    "\n",
    "#Checking country codes from master_venture DF ,if it exists in mapped data 'codes_mapping'\n",
    "\n",
    "lst=[]\n",
    "for i in list(master_venture['country_code']):\n",
    "    if i in codes_mapping.values():\n",
    "        lst.append('Yes')\n",
    "    else:\n",
    "        lst.append('No')\n",
    "\n",
    "\n",
    "master_venture['English_Speaking'] = lst\n",
    "\n",
    "#Verify the changes in master_venture dataframe\n",
    "master_venture.head()"
   ]
  },
  {
   "cell_type": "code",
   "execution_count": 30,
   "metadata": {
    "scrolled": true
   },
   "outputs": [
    {
     "data": {
      "text/plain": [
       "country_code\n",
       "USA    1.085313e+11\n",
       "GBR    5.436844e+09\n",
       "CAN    3.647010e+09\n",
       "Name: raised_amount_usd, dtype: float64"
      ]
     },
     "execution_count": 30,
     "metadata": {},
     "output_type": "execute_result"
    }
   ],
   "source": [
    "#TO identify top english speaking countries\n",
    "\n",
    "#Filtr data on column English_Speaking \n",
    "master_venture2 = master_venture[master_venture['English_Speaking'] == 'Yes']\n",
    "\n",
    "#Do the grouping on based of 'country_code' to calculate total amount of investment per country\n",
    "eng_spk= master_venture2.groupby('country_code')\n",
    "\n",
    "#Top 3 English speaking countries based on total investment.\n",
    "top3_Eng = eng_spk['raised_amount_usd'].sum().sort_values(ascending=False).head(3)\n",
    "\n",
    "#Creating df for plotting\n",
    "top3_plt = top3_Eng.to_frame()\n",
    "\n",
    "top3_Eng #This can be used for plotting "
   ]
  },
  {
   "cell_type": "code",
   "execution_count": 31,
   "metadata": {},
   "outputs": [
    {
     "name": "stdout",
     "output_type": "stream",
     "text": [
      "<class 'pandas.core.frame.DataFrame'>\n",
      "Int64Index: 16598 entries, 0 to 18847\n",
      "Data columns (total 8 columns):\n",
      "company_permalink          16598 non-null object\n",
      "funding_round_permalink    16598 non-null object\n",
      "funding_round_type         16598 non-null object\n",
      "raised_amount_usd          16598 non-null float64\n",
      "name                       16598 non-null object\n",
      "category_list              16598 non-null object\n",
      "status                     16598 non-null object\n",
      "country_code               15895 non-null object\n",
      "dtypes: float64(1), object(7)\n",
      "memory usage: 1.1+ MB\n"
     ]
    }
   ],
   "source": [
    "#Dropping English_Speaking column as it is of no use further\n",
    "master_venture = master_venture.drop('English_Speaking',axis=1)\n",
    "master_venture.info()"
   ]
  },
  {
   "cell_type": "markdown",
   "metadata": {},
   "source": [
    "### Checkpoint4"
   ]
  },
  {
   "cell_type": "code",
   "execution_count": 32,
   "metadata": {
    "scrolled": false
   },
   "outputs": [
    {
     "name": "stdout",
     "output_type": "stream",
     "text": [
      "<class 'pandas.core.frame.DataFrame'>\n",
      "RangeIndex: 688 entries, 0 to 687\n",
      "Data columns (total 9 columns):\n",
      "category_list                              687 non-null object\n",
      "Automotive & Sports                        688 non-null int64\n",
      "Cleantech / Semiconductors                 688 non-null int64\n",
      "Entertainment                              688 non-null int64\n",
      "Health                                     688 non-null int64\n",
      "Manufacturing                              688 non-null int64\n",
      "News, Search and Messaging                 688 non-null int64\n",
      "Others                                     688 non-null int64\n",
      "Social, Finance, Analytics, Advertising    688 non-null int64\n",
      "dtypes: int64(8), object(1)\n",
      "memory usage: 48.5+ KB\n"
     ]
    }
   ],
   "source": [
    "#import data from mapping file \n",
    "\n",
    "mapping = pd.read_csv('mapping.csv',encoding='iso-8859-1')\n",
    "\n",
    "#Data  cleaning - : Dropping column 'Blanks' as we are focussed on 8 sectors only. \n",
    "mapping.drop(columns= ['Blanks'],inplace=True)\n",
    "mapping.info()\n",
    "\n",
    "#Cleaning Data by removing rows with all nullvalues\n",
    "mapping.dropna(axis=0,how='all',inplace=True)\n"
   ]
  },
  {
   "cell_type": "code",
   "execution_count": 33,
   "metadata": {
    "scrolled": true
   },
   "outputs": [],
   "source": [
    "#Extracting the primary sector of each category list from the category_list column\n",
    "Sector = master_venture['category_list'].str.split('|',expand=True)\n",
    "\n",
    "#Adding new column 'primary_sector' ,this column contains the first string before the vertical bar as primary sector\n",
    "master_venture['primary_sector'] = Sector[0]"
   ]
  },
  {
   "cell_type": "code",
   "execution_count": 34,
   "metadata": {
    "scrolled": false
   },
   "outputs": [
    {
     "name": "stdout",
     "output_type": "stream",
     "text": [
      "<class 'pandas.core.frame.DataFrame'>\n",
      "Int64Index: 16598 entries, 0 to 18847\n",
      "Data columns (total 9 columns):\n",
      "company_permalink          16598 non-null object\n",
      "funding_round_permalink    16598 non-null object\n",
      "funding_round_type         16598 non-null object\n",
      "raised_amount_usd          16598 non-null float64\n",
      "name                       16598 non-null object\n",
      "category_list              16598 non-null object\n",
      "status                     16598 non-null object\n",
      "country_code               15895 non-null object\n",
      "primary_sector             16598 non-null object\n",
      "dtypes: float64(1), object(8)\n",
      "memory usage: 1.3+ MB\n"
     ]
    }
   ],
   "source": [
    "#Display updated master_venture information \n",
    "master_venture.info()"
   ]
  },
  {
   "cell_type": "code",
   "execution_count": 35,
   "metadata": {},
   "outputs": [],
   "source": [
    "#Now,let's work on adding new column main_sector mapped with primary sector\n",
    "\n",
    "#Picking column names from mapping df ,as we want to map on the basis of 8 main sector names ,hence picking column names of 8 main sectors\n",
    "list1 = list(mapping.columns)\n",
    "list1 = list1[1:]\n",
    "\n",
    "#Setting variable value to 1 ,because Primary sector is mapped with main_sector where value is 1 in mapping df\n",
    "filter_val=1\n",
    "def funct(x):\n",
    "    l=[]\n",
    "    for col in mapping:\n",
    "        if x[col] == filter_val:\n",
    "                l.append(col)\n",
    "    return pd.Series(l)\n",
    "#Applying function on mapping df and creating new column main_sector\n",
    "mapping['main_sector'] = mapping.apply(funct, axis=1)"
   ]
  },
  {
   "cell_type": "code",
   "execution_count": 36,
   "metadata": {
    "scrolled": true
   },
   "outputs": [
    {
     "data": {
      "text/html": [
       "<div>\n",
       "<style scoped>\n",
       "    .dataframe tbody tr th:only-of-type {\n",
       "        vertical-align: middle;\n",
       "    }\n",
       "\n",
       "    .dataframe tbody tr th {\n",
       "        vertical-align: top;\n",
       "    }\n",
       "\n",
       "    .dataframe thead th {\n",
       "        text-align: right;\n",
       "    }\n",
       "</style>\n",
       "<table border=\"1\" class=\"dataframe\">\n",
       "  <thead>\n",
       "    <tr style=\"text-align: right;\">\n",
       "      <th></th>\n",
       "      <th>category_list</th>\n",
       "      <th>Automotive &amp; Sports</th>\n",
       "      <th>Cleantech / Semiconductors</th>\n",
       "      <th>Entertainment</th>\n",
       "      <th>Health</th>\n",
       "      <th>Manufacturing</th>\n",
       "      <th>News, Search and Messaging</th>\n",
       "      <th>Others</th>\n",
       "      <th>Social, Finance, Analytics, Advertising</th>\n",
       "      <th>main_sector</th>\n",
       "    </tr>\n",
       "  </thead>\n",
       "  <tbody>\n",
       "    <tr>\n",
       "      <th>0</th>\n",
       "      <td>NaN</td>\n",
       "      <td>0</td>\n",
       "      <td>0</td>\n",
       "      <td>0</td>\n",
       "      <td>0</td>\n",
       "      <td>0</td>\n",
       "      <td>0</td>\n",
       "      <td>0</td>\n",
       "      <td>0</td>\n",
       "      <td>NaN</td>\n",
       "    </tr>\n",
       "    <tr>\n",
       "      <th>1</th>\n",
       "      <td>3D</td>\n",
       "      <td>0</td>\n",
       "      <td>0</td>\n",
       "      <td>0</td>\n",
       "      <td>0</td>\n",
       "      <td>1</td>\n",
       "      <td>0</td>\n",
       "      <td>0</td>\n",
       "      <td>0</td>\n",
       "      <td>Manufacturing</td>\n",
       "    </tr>\n",
       "    <tr>\n",
       "      <th>2</th>\n",
       "      <td>3D Printing</td>\n",
       "      <td>0</td>\n",
       "      <td>0</td>\n",
       "      <td>0</td>\n",
       "      <td>0</td>\n",
       "      <td>1</td>\n",
       "      <td>0</td>\n",
       "      <td>0</td>\n",
       "      <td>0</td>\n",
       "      <td>Manufacturing</td>\n",
       "    </tr>\n",
       "    <tr>\n",
       "      <th>3</th>\n",
       "      <td>3D Technology</td>\n",
       "      <td>0</td>\n",
       "      <td>0</td>\n",
       "      <td>0</td>\n",
       "      <td>0</td>\n",
       "      <td>1</td>\n",
       "      <td>0</td>\n",
       "      <td>0</td>\n",
       "      <td>0</td>\n",
       "      <td>Manufacturing</td>\n",
       "    </tr>\n",
       "    <tr>\n",
       "      <th>4</th>\n",
       "      <td>Accounting</td>\n",
       "      <td>0</td>\n",
       "      <td>0</td>\n",
       "      <td>0</td>\n",
       "      <td>0</td>\n",
       "      <td>0</td>\n",
       "      <td>0</td>\n",
       "      <td>0</td>\n",
       "      <td>1</td>\n",
       "      <td>Social, Finance, Analytics, Advertising</td>\n",
       "    </tr>\n",
       "  </tbody>\n",
       "</table>\n",
       "</div>"
      ],
      "text/plain": [
       "   category_list  Automotive & Sports  Cleantech / Semiconductors  \\\n",
       "0            NaN                    0                           0   \n",
       "1             3D                    0                           0   \n",
       "2    3D Printing                    0                           0   \n",
       "3  3D Technology                    0                           0   \n",
       "4     Accounting                    0                           0   \n",
       "\n",
       "   Entertainment  Health  Manufacturing  News, Search and Messaging  Others  \\\n",
       "0              0       0              0                           0       0   \n",
       "1              0       0              1                           0       0   \n",
       "2              0       0              1                           0       0   \n",
       "3              0       0              1                           0       0   \n",
       "4              0       0              0                           0       0   \n",
       "\n",
       "   Social, Finance, Analytics, Advertising  \\\n",
       "0                                        0   \n",
       "1                                        0   \n",
       "2                                        0   \n",
       "3                                        0   \n",
       "4                                        1   \n",
       "\n",
       "                               main_sector  \n",
       "0                                      NaN  \n",
       "1                            Manufacturing  \n",
       "2                            Manufacturing  \n",
       "3                            Manufacturing  \n",
       "4  Social, Finance, Analytics, Advertising  "
      ]
     },
     "execution_count": 36,
     "metadata": {},
     "output_type": "execute_result"
    }
   ],
   "source": [
    "#Display modified mapping df\n",
    "mapping.head()"
   ]
  },
  {
   "cell_type": "code",
   "execution_count": 37,
   "metadata": {
    "scrolled": false
   },
   "outputs": [
    {
     "data": {
      "text/html": [
       "<div>\n",
       "<style scoped>\n",
       "    .dataframe tbody tr th:only-of-type {\n",
       "        vertical-align: middle;\n",
       "    }\n",
       "\n",
       "    .dataframe tbody tr th {\n",
       "        vertical-align: top;\n",
       "    }\n",
       "\n",
       "    .dataframe thead th {\n",
       "        text-align: right;\n",
       "    }\n",
       "</style>\n",
       "<table border=\"1\" class=\"dataframe\">\n",
       "  <thead>\n",
       "    <tr style=\"text-align: right;\">\n",
       "      <th></th>\n",
       "      <th>company_permalink</th>\n",
       "      <th>funding_round_permalink</th>\n",
       "      <th>funding_round_type</th>\n",
       "      <th>raised_amount_usd</th>\n",
       "      <th>name</th>\n",
       "      <th>category_list_x</th>\n",
       "      <th>status</th>\n",
       "      <th>country_code</th>\n",
       "      <th>primary_sector</th>\n",
       "      <th>category_list_y</th>\n",
       "      <th>main_sector</th>\n",
       "    </tr>\n",
       "  </thead>\n",
       "  <tbody>\n",
       "    <tr>\n",
       "      <th>0</th>\n",
       "      <td>/organization/-fame</td>\n",
       "      <td>/funding-round/9a01d05418af9f794eebff7ace91f638</td>\n",
       "      <td>venture</td>\n",
       "      <td>10000000.0</td>\n",
       "      <td>#fame</td>\n",
       "      <td>Media</td>\n",
       "      <td>operating</td>\n",
       "      <td>IND</td>\n",
       "      <td>Media</td>\n",
       "      <td>Media</td>\n",
       "      <td>Entertainment</td>\n",
       "    </tr>\n",
       "    <tr>\n",
       "      <th>1</th>\n",
       "      <td>/organization/90min</td>\n",
       "      <td>/funding-round/21a2cbf6f2fb2a1c2a61e04bf930dfe6</td>\n",
       "      <td>venture</td>\n",
       "      <td>15000000.0</td>\n",
       "      <td>90min</td>\n",
       "      <td>Media|News|Publishing|Soccer|Sports</td>\n",
       "      <td>operating</td>\n",
       "      <td>GBR</td>\n",
       "      <td>Media</td>\n",
       "      <td>Media</td>\n",
       "      <td>Entertainment</td>\n",
       "    </tr>\n",
       "    <tr>\n",
       "      <th>2</th>\n",
       "      <td>/organization/90min</td>\n",
       "      <td>/funding-round/bd626ed022f5c66574b1afe234f3c90d</td>\n",
       "      <td>venture</td>\n",
       "      <td>5800000.0</td>\n",
       "      <td>90min</td>\n",
       "      <td>Media|News|Publishing|Soccer|Sports</td>\n",
       "      <td>operating</td>\n",
       "      <td>GBR</td>\n",
       "      <td>Media</td>\n",
       "      <td>Media</td>\n",
       "      <td>Entertainment</td>\n",
       "    </tr>\n",
       "    <tr>\n",
       "      <th>3</th>\n",
       "      <td>/organization/all-def-digital</td>\n",
       "      <td>/funding-round/452a2342fe720285c3b92e9bd927d9ba</td>\n",
       "      <td>venture</td>\n",
       "      <td>5000000.0</td>\n",
       "      <td>All Def Digital</td>\n",
       "      <td>Media</td>\n",
       "      <td>operating</td>\n",
       "      <td>USA</td>\n",
       "      <td>Media</td>\n",
       "      <td>Media</td>\n",
       "      <td>Entertainment</td>\n",
       "    </tr>\n",
       "    <tr>\n",
       "      <th>4</th>\n",
       "      <td>/organization/basel-switzerland</td>\n",
       "      <td>/funding-round/ae3c2e82851d1fd6f4ba59ee6d3f0eb2</td>\n",
       "      <td>venture</td>\n",
       "      <td>13439178.0</td>\n",
       "      <td>The Speedel Group</td>\n",
       "      <td>Media</td>\n",
       "      <td>closed</td>\n",
       "      <td>CHE</td>\n",
       "      <td>Media</td>\n",
       "      <td>Media</td>\n",
       "      <td>Entertainment</td>\n",
       "    </tr>\n",
       "  </tbody>\n",
       "</table>\n",
       "</div>"
      ],
      "text/plain": [
       "                 company_permalink  \\\n",
       "0              /organization/-fame   \n",
       "1              /organization/90min   \n",
       "2              /organization/90min   \n",
       "3    /organization/all-def-digital   \n",
       "4  /organization/basel-switzerland   \n",
       "\n",
       "                           funding_round_permalink funding_round_type  \\\n",
       "0  /funding-round/9a01d05418af9f794eebff7ace91f638            venture   \n",
       "1  /funding-round/21a2cbf6f2fb2a1c2a61e04bf930dfe6            venture   \n",
       "2  /funding-round/bd626ed022f5c66574b1afe234f3c90d            venture   \n",
       "3  /funding-round/452a2342fe720285c3b92e9bd927d9ba            venture   \n",
       "4  /funding-round/ae3c2e82851d1fd6f4ba59ee6d3f0eb2            venture   \n",
       "\n",
       "   raised_amount_usd               name                      category_list_x  \\\n",
       "0         10000000.0              #fame                                Media   \n",
       "1         15000000.0              90min  Media|News|Publishing|Soccer|Sports   \n",
       "2          5800000.0              90min  Media|News|Publishing|Soccer|Sports   \n",
       "3          5000000.0    All Def Digital                                Media   \n",
       "4         13439178.0  The Speedel Group                                Media   \n",
       "\n",
       "      status country_code primary_sector category_list_y    main_sector  \n",
       "0  operating          IND          Media           Media  Entertainment  \n",
       "1  operating          GBR          Media           Media  Entertainment  \n",
       "2  operating          GBR          Media           Media  Entertainment  \n",
       "3  operating          USA          Media           Media  Entertainment  \n",
       "4     closed          CHE          Media           Media  Entertainment  "
      ]
     },
     "execution_count": 37,
     "metadata": {},
     "output_type": "execute_result"
    }
   ],
   "source": [
    "#Using modified mapping file to map each primary sector to one of the eight main sectors.\n",
    "sector_merged = pd.merge(master_venture,mapping.loc[:,['category_list','main_sector']],how='inner',left_on='primary_sector',right_on='category_list')\n",
    "sector_merged.head()"
   ]
  },
  {
   "cell_type": "code",
   "execution_count": 38,
   "metadata": {
    "scrolled": true
   },
   "outputs": [
    {
     "name": "stdout",
     "output_type": "stream",
     "text": [
      "<class 'pandas.core.frame.DataFrame'>\n",
      "Int64Index: 15414 entries, 0 to 15413\n",
      "Data columns (total 10 columns):\n",
      "company_permalink          15414 non-null object\n",
      "funding_round_permalink    15414 non-null object\n",
      "funding_round_type         15414 non-null object\n",
      "raised_amount_usd          15414 non-null float64\n",
      "name                       15414 non-null object\n",
      "category_list_x            15414 non-null object\n",
      "status                     15414 non-null object\n",
      "country_code               14737 non-null object\n",
      "primary_sector             15414 non-null object\n",
      "main_sector                15414 non-null object\n",
      "dtypes: float64(1), object(9)\n",
      "memory usage: 1.3+ MB\n"
     ]
    }
   ],
   "source": [
    "#Dropping column category_list_y as it is duplicate of category_list_x\n",
    "sector_merged = sector_merged.drop('category_list_y',axis=1)\n",
    "\n",
    "#Final df  with each company’s main sector (main_sector) mapped to it\n",
    "sector_merged.info()"
   ]
  },
  {
   "cell_type": "markdown",
   "metadata": {},
   "source": [
    "**#Code for a merged data frame with each primary sector mapped to its main sector "
   ]
  },
  {
   "cell_type": "code",
   "execution_count": 39,
   "metadata": {},
   "outputs": [
    {
     "data": {
      "text/html": [
       "<div>\n",
       "<style scoped>\n",
       "    .dataframe tbody tr th:only-of-type {\n",
       "        vertical-align: middle;\n",
       "    }\n",
       "\n",
       "    .dataframe tbody tr th {\n",
       "        vertical-align: top;\n",
       "    }\n",
       "\n",
       "    .dataframe thead th {\n",
       "        text-align: right;\n",
       "    }\n",
       "</style>\n",
       "<table border=\"1\" class=\"dataframe\">\n",
       "  <thead>\n",
       "    <tr style=\"text-align: right;\">\n",
       "      <th></th>\n",
       "      <th>company_permalink</th>\n",
       "      <th>funding_round_permalink</th>\n",
       "      <th>funding_round_type</th>\n",
       "      <th>raised_amount_usd</th>\n",
       "      <th>name</th>\n",
       "      <th>category_list_x</th>\n",
       "      <th>status</th>\n",
       "      <th>country_code</th>\n",
       "      <th>primary_sector</th>\n",
       "      <th>main_sector</th>\n",
       "    </tr>\n",
       "  </thead>\n",
       "  <tbody>\n",
       "    <tr>\n",
       "      <th>0</th>\n",
       "      <td>/organization/-fame</td>\n",
       "      <td>/funding-round/9a01d05418af9f794eebff7ace91f638</td>\n",
       "      <td>venture</td>\n",
       "      <td>10000000.0</td>\n",
       "      <td>#fame</td>\n",
       "      <td>Media</td>\n",
       "      <td>operating</td>\n",
       "      <td>IND</td>\n",
       "      <td>Media</td>\n",
       "      <td>Entertainment</td>\n",
       "    </tr>\n",
       "    <tr>\n",
       "      <th>1</th>\n",
       "      <td>/organization/90min</td>\n",
       "      <td>/funding-round/21a2cbf6f2fb2a1c2a61e04bf930dfe6</td>\n",
       "      <td>venture</td>\n",
       "      <td>15000000.0</td>\n",
       "      <td>90min</td>\n",
       "      <td>Media|News|Publishing|Soccer|Sports</td>\n",
       "      <td>operating</td>\n",
       "      <td>GBR</td>\n",
       "      <td>Media</td>\n",
       "      <td>Entertainment</td>\n",
       "    </tr>\n",
       "    <tr>\n",
       "      <th>2</th>\n",
       "      <td>/organization/90min</td>\n",
       "      <td>/funding-round/bd626ed022f5c66574b1afe234f3c90d</td>\n",
       "      <td>venture</td>\n",
       "      <td>5800000.0</td>\n",
       "      <td>90min</td>\n",
       "      <td>Media|News|Publishing|Soccer|Sports</td>\n",
       "      <td>operating</td>\n",
       "      <td>GBR</td>\n",
       "      <td>Media</td>\n",
       "      <td>Entertainment</td>\n",
       "    </tr>\n",
       "    <tr>\n",
       "      <th>3</th>\n",
       "      <td>/organization/all-def-digital</td>\n",
       "      <td>/funding-round/452a2342fe720285c3b92e9bd927d9ba</td>\n",
       "      <td>venture</td>\n",
       "      <td>5000000.0</td>\n",
       "      <td>All Def Digital</td>\n",
       "      <td>Media</td>\n",
       "      <td>operating</td>\n",
       "      <td>USA</td>\n",
       "      <td>Media</td>\n",
       "      <td>Entertainment</td>\n",
       "    </tr>\n",
       "    <tr>\n",
       "      <th>4</th>\n",
       "      <td>/organization/basel-switzerland</td>\n",
       "      <td>/funding-round/ae3c2e82851d1fd6f4ba59ee6d3f0eb2</td>\n",
       "      <td>venture</td>\n",
       "      <td>13439178.0</td>\n",
       "      <td>The Speedel Group</td>\n",
       "      <td>Media</td>\n",
       "      <td>closed</td>\n",
       "      <td>CHE</td>\n",
       "      <td>Media</td>\n",
       "      <td>Entertainment</td>\n",
       "    </tr>\n",
       "  </tbody>\n",
       "</table>\n",
       "</div>"
      ],
      "text/plain": [
       "                 company_permalink  \\\n",
       "0              /organization/-fame   \n",
       "1              /organization/90min   \n",
       "2              /organization/90min   \n",
       "3    /organization/all-def-digital   \n",
       "4  /organization/basel-switzerland   \n",
       "\n",
       "                           funding_round_permalink funding_round_type  \\\n",
       "0  /funding-round/9a01d05418af9f794eebff7ace91f638            venture   \n",
       "1  /funding-round/21a2cbf6f2fb2a1c2a61e04bf930dfe6            venture   \n",
       "2  /funding-round/bd626ed022f5c66574b1afe234f3c90d            venture   \n",
       "3  /funding-round/452a2342fe720285c3b92e9bd927d9ba            venture   \n",
       "4  /funding-round/ae3c2e82851d1fd6f4ba59ee6d3f0eb2            venture   \n",
       "\n",
       "   raised_amount_usd               name                      category_list_x  \\\n",
       "0         10000000.0              #fame                                Media   \n",
       "1         15000000.0              90min  Media|News|Publishing|Soccer|Sports   \n",
       "2          5800000.0              90min  Media|News|Publishing|Soccer|Sports   \n",
       "3          5000000.0    All Def Digital                                Media   \n",
       "4         13439178.0  The Speedel Group                                Media   \n",
       "\n",
       "      status country_code primary_sector    main_sector  \n",
       "0  operating          IND          Media  Entertainment  \n",
       "1  operating          GBR          Media  Entertainment  \n",
       "2  operating          GBR          Media  Entertainment  \n",
       "3  operating          USA          Media  Entertainment  \n",
       "4     closed          CHE          Media  Entertainment  "
      ]
     },
     "execution_count": 39,
     "metadata": {},
     "output_type": "execute_result"
    }
   ],
   "source": [
    "#Display of merged dataframe mapping primary sector with main sector\n",
    "sector_merged.head()"
   ]
  },
  {
   "cell_type": "code",
   "execution_count": 40,
   "metadata": {},
   "outputs": [],
   "source": [
    "#Writing df to file\n",
    "sector_merged.to_csv(\"main_sector.csv\",sep=',',index=False)"
   ]
  },
  {
   "cell_type": "code",
   "execution_count": 41,
   "metadata": {},
   "outputs": [
    {
     "name": "stdout",
     "output_type": "stream",
     "text": [
      "<class 'pandas.core.frame.DataFrame'>\n",
      "Int64Index: 15414 entries, 0 to 15413\n",
      "Data columns (total 10 columns):\n",
      "company_permalink          15414 non-null object\n",
      "funding_round_permalink    15414 non-null object\n",
      "funding_round_type         15414 non-null object\n",
      "raised_amount_usd          15414 non-null float64\n",
      "name                       15414 non-null object\n",
      "category_list_x            15414 non-null object\n",
      "status                     15414 non-null object\n",
      "country_code               14737 non-null object\n",
      "primary_sector             15414 non-null object\n",
      "main_sector                15414 non-null object\n",
      "dtypes: float64(1), object(9)\n",
      "memory usage: 1.3+ MB\n"
     ]
    }
   ],
   "source": [
    "sector_merged.info()"
   ]
  },
  {
   "cell_type": "markdown",
   "metadata": {},
   "source": [
    "### Checkpoint 5"
   ]
  },
  {
   "cell_type": "code",
   "execution_count": 42,
   "metadata": {
    "scrolled": true
   },
   "outputs": [
    {
     "data": {
      "text/plain": [
       "['USA', 'GBR', 'CAN']"
      ]
     },
     "execution_count": 42,
     "metadata": {},
     "output_type": "execute_result"
    }
   ],
   "source": [
    "#Converting top_3 df (containing top 3 english speaking countries) to a dictionary\n",
    "Dict_x = top3_Eng.to_dict()\n",
    "#Extracting Top3 english speaking countries from dictionary to a list\n",
    "list_x = [x for x in Dict_x]\n",
    "list(list_x)"
   ]
  },
  {
   "cell_type": "code",
   "execution_count": 43,
   "metadata": {},
   "outputs": [],
   "source": [
    "#Three separate data frames D1, D2 and D3 for each of the three countries containing the observations of funding type FT falling within the 5-15 million USD range\n",
    "#Let’s call the three countries 'Country 1', 'Country 2' and 'Country 3'\n",
    "Country1 = list_x[0]\n",
    "Country2 = list_x[1]\n",
    "Country3 = list_x[2]\n",
    "D1 = sector_merged[sector_merged['country_code'] == Country1]\n",
    "D2 = sector_merged[sector_merged['country_code'] == Country2]\n",
    "D3 = sector_merged[sector_merged['country_code'] == Country3]\n",
    "\n"
   ]
  },
  {
   "cell_type": "markdown",
   "metadata": {},
   "source": [
    "**Sector wise investment Analysis\n",
    "D1- Represents df for country1; \n",
    "D2- Represents df for country2;\n",
    "D3- Represents df for country3;"
   ]
  },
  {
   "cell_type": "code",
   "execution_count": 44,
   "metadata": {
    "scrolled": true
   },
   "outputs": [
    {
     "name": "stdout",
     "output_type": "stream",
     "text": [
      "<class 'pandas.core.frame.DataFrame'>\n",
      "RangeIndex: 11235 entries, 0 to 11234\n",
      "Data columns (total 10 columns):\n",
      "company_permalink          11235 non-null object\n",
      "funding_round_permalink    11235 non-null object\n",
      "funding_round_type         11235 non-null object\n",
      "raised_amount_usd          11235 non-null float64\n",
      "name                       11235 non-null object\n",
      "category_list_x            11235 non-null object\n",
      "status                     11235 non-null object\n",
      "country_code               11235 non-null object\n",
      "primary_sector             11235 non-null object\n",
      "main_sector                11235 non-null object\n",
      "dtypes: float64(1), object(9)\n",
      "memory usage: 877.8+ KB\n"
     ]
    }
   ],
   "source": [
    "#Reset index and display D1 df row/column level information \n",
    "D1 = D1.reset_index(drop=True)\n",
    "\n",
    "D1.info()"
   ]
  },
  {
   "cell_type": "code",
   "execution_count": 45,
   "metadata": {},
   "outputs": [
    {
     "name": "stdout",
     "output_type": "stream",
     "text": [
      "<class 'pandas.core.frame.DataFrame'>\n",
      "RangeIndex: 584 entries, 0 to 583\n",
      "Data columns (total 10 columns):\n",
      "company_permalink          584 non-null object\n",
      "funding_round_permalink    584 non-null object\n",
      "funding_round_type         584 non-null object\n",
      "raised_amount_usd          584 non-null float64\n",
      "name                       584 non-null object\n",
      "category_list_x            584 non-null object\n",
      "status                     584 non-null object\n",
      "country_code               584 non-null object\n",
      "primary_sector             584 non-null object\n",
      "main_sector                584 non-null object\n",
      "dtypes: float64(1), object(9)\n",
      "memory usage: 45.7+ KB\n"
     ]
    }
   ],
   "source": [
    "#Reset index and display D1 df row/column level information \n",
    "D2 = D2.reset_index(drop=True)\n",
    "\n",
    "D2.info()"
   ]
  },
  {
   "cell_type": "code",
   "execution_count": 46,
   "metadata": {},
   "outputs": [
    {
     "name": "stdout",
     "output_type": "stream",
     "text": [
      "<class 'pandas.core.frame.DataFrame'>\n",
      "RangeIndex: 398 entries, 0 to 397\n",
      "Data columns (total 10 columns):\n",
      "company_permalink          398 non-null object\n",
      "funding_round_permalink    398 non-null object\n",
      "funding_round_type         398 non-null object\n",
      "raised_amount_usd          398 non-null float64\n",
      "name                       398 non-null object\n",
      "category_list_x            398 non-null object\n",
      "status                     398 non-null object\n",
      "country_code               398 non-null object\n",
      "primary_sector             398 non-null object\n",
      "main_sector                398 non-null object\n",
      "dtypes: float64(1), object(9)\n",
      "memory usage: 31.2+ KB\n"
     ]
    }
   ],
   "source": [
    "#Reset index and display D1 df row/column level information \n",
    "D3 = D3.reset_index(drop=True)\n",
    "\n",
    "D3.info()"
   ]
  },
  {
   "cell_type": "markdown",
   "metadata": {},
   "source": [
    "**Let's check Country1 data"
   ]
  },
  {
   "cell_type": "code",
   "execution_count": 47,
   "metadata": {
    "scrolled": false
   },
   "outputs": [],
   "source": [
    "#To get the total number of investments for each main sector in a separate column\n",
    "D1['Count'] = D1.groupby('main_sector')['raised_amount_usd'].transform(len)"
   ]
  },
  {
   "cell_type": "code",
   "execution_count": 48,
   "metadata": {
    "scrolled": true
   },
   "outputs": [],
   "source": [
    "#To total amount invested in each main sector in a separate column\n",
    "D1['Total_amount_invested'] = D1.groupby('main_sector')['raised_amount_usd'].transform('sum')"
   ]
  },
  {
   "cell_type": "code",
   "execution_count": 49,
   "metadata": {
    "scrolled": true
   },
   "outputs": [
    {
     "data": {
      "text/html": [
       "<div>\n",
       "<style scoped>\n",
       "    .dataframe tbody tr th:only-of-type {\n",
       "        vertical-align: middle;\n",
       "    }\n",
       "\n",
       "    .dataframe tbody tr th {\n",
       "        vertical-align: top;\n",
       "    }\n",
       "\n",
       "    .dataframe thead th {\n",
       "        text-align: right;\n",
       "    }\n",
       "</style>\n",
       "<table border=\"1\" class=\"dataframe\">\n",
       "  <thead>\n",
       "    <tr style=\"text-align: right;\">\n",
       "      <th></th>\n",
       "      <th>company_permalink</th>\n",
       "      <th>funding_round_permalink</th>\n",
       "      <th>funding_round_type</th>\n",
       "      <th>raised_amount_usd</th>\n",
       "      <th>name</th>\n",
       "      <th>category_list_x</th>\n",
       "      <th>status</th>\n",
       "      <th>country_code</th>\n",
       "      <th>primary_sector</th>\n",
       "      <th>main_sector</th>\n",
       "      <th>Count</th>\n",
       "      <th>Total_amount_invested</th>\n",
       "    </tr>\n",
       "  </thead>\n",
       "  <tbody>\n",
       "    <tr>\n",
       "      <th>0</th>\n",
       "      <td>/organization/all-def-digital</td>\n",
       "      <td>/funding-round/452a2342fe720285c3b92e9bd927d9ba</td>\n",
       "      <td>venture</td>\n",
       "      <td>5000000.0</td>\n",
       "      <td>All Def Digital</td>\n",
       "      <td>Media</td>\n",
       "      <td>operating</td>\n",
       "      <td>USA</td>\n",
       "      <td>Media</td>\n",
       "      <td>Entertainment</td>\n",
       "      <td>580.0</td>\n",
       "      <td>5.000213e+09</td>\n",
       "    </tr>\n",
       "    <tr>\n",
       "      <th>1</th>\n",
       "      <td>/organization/chefs-feed</td>\n",
       "      <td>/funding-round/adca195749ae9ace84684723fbe75e5b</td>\n",
       "      <td>venture</td>\n",
       "      <td>5000000.0</td>\n",
       "      <td>ChefsFeed</td>\n",
       "      <td>Media|Mobile|Restaurants|Technology</td>\n",
       "      <td>operating</td>\n",
       "      <td>USA</td>\n",
       "      <td>Media</td>\n",
       "      <td>Entertainment</td>\n",
       "      <td>580.0</td>\n",
       "      <td>5.000213e+09</td>\n",
       "    </tr>\n",
       "    <tr>\n",
       "      <th>2</th>\n",
       "      <td>/organization/huffingtonpost</td>\n",
       "      <td>/funding-round/7f05940c4d2dfecb8e50a0e5720e5065</td>\n",
       "      <td>venture</td>\n",
       "      <td>5000000.0</td>\n",
       "      <td>The Huffington Post</td>\n",
       "      <td>Media|News|Publishing</td>\n",
       "      <td>acquired</td>\n",
       "      <td>USA</td>\n",
       "      <td>Media</td>\n",
       "      <td>Entertainment</td>\n",
       "      <td>580.0</td>\n",
       "      <td>5.000213e+09</td>\n",
       "    </tr>\n",
       "    <tr>\n",
       "      <th>3</th>\n",
       "      <td>/organization/huffingtonpost</td>\n",
       "      <td>/funding-round/9241ae16e08df17ebdc064e49e23035a</td>\n",
       "      <td>venture</td>\n",
       "      <td>5000000.0</td>\n",
       "      <td>The Huffington Post</td>\n",
       "      <td>Media|News|Publishing</td>\n",
       "      <td>acquired</td>\n",
       "      <td>USA</td>\n",
       "      <td>Media</td>\n",
       "      <td>Entertainment</td>\n",
       "      <td>580.0</td>\n",
       "      <td>5.000213e+09</td>\n",
       "    </tr>\n",
       "    <tr>\n",
       "      <th>4</th>\n",
       "      <td>/organization/matchmine</td>\n",
       "      <td>/funding-round/41ac526630da57ad6eb9d02431b17657</td>\n",
       "      <td>venture</td>\n",
       "      <td>10000000.0</td>\n",
       "      <td>MatchMine</td>\n",
       "      <td>Media|News|Reviews and Recommendations</td>\n",
       "      <td>closed</td>\n",
       "      <td>USA</td>\n",
       "      <td>Media</td>\n",
       "      <td>Entertainment</td>\n",
       "      <td>580.0</td>\n",
       "      <td>5.000213e+09</td>\n",
       "    </tr>\n",
       "    <tr>\n",
       "      <th>5</th>\n",
       "      <td>/organization/mediabong</td>\n",
       "      <td>/funding-round/9282890ca87072025dc1807f400acee6</td>\n",
       "      <td>venture</td>\n",
       "      <td>5000000.0</td>\n",
       "      <td>MEDIABONG</td>\n",
       "      <td>Media|Semantic Search|Video</td>\n",
       "      <td>operating</td>\n",
       "      <td>USA</td>\n",
       "      <td>Media</td>\n",
       "      <td>Entertainment</td>\n",
       "      <td>580.0</td>\n",
       "      <td>5.000213e+09</td>\n",
       "    </tr>\n",
       "    <tr>\n",
       "      <th>6</th>\n",
       "      <td>/organization/newscorporation</td>\n",
       "      <td>/funding-round/8f6d7c4592e43e91e8688ba342bffcb7</td>\n",
       "      <td>venture</td>\n",
       "      <td>12500000.0</td>\n",
       "      <td>News Corp</td>\n",
       "      <td>Media|News|Publishing</td>\n",
       "      <td>ipo</td>\n",
       "      <td>USA</td>\n",
       "      <td>Media</td>\n",
       "      <td>Entertainment</td>\n",
       "      <td>580.0</td>\n",
       "      <td>5.000213e+09</td>\n",
       "    </tr>\n",
       "    <tr>\n",
       "      <th>7</th>\n",
       "      <td>/organization/nokeena</td>\n",
       "      <td>/funding-round/9225f2db6b1b74892d5de6a8744b94ea</td>\n",
       "      <td>venture</td>\n",
       "      <td>9400000.0</td>\n",
       "      <td>Ankeena Networks</td>\n",
       "      <td>Media|Software</td>\n",
       "      <td>acquired</td>\n",
       "      <td>USA</td>\n",
       "      <td>Media</td>\n",
       "      <td>Entertainment</td>\n",
       "      <td>580.0</td>\n",
       "      <td>5.000213e+09</td>\n",
       "    </tr>\n",
       "    <tr>\n",
       "      <th>8</th>\n",
       "      <td>/organization/nokeena</td>\n",
       "      <td>/funding-round/fb7a617ed6d1a3203024f0f111417bfb</td>\n",
       "      <td>venture</td>\n",
       "      <td>6500000.0</td>\n",
       "      <td>Ankeena Networks</td>\n",
       "      <td>Media|Software</td>\n",
       "      <td>acquired</td>\n",
       "      <td>USA</td>\n",
       "      <td>Media</td>\n",
       "      <td>Entertainment</td>\n",
       "      <td>580.0</td>\n",
       "      <td>5.000213e+09</td>\n",
       "    </tr>\n",
       "    <tr>\n",
       "      <th>9</th>\n",
       "      <td>/organization/plumtv</td>\n",
       "      <td>/funding-round/e5109c28c1b4899b068cfa552850c424</td>\n",
       "      <td>venture</td>\n",
       "      <td>5200000.0</td>\n",
       "      <td>PlumTV</td>\n",
       "      <td>Media|Television|Web Hosting</td>\n",
       "      <td>closed</td>\n",
       "      <td>USA</td>\n",
       "      <td>Media</td>\n",
       "      <td>Entertainment</td>\n",
       "      <td>580.0</td>\n",
       "      <td>5.000213e+09</td>\n",
       "    </tr>\n",
       "  </tbody>\n",
       "</table>\n",
       "</div>"
      ],
      "text/plain": [
       "               company_permalink  \\\n",
       "0  /organization/all-def-digital   \n",
       "1       /organization/chefs-feed   \n",
       "2   /organization/huffingtonpost   \n",
       "3   /organization/huffingtonpost   \n",
       "4        /organization/matchmine   \n",
       "5        /organization/mediabong   \n",
       "6  /organization/newscorporation   \n",
       "7          /organization/nokeena   \n",
       "8          /organization/nokeena   \n",
       "9           /organization/plumtv   \n",
       "\n",
       "                           funding_round_permalink funding_round_type  \\\n",
       "0  /funding-round/452a2342fe720285c3b92e9bd927d9ba            venture   \n",
       "1  /funding-round/adca195749ae9ace84684723fbe75e5b            venture   \n",
       "2  /funding-round/7f05940c4d2dfecb8e50a0e5720e5065            venture   \n",
       "3  /funding-round/9241ae16e08df17ebdc064e49e23035a            venture   \n",
       "4  /funding-round/41ac526630da57ad6eb9d02431b17657            venture   \n",
       "5  /funding-round/9282890ca87072025dc1807f400acee6            venture   \n",
       "6  /funding-round/8f6d7c4592e43e91e8688ba342bffcb7            venture   \n",
       "7  /funding-round/9225f2db6b1b74892d5de6a8744b94ea            venture   \n",
       "8  /funding-round/fb7a617ed6d1a3203024f0f111417bfb            venture   \n",
       "9  /funding-round/e5109c28c1b4899b068cfa552850c424            venture   \n",
       "\n",
       "   raised_amount_usd                 name  \\\n",
       "0          5000000.0      All Def Digital   \n",
       "1          5000000.0            ChefsFeed   \n",
       "2          5000000.0  The Huffington Post   \n",
       "3          5000000.0  The Huffington Post   \n",
       "4         10000000.0            MatchMine   \n",
       "5          5000000.0            MEDIABONG   \n",
       "6         12500000.0            News Corp   \n",
       "7          9400000.0     Ankeena Networks   \n",
       "8          6500000.0     Ankeena Networks   \n",
       "9          5200000.0               PlumTV   \n",
       "\n",
       "                          category_list_x     status country_code  \\\n",
       "0                                   Media  operating          USA   \n",
       "1     Media|Mobile|Restaurants|Technology  operating          USA   \n",
       "2                   Media|News|Publishing   acquired          USA   \n",
       "3                   Media|News|Publishing   acquired          USA   \n",
       "4  Media|News|Reviews and Recommendations     closed          USA   \n",
       "5             Media|Semantic Search|Video  operating          USA   \n",
       "6                   Media|News|Publishing        ipo          USA   \n",
       "7                          Media|Software   acquired          USA   \n",
       "8                          Media|Software   acquired          USA   \n",
       "9            Media|Television|Web Hosting     closed          USA   \n",
       "\n",
       "  primary_sector    main_sector  Count  Total_amount_invested  \n",
       "0          Media  Entertainment  580.0           5.000213e+09  \n",
       "1          Media  Entertainment  580.0           5.000213e+09  \n",
       "2          Media  Entertainment  580.0           5.000213e+09  \n",
       "3          Media  Entertainment  580.0           5.000213e+09  \n",
       "4          Media  Entertainment  580.0           5.000213e+09  \n",
       "5          Media  Entertainment  580.0           5.000213e+09  \n",
       "6          Media  Entertainment  580.0           5.000213e+09  \n",
       "7          Media  Entertainment  580.0           5.000213e+09  \n",
       "8          Media  Entertainment  580.0           5.000213e+09  \n",
       "9          Media  Entertainment  580.0           5.000213e+09  "
      ]
     },
     "execution_count": 49,
     "metadata": {},
     "output_type": "execute_result"
    }
   ],
   "source": [
    "#Display D1 with Count and Total_amount_invested\n",
    "D1.head(10)"
   ]
  },
  {
   "cell_type": "markdown",
   "metadata": {},
   "source": [
    "**Let's check Country2 data"
   ]
  },
  {
   "cell_type": "code",
   "execution_count": 50,
   "metadata": {},
   "outputs": [],
   "source": [
    "#To get total number (or count) of investments for each main sector in a separate column\n",
    "D2['Count'] = D2.groupby('main_sector')['raised_amount_usd'].transform(len)"
   ]
  },
  {
   "cell_type": "code",
   "execution_count": 51,
   "metadata": {
    "scrolled": true
   },
   "outputs": [],
   "source": [
    "#The total amount invested in each main sector in a separate column\n",
    "D2['Total_amount_invested'] = D2.groupby('main_sector')['raised_amount_usd'].transform('sum')"
   ]
  },
  {
   "cell_type": "code",
   "execution_count": 72,
   "metadata": {},
   "outputs": [
    {
     "data": {
      "text/html": [
       "<div>\n",
       "<style scoped>\n",
       "    .dataframe tbody tr th:only-of-type {\n",
       "        vertical-align: middle;\n",
       "    }\n",
       "\n",
       "    .dataframe tbody tr th {\n",
       "        vertical-align: top;\n",
       "    }\n",
       "\n",
       "    .dataframe thead th {\n",
       "        text-align: right;\n",
       "    }\n",
       "</style>\n",
       "<table border=\"1\" class=\"dataframe\">\n",
       "  <thead>\n",
       "    <tr style=\"text-align: right;\">\n",
       "      <th></th>\n",
       "      <th>company_permalink</th>\n",
       "      <th>funding_round_permalink</th>\n",
       "      <th>funding_round_type</th>\n",
       "      <th>raised_amount_usd</th>\n",
       "      <th>name</th>\n",
       "      <th>category_list_x</th>\n",
       "      <th>status</th>\n",
       "      <th>country_code</th>\n",
       "      <th>primary_sector</th>\n",
       "      <th>main_sector</th>\n",
       "      <th>Count</th>\n",
       "      <th>Total_amount_invested</th>\n",
       "    </tr>\n",
       "  </thead>\n",
       "  <tbody>\n",
       "    <tr>\n",
       "      <th>0</th>\n",
       "      <td>/organization/90min</td>\n",
       "      <td>/funding-round/21a2cbf6f2fb2a1c2a61e04bf930dfe6</td>\n",
       "      <td>venture</td>\n",
       "      <td>15000000.0</td>\n",
       "      <td>90min</td>\n",
       "      <td>Media|News|Publishing|Soccer|Sports</td>\n",
       "      <td>operating</td>\n",
       "      <td>GBR</td>\n",
       "      <td>Media</td>\n",
       "      <td>Entertainment</td>\n",
       "      <td>54.0</td>\n",
       "      <td>461511059.0</td>\n",
       "    </tr>\n",
       "    <tr>\n",
       "      <th>1</th>\n",
       "      <td>/organization/90min</td>\n",
       "      <td>/funding-round/bd626ed022f5c66574b1afe234f3c90d</td>\n",
       "      <td>venture</td>\n",
       "      <td>5800000.0</td>\n",
       "      <td>90min</td>\n",
       "      <td>Media|News|Publishing|Soccer|Sports</td>\n",
       "      <td>operating</td>\n",
       "      <td>GBR</td>\n",
       "      <td>Media</td>\n",
       "      <td>Entertainment</td>\n",
       "      <td>54.0</td>\n",
       "      <td>461511059.0</td>\n",
       "    </tr>\n",
       "    <tr>\n",
       "      <th>2</th>\n",
       "      <td>/organization/flypay</td>\n",
       "      <td>/funding-round/b6854cc7fc06ea76843ec89801f172f2</td>\n",
       "      <td>venture</td>\n",
       "      <td>10700000.0</td>\n",
       "      <td>Flypay</td>\n",
       "      <td>Apps|Customer Service|Restaurants</td>\n",
       "      <td>operating</td>\n",
       "      <td>GBR</td>\n",
       "      <td>Apps</td>\n",
       "      <td>News, Search and Messaging</td>\n",
       "      <td>73.0</td>\n",
       "      <td>615746235.0</td>\n",
       "    </tr>\n",
       "    <tr>\n",
       "      <th>3</th>\n",
       "      <td>/organization/kaazing</td>\n",
       "      <td>/funding-round/0f43f5fbe8b360281ba135c717e47e0d</td>\n",
       "      <td>venture</td>\n",
       "      <td>15000000.0</td>\n",
       "      <td>Kaazing</td>\n",
       "      <td>Apps|Data Integration|Enterprise Software|Info...</td>\n",
       "      <td>operating</td>\n",
       "      <td>GBR</td>\n",
       "      <td>Apps</td>\n",
       "      <td>News, Search and Messaging</td>\n",
       "      <td>73.0</td>\n",
       "      <td>615746235.0</td>\n",
       "    </tr>\n",
       "    <tr>\n",
       "      <th>4</th>\n",
       "      <td>/organization/mindshapes</td>\n",
       "      <td>/funding-round/ad81de5d230ca4ef1876e1c71bf097e3</td>\n",
       "      <td>venture</td>\n",
       "      <td>5000000.0</td>\n",
       "      <td>Mindshapes</td>\n",
       "      <td>Apps|Education|Games|Kids|Textbooks|Virtual Wo...</td>\n",
       "      <td>operating</td>\n",
       "      <td>GBR</td>\n",
       "      <td>Apps</td>\n",
       "      <td>News, Search and Messaging</td>\n",
       "      <td>73.0</td>\n",
       "      <td>615746235.0</td>\n",
       "    </tr>\n",
       "  </tbody>\n",
       "</table>\n",
       "</div>"
      ],
      "text/plain": [
       "          company_permalink                          funding_round_permalink  \\\n",
       "0       /organization/90min  /funding-round/21a2cbf6f2fb2a1c2a61e04bf930dfe6   \n",
       "1       /organization/90min  /funding-round/bd626ed022f5c66574b1afe234f3c90d   \n",
       "2      /organization/flypay  /funding-round/b6854cc7fc06ea76843ec89801f172f2   \n",
       "3     /organization/kaazing  /funding-round/0f43f5fbe8b360281ba135c717e47e0d   \n",
       "4  /organization/mindshapes  /funding-round/ad81de5d230ca4ef1876e1c71bf097e3   \n",
       "\n",
       "  funding_round_type  raised_amount_usd        name  \\\n",
       "0            venture         15000000.0       90min   \n",
       "1            venture          5800000.0       90min   \n",
       "2            venture         10700000.0      Flypay   \n",
       "3            venture         15000000.0     Kaazing   \n",
       "4            venture          5000000.0  Mindshapes   \n",
       "\n",
       "                                     category_list_x     status country_code  \\\n",
       "0                Media|News|Publishing|Soccer|Sports  operating          GBR   \n",
       "1                Media|News|Publishing|Soccer|Sports  operating          GBR   \n",
       "2                  Apps|Customer Service|Restaurants  operating          GBR   \n",
       "3  Apps|Data Integration|Enterprise Software|Info...  operating          GBR   \n",
       "4  Apps|Education|Games|Kids|Textbooks|Virtual Wo...  operating          GBR   \n",
       "\n",
       "  primary_sector                 main_sector  Count  Total_amount_invested  \n",
       "0          Media               Entertainment   54.0            461511059.0  \n",
       "1          Media               Entertainment   54.0            461511059.0  \n",
       "2           Apps  News, Search and Messaging   73.0            615746235.0  \n",
       "3           Apps  News, Search and Messaging   73.0            615746235.0  \n",
       "4           Apps  News, Search and Messaging   73.0            615746235.0  "
      ]
     },
     "execution_count": 72,
     "metadata": {},
     "output_type": "execute_result"
    }
   ],
   "source": [
    "#Display D2 with Count and Total_amount_invested\n",
    "D2.head()"
   ]
  },
  {
   "cell_type": "markdown",
   "metadata": {},
   "source": [
    "**Let's check Country3 data"
   ]
  },
  {
   "cell_type": "code",
   "execution_count": 53,
   "metadata": {},
   "outputs": [],
   "source": [
    "#To get total number (or count) of investments for each main sector in a separate column\n",
    "D3['Count'] = D3.groupby('main_sector')['raised_amount_usd'].transform(len)"
   ]
  },
  {
   "cell_type": "code",
   "execution_count": 54,
   "metadata": {},
   "outputs": [],
   "source": [
    "#To get total amount invested in each main sector in a separate column\n",
    "D3['Total_amount_invested'] = D3.groupby('main_sector')['raised_amount_usd'].transform('sum')"
   ]
  },
  {
   "cell_type": "code",
   "execution_count": 55,
   "metadata": {
    "scrolled": true
   },
   "outputs": [
    {
     "data": {
      "text/html": [
       "<div>\n",
       "<style scoped>\n",
       "    .dataframe tbody tr th:only-of-type {\n",
       "        vertical-align: middle;\n",
       "    }\n",
       "\n",
       "    .dataframe tbody tr th {\n",
       "        vertical-align: top;\n",
       "    }\n",
       "\n",
       "    .dataframe thead th {\n",
       "        text-align: right;\n",
       "    }\n",
       "</style>\n",
       "<table border=\"1\" class=\"dataframe\">\n",
       "  <thead>\n",
       "    <tr style=\"text-align: right;\">\n",
       "      <th></th>\n",
       "      <th>company_permalink</th>\n",
       "      <th>funding_round_permalink</th>\n",
       "      <th>funding_round_type</th>\n",
       "      <th>raised_amount_usd</th>\n",
       "      <th>name</th>\n",
       "      <th>category_list_x</th>\n",
       "      <th>status</th>\n",
       "      <th>country_code</th>\n",
       "      <th>primary_sector</th>\n",
       "      <th>main_sector</th>\n",
       "      <th>Count</th>\n",
       "      <th>Total_amount_invested</th>\n",
       "    </tr>\n",
       "  </thead>\n",
       "  <tbody>\n",
       "    <tr>\n",
       "      <th>0</th>\n",
       "      <td>/organization/500px</td>\n",
       "      <td>/funding-round/344b1e2b60ff76f4548c69ea7c04901f</td>\n",
       "      <td>venture</td>\n",
       "      <td>8800000.0</td>\n",
       "      <td>500px</td>\n",
       "      <td>Apps|Internet|Photography|Promotional|Sales an...</td>\n",
       "      <td>operating</td>\n",
       "      <td>CAN</td>\n",
       "      <td>Apps</td>\n",
       "      <td>News, Search and Messaging</td>\n",
       "      <td>46.0</td>\n",
       "      <td>420121113.0</td>\n",
       "    </tr>\n",
       "    <tr>\n",
       "      <th>1</th>\n",
       "      <td>/organization/500px</td>\n",
       "      <td>/funding-round/36b2c6975d20b602b5d9ea9724e383ea</td>\n",
       "      <td>venture</td>\n",
       "      <td>13000000.0</td>\n",
       "      <td>500px</td>\n",
       "      <td>Apps|Internet|Photography|Promotional|Sales an...</td>\n",
       "      <td>operating</td>\n",
       "      <td>CAN</td>\n",
       "      <td>Apps</td>\n",
       "      <td>News, Search and Messaging</td>\n",
       "      <td>46.0</td>\n",
       "      <td>420121113.0</td>\n",
       "    </tr>\n",
       "    <tr>\n",
       "      <th>2</th>\n",
       "      <td>/organization/polar-me</td>\n",
       "      <td>/funding-round/8306cc4e0122a91a0803cb5755be62e0</td>\n",
       "      <td>venture</td>\n",
       "      <td>6000000.0</td>\n",
       "      <td>Polar</td>\n",
       "      <td>Apps|Mobile|Software</td>\n",
       "      <td>operating</td>\n",
       "      <td>CAN</td>\n",
       "      <td>Apps</td>\n",
       "      <td>News, Search and Messaging</td>\n",
       "      <td>46.0</td>\n",
       "      <td>420121113.0</td>\n",
       "    </tr>\n",
       "    <tr>\n",
       "      <th>3</th>\n",
       "      <td>/organization/execution-labs</td>\n",
       "      <td>/funding-round/2e2a592b08cdbd58d39f656d57eccd7b</td>\n",
       "      <td>venture</td>\n",
       "      <td>5300000.0</td>\n",
       "      <td>Execution Labs</td>\n",
       "      <td>Games|Incubators</td>\n",
       "      <td>operating</td>\n",
       "      <td>CAN</td>\n",
       "      <td>Games</td>\n",
       "      <td>Entertainment</td>\n",
       "      <td>22.0</td>\n",
       "      <td>154022068.0</td>\n",
       "    </tr>\n",
       "    <tr>\n",
       "      <th>4</th>\n",
       "      <td>/organization/gamerizon-studio</td>\n",
       "      <td>/funding-round/6d7257c70e677a29b56cc9b0d1ba03ec</td>\n",
       "      <td>venture</td>\n",
       "      <td>5000000.0</td>\n",
       "      <td>Gamerizon Studio</td>\n",
       "      <td>Games</td>\n",
       "      <td>closed</td>\n",
       "      <td>CAN</td>\n",
       "      <td>Games</td>\n",
       "      <td>Entertainment</td>\n",
       "      <td>22.0</td>\n",
       "      <td>154022068.0</td>\n",
       "    </tr>\n",
       "  </tbody>\n",
       "</table>\n",
       "</div>"
      ],
      "text/plain": [
       "                company_permalink  \\\n",
       "0             /organization/500px   \n",
       "1             /organization/500px   \n",
       "2          /organization/polar-me   \n",
       "3    /organization/execution-labs   \n",
       "4  /organization/gamerizon-studio   \n",
       "\n",
       "                           funding_round_permalink funding_round_type  \\\n",
       "0  /funding-round/344b1e2b60ff76f4548c69ea7c04901f            venture   \n",
       "1  /funding-round/36b2c6975d20b602b5d9ea9724e383ea            venture   \n",
       "2  /funding-round/8306cc4e0122a91a0803cb5755be62e0            venture   \n",
       "3  /funding-round/2e2a592b08cdbd58d39f656d57eccd7b            venture   \n",
       "4  /funding-round/6d7257c70e677a29b56cc9b0d1ba03ec            venture   \n",
       "\n",
       "   raised_amount_usd              name  \\\n",
       "0          8800000.0             500px   \n",
       "1         13000000.0             500px   \n",
       "2          6000000.0             Polar   \n",
       "3          5300000.0    Execution Labs   \n",
       "4          5000000.0  Gamerizon Studio   \n",
       "\n",
       "                                     category_list_x     status country_code  \\\n",
       "0  Apps|Internet|Photography|Promotional|Sales an...  operating          CAN   \n",
       "1  Apps|Internet|Photography|Promotional|Sales an...  operating          CAN   \n",
       "2                               Apps|Mobile|Software  operating          CAN   \n",
       "3                                   Games|Incubators  operating          CAN   \n",
       "4                                              Games     closed          CAN   \n",
       "\n",
       "  primary_sector                 main_sector  Count  Total_amount_invested  \n",
       "0           Apps  News, Search and Messaging   46.0            420121113.0  \n",
       "1           Apps  News, Search and Messaging   46.0            420121113.0  \n",
       "2           Apps  News, Search and Messaging   46.0            420121113.0  \n",
       "3          Games               Entertainment   22.0            154022068.0  \n",
       "4          Games               Entertainment   22.0            154022068.0  "
      ]
     },
     "execution_count": 55,
     "metadata": {},
     "output_type": "execute_result"
    }
   ],
   "source": [
    "#Display D3 with Count and Total_amount_invested\n",
    "D3.head()"
   ]
  },
  {
   "cell_type": "code",
   "execution_count": 56,
   "metadata": {
    "scrolled": false
   },
   "outputs": [
    {
     "name": "stdout",
     "output_type": "stream",
     "text": [
      "Total number of investments : 11235\n",
      "Number of investments sectorwise : main_sector\n",
      "Others                                     2923\n",
      "Cleantech / Semiconductors                 2383\n",
      "Social, Finance, Analytics, Advertising    1912\n",
      "News, Search and Messaging                 1563\n",
      "Health                                      908\n",
      "Manufacturing                               799\n",
      "Entertainment                               580\n",
      "Automotive & Sports                         167\n",
      "Name: Count, dtype: int64\n",
      "Total amount of investment (USD) : 100426287841.0\n"
     ]
    }
   ],
   "source": [
    "#Let's do sector analysis on D1,representing sector wise information for country1\n",
    "\n",
    "m = D1.groupby('main_sector')\n",
    "\n",
    "#Total number of investments\n",
    "print(\"Total number of investments :\" ,m.Count.count().sum())\n",
    "\n",
    "#Number of investments sectorwise\n",
    "print(\"Number of investments sectorwise :\" ,m.Count.count().sort_values(ascending=False))\n",
    "\n",
    "#Total amount of investment (USD)\n",
    "print(\"Total amount of investment (USD) :\" ,m.raised_amount_usd.sum().sum())\n"
   ]
  },
  {
   "cell_type": "markdown",
   "metadata": {},
   "source": [
    "**Now it is clear that for country1 ,Top sector is 'Others' and Second best sector is 'Cleantech / Semiconductors' \n",
    "let's find out the company which received highest investment under these 2 sectors ."
   ]
  },
  {
   "cell_type": "code",
   "execution_count": 57,
   "metadata": {},
   "outputs": [
    {
     "data": {
      "text/html": [
       "<div>\n",
       "<style scoped>\n",
       "    .dataframe tbody tr th:only-of-type {\n",
       "        vertical-align: middle;\n",
       "    }\n",
       "\n",
       "    .dataframe tbody tr th {\n",
       "        vertical-align: top;\n",
       "    }\n",
       "\n",
       "    .dataframe thead th {\n",
       "        text-align: right;\n",
       "    }\n",
       "</style>\n",
       "<table border=\"1\" class=\"dataframe\">\n",
       "  <thead>\n",
       "    <tr style=\"text-align: right;\">\n",
       "      <th></th>\n",
       "      <th>company_permalink</th>\n",
       "      <th>funding_round_permalink</th>\n",
       "      <th>funding_round_type</th>\n",
       "      <th>raised_amount_usd</th>\n",
       "      <th>name</th>\n",
       "      <th>category_list_x</th>\n",
       "      <th>status</th>\n",
       "      <th>country_code</th>\n",
       "      <th>primary_sector</th>\n",
       "      <th>main_sector</th>\n",
       "      <th>Count</th>\n",
       "      <th>Total_amount_invested</th>\n",
       "    </tr>\n",
       "  </thead>\n",
       "  <tbody>\n",
       "    <tr>\n",
       "      <th>6098</th>\n",
       "      <td>/organization/cloudshield-technologies</td>\n",
       "      <td>/funding-round/f7816363f045c194825d511d73bced3e</td>\n",
       "      <td>venture</td>\n",
       "      <td>15000000.0</td>\n",
       "      <td>CloudShield Technologies</td>\n",
       "      <td>Web Hosting</td>\n",
       "      <td>acquired</td>\n",
       "      <td>USA</td>\n",
       "      <td>Web Hosting</td>\n",
       "      <td>Others</td>\n",
       "      <td>2923.0</td>\n",
       "      <td>2.608928e+10</td>\n",
       "    </tr>\n",
       "  </tbody>\n",
       "</table>\n",
       "</div>"
      ],
      "text/plain": [
       "                           company_permalink  \\\n",
       "6098  /organization/cloudshield-technologies   \n",
       "\n",
       "                              funding_round_permalink funding_round_type  \\\n",
       "6098  /funding-round/f7816363f045c194825d511d73bced3e            venture   \n",
       "\n",
       "      raised_amount_usd                      name category_list_x    status  \\\n",
       "6098         15000000.0  CloudShield Technologies     Web Hosting  acquired   \n",
       "\n",
       "     country_code primary_sector main_sector   Count  Total_amount_invested  \n",
       "6098          USA    Web Hosting      Others  2923.0           2.608928e+10  "
      ]
     },
     "execution_count": 57,
     "metadata": {},
     "output_type": "execute_result"
    }
   ],
   "source": [
    "# wrt D1 ,for top sector count-wise, which company received the highest investment?\n",
    "m.get_group('Others').sort_values(by='raised_amount_usd',ascending=False).head(1)"
   ]
  },
  {
   "cell_type": "code",
   "execution_count": 58,
   "metadata": {
    "scrolled": true
   },
   "outputs": [
    {
     "data": {
      "text/html": [
       "<div>\n",
       "<style scoped>\n",
       "    .dataframe tbody tr th:only-of-type {\n",
       "        vertical-align: middle;\n",
       "    }\n",
       "\n",
       "    .dataframe tbody tr th {\n",
       "        vertical-align: top;\n",
       "    }\n",
       "\n",
       "    .dataframe thead th {\n",
       "        text-align: right;\n",
       "    }\n",
       "</style>\n",
       "<table border=\"1\" class=\"dataframe\">\n",
       "  <thead>\n",
       "    <tr style=\"text-align: right;\">\n",
       "      <th></th>\n",
       "      <th>company_permalink</th>\n",
       "      <th>funding_round_permalink</th>\n",
       "      <th>funding_round_type</th>\n",
       "      <th>raised_amount_usd</th>\n",
       "      <th>name</th>\n",
       "      <th>category_list_x</th>\n",
       "      <th>status</th>\n",
       "      <th>country_code</th>\n",
       "      <th>primary_sector</th>\n",
       "      <th>main_sector</th>\n",
       "      <th>Count</th>\n",
       "      <th>Total_amount_invested</th>\n",
       "    </tr>\n",
       "  </thead>\n",
       "  <tbody>\n",
       "    <tr>\n",
       "      <th>11222</th>\n",
       "      <td>/organization/sunverge-energy-inc</td>\n",
       "      <td>/funding-round/2d73b074d01b5d5b1f553eb5cbd8af2c</td>\n",
       "      <td>venture</td>\n",
       "      <td>15000000.0</td>\n",
       "      <td>Sunverge Energy, Inc</td>\n",
       "      <td>Commercial Solar|Hardware + Software|Residenti...</td>\n",
       "      <td>operating</td>\n",
       "      <td>USA</td>\n",
       "      <td>Commercial Solar</td>\n",
       "      <td>Cleantech / Semiconductors</td>\n",
       "      <td>2383.0</td>\n",
       "      <td>2.194577e+10</td>\n",
       "    </tr>\n",
       "  </tbody>\n",
       "</table>\n",
       "</div>"
      ],
      "text/plain": [
       "                       company_permalink  \\\n",
       "11222  /organization/sunverge-energy-inc   \n",
       "\n",
       "                               funding_round_permalink funding_round_type  \\\n",
       "11222  /funding-round/2d73b074d01b5d5b1f553eb5cbd8af2c            venture   \n",
       "\n",
       "       raised_amount_usd                  name  \\\n",
       "11222         15000000.0  Sunverge Energy, Inc   \n",
       "\n",
       "                                         category_list_x     status  \\\n",
       "11222  Commercial Solar|Hardware + Software|Residenti...  operating   \n",
       "\n",
       "      country_code    primary_sector                 main_sector   Count  \\\n",
       "11222          USA  Commercial Solar  Cleantech / Semiconductors  2383.0   \n",
       "\n",
       "       Total_amount_invested  \n",
       "11222           2.194577e+10  "
      ]
     },
     "execution_count": 58,
     "metadata": {},
     "output_type": "execute_result"
    }
   ],
   "source": [
    "# wrt D1 ,For the second-best sector count-wise, which company received the highest investment?\n",
    "m.get_group('Cleantech / Semiconductors').sort_values(by='raised_amount_usd',ascending=False).head(1)"
   ]
  },
  {
   "cell_type": "code",
   "execution_count": 59,
   "metadata": {
    "scrolled": true
   },
   "outputs": [
    {
     "name": "stdout",
     "output_type": "stream",
     "text": [
      "Total number of investments : 584\n",
      "Number of investments sectorwise : main_sector\n",
      "Others                                     143\n",
      "Cleantech / Semiconductors                 134\n",
      "Social, Finance, Analytics, Advertising     98\n",
      "News, Search and Messaging                  73\n",
      "Entertainment                               54\n",
      "Manufacturing                               42\n",
      "Health                                      24\n",
      "Automotive & Sports                         16\n",
      "Name: Count, dtype: int64\n",
      "Total amount of investment (USD) : 5086469206.0\n"
     ]
    }
   ],
   "source": [
    "#Let's do sector analysis on D2,representing sector wise information for country2\n",
    "\n",
    "m2 = D2.groupby('main_sector')\n",
    "\n",
    "#Total number of investments\n",
    "print(\"Total number of investments :\",m2.Count.count().sum())\n",
    "\n",
    "#Number of investments sectorwise\n",
    "print(\"Number of investments sectorwise :\",m2.Count.count().sort_values(ascending=False))\n",
    "\n",
    "#Total amount of investment (USD)\n",
    "\n",
    "print(\"Total amount of investment (USD) :\",m2.raised_amount_usd.sum().sum())"
   ]
  },
  {
   "cell_type": "markdown",
   "metadata": {},
   "source": [
    "**For country2 ,Top sector is 'others' and Second best sector is 'Cleantech / Semiconductors'\n",
    "let's find out the company which received highest investment under these 2 sectors ."
   ]
  },
  {
   "cell_type": "code",
   "execution_count": 60,
   "metadata": {},
   "outputs": [
    {
     "data": {
      "text/html": [
       "<div>\n",
       "<style scoped>\n",
       "    .dataframe tbody tr th:only-of-type {\n",
       "        vertical-align: middle;\n",
       "    }\n",
       "\n",
       "    .dataframe tbody tr th {\n",
       "        vertical-align: top;\n",
       "    }\n",
       "\n",
       "    .dataframe thead th {\n",
       "        text-align: right;\n",
       "    }\n",
       "</style>\n",
       "<table border=\"1\" class=\"dataframe\">\n",
       "  <thead>\n",
       "    <tr style=\"text-align: right;\">\n",
       "      <th></th>\n",
       "      <th>company_permalink</th>\n",
       "      <th>funding_round_permalink</th>\n",
       "      <th>funding_round_type</th>\n",
       "      <th>raised_amount_usd</th>\n",
       "      <th>name</th>\n",
       "      <th>category_list_x</th>\n",
       "      <th>status</th>\n",
       "      <th>country_code</th>\n",
       "      <th>primary_sector</th>\n",
       "      <th>main_sector</th>\n",
       "      <th>Count</th>\n",
       "      <th>Total_amount_invested</th>\n",
       "    </tr>\n",
       "  </thead>\n",
       "  <tbody>\n",
       "    <tr>\n",
       "      <th>133</th>\n",
       "      <td>/organization/environmentiq</td>\n",
       "      <td>/funding-round/75dfc6681d2f93780158aff5fd9efcde</td>\n",
       "      <td>venture</td>\n",
       "      <td>15000000.0</td>\n",
       "      <td>EnvironmentIQ</td>\n",
       "      <td>Software</td>\n",
       "      <td>operating</td>\n",
       "      <td>GBR</td>\n",
       "      <td>Software</td>\n",
       "      <td>Others</td>\n",
       "      <td>143.0</td>\n",
       "      <td>1.249124e+09</td>\n",
       "    </tr>\n",
       "  </tbody>\n",
       "</table>\n",
       "</div>"
      ],
      "text/plain": [
       "               company_permalink  \\\n",
       "133  /organization/environmentiq   \n",
       "\n",
       "                             funding_round_permalink funding_round_type  \\\n",
       "133  /funding-round/75dfc6681d2f93780158aff5fd9efcde            venture   \n",
       "\n",
       "     raised_amount_usd           name category_list_x     status country_code  \\\n",
       "133         15000000.0  EnvironmentIQ        Software  operating          GBR   \n",
       "\n",
       "    primary_sector main_sector  Count  Total_amount_invested  \n",
       "133       Software      Others  143.0           1.249124e+09  "
      ]
     },
     "execution_count": 60,
     "metadata": {},
     "output_type": "execute_result"
    }
   ],
   "source": [
    "# wrt D2 ,for top sector count-wise, which company received the highest investment?\n",
    "m2.get_group('Others').sort_values(by='raised_amount_usd',ascending=False).head(1)"
   ]
  },
  {
   "cell_type": "code",
   "execution_count": 61,
   "metadata": {},
   "outputs": [
    {
     "data": {
      "text/html": [
       "<div>\n",
       "<style scoped>\n",
       "    .dataframe tbody tr th:only-of-type {\n",
       "        vertical-align: middle;\n",
       "    }\n",
       "\n",
       "    .dataframe tbody tr th {\n",
       "        vertical-align: top;\n",
       "    }\n",
       "\n",
       "    .dataframe thead th {\n",
       "        text-align: right;\n",
       "    }\n",
       "</style>\n",
       "<table border=\"1\" class=\"dataframe\">\n",
       "  <thead>\n",
       "    <tr style=\"text-align: right;\">\n",
       "      <th></th>\n",
       "      <th>company_permalink</th>\n",
       "      <th>funding_round_permalink</th>\n",
       "      <th>funding_round_type</th>\n",
       "      <th>raised_amount_usd</th>\n",
       "      <th>name</th>\n",
       "      <th>category_list_x</th>\n",
       "      <th>status</th>\n",
       "      <th>country_code</th>\n",
       "      <th>primary_sector</th>\n",
       "      <th>main_sector</th>\n",
       "      <th>Count</th>\n",
       "      <th>Total_amount_invested</th>\n",
       "    </tr>\n",
       "  </thead>\n",
       "  <tbody>\n",
       "    <tr>\n",
       "      <th>298</th>\n",
       "      <td>/organization/anadigm</td>\n",
       "      <td>/funding-round/d66a723ef94efb39e450f62b6df312c4</td>\n",
       "      <td>venture</td>\n",
       "      <td>15000000.0</td>\n",
       "      <td>Anadigm</td>\n",
       "      <td>Semiconductors|Technology</td>\n",
       "      <td>closed</td>\n",
       "      <td>GBR</td>\n",
       "      <td>Semiconductors</td>\n",
       "      <td>Cleantech / Semiconductors</td>\n",
       "      <td>134.0</td>\n",
       "      <td>1.194670e+09</td>\n",
       "    </tr>\n",
       "  </tbody>\n",
       "</table>\n",
       "</div>"
      ],
      "text/plain": [
       "         company_permalink                          funding_round_permalink  \\\n",
       "298  /organization/anadigm  /funding-round/d66a723ef94efb39e450f62b6df312c4   \n",
       "\n",
       "    funding_round_type  raised_amount_usd     name            category_list_x  \\\n",
       "298            venture         15000000.0  Anadigm  Semiconductors|Technology   \n",
       "\n",
       "     status country_code  primary_sector                 main_sector  Count  \\\n",
       "298  closed          GBR  Semiconductors  Cleantech / Semiconductors  134.0   \n",
       "\n",
       "     Total_amount_invested  \n",
       "298           1.194670e+09  "
      ]
     },
     "execution_count": 61,
     "metadata": {},
     "output_type": "execute_result"
    }
   ],
   "source": [
    "# wrt D2 ,For the second-best sector count-wise, which company received the highest investment?\n",
    "m2.get_group('Cleantech / Semiconductors').sort_values(by='raised_amount_usd',ascending=False).head(1)"
   ]
  },
  {
   "cell_type": "code",
   "execution_count": 62,
   "metadata": {
    "scrolled": true
   },
   "outputs": [
    {
     "name": "stdout",
     "output_type": "stream",
     "text": [
      "Total number of investments : 398\n",
      "Number of investments sectorwise : main_sector\n",
      "Cleantech / Semiconductors                 116\n",
      "Others                                     109\n",
      "Social, Finance, Analytics, Advertising     52\n",
      "News, Search and Messaging                  46\n",
      "Manufacturing                               31\n",
      "Entertainment                               22\n",
      "Health                                      20\n",
      "Automotive & Sports                          2\n",
      "Name: Count, dtype: int64\n",
      "Total amount of investment (USD) : 3422009576.0\n"
     ]
    }
   ],
   "source": [
    "#Let's do sector analysis on D3,representing sector wise information for CAN\n",
    "\n",
    "m3 = D3.groupby('main_sector')\n",
    "\n",
    "#Total number of investments\n",
    "print(\"Total number of investments :\",m3.Count.count().sum())\n",
    "\n",
    "#Number of investments sectorwise\n",
    "print(\"Number of investments sectorwise :\",m3.Count.count().sort_values(ascending=False))\n",
    "\n",
    "#Total amount of investment (USD)\n",
    "print(\"Total amount of investment (USD) :\",m3.raised_amount_usd.sum().sum())"
   ]
  },
  {
   "cell_type": "markdown",
   "metadata": {},
   "source": [
    "**For country3 ,Top sector is 'Cleantech / Semiconductors' and Second best sector is 'others'\n",
    "let's find out the company which received highest investment under these 2 sectors ."
   ]
  },
  {
   "cell_type": "code",
   "execution_count": 63,
   "metadata": {
    "scrolled": true
   },
   "outputs": [
    {
     "data": {
      "text/html": [
       "<div>\n",
       "<style scoped>\n",
       "    .dataframe tbody tr th:only-of-type {\n",
       "        vertical-align: middle;\n",
       "    }\n",
       "\n",
       "    .dataframe tbody tr th {\n",
       "        vertical-align: top;\n",
       "    }\n",
       "\n",
       "    .dataframe thead th {\n",
       "        text-align: right;\n",
       "    }\n",
       "</style>\n",
       "<table border=\"1\" class=\"dataframe\">\n",
       "  <thead>\n",
       "    <tr style=\"text-align: right;\">\n",
       "      <th></th>\n",
       "      <th>company_permalink</th>\n",
       "      <th>funding_round_permalink</th>\n",
       "      <th>funding_round_type</th>\n",
       "      <th>raised_amount_usd</th>\n",
       "      <th>name</th>\n",
       "      <th>category_list_x</th>\n",
       "      <th>status</th>\n",
       "      <th>country_code</th>\n",
       "      <th>primary_sector</th>\n",
       "      <th>main_sector</th>\n",
       "      <th>Count</th>\n",
       "      <th>Total_amount_invested</th>\n",
       "    </tr>\n",
       "  </thead>\n",
       "  <tbody>\n",
       "    <tr>\n",
       "      <th>61</th>\n",
       "      <td>/organization/zymeworks</td>\n",
       "      <td>/funding-round/e4dee9b0a5fa30e650e5dea33e1faad8</td>\n",
       "      <td>venture</td>\n",
       "      <td>15000000.0</td>\n",
       "      <td>Zymeworks</td>\n",
       "      <td>Biotechnology</td>\n",
       "      <td>operating</td>\n",
       "      <td>CAN</td>\n",
       "      <td>Biotechnology</td>\n",
       "      <td>Cleantech / Semiconductors</td>\n",
       "      <td>116.0</td>\n",
       "      <td>1.063607e+09</td>\n",
       "    </tr>\n",
       "  </tbody>\n",
       "</table>\n",
       "</div>"
      ],
      "text/plain": [
       "          company_permalink                          funding_round_permalink  \\\n",
       "61  /organization/zymeworks  /funding-round/e4dee9b0a5fa30e650e5dea33e1faad8   \n",
       "\n",
       "   funding_round_type  raised_amount_usd       name category_list_x  \\\n",
       "61            venture         15000000.0  Zymeworks   Biotechnology   \n",
       "\n",
       "       status country_code primary_sector                 main_sector  Count  \\\n",
       "61  operating          CAN  Biotechnology  Cleantech / Semiconductors  116.0   \n",
       "\n",
       "    Total_amount_invested  \n",
       "61           1.063607e+09  "
      ]
     },
     "execution_count": 63,
     "metadata": {},
     "output_type": "execute_result"
    }
   ],
   "source": [
    "# wrt D3 ,for top sector count-wise, which company received the highest investment?\n",
    "m3.get_group('Cleantech / Semiconductors').sort_values(by='raised_amount_usd',ascending=False).head(1)"
   ]
  },
  {
   "cell_type": "code",
   "execution_count": 64,
   "metadata": {
    "scrolled": true
   },
   "outputs": [
    {
     "data": {
      "text/html": [
       "<div>\n",
       "<style scoped>\n",
       "    .dataframe tbody tr th:only-of-type {\n",
       "        vertical-align: middle;\n",
       "    }\n",
       "\n",
       "    .dataframe tbody tr th {\n",
       "        vertical-align: top;\n",
       "    }\n",
       "\n",
       "    .dataframe thead th {\n",
       "        text-align: right;\n",
       "    }\n",
       "</style>\n",
       "<table border=\"1\" class=\"dataframe\">\n",
       "  <thead>\n",
       "    <tr style=\"text-align: right;\">\n",
       "      <th></th>\n",
       "      <th>company_permalink</th>\n",
       "      <th>funding_round_permalink</th>\n",
       "      <th>funding_round_type</th>\n",
       "      <th>raised_amount_usd</th>\n",
       "      <th>name</th>\n",
       "      <th>category_list_x</th>\n",
       "      <th>status</th>\n",
       "      <th>country_code</th>\n",
       "      <th>primary_sector</th>\n",
       "      <th>main_sector</th>\n",
       "      <th>Count</th>\n",
       "      <th>Total_amount_invested</th>\n",
       "    </tr>\n",
       "  </thead>\n",
       "  <tbody>\n",
       "    <tr>\n",
       "      <th>199</th>\n",
       "      <td>/organization/quickplay-media</td>\n",
       "      <td>/funding-round/1402ac628c817b20aa9d9243acfd92ae</td>\n",
       "      <td>venture</td>\n",
       "      <td>15000000.0</td>\n",
       "      <td>QuickPlay Media</td>\n",
       "      <td>Enterprise Software</td>\n",
       "      <td>operating</td>\n",
       "      <td>CAN</td>\n",
       "      <td>Enterprise Software</td>\n",
       "      <td>Others</td>\n",
       "      <td>109.0</td>\n",
       "      <td>926137962.0</td>\n",
       "    </tr>\n",
       "  </tbody>\n",
       "</table>\n",
       "</div>"
      ],
      "text/plain": [
       "                 company_permalink  \\\n",
       "199  /organization/quickplay-media   \n",
       "\n",
       "                             funding_round_permalink funding_round_type  \\\n",
       "199  /funding-round/1402ac628c817b20aa9d9243acfd92ae            venture   \n",
       "\n",
       "     raised_amount_usd             name      category_list_x     status  \\\n",
       "199         15000000.0  QuickPlay Media  Enterprise Software  operating   \n",
       "\n",
       "    country_code       primary_sector main_sector  Count  \\\n",
       "199          CAN  Enterprise Software      Others  109.0   \n",
       "\n",
       "     Total_amount_invested  \n",
       "199            926137962.0  "
      ]
     },
     "execution_count": 64,
     "metadata": {},
     "output_type": "execute_result"
    }
   ],
   "source": [
    "# wrt D3 ,For the second-best sector count-wise, which company received the highest investment?\n",
    "m3.get_group('Others').sort_values(by='raised_amount_usd',ascending=False).head(1)"
   ]
  },
  {
   "cell_type": "markdown",
   "metadata": {},
   "source": [
    "**Now ,further steps to get required data needed for plotting"
   ]
  },
  {
   "cell_type": "markdown",
   "metadata": {},
   "source": [
    "****Checkpoint 6"
   ]
  },
  {
   "cell_type": "code",
   "execution_count": 65,
   "metadata": {
    "scrolled": true
   },
   "outputs": [
    {
     "name": "stdout",
     "output_type": "stream",
     "text": [
      "<class 'pandas.core.frame.DataFrame'>\n",
      "RangeIndex: 11235 entries, 0 to 11234\n",
      "Data columns (total 3 columns):\n",
      "main_sector     11235 non-null object\n",
      "country_code    11235 non-null object\n",
      "Count           11235 non-null float64\n",
      "dtypes: float64(1), object(2)\n",
      "memory usage: 263.4+ KB\n",
      "<class 'pandas.core.frame.DataFrame'>\n",
      "RangeIndex: 584 entries, 0 to 583\n",
      "Data columns (total 3 columns):\n",
      "main_sector     584 non-null object\n",
      "country_code    584 non-null object\n",
      "Count           584 non-null float64\n",
      "dtypes: float64(1), object(2)\n",
      "memory usage: 13.8+ KB\n",
      "<class 'pandas.core.frame.DataFrame'>\n",
      "RangeIndex: 398 entries, 0 to 397\n",
      "Data columns (total 3 columns):\n",
      "main_sector     398 non-null object\n",
      "country_code    398 non-null object\n",
      "Count           398 non-null float64\n",
      "dtypes: float64(1), object(2)\n",
      "memory usage: 9.4+ KB\n"
     ]
    }
   ],
   "source": [
    "#Creating data for plot 3\n",
    "#Subsetting D1,D2,D3 \n",
    "plt_D1 = D1.loc[:,['main_sector','country_code','Count']]\n",
    "plt_D1.info()\n",
    "plt_D2 = D2.loc[:,['main_sector','country_code','Count']]\n",
    "plt_D2.info()\n",
    "plt_D3 = D3.loc[:,['main_sector','country_code','Count']]\n",
    "plt_D3.info()"
   ]
  },
  {
   "cell_type": "code",
   "execution_count": 66,
   "metadata": {},
   "outputs": [
    {
     "data": {
      "text/html": [
       "<div>\n",
       "<style scoped>\n",
       "    .dataframe tbody tr th:only-of-type {\n",
       "        vertical-align: middle;\n",
       "    }\n",
       "\n",
       "    .dataframe tbody tr th {\n",
       "        vertical-align: top;\n",
       "    }\n",
       "\n",
       "    .dataframe thead th {\n",
       "        text-align: right;\n",
       "    }\n",
       "</style>\n",
       "<table border=\"1\" class=\"dataframe\">\n",
       "  <thead>\n",
       "    <tr style=\"text-align: right;\">\n",
       "      <th></th>\n",
       "      <th>main_sector</th>\n",
       "      <th>country_code</th>\n",
       "      <th>Count</th>\n",
       "    </tr>\n",
       "  </thead>\n",
       "  <tbody>\n",
       "    <tr>\n",
       "      <th>0</th>\n",
       "      <td>Cleantech / Semiconductors</td>\n",
       "      <td>CAN</td>\n",
       "      <td>116</td>\n",
       "    </tr>\n",
       "    <tr>\n",
       "      <th>1</th>\n",
       "      <td>Others</td>\n",
       "      <td>CAN</td>\n",
       "      <td>109</td>\n",
       "    </tr>\n",
       "    <tr>\n",
       "      <th>2</th>\n",
       "      <td>Social, Finance, Analytics, Advertising</td>\n",
       "      <td>CAN</td>\n",
       "      <td>52</td>\n",
       "    </tr>\n",
       "  </tbody>\n",
       "</table>\n",
       "</div>"
      ],
      "text/plain": [
       "                               main_sector country_code  Count\n",
       "0               Cleantech / Semiconductors          CAN    116\n",
       "1                                   Others          CAN    109\n",
       "2  Social, Finance, Analytics, Advertising          CAN     52"
      ]
     },
     "execution_count": 66,
     "metadata": {},
     "output_type": "execute_result"
    }
   ],
   "source": [
    "\n",
    "#Retrieving top sectors from D1 (Country1)\n",
    "f = {'country_code': 'first', 'Count': 'count'}\n",
    "plt3_1 = plt_D1.groupby('main_sector',as_index=False).agg(f)\n",
    "plt3_1 = plt3_1.sort_values(by='Count',ascending=False).head(3)\n",
    "plt3_1.reset_index(drop=True)\n",
    "#Retrieving top sectors from D2 (Country2)\n",
    "plt3_2 = plt_D2.groupby('main_sector',as_index=False).agg(f)\n",
    "plt3_2 = plt3_2.sort_values(by='Count',ascending=False).head(3)\n",
    "plt3_2.reset_index(drop=True)\n",
    "#Retrieving top sectors from D3 (Country3)\n",
    "plt3_3 = plt_D3.groupby('main_sector',as_index=False).agg(f)\n",
    "plt3_3 = plt3_3.sort_values(by='Count',ascending=False).head(3)\n",
    "plt3_3.reset_index(drop=True)"
   ]
  },
  {
   "cell_type": "code",
   "execution_count": 67,
   "metadata": {},
   "outputs": [
    {
     "data": {
      "text/html": [
       "<div>\n",
       "<style scoped>\n",
       "    .dataframe tbody tr th:only-of-type {\n",
       "        vertical-align: middle;\n",
       "    }\n",
       "\n",
       "    .dataframe tbody tr th {\n",
       "        vertical-align: top;\n",
       "    }\n",
       "\n",
       "    .dataframe thead th {\n",
       "        text-align: right;\n",
       "    }\n",
       "</style>\n",
       "<table border=\"1\" class=\"dataframe\">\n",
       "  <thead>\n",
       "    <tr style=\"text-align: right;\">\n",
       "      <th></th>\n",
       "      <th>main_sector</th>\n",
       "      <th>country_code</th>\n",
       "      <th>Count</th>\n",
       "    </tr>\n",
       "  </thead>\n",
       "  <tbody>\n",
       "    <tr>\n",
       "      <th>0</th>\n",
       "      <td>Others</td>\n",
       "      <td>USA</td>\n",
       "      <td>2923</td>\n",
       "    </tr>\n",
       "    <tr>\n",
       "      <th>1</th>\n",
       "      <td>Cleantech / Semiconductors</td>\n",
       "      <td>USA</td>\n",
       "      <td>2383</td>\n",
       "    </tr>\n",
       "    <tr>\n",
       "      <th>2</th>\n",
       "      <td>Social, Finance, Analytics, Advertising</td>\n",
       "      <td>USA</td>\n",
       "      <td>1912</td>\n",
       "    </tr>\n",
       "    <tr>\n",
       "      <th>3</th>\n",
       "      <td>Others</td>\n",
       "      <td>GBR</td>\n",
       "      <td>143</td>\n",
       "    </tr>\n",
       "    <tr>\n",
       "      <th>4</th>\n",
       "      <td>Cleantech / Semiconductors</td>\n",
       "      <td>GBR</td>\n",
       "      <td>134</td>\n",
       "    </tr>\n",
       "    <tr>\n",
       "      <th>5</th>\n",
       "      <td>Social, Finance, Analytics, Advertising</td>\n",
       "      <td>GBR</td>\n",
       "      <td>98</td>\n",
       "    </tr>\n",
       "    <tr>\n",
       "      <th>6</th>\n",
       "      <td>Cleantech / Semiconductors</td>\n",
       "      <td>CAN</td>\n",
       "      <td>116</td>\n",
       "    </tr>\n",
       "    <tr>\n",
       "      <th>7</th>\n",
       "      <td>Others</td>\n",
       "      <td>CAN</td>\n",
       "      <td>109</td>\n",
       "    </tr>\n",
       "    <tr>\n",
       "      <th>8</th>\n",
       "      <td>Social, Finance, Analytics, Advertising</td>\n",
       "      <td>CAN</td>\n",
       "      <td>52</td>\n",
       "    </tr>\n",
       "  </tbody>\n",
       "</table>\n",
       "</div>"
      ],
      "text/plain": [
       "                               main_sector country_code  Count\n",
       "0                                   Others          USA   2923\n",
       "1               Cleantech / Semiconductors          USA   2383\n",
       "2  Social, Finance, Analytics, Advertising          USA   1912\n",
       "3                                   Others          GBR    143\n",
       "4               Cleantech / Semiconductors          GBR    134\n",
       "5  Social, Finance, Analytics, Advertising          GBR     98\n",
       "6               Cleantech / Semiconductors          CAN    116\n",
       "7                                   Others          CAN    109\n",
       "8  Social, Finance, Analytics, Advertising          CAN     52"
      ]
     },
     "execution_count": 67,
     "metadata": {},
     "output_type": "execute_result"
    }
   ],
   "source": [
    "#Now,Merging top sectors information for the plot \n",
    "df_merged = plt3_1.append(plt3_2, ignore_index=True)\n",
    "df_merged = df_merged.append(plt3_3, ignore_index=True)\n",
    "df_merged.head(10)"
   ]
  },
  {
   "cell_type": "code",
   "execution_count": 68,
   "metadata": {},
   "outputs": [
    {
     "data": {
      "text/html": [
       "<div>\n",
       "<style scoped>\n",
       "    .dataframe tbody tr th:only-of-type {\n",
       "        vertical-align: middle;\n",
       "    }\n",
       "\n",
       "    .dataframe tbody tr th {\n",
       "        vertical-align: top;\n",
       "    }\n",
       "\n",
       "    .dataframe thead th {\n",
       "        text-align: right;\n",
       "    }\n",
       "</style>\n",
       "<table border=\"1\" class=\"dataframe\">\n",
       "  <thead>\n",
       "    <tr style=\"text-align: right;\">\n",
       "      <th></th>\n",
       "      <th>company_permalink</th>\n",
       "      <th>funding_round_permalink</th>\n",
       "      <th>funding_round_type</th>\n",
       "      <th>raised_amount_usd</th>\n",
       "      <th>name</th>\n",
       "      <th>category_list</th>\n",
       "      <th>status</th>\n",
       "      <th>country_code</th>\n",
       "      <th>Percentage</th>\n",
       "      <th>average_amt</th>\n",
       "    </tr>\n",
       "  </thead>\n",
       "  <tbody>\n",
       "    <tr>\n",
       "      <th>0</th>\n",
       "      <td>/organization/-fame</td>\n",
       "      <td>/funding-round/9a01d05418af9f794eebff7ace91f638</td>\n",
       "      <td>venture</td>\n",
       "      <td>10000000.0</td>\n",
       "      <td>#fame</td>\n",
       "      <td>Media</td>\n",
       "      <td>operating</td>\n",
       "      <td>IND</td>\n",
       "      <td>88.0</td>\n",
       "      <td>8888551.0</td>\n",
       "    </tr>\n",
       "    <tr>\n",
       "      <th>1</th>\n",
       "      <td>/organization/0xdata</td>\n",
       "      <td>/funding-round/e1cfcbe1bdf4c70277c5f29a3482f24e</td>\n",
       "      <td>venture</td>\n",
       "      <td>8900000.0</td>\n",
       "      <td>H2O.ai</td>\n",
       "      <td>Analytics</td>\n",
       "      <td>operating</td>\n",
       "      <td>USA</td>\n",
       "      <td>88.0</td>\n",
       "      <td>8888551.0</td>\n",
       "    </tr>\n",
       "    <tr>\n",
       "      <th>2</th>\n",
       "      <td>/organization/1-800-publicrelations-inc-</td>\n",
       "      <td>/funding-round/11c228f58831bc7ed337ef69ecc560c2</td>\n",
       "      <td>private_equity</td>\n",
       "      <td>6000000.0</td>\n",
       "      <td>1-800-PublicRelations, Inc.</td>\n",
       "      <td>Internet Marketing|Media|Public Relations</td>\n",
       "      <td>operating</td>\n",
       "      <td>USA</td>\n",
       "      <td>2.0</td>\n",
       "      <td>9283496.0</td>\n",
       "    </tr>\n",
       "    <tr>\n",
       "      <th>3</th>\n",
       "      <td>/organization/1-mainstream</td>\n",
       "      <td>/funding-round/b952cbaf401f310927430c97b68162ea</td>\n",
       "      <td>venture</td>\n",
       "      <td>5000000.0</td>\n",
       "      <td>1 Mainstream</td>\n",
       "      <td>Apps|Cable|Distribution|Software</td>\n",
       "      <td>acquired</td>\n",
       "      <td>USA</td>\n",
       "      <td>88.0</td>\n",
       "      <td>8888551.0</td>\n",
       "    </tr>\n",
       "    <tr>\n",
       "      <th>4</th>\n",
       "      <td>/organization/1001-menus</td>\n",
       "      <td>/funding-round/645b4cd895450b8e0268027cd7813047</td>\n",
       "      <td>venture</td>\n",
       "      <td>6602694.0</td>\n",
       "      <td>ZenChef</td>\n",
       "      <td>Local Businesses|Restaurants</td>\n",
       "      <td>operating</td>\n",
       "      <td>FRA</td>\n",
       "      <td>88.0</td>\n",
       "      <td>8888551.0</td>\n",
       "    </tr>\n",
       "  </tbody>\n",
       "</table>\n",
       "</div>"
      ],
      "text/plain": [
       "                          company_permalink  \\\n",
       "0                       /organization/-fame   \n",
       "1                      /organization/0xdata   \n",
       "2  /organization/1-800-publicrelations-inc-   \n",
       "3                /organization/1-mainstream   \n",
       "4                  /organization/1001-menus   \n",
       "\n",
       "                           funding_round_permalink funding_round_type  \\\n",
       "0  /funding-round/9a01d05418af9f794eebff7ace91f638            venture   \n",
       "1  /funding-round/e1cfcbe1bdf4c70277c5f29a3482f24e            venture   \n",
       "2  /funding-round/11c228f58831bc7ed337ef69ecc560c2     private_equity   \n",
       "3  /funding-round/b952cbaf401f310927430c97b68162ea            venture   \n",
       "4  /funding-round/645b4cd895450b8e0268027cd7813047            venture   \n",
       "\n",
       "   raised_amount_usd                         name  \\\n",
       "0         10000000.0                        #fame   \n",
       "1          8900000.0                       H2O.ai   \n",
       "2          6000000.0  1-800-PublicRelations, Inc.   \n",
       "3          5000000.0                 1 Mainstream   \n",
       "4          6602694.0                      ZenChef   \n",
       "\n",
       "                               category_list     status country_code  \\\n",
       "0                                      Media  operating          IND   \n",
       "1                                  Analytics  operating          USA   \n",
       "2  Internet Marketing|Media|Public Relations  operating          USA   \n",
       "3           Apps|Cable|Distribution|Software   acquired          USA   \n",
       "4               Local Businesses|Restaurants  operating          FRA   \n",
       "\n",
       "   Percentage  average_amt  \n",
       "0        88.0    8888551.0  \n",
       "1        88.0    8888551.0  \n",
       "2         2.0    9283496.0  \n",
       "3        88.0    8888551.0  \n",
       "4        88.0    8888551.0  "
      ]
     },
     "execution_count": 68,
     "metadata": {},
     "output_type": "execute_result"
    }
   ],
   "source": [
    "# creating df for plotting que 1\n",
    "plt_x = filtered_df.copy()\n",
    "plt_x['Percentage']  = 100*round(plt_x.groupby('funding_round_type')['raised_amount_usd'].transform('count')/len(plt_x.index),2)\n",
    "plt_x['average_amt'] = round(plt_x.groupby('funding_round_type')['raised_amount_usd'].transform('mean'))\n",
    "\n",
    "#Retrieve data of only funding type -venture,seed,private equity\n",
    "plt_x = plt_x.loc[(plt_x['funding_round_type']=='venture') | (plt_x['funding_round_type']=='seed') | (plt_x['funding_round_type']=='private_equity')]\n",
    "#display data for plot\n",
    "plt_x.head() "
   ]
  },
  {
   "cell_type": "code",
   "execution_count": 69,
   "metadata": {},
   "outputs": [
    {
     "data": {
      "image/png": "[encoded data removed]",
      "text/plain": [
       "<Figure size 936x936 with 3 Axes>"
      ]
     },
     "metadata": {},
     "output_type": "display_data"
    }
   ],
   "source": [
    "#Plot-1 \n",
    "\n",
    "plt.figure(facecolor='w', edgecolor='r',figsize=(13,13))\n",
    "plt.subplot(221)\n",
    "sns.barplot(x='funding_round_type',y='Percentage',hue='funding_round_type',data=plt_x)\n",
    "plt.title('Percentage of investments globally')\n",
    "plt.xlabel('Funding Type',fontsize=12)\n",
    "plt.ylabel('Fraction of total investments',fontsize=12)\n",
    "#\n",
    "plt.subplot(222)\n",
    "sns.barplot(x='funding_round_type',y='average_amt',hue='funding_round_type',data=plt_x)\n",
    "plt.title(' Average amount of investment')\n",
    "plt.xlabel('Funding Type',fontsize=12)\n",
    "plt.ylabel('Average amount of investment',fontsize=12)\n",
    "#\n",
    "plt.subplot(223)\n",
    "sns.barplot(x='Percentage',y='average_amt',hue='funding_round_type',data=plt_x)\n",
    "plt.title('Fraction of Total investments vs Average amount')\n",
    "plt.xlabel('Percentage of investment',fontsize=12)\n",
    "plt.ylabel('Average amount of investment',fontsize=12)\n",
    "plt.show()\n"
   ]
  },
  {
   "cell_type": "code",
   "execution_count": 70,
   "metadata": {
    "scrolled": false
   },
   "outputs": [
    {
     "data": {
      "image/png": "[encoded data removed]",
      "text/plain": [
       "<Figure size 792x792 with 2 Axes>"
      ]
     },
     "metadata": {},
     "output_type": "display_data"
    }
   ],
   "source": [
    "#Plot-2\n",
    "#Plot demonstrates top 9 countries on the basis of total amount of investment in funding type 'Venture'\n",
    "# Following plot has both 'English' and 'Non English speaking countries'\n",
    "plt.figure(figsize=(11,11),facecolor='w', edgecolor='g')\n",
    "plt.subplot(221)\n",
    "sns.barplot(x=top9.index,y='raised_amount_usd',data=top9)\n",
    "plt.title('Top 9 Countries')\n",
    "plt.xlabel('country code',fontsize=12)\n",
    "plt.ylabel('Total investment',fontsize=12)\n",
    "\n",
    "#English Speaking countries \n",
    "plt.subplot(222)\n",
    "sns.barplot(x=top3_plt.index,y='raised_amount_usd',data=top3_plt)\n",
    "plt.title('Top 3 English speaking countries')\n",
    "plt.xlabel('country code',fontsize=12)\n",
    "plt.ylabel('Total investment',fontsize=12)\n",
    "plt.show()"
   ]
  },
  {
   "cell_type": "code",
   "execution_count": 71,
   "metadata": {},
   "outputs": [
    {
     "data": {
      "text/plain": [
       "Text(0, 0.5, 'Total number of investments')"
      ]
     },
     "execution_count": 71,
     "metadata": {},
     "output_type": "execute_result"
    },
    {
     "data": {
      "image/png": "[encoded data removed]",
      "text/plain": [
       "<Figure size 648x648 with 1 Axes>"
      ]
     },
     "metadata": {},
     "output_type": "display_data"
    }
   ],
   "source": [
    "#Plot-3\n",
    "#Plot demonstrates the number of investments in the top 3 sectors of the top 3 countries on one chart \n",
    "\n",
    "plt.figure(figsize=(9,9),facecolor='w', edgecolor='g')\n",
    "plt.subplot(111)\n",
    "sns.barplot(x='country_code',y='Count',hue='main_sector',data=df_merged)\n",
    "plt.title('Total investments across 3 sectors')\n",
    "plt.xlabel('Country',fontsize=12)\n",
    "plt.ylabel('Total number of investments',fontsize=12)\n"
   ]
  }
 ],
 "metadata": {
  "kernelspec": {
   "display_name": "Python 3",
   "language": "python",
   "name": "python3"
  },
  "language_info": {
   "codemirror_mode": {
    "name": "ipython",
    "version": 3
   },
   "file_extension": ".py",
   "mimetype": "text/x-python",
   "name": "python",
   "nbconvert_exporter": "python",
   "pygments_lexer": "ipython3",
   "version": "3.7.3"
  }
 },
 "nbformat": 4,
 "nbformat_minor": 2
}
